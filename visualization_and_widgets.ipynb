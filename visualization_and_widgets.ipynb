{
 "cells": [
  {
   "cell_type": "code",
   "execution_count": 25,
   "metadata": {},
   "outputs": [],
   "source": [
    "import plotly.express as px\n",
    "from ipywidgets import interact\n",
    "import pandas as pd\n",
    "import matplotlib.pyplot as plt"
   ]
  },
  {
   "cell_type": "code",
   "execution_count": 28,
   "metadata": {},
   "outputs": [],
   "source": [
    "df = pd.read_csv(\"https://raw.githubusercontent.com/lordflaron/ARE106data/master/lawsch85.csv\")"
   ]
  },
  {
   "cell_type": "code",
   "execution_count": 8,
   "metadata": {},
   "outputs": [
    {
     "data": {
      "text/html": [
       "<div>\n",
       "<style scoped>\n",
       "    .dataframe tbody tr th:only-of-type {\n",
       "        vertical-align: middle;\n",
       "    }\n",
       "\n",
       "    .dataframe tbody tr th {\n",
       "        vertical-align: top;\n",
       "    }\n",
       "\n",
       "    .dataframe thead th {\n",
       "        text-align: right;\n",
       "    }\n",
       "</style>\n",
       "<table border=\"1\" class=\"dataframe\">\n",
       "  <thead>\n",
       "    <tr style=\"text-align: right;\">\n",
       "      <th></th>\n",
       "      <th>Unnamed: 0</th>\n",
       "      <th>rank</th>\n",
       "      <th>salary</th>\n",
       "      <th>cost</th>\n",
       "      <th>LSAT</th>\n",
       "      <th>GPA</th>\n",
       "      <th>libvol</th>\n",
       "      <th>faculty</th>\n",
       "      <th>age</th>\n",
       "      <th>clsize</th>\n",
       "      <th>north</th>\n",
       "      <th>south</th>\n",
       "      <th>east</th>\n",
       "      <th>west</th>\n",
       "      <th>studfac</th>\n",
       "      <th>top10</th>\n",
       "      <th>r11_25</th>\n",
       "      <th>r26_40</th>\n",
       "      <th>r41_60</th>\n",
       "    </tr>\n",
       "  </thead>\n",
       "  <tbody>\n",
       "    <tr>\n",
       "      <th>0</th>\n",
       "      <td>0</td>\n",
       "      <td>128</td>\n",
       "      <td>31400.0</td>\n",
       "      <td>8340.0</td>\n",
       "      <td>155.0</td>\n",
       "      <td>3.15</td>\n",
       "      <td>216.0</td>\n",
       "      <td>45.0</td>\n",
       "      <td>12.0</td>\n",
       "      <td>210.0</td>\n",
       "      <td>1</td>\n",
       "      <td>0</td>\n",
       "      <td>0</td>\n",
       "      <td>0</td>\n",
       "      <td>4.666667</td>\n",
       "      <td>0</td>\n",
       "      <td>0</td>\n",
       "      <td>0</td>\n",
       "      <td>0</td>\n",
       "    </tr>\n",
       "    <tr>\n",
       "      <th>1</th>\n",
       "      <td>1</td>\n",
       "      <td>104</td>\n",
       "      <td>33098.0</td>\n",
       "      <td>6980.0</td>\n",
       "      <td>160.0</td>\n",
       "      <td>3.50</td>\n",
       "      <td>256.0</td>\n",
       "      <td>44.0</td>\n",
       "      <td>113.0</td>\n",
       "      <td>190.0</td>\n",
       "      <td>0</td>\n",
       "      <td>1</td>\n",
       "      <td>0</td>\n",
       "      <td>0</td>\n",
       "      <td>4.318182</td>\n",
       "      <td>0</td>\n",
       "      <td>0</td>\n",
       "      <td>0</td>\n",
       "      <td>0</td>\n",
       "    </tr>\n",
       "    <tr>\n",
       "      <th>2</th>\n",
       "      <td>2</td>\n",
       "      <td>34</td>\n",
       "      <td>32870.0</td>\n",
       "      <td>16370.0</td>\n",
       "      <td>155.0</td>\n",
       "      <td>3.25</td>\n",
       "      <td>424.0</td>\n",
       "      <td>78.0</td>\n",
       "      <td>134.0</td>\n",
       "      <td>270.0</td>\n",
       "      <td>0</td>\n",
       "      <td>0</td>\n",
       "      <td>1</td>\n",
       "      <td>0</td>\n",
       "      <td>3.461539</td>\n",
       "      <td>0</td>\n",
       "      <td>0</td>\n",
       "      <td>1</td>\n",
       "      <td>0</td>\n",
       "    </tr>\n",
       "    <tr>\n",
       "      <th>3</th>\n",
       "      <td>3</td>\n",
       "      <td>49</td>\n",
       "      <td>35000.0</td>\n",
       "      <td>17566.0</td>\n",
       "      <td>157.0</td>\n",
       "      <td>3.20</td>\n",
       "      <td>329.0</td>\n",
       "      <td>136.0</td>\n",
       "      <td>89.0</td>\n",
       "      <td>277.0</td>\n",
       "      <td>0</td>\n",
       "      <td>0</td>\n",
       "      <td>1</td>\n",
       "      <td>0</td>\n",
       "      <td>2.036765</td>\n",
       "      <td>0</td>\n",
       "      <td>0</td>\n",
       "      <td>0</td>\n",
       "      <td>1</td>\n",
       "    </tr>\n",
       "    <tr>\n",
       "      <th>4</th>\n",
       "      <td>4</td>\n",
       "      <td>95</td>\n",
       "      <td>33606.0</td>\n",
       "      <td>8350.0</td>\n",
       "      <td>162.0</td>\n",
       "      <td>3.38</td>\n",
       "      <td>332.0</td>\n",
       "      <td>56.0</td>\n",
       "      <td>70.0</td>\n",
       "      <td>150.0</td>\n",
       "      <td>0</td>\n",
       "      <td>0</td>\n",
       "      <td>0</td>\n",
       "      <td>1</td>\n",
       "      <td>2.678571</td>\n",
       "      <td>0</td>\n",
       "      <td>0</td>\n",
       "      <td>0</td>\n",
       "      <td>0</td>\n",
       "    </tr>\n",
       "    <tr>\n",
       "      <th>...</th>\n",
       "      <td>...</td>\n",
       "      <td>...</td>\n",
       "      <td>...</td>\n",
       "      <td>...</td>\n",
       "      <td>...</td>\n",
       "      <td>...</td>\n",
       "      <td>...</td>\n",
       "      <td>...</td>\n",
       "      <td>...</td>\n",
       "      <td>...</td>\n",
       "      <td>...</td>\n",
       "      <td>...</td>\n",
       "      <td>...</td>\n",
       "      <td>...</td>\n",
       "      <td>...</td>\n",
       "      <td>...</td>\n",
       "      <td>...</td>\n",
       "      <td>...</td>\n",
       "      <td>...</td>\n",
       "    </tr>\n",
       "    <tr>\n",
       "      <th>151</th>\n",
       "      <td>151</td>\n",
       "      <td>17</td>\n",
       "      <td>49321.0</td>\n",
       "      <td>13530.0</td>\n",
       "      <td>162.0</td>\n",
       "      <td>3.34</td>\n",
       "      <td>300.0</td>\n",
       "      <td>50.0</td>\n",
       "      <td>206.0</td>\n",
       "      <td>178.0</td>\n",
       "      <td>0</td>\n",
       "      <td>0</td>\n",
       "      <td>1</td>\n",
       "      <td>0</td>\n",
       "      <td>3.560000</td>\n",
       "      <td>0</td>\n",
       "      <td>1</td>\n",
       "      <td>0</td>\n",
       "      <td>0</td>\n",
       "    </tr>\n",
       "    <tr>\n",
       "      <th>152</th>\n",
       "      <td>152</td>\n",
       "      <td>21</td>\n",
       "      <td>49900.0</td>\n",
       "      <td>11334.0</td>\n",
       "      <td>161.0</td>\n",
       "      <td>3.40</td>\n",
       "      <td>NaN</td>\n",
       "      <td>47.0</td>\n",
       "      <td>NaN</td>\n",
       "      <td>285.0</td>\n",
       "      <td>1</td>\n",
       "      <td>0</td>\n",
       "      <td>0</td>\n",
       "      <td>0</td>\n",
       "      <td>6.063830</td>\n",
       "      <td>0</td>\n",
       "      <td>1</td>\n",
       "      <td>0</td>\n",
       "      <td>0</td>\n",
       "    </tr>\n",
       "    <tr>\n",
       "      <th>153</th>\n",
       "      <td>153</td>\n",
       "      <td>143</td>\n",
       "      <td>31500.0</td>\n",
       "      <td>7396.0</td>\n",
       "      <td>157.0</td>\n",
       "      <td>3.40</td>\n",
       "      <td>174.0</td>\n",
       "      <td>17.0</td>\n",
       "      <td>65.0</td>\n",
       "      <td>79.0</td>\n",
       "      <td>0</td>\n",
       "      <td>0</td>\n",
       "      <td>0</td>\n",
       "      <td>1</td>\n",
       "      <td>4.647059</td>\n",
       "      <td>0</td>\n",
       "      <td>0</td>\n",
       "      <td>0</td>\n",
       "      <td>0</td>\n",
       "    </tr>\n",
       "    <tr>\n",
       "      <th>154</th>\n",
       "      <td>154</td>\n",
       "      <td>3</td>\n",
       "      <td>69000.0</td>\n",
       "      <td>19780.0</td>\n",
       "      <td>171.0</td>\n",
       "      <td>3.82</td>\n",
       "      <td>850.0</td>\n",
       "      <td>100.0</td>\n",
       "      <td>140.0</td>\n",
       "      <td>101.0</td>\n",
       "      <td>0</td>\n",
       "      <td>0</td>\n",
       "      <td>1</td>\n",
       "      <td>0</td>\n",
       "      <td>1.010000</td>\n",
       "      <td>1</td>\n",
       "      <td>0</td>\n",
       "      <td>0</td>\n",
       "      <td>0</td>\n",
       "    </tr>\n",
       "    <tr>\n",
       "      <th>155</th>\n",
       "      <td>155</td>\n",
       "      <td>120</td>\n",
       "      <td>29800.0</td>\n",
       "      <td>12870.0</td>\n",
       "      <td>NaN</td>\n",
       "      <td>NaN</td>\n",
       "      <td>200.0</td>\n",
       "      <td>35.0</td>\n",
       "      <td>NaN</td>\n",
       "      <td>327.0</td>\n",
       "      <td>1</td>\n",
       "      <td>0</td>\n",
       "      <td>0</td>\n",
       "      <td>0</td>\n",
       "      <td>9.342857</td>\n",
       "      <td>0</td>\n",
       "      <td>0</td>\n",
       "      <td>0</td>\n",
       "      <td>0</td>\n",
       "    </tr>\n",
       "  </tbody>\n",
       "</table>\n",
       "<p>156 rows × 19 columns</p>\n",
       "</div>"
      ],
      "text/plain": [
       "     Unnamed: 0  rank   salary     cost   LSAT   GPA  libvol  faculty    age  \\\n",
       "0             0   128  31400.0   8340.0  155.0  3.15   216.0     45.0   12.0   \n",
       "1             1   104  33098.0   6980.0  160.0  3.50   256.0     44.0  113.0   \n",
       "2             2    34  32870.0  16370.0  155.0  3.25   424.0     78.0  134.0   \n",
       "3             3    49  35000.0  17566.0  157.0  3.20   329.0    136.0   89.0   \n",
       "4             4    95  33606.0   8350.0  162.0  3.38   332.0     56.0   70.0   \n",
       "..          ...   ...      ...      ...    ...   ...     ...      ...    ...   \n",
       "151         151    17  49321.0  13530.0  162.0  3.34   300.0     50.0  206.0   \n",
       "152         152    21  49900.0  11334.0  161.0  3.40     NaN     47.0    NaN   \n",
       "153         153   143  31500.0   7396.0  157.0  3.40   174.0     17.0   65.0   \n",
       "154         154     3  69000.0  19780.0  171.0  3.82   850.0    100.0  140.0   \n",
       "155         155   120  29800.0  12870.0    NaN   NaN   200.0     35.0    NaN   \n",
       "\n",
       "     clsize  north  south  east  west   studfac  top10  r11_25  r26_40  r41_60  \n",
       "0     210.0      1      0     0     0  4.666667      0       0       0       0  \n",
       "1     190.0      0      1     0     0  4.318182      0       0       0       0  \n",
       "2     270.0      0      0     1     0  3.461539      0       0       1       0  \n",
       "3     277.0      0      0     1     0  2.036765      0       0       0       1  \n",
       "4     150.0      0      0     0     1  2.678571      0       0       0       0  \n",
       "..      ...    ...    ...   ...   ...       ...    ...     ...     ...     ...  \n",
       "151   178.0      0      0     1     0  3.560000      0       1       0       0  \n",
       "152   285.0      1      0     0     0  6.063830      0       1       0       0  \n",
       "153    79.0      0      0     0     1  4.647059      0       0       0       0  \n",
       "154   101.0      0      0     1     0  1.010000      1       0       0       0  \n",
       "155   327.0      1      0     0     0  9.342857      0       0       0       0  \n",
       "\n",
       "[156 rows x 19 columns]"
      ]
     },
     "execution_count": 8,
     "metadata": {},
     "output_type": "execute_result"
    }
   ],
   "source": [
    "df"
   ]
  },
  {
   "cell_type": "markdown",
   "metadata": {},
   "source": [
    "## The Basics\n",
    "\n",
    "The standard way to do plotting in python is by using `matplotlib`. This involves creating a figure and axis instance, and then plotting on that axis."
   ]
  },
  {
   "cell_type": "code",
   "execution_count": 26,
   "metadata": {},
   "outputs": [
    {
     "data": {
      "image/png": "[encoded data removed]",
      "image/svg+xml": "<?xml version=\"1.0\" encoding=\"utf-8\" standalone=\"no\"?>\n<!DOCTYPE svg PUBLIC \"-//W3C//DTD SVG 1.1//EN\"\n  \"http://www.w3.org/Graphics/SVG/1.1/DTD/svg11.dtd\">\n<svg height=\"252.317344pt\" version=\"1.1\" viewBox=\"0 0 380.054687 252.317344\" width=\"380.054687pt\" xmlns=\"http://www.w3.org/2000/svg\" xmlns:xlink=\"http://www.w3.org/1999/xlink\">\n <metadata>\n  <rdf:RDF xmlns:cc=\"http://creativecommons.org/ns#\" xmlns:dc=\"http://purl.org/dc/elements/1.1/\" xmlns:rdf=\"http://www.w3.org/1999/02/22-rdf-syntax-ns#\">\n   <cc:Work>\n    <dc:type rdf:resource=\"http://purl.org/dc/dcmitype/StillImage\"/>\n    <dc:date>2022-04-13T23:31:58.071216</dc:date>\n    <dc:format>image/svg+xml</dc:format>\n    <dc:creator>\n     <cc:Agent>\n      <dc:title>Matplotlib v3.4.3, https://matplotlib.org/</dc:title>\n     </cc:Agent>\n    </dc:creator>\n   </cc:Work>\n  </rdf:RDF>\n </metadata>\n <defs>\n  <style type=\"text/css\">*{stroke-linecap:butt;stroke-linejoin:round;}</style>\n </defs>\n <g id=\"figure_1\">\n  <g id=\"patch_1\">\n   <path d=\"M 0 252.317344 \nL 380.054687 252.317344 \nL 380.054687 0 \nL 0 0 \nz\n\" style=\"fill:none;\"/>\n  </g>\n  <g id=\"axes_1\">\n   <g id=\"patch_2\">\n    <path d=\"M 30.103125 228.439219 \nL 364.903125 228.439219 \nL 364.903125 10.999219 \nL 30.103125 10.999219 \nz\n\" style=\"fill:#ffffff;\"/>\n   </g>\n   <g id=\"matplotlib.axis_1\">\n    <g id=\"xtick_1\">\n     <g id=\"line2d_1\">\n      <defs>\n       <path d=\"M 0 0 \nL 0 3.5 \n\" id=\"m1557f90474\" style=\"stroke:#000000;stroke-width:0.8;\"/>\n      </defs>\n      <g>\n       <use style=\"stroke:#000000;stroke-width:0.8;\" x=\"30.103125\" xlink:href=\"#m1557f90474\" y=\"228.439219\"/>\n      </g>\n     </g>\n     <g id=\"text_1\">\n      <!-- 0.0 -->\n      <g transform=\"translate(22.151563 243.037656)scale(0.1 -0.1)\">\n       <defs>\n        <path d=\"M 2034 4250 \nQ 1547 4250 1301 3770 \nQ 1056 3291 1056 2328 \nQ 1056 1369 1301 889 \nQ 1547 409 2034 409 \nQ 2525 409 2770 889 \nQ 3016 1369 3016 2328 \nQ 3016 3291 2770 3770 \nQ 2525 4250 2034 4250 \nz\nM 2034 4750 \nQ 2819 4750 3233 4129 \nQ 3647 3509 3647 2328 \nQ 3647 1150 3233 529 \nQ 2819 -91 2034 -91 \nQ 1250 -91 836 529 \nQ 422 1150 422 2328 \nQ 422 3509 836 4129 \nQ 1250 4750 2034 4750 \nz\n\" id=\"DejaVuSans-30\" transform=\"scale(0.015625)\"/>\n        <path d=\"M 684 794 \nL 1344 794 \nL 1344 0 \nL 684 0 \nL 684 794 \nz\n\" id=\"DejaVuSans-2e\" transform=\"scale(0.015625)\"/>\n       </defs>\n       <use xlink:href=\"#DejaVuSans-30\"/>\n       <use x=\"63.623047\" xlink:href=\"#DejaVuSans-2e\"/>\n       <use x=\"95.410156\" xlink:href=\"#DejaVuSans-30\"/>\n      </g>\n     </g>\n    </g>\n    <g id=\"xtick_2\">\n     <g id=\"line2d_2\">\n      <g>\n       <use style=\"stroke:#000000;stroke-width:0.8;\" x=\"97.063125\" xlink:href=\"#m1557f90474\" y=\"228.439219\"/>\n      </g>\n     </g>\n     <g id=\"text_2\">\n      <!-- 0.2 -->\n      <g transform=\"translate(89.111563 243.037656)scale(0.1 -0.1)\">\n       <defs>\n        <path d=\"M 1228 531 \nL 3431 531 \nL 3431 0 \nL 469 0 \nL 469 531 \nQ 828 903 1448 1529 \nQ 2069 2156 2228 2338 \nQ 2531 2678 2651 2914 \nQ 2772 3150 2772 3378 \nQ 2772 3750 2511 3984 \nQ 2250 4219 1831 4219 \nQ 1534 4219 1204 4116 \nQ 875 4013 500 3803 \nL 500 4441 \nQ 881 4594 1212 4672 \nQ 1544 4750 1819 4750 \nQ 2544 4750 2975 4387 \nQ 3406 4025 3406 3419 \nQ 3406 3131 3298 2873 \nQ 3191 2616 2906 2266 \nQ 2828 2175 2409 1742 \nQ 1991 1309 1228 531 \nz\n\" id=\"DejaVuSans-32\" transform=\"scale(0.015625)\"/>\n       </defs>\n       <use xlink:href=\"#DejaVuSans-30\"/>\n       <use x=\"63.623047\" xlink:href=\"#DejaVuSans-2e\"/>\n       <use x=\"95.410156\" xlink:href=\"#DejaVuSans-32\"/>\n      </g>\n     </g>\n    </g>\n    <g id=\"xtick_3\">\n     <g id=\"line2d_3\">\n      <g>\n       <use style=\"stroke:#000000;stroke-width:0.8;\" x=\"164.023125\" xlink:href=\"#m1557f90474\" y=\"228.439219\"/>\n      </g>\n     </g>\n     <g id=\"text_3\">\n      <!-- 0.4 -->\n      <g transform=\"translate(156.071563 243.037656)scale(0.1 -0.1)\">\n       <defs>\n        <path d=\"M 2419 4116 \nL 825 1625 \nL 2419 1625 \nL 2419 4116 \nz\nM 2253 4666 \nL 3047 4666 \nL 3047 1625 \nL 3713 1625 \nL 3713 1100 \nL 3047 1100 \nL 3047 0 \nL 2419 0 \nL 2419 1100 \nL 313 1100 \nL 313 1709 \nL 2253 4666 \nz\n\" id=\"DejaVuSans-34\" transform=\"scale(0.015625)\"/>\n       </defs>\n       <use xlink:href=\"#DejaVuSans-30\"/>\n       <use x=\"63.623047\" xlink:href=\"#DejaVuSans-2e\"/>\n       <use x=\"95.410156\" xlink:href=\"#DejaVuSans-34\"/>\n      </g>\n     </g>\n    </g>\n    <g id=\"xtick_4\">\n     <g id=\"line2d_4\">\n      <g>\n       <use style=\"stroke:#000000;stroke-width:0.8;\" x=\"230.983125\" xlink:href=\"#m1557f90474\" y=\"228.439219\"/>\n      </g>\n     </g>\n     <g id=\"text_4\">\n      <!-- 0.6 -->\n      <g transform=\"translate(223.031563 243.037656)scale(0.1 -0.1)\">\n       <defs>\n        <path d=\"M 2113 2584 \nQ 1688 2584 1439 2293 \nQ 1191 2003 1191 1497 \nQ 1191 994 1439 701 \nQ 1688 409 2113 409 \nQ 2538 409 2786 701 \nQ 3034 994 3034 1497 \nQ 3034 2003 2786 2293 \nQ 2538 2584 2113 2584 \nz\nM 3366 4563 \nL 3366 3988 \nQ 3128 4100 2886 4159 \nQ 2644 4219 2406 4219 \nQ 1781 4219 1451 3797 \nQ 1122 3375 1075 2522 \nQ 1259 2794 1537 2939 \nQ 1816 3084 2150 3084 \nQ 2853 3084 3261 2657 \nQ 3669 2231 3669 1497 \nQ 3669 778 3244 343 \nQ 2819 -91 2113 -91 \nQ 1303 -91 875 529 \nQ 447 1150 447 2328 \nQ 447 3434 972 4092 \nQ 1497 4750 2381 4750 \nQ 2619 4750 2861 4703 \nQ 3103 4656 3366 4563 \nz\n\" id=\"DejaVuSans-36\" transform=\"scale(0.015625)\"/>\n       </defs>\n       <use xlink:href=\"#DejaVuSans-30\"/>\n       <use x=\"63.623047\" xlink:href=\"#DejaVuSans-2e\"/>\n       <use x=\"95.410156\" xlink:href=\"#DejaVuSans-36\"/>\n      </g>\n     </g>\n    </g>\n    <g id=\"xtick_5\">\n     <g id=\"line2d_5\">\n      <g>\n       <use style=\"stroke:#000000;stroke-width:0.8;\" x=\"297.943125\" xlink:href=\"#m1557f90474\" y=\"228.439219\"/>\n      </g>\n     </g>\n     <g id=\"text_5\">\n      <!-- 0.8 -->\n      <g transform=\"translate(289.991563 243.037656)scale(0.1 -0.1)\">\n       <defs>\n        <path d=\"M 2034 2216 \nQ 1584 2216 1326 1975 \nQ 1069 1734 1069 1313 \nQ 1069 891 1326 650 \nQ 1584 409 2034 409 \nQ 2484 409 2743 651 \nQ 3003 894 3003 1313 \nQ 3003 1734 2745 1975 \nQ 2488 2216 2034 2216 \nz\nM 1403 2484 \nQ 997 2584 770 2862 \nQ 544 3141 544 3541 \nQ 544 4100 942 4425 \nQ 1341 4750 2034 4750 \nQ 2731 4750 3128 4425 \nQ 3525 4100 3525 3541 \nQ 3525 3141 3298 2862 \nQ 3072 2584 2669 2484 \nQ 3125 2378 3379 2068 \nQ 3634 1759 3634 1313 \nQ 3634 634 3220 271 \nQ 2806 -91 2034 -91 \nQ 1263 -91 848 271 \nQ 434 634 434 1313 \nQ 434 1759 690 2068 \nQ 947 2378 1403 2484 \nz\nM 1172 3481 \nQ 1172 3119 1398 2916 \nQ 1625 2713 2034 2713 \nQ 2441 2713 2670 2916 \nQ 2900 3119 2900 3481 \nQ 2900 3844 2670 4047 \nQ 2441 4250 2034 4250 \nQ 1625 4250 1398 4047 \nQ 1172 3844 1172 3481 \nz\n\" id=\"DejaVuSans-38\" transform=\"scale(0.015625)\"/>\n       </defs>\n       <use xlink:href=\"#DejaVuSans-30\"/>\n       <use x=\"63.623047\" xlink:href=\"#DejaVuSans-2e\"/>\n       <use x=\"95.410156\" xlink:href=\"#DejaVuSans-38\"/>\n      </g>\n     </g>\n    </g>\n    <g id=\"xtick_6\">\n     <g id=\"line2d_6\">\n      <g>\n       <use style=\"stroke:#000000;stroke-width:0.8;\" x=\"364.903125\" xlink:href=\"#m1557f90474\" y=\"228.439219\"/>\n      </g>\n     </g>\n     <g id=\"text_6\">\n      <!-- 1.0 -->\n      <g transform=\"translate(356.951563 243.037656)scale(0.1 -0.1)\">\n       <defs>\n        <path d=\"M 794 531 \nL 1825 531 \nL 1825 4091 \nL 703 3866 \nL 703 4441 \nL 1819 4666 \nL 2450 4666 \nL 2450 531 \nL 3481 531 \nL 3481 0 \nL 794 0 \nL 794 531 \nz\n\" id=\"DejaVuSans-31\" transform=\"scale(0.015625)\"/>\n       </defs>\n       <use xlink:href=\"#DejaVuSans-31\"/>\n       <use x=\"63.623047\" xlink:href=\"#DejaVuSans-2e\"/>\n       <use x=\"95.410156\" xlink:href=\"#DejaVuSans-30\"/>\n      </g>\n     </g>\n    </g>\n   </g>\n   <g id=\"matplotlib.axis_2\">\n    <g id=\"ytick_1\">\n     <g id=\"line2d_7\">\n      <defs>\n       <path d=\"M 0 0 \nL -3.5 0 \n\" id=\"m699ce81a95\" style=\"stroke:#000000;stroke-width:0.8;\"/>\n      </defs>\n      <g>\n       <use style=\"stroke:#000000;stroke-width:0.8;\" x=\"30.103125\" xlink:href=\"#m699ce81a95\" y=\"228.439219\"/>\n      </g>\n     </g>\n     <g id=\"text_7\">\n      <!-- 0.0 -->\n      <g transform=\"translate(7.2 232.238437)scale(0.1 -0.1)\">\n       <use xlink:href=\"#DejaVuSans-30\"/>\n       <use x=\"63.623047\" xlink:href=\"#DejaVuSans-2e\"/>\n       <use x=\"95.410156\" xlink:href=\"#DejaVuSans-30\"/>\n      </g>\n     </g>\n    </g>\n    <g id=\"ytick_2\">\n     <g id=\"line2d_8\">\n      <g>\n       <use style=\"stroke:#000000;stroke-width:0.8;\" x=\"30.103125\" xlink:href=\"#m699ce81a95\" y=\"184.951219\"/>\n      </g>\n     </g>\n     <g id=\"text_8\">\n      <!-- 0.2 -->\n      <g transform=\"translate(7.2 188.750437)scale(0.1 -0.1)\">\n       <use xlink:href=\"#DejaVuSans-30\"/>\n       <use x=\"63.623047\" xlink:href=\"#DejaVuSans-2e\"/>\n       <use x=\"95.410156\" xlink:href=\"#DejaVuSans-32\"/>\n      </g>\n     </g>\n    </g>\n    <g id=\"ytick_3\">\n     <g id=\"line2d_9\">\n      <g>\n       <use style=\"stroke:#000000;stroke-width:0.8;\" x=\"30.103125\" xlink:href=\"#m699ce81a95\" y=\"141.463219\"/>\n      </g>\n     </g>\n     <g id=\"text_9\">\n      <!-- 0.4 -->\n      <g transform=\"translate(7.2 145.262437)scale(0.1 -0.1)\">\n       <use xlink:href=\"#DejaVuSans-30\"/>\n       <use x=\"63.623047\" xlink:href=\"#DejaVuSans-2e\"/>\n       <use x=\"95.410156\" xlink:href=\"#DejaVuSans-34\"/>\n      </g>\n     </g>\n    </g>\n    <g id=\"ytick_4\">\n     <g id=\"line2d_10\">\n      <g>\n       <use style=\"stroke:#000000;stroke-width:0.8;\" x=\"30.103125\" xlink:href=\"#m699ce81a95\" y=\"97.975219\"/>\n      </g>\n     </g>\n     <g id=\"text_10\">\n      <!-- 0.6 -->\n      <g transform=\"translate(7.2 101.774437)scale(0.1 -0.1)\">\n       <use xlink:href=\"#DejaVuSans-30\"/>\n       <use x=\"63.623047\" xlink:href=\"#DejaVuSans-2e\"/>\n       <use x=\"95.410156\" xlink:href=\"#DejaVuSans-36\"/>\n      </g>\n     </g>\n    </g>\n    <g id=\"ytick_5\">\n     <g id=\"line2d_11\">\n      <g>\n       <use style=\"stroke:#000000;stroke-width:0.8;\" x=\"30.103125\" xlink:href=\"#m699ce81a95\" y=\"54.487219\"/>\n      </g>\n     </g>\n     <g id=\"text_11\">\n      <!-- 0.8 -->\n      <g transform=\"translate(7.2 58.286437)scale(0.1 -0.1)\">\n       <use xlink:href=\"#DejaVuSans-30\"/>\n       <use x=\"63.623047\" xlink:href=\"#DejaVuSans-2e\"/>\n       <use x=\"95.410156\" xlink:href=\"#DejaVuSans-38\"/>\n      </g>\n     </g>\n    </g>\n    <g id=\"ytick_6\">\n     <g id=\"line2d_12\">\n      <g>\n       <use style=\"stroke:#000000;stroke-width:0.8;\" x=\"30.103125\" xlink:href=\"#m699ce81a95\" y=\"10.999219\"/>\n      </g>\n     </g>\n     <g id=\"text_12\">\n      <!-- 1.0 -->\n      <g transform=\"translate(7.2 14.798437)scale(0.1 -0.1)\">\n       <use xlink:href=\"#DejaVuSans-31\"/>\n       <use x=\"63.623047\" xlink:href=\"#DejaVuSans-2e\"/>\n       <use x=\"95.410156\" xlink:href=\"#DejaVuSans-30\"/>\n      </g>\n     </g>\n    </g>\n   </g>\n   <g id=\"patch_3\">\n    <path d=\"M 30.103125 228.439219 \nL 30.103125 10.999219 \n\" style=\"fill:none;stroke:#000000;stroke-linecap:square;stroke-linejoin:miter;stroke-width:0.8;\"/>\n   </g>\n   <g id=\"patch_4\">\n    <path d=\"M 364.903125 228.439219 \nL 364.903125 10.999219 \n\" style=\"fill:none;stroke:#000000;stroke-linecap:square;stroke-linejoin:miter;stroke-width:0.8;\"/>\n   </g>\n   <g id=\"patch_5\">\n    <path d=\"M 30.103125 228.439219 \nL 364.903125 228.439219 \n\" style=\"fill:none;stroke:#000000;stroke-linecap:square;stroke-linejoin:miter;stroke-width:0.8;\"/>\n   </g>\n   <g id=\"patch_6\">\n    <path d=\"M 30.103125 10.999219 \nL 364.903125 10.999219 \n\" style=\"fill:none;stroke:#000000;stroke-linecap:square;stroke-linejoin:miter;stroke-width:0.8;\"/>\n   </g>\n  </g>\n </g>\n</svg>\n",
      "text/plain": [
       "<Figure size 432x288 with 1 Axes>"
      ]
     },
     "metadata": {
      "needs_background": "light"
     },
     "output_type": "display_data"
    }
   ],
   "source": [
    "fig, ax = plt.subplots()"
   ]
  },
  {
   "cell_type": "code",
   "execution_count": 30,
   "metadata": {},
   "outputs": [
    {
     "data": {
      "text/plain": [
       "<matplotlib.collections.PathCollection at 0x7fee1d10f250>"
      ]
     },
     "execution_count": 30,
     "metadata": {},
     "output_type": "execute_result"
    },
    {
     "data": {
      "image/png": "[encoded data removed]",
      "image/svg+xml": "<?xml version=\"1.0\" encoding=\"utf-8\" standalone=\"no\"?>\n<!DOCTYPE svg PUBLIC \"-//W3C//DTD SVG 1.1//EN\"\n  \"http://www.w3.org/Graphics/SVG/1.1/DTD/svg11.dtd\">\n<svg height=\"248.518125pt\" version=\"1.1\" viewBox=\"0 0 382.333712 248.518125\" width=\"382.333712pt\" xmlns=\"http://www.w3.org/2000/svg\" xmlns:xlink=\"http://www.w3.org/1999/xlink\">\n <metadata>\n  <rdf:RDF xmlns:cc=\"http://creativecommons.org/ns#\" xmlns:dc=\"http://purl.org/dc/elements/1.1/\" xmlns:rdf=\"http://www.w3.org/1999/02/22-rdf-syntax-ns#\">\n   <cc:Work>\n    <dc:type rdf:resource=\"http://purl.org/dc/dcmitype/StillImage\"/>\n    <dc:date>2022-04-13T23:32:40.665014</dc:date>\n    <dc:format>image/svg+xml</dc:format>\n    <dc:creator>\n     <cc:Agent>\n      <dc:title>Matplotlib v3.4.3, https://matplotlib.org/</dc:title>\n     </cc:Agent>\n    </dc:creator>\n   </cc:Work>\n  </rdf:RDF>\n </metadata>\n <defs>\n  <style type=\"text/css\">*{stroke-linecap:butt;stroke-linejoin:round;}</style>\n </defs>\n <g id=\"figure_1\">\n  <g id=\"patch_1\">\n   <path d=\"M 0 248.518125 \nL 382.333712 248.518125 \nL 382.333712 0 \nL 0 0 \nz\n\" style=\"fill:none;\"/>\n  </g>\n  <g id=\"axes_1\">\n   <g id=\"patch_2\">\n    <path d=\"M 30.103125 224.64 \nL 364.903125 224.64 \nL 364.903125 7.2 \nL 30.103125 7.2 \nz\n\" style=\"fill:#ffffff;\"/>\n   </g>\n   <g id=\"PathCollection_1\">\n    <defs>\n     <path d=\"M 0 3 \nC 0.795609 3 1.55874 2.683901 2.12132 2.12132 \nC 2.683901 1.55874 3 0.795609 3 0 \nC 3 -0.795609 2.683901 -1.55874 2.12132 -2.12132 \nC 1.55874 -2.683901 0.795609 -3 0 -3 \nC -0.795609 -3 -1.55874 -2.683901 -2.12132 -2.12132 \nC -2.683901 -1.55874 -3 -0.795609 -3 0 \nC -3 0.795609 -2.683901 1.55874 -2.12132 2.12132 \nC -1.55874 2.683901 -0.795609 3 0 3 \nz\n\" id=\"m60c8483b4b\" style=\"stroke:#1f77b4;\"/>\n    </defs>\n    <g clip-path=\"url(#p3fd19820e4)\">\n     <use style=\"fill:#1f77b4;stroke:#1f77b4;\" x=\"82.351979\" xlink:href=\"#m60c8483b4b\" y=\"138.588891\"/>\n     <use style=\"fill:#1f77b4;stroke:#1f77b4;\" x=\"92.025529\" xlink:href=\"#m60c8483b4b\" y=\"75.115997\"/>\n     <use style=\"fill:#1f77b4;stroke:#1f77b4;\" x=\"90.726607\" xlink:href=\"#m60c8483b4b\" y=\"120.453778\"/>\n     <use style=\"fill:#1f77b4;stroke:#1f77b4;\" x=\"102.861274\" xlink:href=\"#m60c8483b4b\" y=\"129.521334\"/>\n     <use style=\"fill:#1f77b4;stroke:#1f77b4;\" x=\"94.919619\" xlink:href=\"#m60c8483b4b\" y=\"96.878132\"/>\n     <use style=\"fill:#1f77b4;stroke:#1f77b4;\" x=\"84.061086\" xlink:href=\"#m60c8483b4b\" y=\"93.251109\"/>\n     <use style=\"fill:#1f77b4;stroke:#1f77b4;\" x=\"76.711922\" xlink:href=\"#m60c8483b4b\" y=\"136.775379\"/>\n     <use style=\"fill:#1f77b4;stroke:#1f77b4;\" x=\"75.230696\" xlink:href=\"#m60c8483b4b\" y=\"144.029425\"/>\n     <use style=\"fill:#1f77b4;stroke:#1f77b4;\" x=\"81.782276\" xlink:href=\"#m60c8483b4b\" y=\"144.029425\"/>\n     <use style=\"fill:#1f77b4;stroke:#1f77b4;\" x=\"92.606626\" xlink:href=\"#m60c8483b4b\" y=\"46.099817\"/>\n     <use style=\"fill:#1f77b4;stroke:#1f77b4;\" x=\"102.291571\" xlink:href=\"#m60c8483b4b\" y=\"66.04844\"/>\n     <use style=\"fill:#1f77b4;stroke:#1f77b4;\" x=\"219.154674\" xlink:href=\"#m60c8483b4b\" y=\"89.624087\"/>\n     <use style=\"fill:#1f77b4;stroke:#1f77b4;\" x=\"95.739991\" xlink:href=\"#m60c8483b4b\" y=\"56.980884\"/>\n     <use style=\"fill:#1f77b4;stroke:#1f77b4;\" x=\"273.772066\" xlink:href=\"#m60c8483b4b\" y=\"38.845771\"/>\n     <use style=\"fill:#1f77b4;stroke:#1f77b4;\" x=\"256.680987\" xlink:href=\"#m60c8483b4b\" y=\"66.04844\"/>\n     <use style=\"fill:#1f77b4;stroke:#1f77b4;\" x=\"262.378013\" xlink:href=\"#m60c8483b4b\" y=\"62.421418\"/>\n     <use style=\"fill:#1f77b4;stroke:#1f77b4;\" x=\"81.782276\" xlink:href=\"#m60c8483b4b\" y=\"129.521334\"/>\n     <use style=\"fill:#1f77b4;stroke:#1f77b4;\" x=\"65.830602\" xlink:href=\"#m60c8483b4b\" y=\"129.521334\"/>\n     <use style=\"fill:#1f77b4;stroke:#1f77b4;\" x=\"74.945844\" xlink:href=\"#m60c8483b4b\" y=\"120.453778\"/>\n     <use style=\"fill:#1f77b4;stroke:#1f77b4;\" x=\"95.170288\" xlink:href=\"#m60c8483b4b\" y=\"111.386222\"/>\n     <use style=\"fill:#1f77b4;stroke:#1f77b4;\" x=\"133.197939\" xlink:href=\"#m60c8483b4b\" y=\"111.386222\"/>\n     <use style=\"fill:#1f77b4;stroke:#1f77b4;\" x=\"302.257198\" xlink:href=\"#m60c8483b4b\" y=\"29.778215\"/>\n     <use style=\"fill:#1f77b4;stroke:#1f77b4;\" x=\"90.327816\" xlink:href=\"#m60c8483b4b\" y=\"98.691643\"/>\n     <use style=\"fill:#1f77b4;stroke:#1f77b4;\" x=\"102.861274\" xlink:href=\"#m60c8483b4b\" y=\"109.572711\"/>\n     <use style=\"fill:#1f77b4;stroke:#1f77b4;\" x=\"349.684943\" xlink:href=\"#m60c8483b4b\" y=\"56.980884\"/>\n     <use style=\"fill:#1f77b4;stroke:#1f77b4;\" x=\"288.014632\" xlink:href=\"#m60c8483b4b\" y=\"66.04844\"/>\n     <use style=\"fill:#1f77b4;stroke:#1f77b4;\" x=\"73.236736\" xlink:href=\"#m60c8483b4b\" y=\"147.656447\"/>\n     <use style=\"fill:#1f77b4;stroke:#1f77b4;\" x=\"68.109412\" xlink:href=\"#m60c8483b4b\" y=\"129.521334\"/>\n     <use style=\"fill:#1f77b4;stroke:#1f77b4;\" x=\"144.449566\" xlink:href=\"#m60c8483b4b\" y=\"129.521334\"/>\n     <use style=\"fill:#1f77b4;stroke:#1f77b4;\" x=\"90.897518\" xlink:href=\"#m60c8483b4b\" y=\"116.826756\"/>\n     <use style=\"fill:#1f77b4;stroke:#1f77b4;\" x=\"69.81852\" xlink:href=\"#m60c8483b4b\" y=\"165.79156\"/>\n     <use style=\"fill:#1f77b4;stroke:#1f77b4;\" x=\"100.01276\" xlink:href=\"#m60c8483b4b\" y=\"111.386222\"/>\n     <use style=\"fill:#1f77b4;stroke:#1f77b4;\" x=\"87.479302\" xlink:href=\"#m60c8483b4b\" y=\"124.080801\"/>\n     <use style=\"fill:#1f77b4;stroke:#1f77b4;\" x=\"246.266823\" xlink:href=\"#m60c8483b4b\" y=\"38.845771\"/>\n     <use style=\"fill:#1f77b4;stroke:#1f77b4;\" x=\"166.115358\" xlink:href=\"#m60c8483b4b\" y=\"93.251109\"/>\n     <use style=\"fill:#1f77b4;stroke:#1f77b4;\" x=\"96.594545\" xlink:href=\"#m60c8483b4b\" y=\"111.386222\"/>\n     <use style=\"fill:#1f77b4;stroke:#1f77b4;\" x=\"273.088423\" xlink:href=\"#m60c8483b4b\" y=\"111.386222\"/>\n     <use style=\"fill:#1f77b4;stroke:#1f77b4;\" x=\"70.593316\" xlink:href=\"#m60c8483b4b\" y=\"165.79156\"/>\n     <use style=\"fill:#1f77b4;stroke:#1f77b4;\" x=\"250.98396\" xlink:href=\"#m60c8483b4b\" y=\"73.302485\"/>\n     <use style=\"fill:#1f77b4;stroke:#1f77b4;\" x=\"260.697391\" xlink:href=\"#m60c8483b4b\" y=\"71.488974\"/>\n     <use style=\"fill:#1f77b4;stroke:#1f77b4;\" x=\"164.896194\" xlink:href=\"#m60c8483b4b\" y=\"93.251109\"/>\n     <use style=\"fill:#1f77b4;stroke:#1f77b4;\" x=\"97.904861\" xlink:href=\"#m60c8483b4b\" y=\"140.402402\"/>\n     <use style=\"fill:#1f77b4;stroke:#1f77b4;\" x=\"99.443058\" xlink:href=\"#m60c8483b4b\" y=\"136.775379\"/>\n     <use style=\"fill:#1f77b4;stroke:#1f77b4;\" x=\"289.809196\" xlink:href=\"#m60c8483b4b\" y=\"29.778215\"/>\n     <use style=\"fill:#1f77b4;stroke:#1f77b4;\" x=\"77.680417\" xlink:href=\"#m60c8483b4b\" y=\"89.624087\"/>\n     <use style=\"fill:#1f77b4;stroke:#1f77b4;\" x=\"194.480852\" xlink:href=\"#m60c8483b4b\" y=\"120.453778\"/>\n     <use style=\"fill:#1f77b4;stroke:#1f77b4;\" x=\"125.649379\" xlink:href=\"#m60c8483b4b\" y=\"111.386222\"/>\n     <use style=\"fill:#1f77b4;stroke:#1f77b4;\" x=\"71.527628\" xlink:href=\"#m60c8483b4b\" y=\"192.994229\"/>\n     <use style=\"fill:#1f77b4;stroke:#1f77b4;\" x=\"57.285062\" xlink:href=\"#m60c8483b4b\" y=\"120.453778\"/>\n     <use style=\"fill:#1f77b4;stroke:#1f77b4;\" x=\"131.346406\" xlink:href=\"#m60c8483b4b\" y=\"93.251109\"/>\n     <use style=\"fill:#1f77b4;stroke:#1f77b4;\" x=\"188.31667\" xlink:href=\"#m60c8483b4b\" y=\"76.929508\"/>\n     <use style=\"fill:#1f77b4;stroke:#1f77b4;\" x=\"80.073168\" xlink:href=\"#m60c8483b4b\" y=\"111.386222\"/>\n     <use style=\"fill:#1f77b4;stroke:#1f77b4;\" x=\"51.588036\" xlink:href=\"#m60c8483b4b\" y=\"138.588891\"/>\n     <use style=\"fill:#1f77b4;stroke:#1f77b4;\" x=\"262.378013\" xlink:href=\"#m60c8483b4b\" y=\"76.929508\"/>\n     <use style=\"fill:#1f77b4;stroke:#1f77b4;\" x=\"74.376142\" xlink:href=\"#m60c8483b4b\" y=\"129.521334\"/>\n     <use style=\"fill:#1f77b4;stroke:#1f77b4;\" x=\"108.5583\" xlink:href=\"#m60c8483b4b\" y=\"87.810575\"/>\n     <use style=\"fill:#1f77b4;stroke:#1f77b4;\" x=\"91.467221\" xlink:href=\"#m60c8483b4b\" y=\"111.386222\"/>\n     <use style=\"fill:#1f77b4;stroke:#1f77b4;\" x=\"72.951885\" xlink:href=\"#m60c8483b4b\" y=\"129.521334\"/>\n     <use style=\"fill:#1f77b4;stroke:#1f77b4;\" x=\"101.437017\" xlink:href=\"#m60c8483b4b\" y=\"102.318666\"/>\n     <use style=\"fill:#1f77b4;stroke:#1f77b4;\" x=\"96.594545\" xlink:href=\"#m60c8483b4b\" y=\"129.521334\"/>\n     <use style=\"fill:#1f77b4;stroke:#1f77b4;\" x=\"102.861274\" xlink:href=\"#m60c8483b4b\" y=\"122.267289\"/>\n     <use style=\"fill:#1f77b4;stroke:#1f77b4;\" x=\"125.649379\" xlink:href=\"#m60c8483b4b\" y=\"102.318666\"/>\n     <use style=\"fill:#1f77b4;stroke:#1f77b4;\" x=\"72.325212\" xlink:href=\"#m60c8483b4b\" y=\"147.656447\"/>\n     <use style=\"fill:#1f77b4;stroke:#1f77b4;\" x=\"65.37484\" xlink:href=\"#m60c8483b4b\" y=\"111.386222\"/>\n     <use style=\"fill:#1f77b4;stroke:#1f77b4;\" x=\"128.497893\" xlink:href=\"#m60c8483b4b\" y=\"129.521334\"/>\n     <use style=\"fill:#1f77b4;stroke:#1f77b4;\" x=\"119.952353\" xlink:href=\"#m60c8483b4b\" y=\"102.318666\"/>\n     <use style=\"fill:#1f77b4;stroke:#1f77b4;\" x=\"142.740459\" xlink:href=\"#m60c8483b4b\" y=\"122.267289\"/>\n     <use style=\"fill:#1f77b4;stroke:#1f77b4;\" x=\"75.230696\" xlink:href=\"#m60c8483b4b\" y=\"129.521334\"/>\n     <use style=\"fill:#1f77b4;stroke:#1f77b4;\" x=\"74.376142\" xlink:href=\"#m60c8483b4b\" y=\"147.656447\"/>\n     <use style=\"fill:#1f77b4;stroke:#1f77b4;\" x=\"130.776703\" xlink:href=\"#m60c8483b4b\" y=\"129.521334\"/>\n     <use style=\"fill:#1f77b4;stroke:#1f77b4;\" x=\"273.772066\" xlink:href=\"#m60c8483b4b\" y=\"44.286305\"/>\n     <use style=\"fill:#1f77b4;stroke:#1f77b4;\" x=\"187.53048\" xlink:href=\"#m60c8483b4b\" y=\"64.234929\"/>\n     <use style=\"fill:#1f77b4;stroke:#1f77b4;\" x=\"134.713348\" xlink:href=\"#m60c8483b4b\" y=\"111.386222\"/>\n     <use style=\"fill:#1f77b4;stroke:#1f77b4;\" x=\"101.437017\" xlink:href=\"#m60c8483b4b\" y=\"165.79156\"/>\n     <use style=\"fill:#1f77b4;stroke:#1f77b4;\" x=\"113.685624\" xlink:href=\"#m60c8483b4b\" y=\"115.013244\"/>\n     <use style=\"fill:#1f77b4;stroke:#1f77b4;\" x=\"72.951885\" xlink:href=\"#m60c8483b4b\" y=\"129.521334\"/>\n     <use style=\"fill:#1f77b4;stroke:#1f77b4;\" x=\"97.164247\" xlink:href=\"#m60c8483b4b\" y=\"93.251109\"/>\n     <use style=\"fill:#1f77b4;stroke:#1f77b4;\" x=\"71.527628\" xlink:href=\"#m60c8483b4b\" y=\"153.096981\"/>\n     <use style=\"fill:#1f77b4;stroke:#1f77b4;\" x=\"71.527628\" xlink:href=\"#m60c8483b4b\" y=\"129.521334\"/>\n     <use style=\"fill:#1f77b4;stroke:#1f77b4;\" x=\"101.152166\" xlink:href=\"#m60c8483b4b\" y=\"165.79156\"/>\n     <use style=\"fill:#1f77b4;stroke:#1f77b4;\" x=\"67.53971\" xlink:href=\"#m60c8483b4b\" y=\"125.894312\"/>\n     <use style=\"fill:#1f77b4;stroke:#1f77b4;\" x=\"68.109412\" xlink:href=\"#m60c8483b4b\" y=\"124.080801\"/>\n     <use style=\"fill:#1f77b4;stroke:#1f77b4;\" x=\"74.376142\" xlink:href=\"#m60c8483b4b\" y=\"165.79156\"/>\n     <use style=\"fill:#1f77b4;stroke:#1f77b4;\" x=\"62.982089\" xlink:href=\"#m60c8483b4b\" y=\"109.572711\"/>\n     <use style=\"fill:#1f77b4;stroke:#1f77b4;\" x=\"285.166119\" xlink:href=\"#m60c8483b4b\" y=\"56.980884\"/>\n     <use style=\"fill:#1f77b4;stroke:#1f77b4;\" x=\"206.416123\" xlink:href=\"#m60c8483b4b\" y=\"84.183553\"/>\n     <use style=\"fill:#1f77b4;stroke:#1f77b4;\" x=\"72.661337\" xlink:href=\"#m60c8483b4b\" y=\"165.79156\"/>\n     <use style=\"fill:#1f77b4;stroke:#1f77b4;\" x=\"138.75254\" xlink:href=\"#m60c8483b4b\" y=\"75.115997\"/>\n     <use style=\"fill:#1f77b4;stroke:#1f77b4;\" x=\"101.721868\" xlink:href=\"#m60c8483b4b\" y=\"115.013244\"/>\n     <use style=\"fill:#1f77b4;stroke:#1f77b4;\" x=\"57.285062\" xlink:href=\"#m60c8483b4b\" y=\"160.351026\"/>\n     <use style=\"fill:#1f77b4;stroke:#1f77b4;\" x=\"125.649379\" xlink:href=\"#m60c8483b4b\" y=\"75.115997\"/>\n     <use style=\"fill:#1f77b4;stroke:#1f77b4;\" x=\"51.588036\" xlink:href=\"#m60c8483b4b\" y=\"111.386222\"/>\n     <use style=\"fill:#1f77b4;stroke:#1f77b4;\" x=\"273.772066\" xlink:href=\"#m60c8483b4b\" y=\"38.845771\"/>\n     <use style=\"fill:#1f77b4;stroke:#1f77b4;\" x=\"45.321307\" xlink:href=\"#m60c8483b4b\" y=\"96.878132\"/>\n     <use style=\"fill:#1f77b4;stroke:#1f77b4;\" x=\"62.982089\" xlink:href=\"#m60c8483b4b\" y=\"111.386222\"/>\n     <use style=\"fill:#1f77b4;stroke:#1f77b4;\" x=\"75.14524\" xlink:href=\"#m60c8483b4b\" y=\"124.080801\"/>\n     <use style=\"fill:#1f77b4;stroke:#1f77b4;\" x=\"117.673542\" xlink:href=\"#m60c8483b4b\" y=\"125.894312\"/>\n     <use style=\"fill:#1f77b4;stroke:#1f77b4;\" x=\"130.207\" xlink:href=\"#m60c8483b4b\" y=\"95.064621\"/>\n     <use style=\"fill:#1f77b4;stroke:#1f77b4;\" x=\"108.5583\" xlink:href=\"#m60c8483b4b\" y=\"129.521334\"/>\n     <use style=\"fill:#1f77b4;stroke:#1f77b4;\" x=\"102.861274\" xlink:href=\"#m60c8483b4b\" y=\"111.386222\"/>\n     <use style=\"fill:#1f77b4;stroke:#1f77b4;\" x=\"72.667034\" xlink:href=\"#m60c8483b4b\" y=\"165.79156\"/>\n     <use style=\"fill:#1f77b4;stroke:#1f77b4;\" x=\"137.043432\" xlink:href=\"#m60c8483b4b\" y=\"120.453778\"/>\n     <use style=\"fill:#1f77b4;stroke:#1f77b4;\" x=\"125.649379\" xlink:href=\"#m60c8483b4b\" y=\"134.961868\"/>\n     <use style=\"fill:#1f77b4;stroke:#1f77b4;\" x=\"124.225123\" xlink:href=\"#m60c8483b4b\" y=\"107.759199\"/>\n     <use style=\"fill:#1f77b4;stroke:#1f77b4;\" x=\"101.152166\" xlink:href=\"#m60c8483b4b\" y=\"136.775379\"/>\n     <use style=\"fill:#1f77b4;stroke:#1f77b4;\" x=\"74.376142\" xlink:href=\"#m60c8483b4b\" y=\"129.521334\"/>\n     <use style=\"fill:#1f77b4;stroke:#1f77b4;\" x=\"72.382182\" xlink:href=\"#m60c8483b4b\" y=\"122.267289\"/>\n     <use style=\"fill:#1f77b4;stroke:#1f77b4;\" x=\"71.527628\" xlink:href=\"#m60c8483b4b\" y=\"165.79156\"/>\n     <use style=\"fill:#1f77b4;stroke:#1f77b4;\" x=\"199.710723\" xlink:href=\"#m60c8483b4b\" y=\"75.115997\"/>\n     <use style=\"fill:#1f77b4;stroke:#1f77b4;\" x=\"74.660993\" xlink:href=\"#m60c8483b4b\" y=\"111.386222\"/>\n     <use style=\"fill:#1f77b4;stroke:#1f77b4;\" x=\"125.649379\" xlink:href=\"#m60c8483b4b\" y=\"133.148357\"/>\n     <use style=\"fill:#1f77b4;stroke:#1f77b4;\" x=\"102.291571\" xlink:href=\"#m60c8483b4b\" y=\"138.588891\"/>\n     <use style=\"fill:#1f77b4;stroke:#1f77b4;\" x=\"262.378013\" xlink:href=\"#m60c8483b4b\" y=\"24.337681\"/>\n     <use style=\"fill:#1f77b4;stroke:#1f77b4;\" x=\"68.679115\" xlink:href=\"#m60c8483b4b\" y=\"111.386222\"/>\n     <use style=\"fill:#1f77b4;stroke:#1f77b4;\" x=\"137.043432\" xlink:href=\"#m60c8483b4b\" y=\"129.521334\"/>\n     <use style=\"fill:#1f77b4;stroke:#1f77b4;\" x=\"137.897986\" xlink:href=\"#m60c8483b4b\" y=\"111.386222\"/>\n     <use style=\"fill:#1f77b4;stroke:#1f77b4;\" x=\"242.438421\" xlink:href=\"#m60c8483b4b\" y=\"75.115997\"/>\n     <use style=\"fill:#1f77b4;stroke:#1f77b4;\" x=\"57.285062\" xlink:href=\"#m60c8483b4b\" y=\"214.756364\"/>\n     <use style=\"fill:#1f77b4;stroke:#1f77b4;\" x=\"105.709787\" xlink:href=\"#m60c8483b4b\" y=\"147.656447\"/>\n     <use style=\"fill:#1f77b4;stroke:#1f77b4;\" x=\"72.097331\" xlink:href=\"#m60c8483b4b\" y=\"147.656447\"/>\n     <use style=\"fill:#1f77b4;stroke:#1f77b4;\" x=\"45.891009\" xlink:href=\"#m60c8483b4b\" y=\"202.061785\"/>\n     <use style=\"fill:#1f77b4;stroke:#1f77b4;\" x=\"108.5583\" xlink:href=\"#m60c8483b4b\" y=\"165.79156\"/>\n     <use style=\"fill:#1f77b4;stroke:#1f77b4;\" x=\"182.619643\" xlink:href=\"#m60c8483b4b\" y=\"66.04844\"/>\n     <use style=\"fill:#1f77b4;stroke:#1f77b4;\" x=\"102.861274\" xlink:href=\"#m60c8483b4b\" y=\"111.386222\"/>\n     <use style=\"fill:#1f77b4;stroke:#1f77b4;\" x=\"228.195855\" xlink:href=\"#m60c8483b4b\" y=\"53.353862\"/>\n     <use style=\"fill:#1f77b4;stroke:#1f77b4;\" x=\"72.490426\" xlink:href=\"#m60c8483b4b\" y=\"129.521334\"/>\n     <use style=\"fill:#1f77b4;stroke:#1f77b4;\" x=\"114.255326\" xlink:href=\"#m60c8483b4b\" y=\"91.437598\"/>\n     <use style=\"fill:#1f77b4;stroke:#1f77b4;\" x=\"268.07504\" xlink:href=\"#m60c8483b4b\" y=\"56.980884\"/>\n     <use style=\"fill:#1f77b4;stroke:#1f77b4;\" x=\"72.667034\" xlink:href=\"#m60c8483b4b\" y=\"109.572711\"/>\n     <use style=\"fill:#1f77b4;stroke:#1f77b4;\" x=\"102.861274\" xlink:href=\"#m60c8483b4b\" y=\"116.826756\"/>\n     <use style=\"fill:#1f77b4;stroke:#1f77b4;\" x=\"182.619643\" xlink:href=\"#m60c8483b4b\" y=\"51.54035\"/>\n     <use style=\"fill:#1f77b4;stroke:#1f77b4;\" x=\"196.805239\" xlink:href=\"#m60c8483b4b\" y=\"80.55653\"/>\n     <use style=\"fill:#1f77b4;stroke:#1f77b4;\" x=\"139.891945\" xlink:href=\"#m60c8483b4b\" y=\"129.521334\"/>\n     <use style=\"fill:#1f77b4;stroke:#1f77b4;\" x=\"102.861274\" xlink:href=\"#m60c8483b4b\" y=\"102.318666\"/>\n     <use style=\"fill:#1f77b4;stroke:#1f77b4;\" x=\"62.412386\" xlink:href=\"#m60c8483b4b\" y=\"151.28347\"/>\n     <use style=\"fill:#1f77b4;stroke:#1f77b4;\" x=\"72.268242\" xlink:href=\"#m60c8483b4b\" y=\"165.79156\"/>\n     <use style=\"fill:#1f77b4;stroke:#1f77b4;\" x=\"72.951885\" xlink:href=\"#m60c8483b4b\" y=\"147.656447\"/>\n     <use style=\"fill:#1f77b4;stroke:#1f77b4;\" x=\"108.5583\" xlink:href=\"#m60c8483b4b\" y=\"129.521334\"/>\n     <use style=\"fill:#1f77b4;stroke:#1f77b4;\" x=\"184.448389\" xlink:href=\"#m60c8483b4b\" y=\"104.132177\"/>\n     <use style=\"fill:#1f77b4;stroke:#1f77b4;\" x=\"187.746967\" xlink:href=\"#m60c8483b4b\" y=\"93.251109\"/>\n     <use style=\"fill:#1f77b4;stroke:#1f77b4;\" x=\"82.921681\" xlink:href=\"#m60c8483b4b\" y=\"93.251109\"/>\n     <use style=\"fill:#1f77b4;stroke:#1f77b4;\" x=\"296.560172\" xlink:href=\"#m60c8483b4b\" y=\"17.083636\"/>\n    </g>\n   </g>\n   <g id=\"matplotlib.axis_1\">\n    <g id=\"xtick_1\">\n     <g id=\"line2d_1\">\n      <defs>\n       <path d=\"M 0 0 \nL 0 3.5 \n\" id=\"meae93d88b0\" style=\"stroke:#000000;stroke-width:0.8;\"/>\n      </defs>\n      <g>\n       <use style=\"stroke:#000000;stroke-width:0.8;\" x=\"74.376142\" xlink:href=\"#meae93d88b0\" y=\"224.64\"/>\n      </g>\n     </g>\n     <g id=\"text_1\">\n      <!-- 30000 -->\n      <g transform=\"translate(58.469892 239.238438)scale(0.1 -0.1)\">\n       <defs>\n        <path d=\"M 2597 2516 \nQ 3050 2419 3304 2112 \nQ 3559 1806 3559 1356 \nQ 3559 666 3084 287 \nQ 2609 -91 1734 -91 \nQ 1441 -91 1130 -33 \nQ 819 25 488 141 \nL 488 750 \nQ 750 597 1062 519 \nQ 1375 441 1716 441 \nQ 2309 441 2620 675 \nQ 2931 909 2931 1356 \nQ 2931 1769 2642 2001 \nQ 2353 2234 1838 2234 \nL 1294 2234 \nL 1294 2753 \nL 1863 2753 \nQ 2328 2753 2575 2939 \nQ 2822 3125 2822 3475 \nQ 2822 3834 2567 4026 \nQ 2313 4219 1838 4219 \nQ 1578 4219 1281 4162 \nQ 984 4106 628 3988 \nL 628 4550 \nQ 988 4650 1302 4700 \nQ 1616 4750 1894 4750 \nQ 2613 4750 3031 4423 \nQ 3450 4097 3450 3541 \nQ 3450 3153 3228 2886 \nQ 3006 2619 2597 2516 \nz\n\" id=\"DejaVuSans-33\" transform=\"scale(0.015625)\"/>\n        <path d=\"M 2034 4250 \nQ 1547 4250 1301 3770 \nQ 1056 3291 1056 2328 \nQ 1056 1369 1301 889 \nQ 1547 409 2034 409 \nQ 2525 409 2770 889 \nQ 3016 1369 3016 2328 \nQ 3016 3291 2770 3770 \nQ 2525 4250 2034 4250 \nz\nM 2034 4750 \nQ 2819 4750 3233 4129 \nQ 3647 3509 3647 2328 \nQ 3647 1150 3233 529 \nQ 2819 -91 2034 -91 \nQ 1250 -91 836 529 \nQ 422 1150 422 2328 \nQ 422 3509 836 4129 \nQ 1250 4750 2034 4750 \nz\n\" id=\"DejaVuSans-30\" transform=\"scale(0.015625)\"/>\n       </defs>\n       <use xlink:href=\"#DejaVuSans-33\"/>\n       <use x=\"63.623047\" xlink:href=\"#DejaVuSans-30\"/>\n       <use x=\"127.246094\" xlink:href=\"#DejaVuSans-30\"/>\n       <use x=\"190.869141\" xlink:href=\"#DejaVuSans-30\"/>\n       <use x=\"254.492188\" xlink:href=\"#DejaVuSans-30\"/>\n      </g>\n     </g>\n    </g>\n    <g id=\"xtick_2\">\n     <g id=\"line2d_2\">\n      <g>\n       <use style=\"stroke:#000000;stroke-width:0.8;\" x=\"131.346406\" xlink:href=\"#meae93d88b0\" y=\"224.64\"/>\n      </g>\n     </g>\n     <g id=\"text_2\">\n      <!-- 40000 -->\n      <g transform=\"translate(115.440156 239.238438)scale(0.1 -0.1)\">\n       <defs>\n        <path d=\"M 2419 4116 \nL 825 1625 \nL 2419 1625 \nL 2419 4116 \nz\nM 2253 4666 \nL 3047 4666 \nL 3047 1625 \nL 3713 1625 \nL 3713 1100 \nL 3047 1100 \nL 3047 0 \nL 2419 0 \nL 2419 1100 \nL 313 1100 \nL 313 1709 \nL 2253 4666 \nz\n\" id=\"DejaVuSans-34\" transform=\"scale(0.015625)\"/>\n       </defs>\n       <use xlink:href=\"#DejaVuSans-34\"/>\n       <use x=\"63.623047\" xlink:href=\"#DejaVuSans-30\"/>\n       <use x=\"127.246094\" xlink:href=\"#DejaVuSans-30\"/>\n       <use x=\"190.869141\" xlink:href=\"#DejaVuSans-30\"/>\n       <use x=\"254.492188\" xlink:href=\"#DejaVuSans-30\"/>\n      </g>\n     </g>\n    </g>\n    <g id=\"xtick_3\">\n     <g id=\"line2d_3\">\n      <g>\n       <use style=\"stroke:#000000;stroke-width:0.8;\" x=\"188.31667\" xlink:href=\"#meae93d88b0\" y=\"224.64\"/>\n      </g>\n     </g>\n     <g id=\"text_3\">\n      <!-- 50000 -->\n      <g transform=\"translate(172.41042 239.238438)scale(0.1 -0.1)\">\n       <defs>\n        <path d=\"M 691 4666 \nL 3169 4666 \nL 3169 4134 \nL 1269 4134 \nL 1269 2991 \nQ 1406 3038 1543 3061 \nQ 1681 3084 1819 3084 \nQ 2600 3084 3056 2656 \nQ 3513 2228 3513 1497 \nQ 3513 744 3044 326 \nQ 2575 -91 1722 -91 \nQ 1428 -91 1123 -41 \nQ 819 9 494 109 \nL 494 744 \nQ 775 591 1075 516 \nQ 1375 441 1709 441 \nQ 2250 441 2565 725 \nQ 2881 1009 2881 1497 \nQ 2881 1984 2565 2268 \nQ 2250 2553 1709 2553 \nQ 1456 2553 1204 2497 \nQ 953 2441 691 2322 \nL 691 4666 \nz\n\" id=\"DejaVuSans-35\" transform=\"scale(0.015625)\"/>\n       </defs>\n       <use xlink:href=\"#DejaVuSans-35\"/>\n       <use x=\"63.623047\" xlink:href=\"#DejaVuSans-30\"/>\n       <use x=\"127.246094\" xlink:href=\"#DejaVuSans-30\"/>\n       <use x=\"190.869141\" xlink:href=\"#DejaVuSans-30\"/>\n       <use x=\"254.492188\" xlink:href=\"#DejaVuSans-30\"/>\n      </g>\n     </g>\n    </g>\n    <g id=\"xtick_4\">\n     <g id=\"line2d_4\">\n      <g>\n       <use style=\"stroke:#000000;stroke-width:0.8;\" x=\"245.286934\" xlink:href=\"#meae93d88b0\" y=\"224.64\"/>\n      </g>\n     </g>\n     <g id=\"text_4\">\n      <!-- 60000 -->\n      <g transform=\"translate(229.380684 239.238438)scale(0.1 -0.1)\">\n       <defs>\n        <path d=\"M 2113 2584 \nQ 1688 2584 1439 2293 \nQ 1191 2003 1191 1497 \nQ 1191 994 1439 701 \nQ 1688 409 2113 409 \nQ 2538 409 2786 701 \nQ 3034 994 3034 1497 \nQ 3034 2003 2786 2293 \nQ 2538 2584 2113 2584 \nz\nM 3366 4563 \nL 3366 3988 \nQ 3128 4100 2886 4159 \nQ 2644 4219 2406 4219 \nQ 1781 4219 1451 3797 \nQ 1122 3375 1075 2522 \nQ 1259 2794 1537 2939 \nQ 1816 3084 2150 3084 \nQ 2853 3084 3261 2657 \nQ 3669 2231 3669 1497 \nQ 3669 778 3244 343 \nQ 2819 -91 2113 -91 \nQ 1303 -91 875 529 \nQ 447 1150 447 2328 \nQ 447 3434 972 4092 \nQ 1497 4750 2381 4750 \nQ 2619 4750 2861 4703 \nQ 3103 4656 3366 4563 \nz\n\" id=\"DejaVuSans-36\" transform=\"scale(0.015625)\"/>\n       </defs>\n       <use xlink:href=\"#DejaVuSans-36\"/>\n       <use x=\"63.623047\" xlink:href=\"#DejaVuSans-30\"/>\n       <use x=\"127.246094\" xlink:href=\"#DejaVuSans-30\"/>\n       <use x=\"190.869141\" xlink:href=\"#DejaVuSans-30\"/>\n       <use x=\"254.492188\" xlink:href=\"#DejaVuSans-30\"/>\n      </g>\n     </g>\n    </g>\n    <g id=\"xtick_5\">\n     <g id=\"line2d_5\">\n      <g>\n       <use style=\"stroke:#000000;stroke-width:0.8;\" x=\"302.257198\" xlink:href=\"#meae93d88b0\" y=\"224.64\"/>\n      </g>\n     </g>\n     <g id=\"text_5\">\n      <!-- 70000 -->\n      <g transform=\"translate(286.350948 239.238438)scale(0.1 -0.1)\">\n       <defs>\n        <path d=\"M 525 4666 \nL 3525 4666 \nL 3525 4397 \nL 1831 0 \nL 1172 0 \nL 2766 4134 \nL 525 4134 \nL 525 4666 \nz\n\" id=\"DejaVuSans-37\" transform=\"scale(0.015625)\"/>\n       </defs>\n       <use xlink:href=\"#DejaVuSans-37\"/>\n       <use x=\"63.623047\" xlink:href=\"#DejaVuSans-30\"/>\n       <use x=\"127.246094\" xlink:href=\"#DejaVuSans-30\"/>\n       <use x=\"190.869141\" xlink:href=\"#DejaVuSans-30\"/>\n       <use x=\"254.492188\" xlink:href=\"#DejaVuSans-30\"/>\n      </g>\n     </g>\n    </g>\n    <g id=\"xtick_6\">\n     <g id=\"line2d_6\">\n      <g>\n       <use style=\"stroke:#000000;stroke-width:0.8;\" x=\"359.227462\" xlink:href=\"#meae93d88b0\" y=\"224.64\"/>\n      </g>\n     </g>\n     <g id=\"text_6\">\n      <!-- 80000 -->\n      <g transform=\"translate(343.321212 239.238438)scale(0.1 -0.1)\">\n       <defs>\n        <path d=\"M 2034 2216 \nQ 1584 2216 1326 1975 \nQ 1069 1734 1069 1313 \nQ 1069 891 1326 650 \nQ 1584 409 2034 409 \nQ 2484 409 2743 651 \nQ 3003 894 3003 1313 \nQ 3003 1734 2745 1975 \nQ 2488 2216 2034 2216 \nz\nM 1403 2484 \nQ 997 2584 770 2862 \nQ 544 3141 544 3541 \nQ 544 4100 942 4425 \nQ 1341 4750 2034 4750 \nQ 2731 4750 3128 4425 \nQ 3525 4100 3525 3541 \nQ 3525 3141 3298 2862 \nQ 3072 2584 2669 2484 \nQ 3125 2378 3379 2068 \nQ 3634 1759 3634 1313 \nQ 3634 634 3220 271 \nQ 2806 -91 2034 -91 \nQ 1263 -91 848 271 \nQ 434 634 434 1313 \nQ 434 1759 690 2068 \nQ 947 2378 1403 2484 \nz\nM 1172 3481 \nQ 1172 3119 1398 2916 \nQ 1625 2713 2034 2713 \nQ 2441 2713 2670 2916 \nQ 2900 3119 2900 3481 \nQ 2900 3844 2670 4047 \nQ 2441 4250 2034 4250 \nQ 1625 4250 1398 4047 \nQ 1172 3844 1172 3481 \nz\n\" id=\"DejaVuSans-38\" transform=\"scale(0.015625)\"/>\n       </defs>\n       <use xlink:href=\"#DejaVuSans-38\"/>\n       <use x=\"63.623047\" xlink:href=\"#DejaVuSans-30\"/>\n       <use x=\"127.246094\" xlink:href=\"#DejaVuSans-30\"/>\n       <use x=\"190.869141\" xlink:href=\"#DejaVuSans-30\"/>\n       <use x=\"254.492188\" xlink:href=\"#DejaVuSans-30\"/>\n      </g>\n     </g>\n    </g>\n   </g>\n   <g id=\"matplotlib.axis_2\">\n    <g id=\"ytick_1\">\n     <g id=\"line2d_7\">\n      <defs>\n       <path d=\"M 0 0 \nL -3.5 0 \n\" id=\"ma1f148e5f2\" style=\"stroke:#000000;stroke-width:0.8;\"/>\n      </defs>\n      <g>\n       <use style=\"stroke:#000000;stroke-width:0.8;\" x=\"30.103125\" xlink:href=\"#ma1f148e5f2\" y=\"202.061785\"/>\n      </g>\n     </g>\n     <g id=\"text_7\">\n      <!-- 2.8 -->\n      <g transform=\"translate(7.2 205.861004)scale(0.1 -0.1)\">\n       <defs>\n        <path d=\"M 1228 531 \nL 3431 531 \nL 3431 0 \nL 469 0 \nL 469 531 \nQ 828 903 1448 1529 \nQ 2069 2156 2228 2338 \nQ 2531 2678 2651 2914 \nQ 2772 3150 2772 3378 \nQ 2772 3750 2511 3984 \nQ 2250 4219 1831 4219 \nQ 1534 4219 1204 4116 \nQ 875 4013 500 3803 \nL 500 4441 \nQ 881 4594 1212 4672 \nQ 1544 4750 1819 4750 \nQ 2544 4750 2975 4387 \nQ 3406 4025 3406 3419 \nQ 3406 3131 3298 2873 \nQ 3191 2616 2906 2266 \nQ 2828 2175 2409 1742 \nQ 1991 1309 1228 531 \nz\n\" id=\"DejaVuSans-32\" transform=\"scale(0.015625)\"/>\n        <path d=\"M 684 794 \nL 1344 794 \nL 1344 0 \nL 684 0 \nL 684 794 \nz\n\" id=\"DejaVuSans-2e\" transform=\"scale(0.015625)\"/>\n       </defs>\n       <use xlink:href=\"#DejaVuSans-32\"/>\n       <use x=\"63.623047\" xlink:href=\"#DejaVuSans-2e\"/>\n       <use x=\"95.410156\" xlink:href=\"#DejaVuSans-38\"/>\n      </g>\n     </g>\n    </g>\n    <g id=\"ytick_2\">\n     <g id=\"line2d_8\">\n      <g>\n       <use style=\"stroke:#000000;stroke-width:0.8;\" x=\"30.103125\" xlink:href=\"#ma1f148e5f2\" y=\"165.79156\"/>\n      </g>\n     </g>\n     <g id=\"text_8\">\n      <!-- 3.0 -->\n      <g transform=\"translate(7.2 169.590778)scale(0.1 -0.1)\">\n       <use xlink:href=\"#DejaVuSans-33\"/>\n       <use x=\"63.623047\" xlink:href=\"#DejaVuSans-2e\"/>\n       <use x=\"95.410156\" xlink:href=\"#DejaVuSans-30\"/>\n      </g>\n     </g>\n    </g>\n    <g id=\"ytick_3\">\n     <g id=\"line2d_9\">\n      <g>\n       <use style=\"stroke:#000000;stroke-width:0.8;\" x=\"30.103125\" xlink:href=\"#ma1f148e5f2\" y=\"129.521334\"/>\n      </g>\n     </g>\n     <g id=\"text_9\">\n      <!-- 3.2 -->\n      <g transform=\"translate(7.2 133.320553)scale(0.1 -0.1)\">\n       <use xlink:href=\"#DejaVuSans-33\"/>\n       <use x=\"63.623047\" xlink:href=\"#DejaVuSans-2e\"/>\n       <use x=\"95.410156\" xlink:href=\"#DejaVuSans-32\"/>\n      </g>\n     </g>\n    </g>\n    <g id=\"ytick_4\">\n     <g id=\"line2d_10\">\n      <g>\n       <use style=\"stroke:#000000;stroke-width:0.8;\" x=\"30.103125\" xlink:href=\"#ma1f148e5f2\" y=\"93.251109\"/>\n      </g>\n     </g>\n     <g id=\"text_10\">\n      <!-- 3.4 -->\n      <g transform=\"translate(7.2 97.050328)scale(0.1 -0.1)\">\n       <use xlink:href=\"#DejaVuSans-33\"/>\n       <use x=\"63.623047\" xlink:href=\"#DejaVuSans-2e\"/>\n       <use x=\"95.410156\" xlink:href=\"#DejaVuSans-34\"/>\n      </g>\n     </g>\n    </g>\n    <g id=\"ytick_5\">\n     <g id=\"line2d_11\">\n      <g>\n       <use style=\"stroke:#000000;stroke-width:0.8;\" x=\"30.103125\" xlink:href=\"#ma1f148e5f2\" y=\"56.980884\"/>\n      </g>\n     </g>\n     <g id=\"text_11\">\n      <!-- 3.6 -->\n      <g transform=\"translate(7.2 60.780103)scale(0.1 -0.1)\">\n       <use xlink:href=\"#DejaVuSans-33\"/>\n       <use x=\"63.623047\" xlink:href=\"#DejaVuSans-2e\"/>\n       <use x=\"95.410156\" xlink:href=\"#DejaVuSans-36\"/>\n      </g>\n     </g>\n    </g>\n    <g id=\"ytick_6\">\n     <g id=\"line2d_12\">\n      <g>\n       <use style=\"stroke:#000000;stroke-width:0.8;\" x=\"30.103125\" xlink:href=\"#ma1f148e5f2\" y=\"20.710659\"/>\n      </g>\n     </g>\n     <g id=\"text_12\">\n      <!-- 3.8 -->\n      <g transform=\"translate(7.2 24.509878)scale(0.1 -0.1)\">\n       <use xlink:href=\"#DejaVuSans-33\"/>\n       <use x=\"63.623047\" xlink:href=\"#DejaVuSans-2e\"/>\n       <use x=\"95.410156\" xlink:href=\"#DejaVuSans-38\"/>\n      </g>\n     </g>\n    </g>\n   </g>\n   <g id=\"patch_3\">\n    <path d=\"M 30.103125 224.64 \nL 30.103125 7.2 \n\" style=\"fill:none;stroke:#000000;stroke-linecap:square;stroke-linejoin:miter;stroke-width:0.8;\"/>\n   </g>\n   <g id=\"patch_4\">\n    <path d=\"M 364.903125 224.64 \nL 364.903125 7.2 \n\" style=\"fill:none;stroke:#000000;stroke-linecap:square;stroke-linejoin:miter;stroke-width:0.8;\"/>\n   </g>\n   <g id=\"patch_5\">\n    <path d=\"M 30.103125 224.64 \nL 364.903125 224.64 \n\" style=\"fill:none;stroke:#000000;stroke-linecap:square;stroke-linejoin:miter;stroke-width:0.8;\"/>\n   </g>\n   <g id=\"patch_6\">\n    <path d=\"M 30.103125 7.2 \nL 364.903125 7.2 \n\" style=\"fill:none;stroke:#000000;stroke-linecap:square;stroke-linejoin:miter;stroke-width:0.8;\"/>\n   </g>\n  </g>\n </g>\n <defs>\n  <clipPath id=\"p3fd19820e4\">\n   <rect height=\"217.44\" width=\"334.8\" x=\"30.103125\" y=\"7.2\"/>\n  </clipPath>\n </defs>\n</svg>\n",
      "text/plain": [
       "<Figure size 432x288 with 1 Axes>"
      ]
     },
     "metadata": {
      "needs_background": "light"
     },
     "output_type": "display_data"
    }
   ],
   "source": [
    "fig, ax = plt.subplots()\n",
    "ax.scatter(df['salary'], df['GPA'])"
   ]
  },
  {
   "cell_type": "code",
   "execution_count": 31,
   "metadata": {},
   "outputs": [
    {
     "data": {
      "text/plain": [
       "<AxesSubplot:xlabel='salary', ylabel='GPA'>"
      ]
     },
     "execution_count": 31,
     "metadata": {},
     "output_type": "execute_result"
    },
    {
     "data": {
      "image/png": "[encoded data removed]",
      "image/svg+xml": "<?xml version=\"1.0\" encoding=\"utf-8\" standalone=\"no\"?>\n<!DOCTYPE svg PUBLIC \"-//W3C//DTD SVG 1.1//EN\"\n  \"http://www.w3.org/Graphics/SVG/1.1/DTD/svg11.dtd\">\n<svg height=\"262.19625pt\" version=\"1.1\" viewBox=\"0 0 396.011837 262.19625\" width=\"396.011837pt\" xmlns=\"http://www.w3.org/2000/svg\" xmlns:xlink=\"http://www.w3.org/1999/xlink\">\n <metadata>\n  <rdf:RDF xmlns:cc=\"http://creativecommons.org/ns#\" xmlns:dc=\"http://purl.org/dc/elements/1.1/\" xmlns:rdf=\"http://www.w3.org/1999/02/22-rdf-syntax-ns#\">\n   <cc:Work>\n    <dc:type rdf:resource=\"http://purl.org/dc/dcmitype/StillImage\"/>\n    <dc:date>2022-04-13T23:33:01.669840</dc:date>\n    <dc:format>image/svg+xml</dc:format>\n    <dc:creator>\n     <cc:Agent>\n      <dc:title>Matplotlib v3.4.3, https://matplotlib.org/</dc:title>\n     </cc:Agent>\n    </dc:creator>\n   </cc:Work>\n  </rdf:RDF>\n </metadata>\n <defs>\n  <style type=\"text/css\">*{stroke-linecap:butt;stroke-linejoin:round;}</style>\n </defs>\n <g id=\"figure_1\">\n  <g id=\"patch_1\">\n   <path d=\"M 0 262.19625 \nL 396.011837 262.19625 \nL 396.011837 0 \nL 0 0 \nz\n\" style=\"fill:none;\"/>\n  </g>\n  <g id=\"axes_1\">\n   <g id=\"patch_2\">\n    <path d=\"M 43.78125 224.64 \nL 378.58125 224.64 \nL 378.58125 7.2 \nL 43.78125 7.2 \nz\n\" style=\"fill:#ffffff;\"/>\n   </g>\n   <g id=\"PathCollection_1\">\n    <defs>\n     <path d=\"M 0 2.236068 \nC 0.593012 2.236068 1.161816 2.000462 1.581139 1.581139 \nC 2.000462 1.161816 2.236068 0.593012 2.236068 0 \nC 2.236068 -0.593012 2.000462 -1.161816 1.581139 -1.581139 \nC 1.161816 -2.000462 0.593012 -2.236068 0 -2.236068 \nC -0.593012 -2.236068 -1.161816 -2.000462 -1.581139 -1.581139 \nC -2.000462 -1.161816 -2.236068 -0.593012 -2.236068 0 \nC -2.236068 0.593012 -2.000462 1.161816 -1.581139 1.581139 \nC -1.161816 2.000462 -0.593012 2.236068 0 2.236068 \nz\n\" id=\"m8e53f51d0f\" style=\"stroke:#1f77b4;\"/>\n    </defs>\n    <g clip-path=\"url(#pe1ce3430c2)\">\n     <use style=\"fill:#1f77b4;stroke:#1f77b4;\" x=\"96.030104\" xlink:href=\"#m8e53f51d0f\" y=\"138.588891\"/>\n     <use style=\"fill:#1f77b4;stroke:#1f77b4;\" x=\"105.703654\" xlink:href=\"#m8e53f51d0f\" y=\"75.115997\"/>\n     <use style=\"fill:#1f77b4;stroke:#1f77b4;\" x=\"104.404732\" xlink:href=\"#m8e53f51d0f\" y=\"120.453778\"/>\n     <use style=\"fill:#1f77b4;stroke:#1f77b4;\" x=\"116.539399\" xlink:href=\"#m8e53f51d0f\" y=\"129.521334\"/>\n     <use style=\"fill:#1f77b4;stroke:#1f77b4;\" x=\"108.597744\" xlink:href=\"#m8e53f51d0f\" y=\"96.878132\"/>\n     <use style=\"fill:#1f77b4;stroke:#1f77b4;\" x=\"97.739211\" xlink:href=\"#m8e53f51d0f\" y=\"93.251109\"/>\n     <use style=\"fill:#1f77b4;stroke:#1f77b4;\" x=\"90.390047\" xlink:href=\"#m8e53f51d0f\" y=\"136.775379\"/>\n     <use style=\"fill:#1f77b4;stroke:#1f77b4;\" x=\"88.908821\" xlink:href=\"#m8e53f51d0f\" y=\"144.029425\"/>\n     <use style=\"fill:#1f77b4;stroke:#1f77b4;\" x=\"95.460401\" xlink:href=\"#m8e53f51d0f\" y=\"144.029425\"/>\n     <use style=\"fill:#1f77b4;stroke:#1f77b4;\" x=\"106.284751\" xlink:href=\"#m8e53f51d0f\" y=\"46.099817\"/>\n     <use style=\"fill:#1f77b4;stroke:#1f77b4;\" x=\"115.969696\" xlink:href=\"#m8e53f51d0f\" y=\"66.04844\"/>\n     <use style=\"fill:#1f77b4;stroke:#1f77b4;\" x=\"232.832799\" xlink:href=\"#m8e53f51d0f\" y=\"89.624087\"/>\n     <use style=\"fill:#1f77b4;stroke:#1f77b4;\" x=\"109.418116\" xlink:href=\"#m8e53f51d0f\" y=\"56.980884\"/>\n     <use style=\"fill:#1f77b4;stroke:#1f77b4;\" x=\"287.450191\" xlink:href=\"#m8e53f51d0f\" y=\"38.845771\"/>\n     <use style=\"fill:#1f77b4;stroke:#1f77b4;\" x=\"270.359112\" xlink:href=\"#m8e53f51d0f\" y=\"66.04844\"/>\n     <use style=\"fill:#1f77b4;stroke:#1f77b4;\" x=\"276.056138\" xlink:href=\"#m8e53f51d0f\" y=\"62.421418\"/>\n     <use style=\"fill:#1f77b4;stroke:#1f77b4;\" x=\"95.460401\" xlink:href=\"#m8e53f51d0f\" y=\"129.521334\"/>\n     <use style=\"fill:#1f77b4;stroke:#1f77b4;\" x=\"79.508727\" xlink:href=\"#m8e53f51d0f\" y=\"129.521334\"/>\n     <use style=\"fill:#1f77b4;stroke:#1f77b4;\" x=\"88.623969\" xlink:href=\"#m8e53f51d0f\" y=\"120.453778\"/>\n     <use style=\"fill:#1f77b4;stroke:#1f77b4;\" x=\"108.848413\" xlink:href=\"#m8e53f51d0f\" y=\"111.386222\"/>\n     <use style=\"fill:#1f77b4;stroke:#1f77b4;\" x=\"146.876064\" xlink:href=\"#m8e53f51d0f\" y=\"111.386222\"/>\n     <use style=\"fill:#1f77b4;stroke:#1f77b4;\" x=\"315.935323\" xlink:href=\"#m8e53f51d0f\" y=\"29.778215\"/>\n     <use style=\"fill:#1f77b4;stroke:#1f77b4;\" x=\"104.005941\" xlink:href=\"#m8e53f51d0f\" y=\"98.691643\"/>\n     <use style=\"fill:#1f77b4;stroke:#1f77b4;\" x=\"116.539399\" xlink:href=\"#m8e53f51d0f\" y=\"109.572711\"/>\n     <use style=\"fill:#1f77b4;stroke:#1f77b4;\" x=\"363.363068\" xlink:href=\"#m8e53f51d0f\" y=\"56.980884\"/>\n     <use style=\"fill:#1f77b4;stroke:#1f77b4;\" x=\"301.692757\" xlink:href=\"#m8e53f51d0f\" y=\"66.04844\"/>\n     <use style=\"fill:#1f77b4;stroke:#1f77b4;\" x=\"86.914861\" xlink:href=\"#m8e53f51d0f\" y=\"147.656447\"/>\n     <use style=\"fill:#1f77b4;stroke:#1f77b4;\" x=\"81.787537\" xlink:href=\"#m8e53f51d0f\" y=\"129.521334\"/>\n     <use style=\"fill:#1f77b4;stroke:#1f77b4;\" x=\"158.127691\" xlink:href=\"#m8e53f51d0f\" y=\"129.521334\"/>\n     <use style=\"fill:#1f77b4;stroke:#1f77b4;\" x=\"104.575643\" xlink:href=\"#m8e53f51d0f\" y=\"116.826756\"/>\n     <use style=\"fill:#1f77b4;stroke:#1f77b4;\" x=\"83.496645\" xlink:href=\"#m8e53f51d0f\" y=\"165.79156\"/>\n     <use style=\"fill:#1f77b4;stroke:#1f77b4;\" x=\"113.690885\" xlink:href=\"#m8e53f51d0f\" y=\"111.386222\"/>\n     <use style=\"fill:#1f77b4;stroke:#1f77b4;\" x=\"101.157427\" xlink:href=\"#m8e53f51d0f\" y=\"124.080801\"/>\n     <use style=\"fill:#1f77b4;stroke:#1f77b4;\" x=\"259.944948\" xlink:href=\"#m8e53f51d0f\" y=\"38.845771\"/>\n     <use style=\"fill:#1f77b4;stroke:#1f77b4;\" x=\"179.793483\" xlink:href=\"#m8e53f51d0f\" y=\"93.251109\"/>\n     <use style=\"fill:#1f77b4;stroke:#1f77b4;\" x=\"110.27267\" xlink:href=\"#m8e53f51d0f\" y=\"111.386222\"/>\n     <use style=\"fill:#1f77b4;stroke:#1f77b4;\" x=\"286.766548\" xlink:href=\"#m8e53f51d0f\" y=\"111.386222\"/>\n     <use style=\"fill:#1f77b4;stroke:#1f77b4;\" x=\"84.271441\" xlink:href=\"#m8e53f51d0f\" y=\"165.79156\"/>\n     <use style=\"fill:#1f77b4;stroke:#1f77b4;\" x=\"264.662085\" xlink:href=\"#m8e53f51d0f\" y=\"73.302485\"/>\n     <use style=\"fill:#1f77b4;stroke:#1f77b4;\" x=\"274.375516\" xlink:href=\"#m8e53f51d0f\" y=\"71.488974\"/>\n     <use style=\"fill:#1f77b4;stroke:#1f77b4;\" x=\"178.574319\" xlink:href=\"#m8e53f51d0f\" y=\"93.251109\"/>\n     <use style=\"fill:#1f77b4;stroke:#1f77b4;\" x=\"111.582986\" xlink:href=\"#m8e53f51d0f\" y=\"140.402402\"/>\n     <use style=\"fill:#1f77b4;stroke:#1f77b4;\" x=\"113.121183\" xlink:href=\"#m8e53f51d0f\" y=\"136.775379\"/>\n     <use style=\"fill:#1f77b4;stroke:#1f77b4;\" x=\"303.487321\" xlink:href=\"#m8e53f51d0f\" y=\"29.778215\"/>\n     <use style=\"fill:#1f77b4;stroke:#1f77b4;\" x=\"91.358542\" xlink:href=\"#m8e53f51d0f\" y=\"89.624087\"/>\n     <use style=\"fill:#1f77b4;stroke:#1f77b4;\" x=\"208.158977\" xlink:href=\"#m8e53f51d0f\" y=\"120.453778\"/>\n     <use style=\"fill:#1f77b4;stroke:#1f77b4;\" x=\"139.327504\" xlink:href=\"#m8e53f51d0f\" y=\"111.386222\"/>\n     <use style=\"fill:#1f77b4;stroke:#1f77b4;\" x=\"85.205753\" xlink:href=\"#m8e53f51d0f\" y=\"192.994229\"/>\n     <use style=\"fill:#1f77b4;stroke:#1f77b4;\" x=\"70.963187\" xlink:href=\"#m8e53f51d0f\" y=\"120.453778\"/>\n     <use style=\"fill:#1f77b4;stroke:#1f77b4;\" x=\"145.024531\" xlink:href=\"#m8e53f51d0f\" y=\"93.251109\"/>\n     <use style=\"fill:#1f77b4;stroke:#1f77b4;\" x=\"201.994795\" xlink:href=\"#m8e53f51d0f\" y=\"76.929508\"/>\n     <use style=\"fill:#1f77b4;stroke:#1f77b4;\" x=\"93.751293\" xlink:href=\"#m8e53f51d0f\" y=\"111.386222\"/>\n     <use style=\"fill:#1f77b4;stroke:#1f77b4;\" x=\"65.266161\" xlink:href=\"#m8e53f51d0f\" y=\"138.588891\"/>\n     <use style=\"fill:#1f77b4;stroke:#1f77b4;\" x=\"276.056138\" xlink:href=\"#m8e53f51d0f\" y=\"76.929508\"/>\n     <use style=\"fill:#1f77b4;stroke:#1f77b4;\" x=\"88.054267\" xlink:href=\"#m8e53f51d0f\" y=\"129.521334\"/>\n     <use style=\"fill:#1f77b4;stroke:#1f77b4;\" x=\"122.236425\" xlink:href=\"#m8e53f51d0f\" y=\"87.810575\"/>\n     <use style=\"fill:#1f77b4;stroke:#1f77b4;\" x=\"105.145346\" xlink:href=\"#m8e53f51d0f\" y=\"111.386222\"/>\n     <use style=\"fill:#1f77b4;stroke:#1f77b4;\" x=\"86.63001\" xlink:href=\"#m8e53f51d0f\" y=\"129.521334\"/>\n     <use style=\"fill:#1f77b4;stroke:#1f77b4;\" x=\"115.115142\" xlink:href=\"#m8e53f51d0f\" y=\"102.318666\"/>\n     <use style=\"fill:#1f77b4;stroke:#1f77b4;\" x=\"110.27267\" xlink:href=\"#m8e53f51d0f\" y=\"129.521334\"/>\n     <use style=\"fill:#1f77b4;stroke:#1f77b4;\" x=\"116.539399\" xlink:href=\"#m8e53f51d0f\" y=\"122.267289\"/>\n     <use style=\"fill:#1f77b4;stroke:#1f77b4;\" x=\"139.327504\" xlink:href=\"#m8e53f51d0f\" y=\"102.318666\"/>\n     <use style=\"fill:#1f77b4;stroke:#1f77b4;\" x=\"86.003337\" xlink:href=\"#m8e53f51d0f\" y=\"147.656447\"/>\n     <use style=\"fill:#1f77b4;stroke:#1f77b4;\" x=\"79.052965\" xlink:href=\"#m8e53f51d0f\" y=\"111.386222\"/>\n     <use style=\"fill:#1f77b4;stroke:#1f77b4;\" x=\"142.176018\" xlink:href=\"#m8e53f51d0f\" y=\"129.521334\"/>\n     <use style=\"fill:#1f77b4;stroke:#1f77b4;\" x=\"133.630478\" xlink:href=\"#m8e53f51d0f\" y=\"102.318666\"/>\n     <use style=\"fill:#1f77b4;stroke:#1f77b4;\" x=\"156.418584\" xlink:href=\"#m8e53f51d0f\" y=\"122.267289\"/>\n     <use style=\"fill:#1f77b4;stroke:#1f77b4;\" x=\"88.908821\" xlink:href=\"#m8e53f51d0f\" y=\"129.521334\"/>\n     <use style=\"fill:#1f77b4;stroke:#1f77b4;\" x=\"88.054267\" xlink:href=\"#m8e53f51d0f\" y=\"147.656447\"/>\n     <use style=\"fill:#1f77b4;stroke:#1f77b4;\" x=\"144.454828\" xlink:href=\"#m8e53f51d0f\" y=\"129.521334\"/>\n     <use style=\"fill:#1f77b4;stroke:#1f77b4;\" x=\"287.450191\" xlink:href=\"#m8e53f51d0f\" y=\"44.286305\"/>\n     <use style=\"fill:#1f77b4;stroke:#1f77b4;\" x=\"201.208605\" xlink:href=\"#m8e53f51d0f\" y=\"64.234929\"/>\n     <use style=\"fill:#1f77b4;stroke:#1f77b4;\" x=\"148.391473\" xlink:href=\"#m8e53f51d0f\" y=\"111.386222\"/>\n     <use style=\"fill:#1f77b4;stroke:#1f77b4;\" x=\"115.115142\" xlink:href=\"#m8e53f51d0f\" y=\"165.79156\"/>\n     <use style=\"fill:#1f77b4;stroke:#1f77b4;\" x=\"127.363749\" xlink:href=\"#m8e53f51d0f\" y=\"115.013244\"/>\n     <use style=\"fill:#1f77b4;stroke:#1f77b4;\" x=\"86.63001\" xlink:href=\"#m8e53f51d0f\" y=\"129.521334\"/>\n     <use style=\"fill:#1f77b4;stroke:#1f77b4;\" x=\"110.842372\" xlink:href=\"#m8e53f51d0f\" y=\"93.251109\"/>\n     <use style=\"fill:#1f77b4;stroke:#1f77b4;\" x=\"85.205753\" xlink:href=\"#m8e53f51d0f\" y=\"153.096981\"/>\n     <use style=\"fill:#1f77b4;stroke:#1f77b4;\" x=\"85.205753\" xlink:href=\"#m8e53f51d0f\" y=\"129.521334\"/>\n     <use style=\"fill:#1f77b4;stroke:#1f77b4;\" x=\"114.830291\" xlink:href=\"#m8e53f51d0f\" y=\"165.79156\"/>\n     <use style=\"fill:#1f77b4;stroke:#1f77b4;\" x=\"81.217835\" xlink:href=\"#m8e53f51d0f\" y=\"125.894312\"/>\n     <use style=\"fill:#1f77b4;stroke:#1f77b4;\" x=\"81.787537\" xlink:href=\"#m8e53f51d0f\" y=\"124.080801\"/>\n     <use style=\"fill:#1f77b4;stroke:#1f77b4;\" x=\"88.054267\" xlink:href=\"#m8e53f51d0f\" y=\"165.79156\"/>\n     <use style=\"fill:#1f77b4;stroke:#1f77b4;\" x=\"76.660214\" xlink:href=\"#m8e53f51d0f\" y=\"109.572711\"/>\n     <use style=\"fill:#1f77b4;stroke:#1f77b4;\" x=\"298.844244\" xlink:href=\"#m8e53f51d0f\" y=\"56.980884\"/>\n     <use style=\"fill:#1f77b4;stroke:#1f77b4;\" x=\"220.094248\" xlink:href=\"#m8e53f51d0f\" y=\"84.183553\"/>\n     <use style=\"fill:#1f77b4;stroke:#1f77b4;\" x=\"86.339462\" xlink:href=\"#m8e53f51d0f\" y=\"165.79156\"/>\n     <use style=\"fill:#1f77b4;stroke:#1f77b4;\" x=\"152.430665\" xlink:href=\"#m8e53f51d0f\" y=\"75.115997\"/>\n     <use style=\"fill:#1f77b4;stroke:#1f77b4;\" x=\"115.399993\" xlink:href=\"#m8e53f51d0f\" y=\"115.013244\"/>\n     <use style=\"fill:#1f77b4;stroke:#1f77b4;\" x=\"70.963187\" xlink:href=\"#m8e53f51d0f\" y=\"160.351026\"/>\n     <use style=\"fill:#1f77b4;stroke:#1f77b4;\" x=\"139.327504\" xlink:href=\"#m8e53f51d0f\" y=\"75.115997\"/>\n     <use style=\"fill:#1f77b4;stroke:#1f77b4;\" x=\"65.266161\" xlink:href=\"#m8e53f51d0f\" y=\"111.386222\"/>\n     <use style=\"fill:#1f77b4;stroke:#1f77b4;\" x=\"287.450191\" xlink:href=\"#m8e53f51d0f\" y=\"38.845771\"/>\n     <use style=\"fill:#1f77b4;stroke:#1f77b4;\" x=\"58.999432\" xlink:href=\"#m8e53f51d0f\" y=\"96.878132\"/>\n     <use style=\"fill:#1f77b4;stroke:#1f77b4;\" x=\"76.660214\" xlink:href=\"#m8e53f51d0f\" y=\"111.386222\"/>\n     <use style=\"fill:#1f77b4;stroke:#1f77b4;\" x=\"88.823365\" xlink:href=\"#m8e53f51d0f\" y=\"124.080801\"/>\n     <use style=\"fill:#1f77b4;stroke:#1f77b4;\" x=\"131.351667\" xlink:href=\"#m8e53f51d0f\" y=\"125.894312\"/>\n     <use style=\"fill:#1f77b4;stroke:#1f77b4;\" x=\"143.885125\" xlink:href=\"#m8e53f51d0f\" y=\"95.064621\"/>\n     <use style=\"fill:#1f77b4;stroke:#1f77b4;\" x=\"122.236425\" xlink:href=\"#m8e53f51d0f\" y=\"129.521334\"/>\n     <use style=\"fill:#1f77b4;stroke:#1f77b4;\" x=\"116.539399\" xlink:href=\"#m8e53f51d0f\" y=\"111.386222\"/>\n     <use style=\"fill:#1f77b4;stroke:#1f77b4;\" x=\"86.345159\" xlink:href=\"#m8e53f51d0f\" y=\"165.79156\"/>\n     <use style=\"fill:#1f77b4;stroke:#1f77b4;\" x=\"150.721557\" xlink:href=\"#m8e53f51d0f\" y=\"120.453778\"/>\n     <use style=\"fill:#1f77b4;stroke:#1f77b4;\" x=\"139.327504\" xlink:href=\"#m8e53f51d0f\" y=\"134.961868\"/>\n     <use style=\"fill:#1f77b4;stroke:#1f77b4;\" x=\"137.903248\" xlink:href=\"#m8e53f51d0f\" y=\"107.759199\"/>\n     <use style=\"fill:#1f77b4;stroke:#1f77b4;\" x=\"114.830291\" xlink:href=\"#m8e53f51d0f\" y=\"136.775379\"/>\n     <use style=\"fill:#1f77b4;stroke:#1f77b4;\" x=\"88.054267\" xlink:href=\"#m8e53f51d0f\" y=\"129.521334\"/>\n     <use style=\"fill:#1f77b4;stroke:#1f77b4;\" x=\"86.060307\" xlink:href=\"#m8e53f51d0f\" y=\"122.267289\"/>\n     <use style=\"fill:#1f77b4;stroke:#1f77b4;\" x=\"85.205753\" xlink:href=\"#m8e53f51d0f\" y=\"165.79156\"/>\n     <use style=\"fill:#1f77b4;stroke:#1f77b4;\" x=\"213.388848\" xlink:href=\"#m8e53f51d0f\" y=\"75.115997\"/>\n     <use style=\"fill:#1f77b4;stroke:#1f77b4;\" x=\"88.339118\" xlink:href=\"#m8e53f51d0f\" y=\"111.386222\"/>\n     <use style=\"fill:#1f77b4;stroke:#1f77b4;\" x=\"139.327504\" xlink:href=\"#m8e53f51d0f\" y=\"133.148357\"/>\n     <use style=\"fill:#1f77b4;stroke:#1f77b4;\" x=\"115.969696\" xlink:href=\"#m8e53f51d0f\" y=\"138.588891\"/>\n     <use style=\"fill:#1f77b4;stroke:#1f77b4;\" x=\"276.056138\" xlink:href=\"#m8e53f51d0f\" y=\"24.337681\"/>\n     <use style=\"fill:#1f77b4;stroke:#1f77b4;\" x=\"82.35724\" xlink:href=\"#m8e53f51d0f\" y=\"111.386222\"/>\n     <use style=\"fill:#1f77b4;stroke:#1f77b4;\" x=\"150.721557\" xlink:href=\"#m8e53f51d0f\" y=\"129.521334\"/>\n     <use style=\"fill:#1f77b4;stroke:#1f77b4;\" x=\"151.576111\" xlink:href=\"#m8e53f51d0f\" y=\"111.386222\"/>\n     <use style=\"fill:#1f77b4;stroke:#1f77b4;\" x=\"256.116546\" xlink:href=\"#m8e53f51d0f\" y=\"75.115997\"/>\n     <use style=\"fill:#1f77b4;stroke:#1f77b4;\" x=\"70.963187\" xlink:href=\"#m8e53f51d0f\" y=\"214.756364\"/>\n     <use style=\"fill:#1f77b4;stroke:#1f77b4;\" x=\"119.387912\" xlink:href=\"#m8e53f51d0f\" y=\"147.656447\"/>\n     <use style=\"fill:#1f77b4;stroke:#1f77b4;\" x=\"85.775456\" xlink:href=\"#m8e53f51d0f\" y=\"147.656447\"/>\n     <use style=\"fill:#1f77b4;stroke:#1f77b4;\" x=\"59.569134\" xlink:href=\"#m8e53f51d0f\" y=\"202.061785\"/>\n     <use style=\"fill:#1f77b4;stroke:#1f77b4;\" x=\"122.236425\" xlink:href=\"#m8e53f51d0f\" y=\"165.79156\"/>\n     <use style=\"fill:#1f77b4;stroke:#1f77b4;\" x=\"196.297768\" xlink:href=\"#m8e53f51d0f\" y=\"66.04844\"/>\n     <use style=\"fill:#1f77b4;stroke:#1f77b4;\" x=\"116.539399\" xlink:href=\"#m8e53f51d0f\" y=\"111.386222\"/>\n     <use style=\"fill:#1f77b4;stroke:#1f77b4;\" x=\"241.87398\" xlink:href=\"#m8e53f51d0f\" y=\"53.353862\"/>\n     <use style=\"fill:#1f77b4;stroke:#1f77b4;\" x=\"86.168551\" xlink:href=\"#m8e53f51d0f\" y=\"129.521334\"/>\n     <use style=\"fill:#1f77b4;stroke:#1f77b4;\" x=\"127.933451\" xlink:href=\"#m8e53f51d0f\" y=\"91.437598\"/>\n     <use style=\"fill:#1f77b4;stroke:#1f77b4;\" x=\"281.753165\" xlink:href=\"#m8e53f51d0f\" y=\"56.980884\"/>\n     <use style=\"fill:#1f77b4;stroke:#1f77b4;\" x=\"86.345159\" xlink:href=\"#m8e53f51d0f\" y=\"109.572711\"/>\n     <use style=\"fill:#1f77b4;stroke:#1f77b4;\" x=\"116.539399\" xlink:href=\"#m8e53f51d0f\" y=\"116.826756\"/>\n     <use style=\"fill:#1f77b4;stroke:#1f77b4;\" x=\"196.297768\" xlink:href=\"#m8e53f51d0f\" y=\"51.54035\"/>\n     <use style=\"fill:#1f77b4;stroke:#1f77b4;\" x=\"210.483364\" xlink:href=\"#m8e53f51d0f\" y=\"80.55653\"/>\n     <use style=\"fill:#1f77b4;stroke:#1f77b4;\" x=\"153.57007\" xlink:href=\"#m8e53f51d0f\" y=\"129.521334\"/>\n     <use style=\"fill:#1f77b4;stroke:#1f77b4;\" x=\"116.539399\" xlink:href=\"#m8e53f51d0f\" y=\"102.318666\"/>\n     <use style=\"fill:#1f77b4;stroke:#1f77b4;\" x=\"76.090511\" xlink:href=\"#m8e53f51d0f\" y=\"151.28347\"/>\n     <use style=\"fill:#1f77b4;stroke:#1f77b4;\" x=\"85.946367\" xlink:href=\"#m8e53f51d0f\" y=\"165.79156\"/>\n     <use style=\"fill:#1f77b4;stroke:#1f77b4;\" x=\"86.63001\" xlink:href=\"#m8e53f51d0f\" y=\"147.656447\"/>\n     <use style=\"fill:#1f77b4;stroke:#1f77b4;\" x=\"122.236425\" xlink:href=\"#m8e53f51d0f\" y=\"129.521334\"/>\n     <use style=\"fill:#1f77b4;stroke:#1f77b4;\" x=\"198.126514\" xlink:href=\"#m8e53f51d0f\" y=\"104.132177\"/>\n     <use style=\"fill:#1f77b4;stroke:#1f77b4;\" x=\"201.425092\" xlink:href=\"#m8e53f51d0f\" y=\"93.251109\"/>\n     <use style=\"fill:#1f77b4;stroke:#1f77b4;\" x=\"96.599806\" xlink:href=\"#m8e53f51d0f\" y=\"93.251109\"/>\n     <use style=\"fill:#1f77b4;stroke:#1f77b4;\" x=\"310.238297\" xlink:href=\"#m8e53f51d0f\" y=\"17.083636\"/>\n    </g>\n   </g>\n   <g id=\"matplotlib.axis_1\">\n    <g id=\"xtick_1\">\n     <g id=\"line2d_1\">\n      <defs>\n       <path d=\"M 0 0 \nL 0 3.5 \n\" id=\"m3a54ae1182\" style=\"stroke:#000000;stroke-width:0.8;\"/>\n      </defs>\n      <g>\n       <use style=\"stroke:#000000;stroke-width:0.8;\" x=\"88.054267\" xlink:href=\"#m3a54ae1182\" y=\"224.64\"/>\n      </g>\n     </g>\n     <g id=\"text_1\">\n      <!-- 30000 -->\n      <g transform=\"translate(72.148017 239.238438)scale(0.1 -0.1)\">\n       <defs>\n        <path d=\"M 2597 2516 \nQ 3050 2419 3304 2112 \nQ 3559 1806 3559 1356 \nQ 3559 666 3084 287 \nQ 2609 -91 1734 -91 \nQ 1441 -91 1130 -33 \nQ 819 25 488 141 \nL 488 750 \nQ 750 597 1062 519 \nQ 1375 441 1716 441 \nQ 2309 441 2620 675 \nQ 2931 909 2931 1356 \nQ 2931 1769 2642 2001 \nQ 2353 2234 1838 2234 \nL 1294 2234 \nL 1294 2753 \nL 1863 2753 \nQ 2328 2753 2575 2939 \nQ 2822 3125 2822 3475 \nQ 2822 3834 2567 4026 \nQ 2313 4219 1838 4219 \nQ 1578 4219 1281 4162 \nQ 984 4106 628 3988 \nL 628 4550 \nQ 988 4650 1302 4700 \nQ 1616 4750 1894 4750 \nQ 2613 4750 3031 4423 \nQ 3450 4097 3450 3541 \nQ 3450 3153 3228 2886 \nQ 3006 2619 2597 2516 \nz\n\" id=\"DejaVuSans-33\" transform=\"scale(0.015625)\"/>\n        <path d=\"M 2034 4250 \nQ 1547 4250 1301 3770 \nQ 1056 3291 1056 2328 \nQ 1056 1369 1301 889 \nQ 1547 409 2034 409 \nQ 2525 409 2770 889 \nQ 3016 1369 3016 2328 \nQ 3016 3291 2770 3770 \nQ 2525 4250 2034 4250 \nz\nM 2034 4750 \nQ 2819 4750 3233 4129 \nQ 3647 3509 3647 2328 \nQ 3647 1150 3233 529 \nQ 2819 -91 2034 -91 \nQ 1250 -91 836 529 \nQ 422 1150 422 2328 \nQ 422 3509 836 4129 \nQ 1250 4750 2034 4750 \nz\n\" id=\"DejaVuSans-30\" transform=\"scale(0.015625)\"/>\n       </defs>\n       <use xlink:href=\"#DejaVuSans-33\"/>\n       <use x=\"63.623047\" xlink:href=\"#DejaVuSans-30\"/>\n       <use x=\"127.246094\" xlink:href=\"#DejaVuSans-30\"/>\n       <use x=\"190.869141\" xlink:href=\"#DejaVuSans-30\"/>\n       <use x=\"254.492188\" xlink:href=\"#DejaVuSans-30\"/>\n      </g>\n     </g>\n    </g>\n    <g id=\"xtick_2\">\n     <g id=\"line2d_2\">\n      <g>\n       <use style=\"stroke:#000000;stroke-width:0.8;\" x=\"145.024531\" xlink:href=\"#m3a54ae1182\" y=\"224.64\"/>\n      </g>\n     </g>\n     <g id=\"text_2\">\n      <!-- 40000 -->\n      <g transform=\"translate(129.118281 239.238438)scale(0.1 -0.1)\">\n       <defs>\n        <path d=\"M 2419 4116 \nL 825 1625 \nL 2419 1625 \nL 2419 4116 \nz\nM 2253 4666 \nL 3047 4666 \nL 3047 1625 \nL 3713 1625 \nL 3713 1100 \nL 3047 1100 \nL 3047 0 \nL 2419 0 \nL 2419 1100 \nL 313 1100 \nL 313 1709 \nL 2253 4666 \nz\n\" id=\"DejaVuSans-34\" transform=\"scale(0.015625)\"/>\n       </defs>\n       <use xlink:href=\"#DejaVuSans-34\"/>\n       <use x=\"63.623047\" xlink:href=\"#DejaVuSans-30\"/>\n       <use x=\"127.246094\" xlink:href=\"#DejaVuSans-30\"/>\n       <use x=\"190.869141\" xlink:href=\"#DejaVuSans-30\"/>\n       <use x=\"254.492188\" xlink:href=\"#DejaVuSans-30\"/>\n      </g>\n     </g>\n    </g>\n    <g id=\"xtick_3\">\n     <g id=\"line2d_3\">\n      <g>\n       <use style=\"stroke:#000000;stroke-width:0.8;\" x=\"201.994795\" xlink:href=\"#m3a54ae1182\" y=\"224.64\"/>\n      </g>\n     </g>\n     <g id=\"text_3\">\n      <!-- 50000 -->\n      <g transform=\"translate(186.088545 239.238438)scale(0.1 -0.1)\">\n       <defs>\n        <path d=\"M 691 4666 \nL 3169 4666 \nL 3169 4134 \nL 1269 4134 \nL 1269 2991 \nQ 1406 3038 1543 3061 \nQ 1681 3084 1819 3084 \nQ 2600 3084 3056 2656 \nQ 3513 2228 3513 1497 \nQ 3513 744 3044 326 \nQ 2575 -91 1722 -91 \nQ 1428 -91 1123 -41 \nQ 819 9 494 109 \nL 494 744 \nQ 775 591 1075 516 \nQ 1375 441 1709 441 \nQ 2250 441 2565 725 \nQ 2881 1009 2881 1497 \nQ 2881 1984 2565 2268 \nQ 2250 2553 1709 2553 \nQ 1456 2553 1204 2497 \nQ 953 2441 691 2322 \nL 691 4666 \nz\n\" id=\"DejaVuSans-35\" transform=\"scale(0.015625)\"/>\n       </defs>\n       <use xlink:href=\"#DejaVuSans-35\"/>\n       <use x=\"63.623047\" xlink:href=\"#DejaVuSans-30\"/>\n       <use x=\"127.246094\" xlink:href=\"#DejaVuSans-30\"/>\n       <use x=\"190.869141\" xlink:href=\"#DejaVuSans-30\"/>\n       <use x=\"254.492188\" xlink:href=\"#DejaVuSans-30\"/>\n      </g>\n     </g>\n    </g>\n    <g id=\"xtick_4\">\n     <g id=\"line2d_4\">\n      <g>\n       <use style=\"stroke:#000000;stroke-width:0.8;\" x=\"258.965059\" xlink:href=\"#m3a54ae1182\" y=\"224.64\"/>\n      </g>\n     </g>\n     <g id=\"text_4\">\n      <!-- 60000 -->\n      <g transform=\"translate(243.058809 239.238438)scale(0.1 -0.1)\">\n       <defs>\n        <path d=\"M 2113 2584 \nQ 1688 2584 1439 2293 \nQ 1191 2003 1191 1497 \nQ 1191 994 1439 701 \nQ 1688 409 2113 409 \nQ 2538 409 2786 701 \nQ 3034 994 3034 1497 \nQ 3034 2003 2786 2293 \nQ 2538 2584 2113 2584 \nz\nM 3366 4563 \nL 3366 3988 \nQ 3128 4100 2886 4159 \nQ 2644 4219 2406 4219 \nQ 1781 4219 1451 3797 \nQ 1122 3375 1075 2522 \nQ 1259 2794 1537 2939 \nQ 1816 3084 2150 3084 \nQ 2853 3084 3261 2657 \nQ 3669 2231 3669 1497 \nQ 3669 778 3244 343 \nQ 2819 -91 2113 -91 \nQ 1303 -91 875 529 \nQ 447 1150 447 2328 \nQ 447 3434 972 4092 \nQ 1497 4750 2381 4750 \nQ 2619 4750 2861 4703 \nQ 3103 4656 3366 4563 \nz\n\" id=\"DejaVuSans-36\" transform=\"scale(0.015625)\"/>\n       </defs>\n       <use xlink:href=\"#DejaVuSans-36\"/>\n       <use x=\"63.623047\" xlink:href=\"#DejaVuSans-30\"/>\n       <use x=\"127.246094\" xlink:href=\"#DejaVuSans-30\"/>\n       <use x=\"190.869141\" xlink:href=\"#DejaVuSans-30\"/>\n       <use x=\"254.492188\" xlink:href=\"#DejaVuSans-30\"/>\n      </g>\n     </g>\n    </g>\n    <g id=\"xtick_5\">\n     <g id=\"line2d_5\">\n      <g>\n       <use style=\"stroke:#000000;stroke-width:0.8;\" x=\"315.935323\" xlink:href=\"#m3a54ae1182\" y=\"224.64\"/>\n      </g>\n     </g>\n     <g id=\"text_5\">\n      <!-- 70000 -->\n      <g transform=\"translate(300.029073 239.238438)scale(0.1 -0.1)\">\n       <defs>\n        <path d=\"M 525 4666 \nL 3525 4666 \nL 3525 4397 \nL 1831 0 \nL 1172 0 \nL 2766 4134 \nL 525 4134 \nL 525 4666 \nz\n\" id=\"DejaVuSans-37\" transform=\"scale(0.015625)\"/>\n       </defs>\n       <use xlink:href=\"#DejaVuSans-37\"/>\n       <use x=\"63.623047\" xlink:href=\"#DejaVuSans-30\"/>\n       <use x=\"127.246094\" xlink:href=\"#DejaVuSans-30\"/>\n       <use x=\"190.869141\" xlink:href=\"#DejaVuSans-30\"/>\n       <use x=\"254.492188\" xlink:href=\"#DejaVuSans-30\"/>\n      </g>\n     </g>\n    </g>\n    <g id=\"xtick_6\">\n     <g id=\"line2d_6\">\n      <g>\n       <use style=\"stroke:#000000;stroke-width:0.8;\" x=\"372.905587\" xlink:href=\"#m3a54ae1182\" y=\"224.64\"/>\n      </g>\n     </g>\n     <g id=\"text_6\">\n      <!-- 80000 -->\n      <g transform=\"translate(356.999337 239.238438)scale(0.1 -0.1)\">\n       <defs>\n        <path d=\"M 2034 2216 \nQ 1584 2216 1326 1975 \nQ 1069 1734 1069 1313 \nQ 1069 891 1326 650 \nQ 1584 409 2034 409 \nQ 2484 409 2743 651 \nQ 3003 894 3003 1313 \nQ 3003 1734 2745 1975 \nQ 2488 2216 2034 2216 \nz\nM 1403 2484 \nQ 997 2584 770 2862 \nQ 544 3141 544 3541 \nQ 544 4100 942 4425 \nQ 1341 4750 2034 4750 \nQ 2731 4750 3128 4425 \nQ 3525 4100 3525 3541 \nQ 3525 3141 3298 2862 \nQ 3072 2584 2669 2484 \nQ 3125 2378 3379 2068 \nQ 3634 1759 3634 1313 \nQ 3634 634 3220 271 \nQ 2806 -91 2034 -91 \nQ 1263 -91 848 271 \nQ 434 634 434 1313 \nQ 434 1759 690 2068 \nQ 947 2378 1403 2484 \nz\nM 1172 3481 \nQ 1172 3119 1398 2916 \nQ 1625 2713 2034 2713 \nQ 2441 2713 2670 2916 \nQ 2900 3119 2900 3481 \nQ 2900 3844 2670 4047 \nQ 2441 4250 2034 4250 \nQ 1625 4250 1398 4047 \nQ 1172 3844 1172 3481 \nz\n\" id=\"DejaVuSans-38\" transform=\"scale(0.015625)\"/>\n       </defs>\n       <use xlink:href=\"#DejaVuSans-38\"/>\n       <use x=\"63.623047\" xlink:href=\"#DejaVuSans-30\"/>\n       <use x=\"127.246094\" xlink:href=\"#DejaVuSans-30\"/>\n       <use x=\"190.869141\" xlink:href=\"#DejaVuSans-30\"/>\n       <use x=\"254.492188\" xlink:href=\"#DejaVuSans-30\"/>\n      </g>\n     </g>\n    </g>\n    <g id=\"text_7\">\n     <!-- salary -->\n     <g transform=\"translate(196.044531 252.916563)scale(0.1 -0.1)\">\n      <defs>\n       <path d=\"M 2834 3397 \nL 2834 2853 \nQ 2591 2978 2328 3040 \nQ 2066 3103 1784 3103 \nQ 1356 3103 1142 2972 \nQ 928 2841 928 2578 \nQ 928 2378 1081 2264 \nQ 1234 2150 1697 2047 \nL 1894 2003 \nQ 2506 1872 2764 1633 \nQ 3022 1394 3022 966 \nQ 3022 478 2636 193 \nQ 2250 -91 1575 -91 \nQ 1294 -91 989 -36 \nQ 684 19 347 128 \nL 347 722 \nQ 666 556 975 473 \nQ 1284 391 1588 391 \nQ 1994 391 2212 530 \nQ 2431 669 2431 922 \nQ 2431 1156 2273 1281 \nQ 2116 1406 1581 1522 \nL 1381 1569 \nQ 847 1681 609 1914 \nQ 372 2147 372 2553 \nQ 372 3047 722 3315 \nQ 1072 3584 1716 3584 \nQ 2034 3584 2315 3537 \nQ 2597 3491 2834 3397 \nz\n\" id=\"DejaVuSans-73\" transform=\"scale(0.015625)\"/>\n       <path d=\"M 2194 1759 \nQ 1497 1759 1228 1600 \nQ 959 1441 959 1056 \nQ 959 750 1161 570 \nQ 1363 391 1709 391 \nQ 2188 391 2477 730 \nQ 2766 1069 2766 1631 \nL 2766 1759 \nL 2194 1759 \nz\nM 3341 1997 \nL 3341 0 \nL 2766 0 \nL 2766 531 \nQ 2569 213 2275 61 \nQ 1981 -91 1556 -91 \nQ 1019 -91 701 211 \nQ 384 513 384 1019 \nQ 384 1609 779 1909 \nQ 1175 2209 1959 2209 \nL 2766 2209 \nL 2766 2266 \nQ 2766 2663 2505 2880 \nQ 2244 3097 1772 3097 \nQ 1472 3097 1187 3025 \nQ 903 2953 641 2809 \nL 641 3341 \nQ 956 3463 1253 3523 \nQ 1550 3584 1831 3584 \nQ 2591 3584 2966 3190 \nQ 3341 2797 3341 1997 \nz\n\" id=\"DejaVuSans-61\" transform=\"scale(0.015625)\"/>\n       <path d=\"M 603 4863 \nL 1178 4863 \nL 1178 0 \nL 603 0 \nL 603 4863 \nz\n\" id=\"DejaVuSans-6c\" transform=\"scale(0.015625)\"/>\n       <path d=\"M 2631 2963 \nQ 2534 3019 2420 3045 \nQ 2306 3072 2169 3072 \nQ 1681 3072 1420 2755 \nQ 1159 2438 1159 1844 \nL 1159 0 \nL 581 0 \nL 581 3500 \nL 1159 3500 \nL 1159 2956 \nQ 1341 3275 1631 3429 \nQ 1922 3584 2338 3584 \nQ 2397 3584 2469 3576 \nQ 2541 3569 2628 3553 \nL 2631 2963 \nz\n\" id=\"DejaVuSans-72\" transform=\"scale(0.015625)\"/>\n       <path d=\"M 2059 -325 \nQ 1816 -950 1584 -1140 \nQ 1353 -1331 966 -1331 \nL 506 -1331 \nL 506 -850 \nL 844 -850 \nQ 1081 -850 1212 -737 \nQ 1344 -625 1503 -206 \nL 1606 56 \nL 191 3500 \nL 800 3500 \nL 1894 763 \nL 2988 3500 \nL 3597 3500 \nL 2059 -325 \nz\n\" id=\"DejaVuSans-79\" transform=\"scale(0.015625)\"/>\n      </defs>\n      <use xlink:href=\"#DejaVuSans-73\"/>\n      <use x=\"52.099609\" xlink:href=\"#DejaVuSans-61\"/>\n      <use x=\"113.378906\" xlink:href=\"#DejaVuSans-6c\"/>\n      <use x=\"141.162109\" xlink:href=\"#DejaVuSans-61\"/>\n      <use x=\"202.441406\" xlink:href=\"#DejaVuSans-72\"/>\n      <use x=\"243.554688\" xlink:href=\"#DejaVuSans-79\"/>\n     </g>\n    </g>\n   </g>\n   <g id=\"matplotlib.axis_2\">\n    <g id=\"ytick_1\">\n     <g id=\"line2d_7\">\n      <defs>\n       <path d=\"M 0 0 \nL -3.5 0 \n\" id=\"mdef9811097\" style=\"stroke:#000000;stroke-width:0.8;\"/>\n      </defs>\n      <g>\n       <use style=\"stroke:#000000;stroke-width:0.8;\" x=\"43.78125\" xlink:href=\"#mdef9811097\" y=\"202.061785\"/>\n      </g>\n     </g>\n     <g id=\"text_8\">\n      <!-- 2.8 -->\n      <g transform=\"translate(20.878125 205.861004)scale(0.1 -0.1)\">\n       <defs>\n        <path d=\"M 1228 531 \nL 3431 531 \nL 3431 0 \nL 469 0 \nL 469 531 \nQ 828 903 1448 1529 \nQ 2069 2156 2228 2338 \nQ 2531 2678 2651 2914 \nQ 2772 3150 2772 3378 \nQ 2772 3750 2511 3984 \nQ 2250 4219 1831 4219 \nQ 1534 4219 1204 4116 \nQ 875 4013 500 3803 \nL 500 4441 \nQ 881 4594 1212 4672 \nQ 1544 4750 1819 4750 \nQ 2544 4750 2975 4387 \nQ 3406 4025 3406 3419 \nQ 3406 3131 3298 2873 \nQ 3191 2616 2906 2266 \nQ 2828 2175 2409 1742 \nQ 1991 1309 1228 531 \nz\n\" id=\"DejaVuSans-32\" transform=\"scale(0.015625)\"/>\n        <path d=\"M 684 794 \nL 1344 794 \nL 1344 0 \nL 684 0 \nL 684 794 \nz\n\" id=\"DejaVuSans-2e\" transform=\"scale(0.015625)\"/>\n       </defs>\n       <use xlink:href=\"#DejaVuSans-32\"/>\n       <use x=\"63.623047\" xlink:href=\"#DejaVuSans-2e\"/>\n       <use x=\"95.410156\" xlink:href=\"#DejaVuSans-38\"/>\n      </g>\n     </g>\n    </g>\n    <g id=\"ytick_2\">\n     <g id=\"line2d_8\">\n      <g>\n       <use style=\"stroke:#000000;stroke-width:0.8;\" x=\"43.78125\" xlink:href=\"#mdef9811097\" y=\"165.79156\"/>\n      </g>\n     </g>\n     <g id=\"text_9\">\n      <!-- 3.0 -->\n      <g transform=\"translate(20.878125 169.590778)scale(0.1 -0.1)\">\n       <use xlink:href=\"#DejaVuSans-33\"/>\n       <use x=\"63.623047\" xlink:href=\"#DejaVuSans-2e\"/>\n       <use x=\"95.410156\" xlink:href=\"#DejaVuSans-30\"/>\n      </g>\n     </g>\n    </g>\n    <g id=\"ytick_3\">\n     <g id=\"line2d_9\">\n      <g>\n       <use style=\"stroke:#000000;stroke-width:0.8;\" x=\"43.78125\" xlink:href=\"#mdef9811097\" y=\"129.521334\"/>\n      </g>\n     </g>\n     <g id=\"text_10\">\n      <!-- 3.2 -->\n      <g transform=\"translate(20.878125 133.320553)scale(0.1 -0.1)\">\n       <use xlink:href=\"#DejaVuSans-33\"/>\n       <use x=\"63.623047\" xlink:href=\"#DejaVuSans-2e\"/>\n       <use x=\"95.410156\" xlink:href=\"#DejaVuSans-32\"/>\n      </g>\n     </g>\n    </g>\n    <g id=\"ytick_4\">\n     <g id=\"line2d_10\">\n      <g>\n       <use style=\"stroke:#000000;stroke-width:0.8;\" x=\"43.78125\" xlink:href=\"#mdef9811097\" y=\"93.251109\"/>\n      </g>\n     </g>\n     <g id=\"text_11\">\n      <!-- 3.4 -->\n      <g transform=\"translate(20.878125 97.050328)scale(0.1 -0.1)\">\n       <use xlink:href=\"#DejaVuSans-33\"/>\n       <use x=\"63.623047\" xlink:href=\"#DejaVuSans-2e\"/>\n       <use x=\"95.410156\" xlink:href=\"#DejaVuSans-34\"/>\n      </g>\n     </g>\n    </g>\n    <g id=\"ytick_5\">\n     <g id=\"line2d_11\">\n      <g>\n       <use style=\"stroke:#000000;stroke-width:0.8;\" x=\"43.78125\" xlink:href=\"#mdef9811097\" y=\"56.980884\"/>\n      </g>\n     </g>\n     <g id=\"text_12\">\n      <!-- 3.6 -->\n      <g transform=\"translate(20.878125 60.780103)scale(0.1 -0.1)\">\n       <use xlink:href=\"#DejaVuSans-33\"/>\n       <use x=\"63.623047\" xlink:href=\"#DejaVuSans-2e\"/>\n       <use x=\"95.410156\" xlink:href=\"#DejaVuSans-36\"/>\n      </g>\n     </g>\n    </g>\n    <g id=\"ytick_6\">\n     <g id=\"line2d_12\">\n      <g>\n       <use style=\"stroke:#000000;stroke-width:0.8;\" x=\"43.78125\" xlink:href=\"#mdef9811097\" y=\"20.710659\"/>\n      </g>\n     </g>\n     <g id=\"text_13\">\n      <!-- 3.8 -->\n      <g transform=\"translate(20.878125 24.509878)scale(0.1 -0.1)\">\n       <use xlink:href=\"#DejaVuSans-33\"/>\n       <use x=\"63.623047\" xlink:href=\"#DejaVuSans-2e\"/>\n       <use x=\"95.410156\" xlink:href=\"#DejaVuSans-38\"/>\n      </g>\n     </g>\n    </g>\n    <g id=\"text_14\">\n     <!-- GPA -->\n     <g transform=\"translate(14.798438 125.910625)rotate(-90)scale(0.1 -0.1)\">\n      <defs>\n       <path d=\"M 3809 666 \nL 3809 1919 \nL 2778 1919 \nL 2778 2438 \nL 4434 2438 \nL 4434 434 \nQ 4069 175 3628 42 \nQ 3188 -91 2688 -91 \nQ 1594 -91 976 548 \nQ 359 1188 359 2328 \nQ 359 3472 976 4111 \nQ 1594 4750 2688 4750 \nQ 3144 4750 3555 4637 \nQ 3966 4525 4313 4306 \nL 4313 3634 \nQ 3963 3931 3569 4081 \nQ 3175 4231 2741 4231 \nQ 1884 4231 1454 3753 \nQ 1025 3275 1025 2328 \nQ 1025 1384 1454 906 \nQ 1884 428 2741 428 \nQ 3075 428 3337 486 \nQ 3600 544 3809 666 \nz\n\" id=\"DejaVuSans-47\" transform=\"scale(0.015625)\"/>\n       <path d=\"M 1259 4147 \nL 1259 2394 \nL 2053 2394 \nQ 2494 2394 2734 2622 \nQ 2975 2850 2975 3272 \nQ 2975 3691 2734 3919 \nQ 2494 4147 2053 4147 \nL 1259 4147 \nz\nM 628 4666 \nL 2053 4666 \nQ 2838 4666 3239 4311 \nQ 3641 3956 3641 3272 \nQ 3641 2581 3239 2228 \nQ 2838 1875 2053 1875 \nL 1259 1875 \nL 1259 0 \nL 628 0 \nL 628 4666 \nz\n\" id=\"DejaVuSans-50\" transform=\"scale(0.015625)\"/>\n       <path d=\"M 2188 4044 \nL 1331 1722 \nL 3047 1722 \nL 2188 4044 \nz\nM 1831 4666 \nL 2547 4666 \nL 4325 0 \nL 3669 0 \nL 3244 1197 \nL 1141 1197 \nL 716 0 \nL 50 0 \nL 1831 4666 \nz\n\" id=\"DejaVuSans-41\" transform=\"scale(0.015625)\"/>\n      </defs>\n      <use xlink:href=\"#DejaVuSans-47\"/>\n      <use x=\"77.490234\" xlink:href=\"#DejaVuSans-50\"/>\n      <use x=\"131.417969\" xlink:href=\"#DejaVuSans-41\"/>\n     </g>\n    </g>\n   </g>\n   <g id=\"patch_3\">\n    <path d=\"M 43.78125 224.64 \nL 43.78125 7.2 \n\" style=\"fill:none;stroke:#000000;stroke-linecap:square;stroke-linejoin:miter;stroke-width:0.8;\"/>\n   </g>\n   <g id=\"patch_4\">\n    <path d=\"M 378.58125 224.64 \nL 378.58125 7.2 \n\" style=\"fill:none;stroke:#000000;stroke-linecap:square;stroke-linejoin:miter;stroke-width:0.8;\"/>\n   </g>\n   <g id=\"patch_5\">\n    <path d=\"M 43.78125 224.64 \nL 378.58125 224.64 \n\" style=\"fill:none;stroke:#000000;stroke-linecap:square;stroke-linejoin:miter;stroke-width:0.8;\"/>\n   </g>\n   <g id=\"patch_6\">\n    <path d=\"M 43.78125 7.2 \nL 378.58125 7.2 \n\" style=\"fill:none;stroke:#000000;stroke-linecap:square;stroke-linejoin:miter;stroke-width:0.8;\"/>\n   </g>\n  </g>\n </g>\n <defs>\n  <clipPath id=\"pe1ce3430c2\">\n   <rect height=\"217.44\" width=\"334.8\" x=\"43.78125\" y=\"7.2\"/>\n  </clipPath>\n </defs>\n</svg>\n",
      "text/plain": [
       "<Figure size 432x288 with 1 Axes>"
      ]
     },
     "metadata": {
      "needs_background": "light"
     },
     "output_type": "display_data"
    }
   ],
   "source": [
    "df.plot.scatter('salary', 'GPA')"
   ]
  },
  {
   "cell_type": "code",
   "execution_count": 36,
   "metadata": {},
   "outputs": [
    {
     "data": {
      "image/png": "[encoded data removed]",
      "image/svg+xml": "<?xml version=\"1.0\" encoding=\"utf-8\" standalone=\"no\"?>\n<!DOCTYPE svg PUBLIC \"-//W3C//DTD SVG 1.1//EN\"\n  \"http://www.w3.org/Graphics/SVG/1.1/DTD/svg11.dtd\">\n<svg height=\"280.15625pt\" version=\"1.1\" viewBox=\"0 0 424.38125 280.15625\" width=\"424.38125pt\" xmlns=\"http://www.w3.org/2000/svg\" xmlns:xlink=\"http://www.w3.org/1999/xlink\">\n <metadata>\n  <rdf:RDF xmlns:cc=\"http://creativecommons.org/ns#\" xmlns:dc=\"http://purl.org/dc/elements/1.1/\" xmlns:rdf=\"http://www.w3.org/1999/02/22-rdf-syntax-ns#\">\n   <cc:Work>\n    <dc:type rdf:resource=\"http://purl.org/dc/dcmitype/StillImage\"/>\n    <dc:date>2022-04-13T23:35:09.062222</dc:date>\n    <dc:format>image/svg+xml</dc:format>\n    <dc:creator>\n     <cc:Agent>\n      <dc:title>Matplotlib v3.4.3, https://matplotlib.org/</dc:title>\n     </cc:Agent>\n    </dc:creator>\n   </cc:Work>\n  </rdf:RDF>\n </metadata>\n <defs>\n  <style type=\"text/css\">*{stroke-linecap:butt;stroke-linejoin:round;}</style>\n </defs>\n <g id=\"figure_1\">\n  <g id=\"patch_1\">\n   <path d=\"M 0 280.15625 \nL 424.38125 280.15625 \nL 424.38125 0 \nL 0 0 \nz\n\" style=\"fill:none;\"/>\n  </g>\n  <g id=\"axes_1\">\n   <g id=\"patch_2\">\n    <path d=\"M 43.78125 242.6 \nL 201.527423 242.6 \nL 201.527423 7.2 \nL 43.78125 7.2 \nz\n\" style=\"fill:#ffffff;\"/>\n   </g>\n   <g id=\"PathCollection_1\">\n    <defs>\n     <path d=\"M 0 2.236068 \nC 0.593012 2.236068 1.161816 2.000462 1.581139 1.581139 \nC 2.000462 1.161816 2.236068 0.593012 2.236068 0 \nC 2.236068 -0.593012 2.000462 -1.161816 1.581139 -1.581139 \nC 1.161816 -2.000462 0.593012 -2.236068 0 -2.236068 \nC -0.593012 -2.236068 -1.161816 -2.000462 -1.581139 -1.581139 \nC -2.000462 -1.161816 -2.236068 -0.593012 -2.236068 0 \nC -2.236068 0.593012 -2.000462 1.161816 -1.581139 1.581139 \nC -1.161816 2.000462 -0.593012 2.236068 0 2.236068 \nz\n\" id=\"m1b14a36d90\" style=\"stroke:#1f77b4;\"/>\n    </defs>\n    <g clip-path=\"url(#p271aeb7358)\">\n     <use style=\"fill:#1f77b4;stroke:#1f77b4;\" x=\"68.399102\" xlink:href=\"#m1b14a36d90\" y=\"149.441284\"/>\n     <use style=\"fill:#1f77b4;stroke:#1f77b4;\" x=\"72.956944\" xlink:href=\"#m1b14a36d90\" y=\"80.725688\"/>\n     <use style=\"fill:#1f77b4;stroke:#1f77b4;\" x=\"72.344937\" xlink:href=\"#m1b14a36d90\" y=\"129.808257\"/>\n     <use style=\"fill:#1f77b4;stroke:#1f77b4;\" x=\"78.062372\" xlink:href=\"#m1b14a36d90\" y=\"139.624771\"/>\n     <use style=\"fill:#1f77b4;stroke:#1f77b4;\" x=\"74.320539\" xlink:href=\"#m1b14a36d90\" y=\"104.285321\"/>\n     <use style=\"fill:#1f77b4;stroke:#1f77b4;\" x=\"69.204374\" xlink:href=\"#m1b14a36d90\" y=\"100.358716\"/>\n     <use style=\"fill:#1f77b4;stroke:#1f77b4;\" x=\"65.741702\" xlink:href=\"#m1b14a36d90\" y=\"147.477982\"/>\n     <use style=\"fill:#1f77b4;stroke:#1f77b4;\" x=\"65.043799\" xlink:href=\"#m1b14a36d90\" y=\"155.331193\"/>\n     <use style=\"fill:#1f77b4;stroke:#1f77b4;\" x=\"68.130677\" xlink:href=\"#m1b14a36d90\" y=\"155.331193\"/>\n     <use style=\"fill:#1f77b4;stroke:#1f77b4;\" x=\"73.230737\" xlink:href=\"#m1b14a36d90\" y=\"49.312844\"/>\n     <use style=\"fill:#1f77b4;stroke:#1f77b4;\" x=\"77.793947\" xlink:href=\"#m1b14a36d90\" y=\"70.909174\"/>\n     <use style=\"fill:#1f77b4;stroke:#1f77b4;\" x=\"132.855797\" xlink:href=\"#m1b14a36d90\" y=\"96.43211\"/>\n     <use style=\"fill:#1f77b4;stroke:#1f77b4;\" x=\"74.70707\" xlink:href=\"#m1b14a36d90\" y=\"61.092661\"/>\n     <use style=\"fill:#1f77b4;stroke:#1f77b4;\" x=\"158.589622\" xlink:href=\"#m1b14a36d90\" y=\"41.459633\"/>\n     <use style=\"fill:#1f77b4;stroke:#1f77b4;\" x=\"150.536897\" xlink:href=\"#m1b14a36d90\" y=\"70.909174\"/>\n     <use style=\"fill:#1f77b4;stroke:#1f77b4;\" x=\"153.221139\" xlink:href=\"#m1b14a36d90\" y=\"66.982569\"/>\n     <use style=\"fill:#1f77b4;stroke:#1f77b4;\" x=\"68.130677\" xlink:href=\"#m1b14a36d90\" y=\"139.624771\"/>\n     <use style=\"fill:#1f77b4;stroke:#1f77b4;\" x=\"60.614801\" xlink:href=\"#m1b14a36d90\" y=\"139.624771\"/>\n     <use style=\"fill:#1f77b4;stroke:#1f77b4;\" x=\"64.909587\" xlink:href=\"#m1b14a36d90\" y=\"129.808257\"/>\n     <use style=\"fill:#1f77b4;stroke:#1f77b4;\" x=\"74.438645\" xlink:href=\"#m1b14a36d90\" y=\"119.991743\"/>\n     <use style=\"fill:#1f77b4;stroke:#1f77b4;\" x=\"92.355959\" xlink:href=\"#m1b14a36d90\" y=\"119.991743\"/>\n     <use style=\"fill:#1f77b4;stroke:#1f77b4;\" x=\"172.010831\" xlink:href=\"#m1b14a36d90\" y=\"31.643119\"/>\n     <use style=\"fill:#1f77b4;stroke:#1f77b4;\" x=\"72.15704\" xlink:href=\"#m1b14a36d90\" y=\"106.248624\"/>\n     <use style=\"fill:#1f77b4;stroke:#1f77b4;\" x=\"78.062372\" xlink:href=\"#m1b14a36d90\" y=\"118.02844\"/>\n     <use style=\"fill:#1f77b4;stroke:#1f77b4;\" x=\"194.357143\" xlink:href=\"#m1b14a36d90\" y=\"61.092661\"/>\n     <use style=\"fill:#1f77b4;stroke:#1f77b4;\" x=\"165.300226\" xlink:href=\"#m1b14a36d90\" y=\"70.909174\"/>\n     <use style=\"fill:#1f77b4;stroke:#1f77b4;\" x=\"64.104315\" xlink:href=\"#m1b14a36d90\" y=\"159.257798\"/>\n     <use style=\"fill:#1f77b4;stroke:#1f77b4;\" x=\"61.688497\" xlink:href=\"#m1b14a36d90\" y=\"139.624771\"/>\n     <use style=\"fill:#1f77b4;stroke:#1f77b4;\" x=\"97.657336\" xlink:href=\"#m1b14a36d90\" y=\"139.624771\"/>\n     <use style=\"fill:#1f77b4;stroke:#1f77b4;\" x=\"72.425464\" xlink:href=\"#m1b14a36d90\" y=\"125.881651\"/>\n     <use style=\"fill:#1f77b4;stroke:#1f77b4;\" x=\"62.49377\" xlink:href=\"#m1b14a36d90\" y=\"178.890826\"/>\n     <use style=\"fill:#1f77b4;stroke:#1f77b4;\" x=\"76.720251\" xlink:href=\"#m1b14a36d90\" y=\"119.991743\"/>\n     <use style=\"fill:#1f77b4;stroke:#1f77b4;\" x=\"70.814919\" xlink:href=\"#m1b14a36d90\" y=\"133.734862\"/>\n     <use style=\"fill:#1f77b4;stroke:#1f77b4;\" x=\"145.630103\" xlink:href=\"#m1b14a36d90\" y=\"41.459633\"/>\n     <use style=\"fill:#1f77b4;stroke:#1f77b4;\" x=\"107.865507\" xlink:href=\"#m1b14a36d90\" y=\"100.358716\"/>\n     <use style=\"fill:#1f77b4;stroke:#1f77b4;\" x=\"75.109706\" xlink:href=\"#m1b14a36d90\" y=\"119.991743\"/>\n     <use style=\"fill:#1f77b4;stroke:#1f77b4;\" x=\"158.267513\" xlink:href=\"#m1b14a36d90\" y=\"119.991743\"/>\n     <use style=\"fill:#1f77b4;stroke:#1f77b4;\" x=\"62.858827\" xlink:href=\"#m1b14a36d90\" y=\"178.890826\"/>\n     <use style=\"fill:#1f77b4;stroke:#1f77b4;\" x=\"147.852655\" xlink:href=\"#m1b14a36d90\" y=\"78.762385\"/>\n     <use style=\"fill:#1f77b4;stroke:#1f77b4;\" x=\"152.429288\" xlink:href=\"#m1b14a36d90\" y=\"76.799083\"/>\n     <use style=\"fill:#1f77b4;stroke:#1f77b4;\" x=\"107.291079\" xlink:href=\"#m1b14a36d90\" y=\"100.358716\"/>\n     <use style=\"fill:#1f77b4;stroke:#1f77b4;\" x=\"75.727081\" xlink:href=\"#m1b14a36d90\" y=\"151.404587\"/>\n     <use style=\"fill:#1f77b4;stroke:#1f77b4;\" x=\"76.451827\" xlink:href=\"#m1b14a36d90\" y=\"147.477982\"/>\n     <use style=\"fill:#1f77b4;stroke:#1f77b4;\" x=\"166.145763\" xlink:href=\"#m1b14a36d90\" y=\"31.643119\"/>\n     <use style=\"fill:#1f77b4;stroke:#1f77b4;\" x=\"66.198023\" xlink:href=\"#m1b14a36d90\" y=\"96.43211\"/>\n     <use style=\"fill:#1f77b4;stroke:#1f77b4;\" x=\"121.230346\" xlink:href=\"#m1b14a36d90\" y=\"129.808257\"/>\n     <use style=\"fill:#1f77b4;stroke:#1f77b4;\" x=\"88.799338\" xlink:href=\"#m1b14a36d90\" y=\"119.991743\"/>\n     <use style=\"fill:#1f77b4;stroke:#1f77b4;\" x=\"63.299042\" xlink:href=\"#m1b14a36d90\" y=\"208.340367\"/>\n     <use style=\"fill:#1f77b4;stroke:#1f77b4;\" x=\"56.588438\" xlink:href=\"#m1b14a36d90\" y=\"129.808257\"/>\n     <use style=\"fill:#1f77b4;stroke:#1f77b4;\" x=\"91.48358\" xlink:href=\"#m1b14a36d90\" y=\"100.358716\"/>\n     <use style=\"fill:#1f77b4;stroke:#1f77b4;\" x=\"118.325997\" xlink:href=\"#m1b14a36d90\" y=\"82.688991\"/>\n     <use style=\"fill:#1f77b4;stroke:#1f77b4;\" x=\"67.325405\" xlink:href=\"#m1b14a36d90\" y=\"119.991743\"/>\n     <use style=\"fill:#1f77b4;stroke:#1f77b4;\" x=\"53.904196\" xlink:href=\"#m1b14a36d90\" y=\"149.441284\"/>\n     <use style=\"fill:#1f77b4;stroke:#1f77b4;\" x=\"153.221139\" xlink:href=\"#m1b14a36d90\" y=\"82.688991\"/>\n     <use style=\"fill:#1f77b4;stroke:#1f77b4;\" x=\"64.641163\" xlink:href=\"#m1b14a36d90\" y=\"139.624771\"/>\n     <use style=\"fill:#1f77b4;stroke:#1f77b4;\" x=\"80.746613\" xlink:href=\"#m1b14a36d90\" y=\"94.468807\"/>\n     <use style=\"fill:#1f77b4;stroke:#1f77b4;\" x=\"72.693888\" xlink:href=\"#m1b14a36d90\" y=\"119.991743\"/>\n     <use style=\"fill:#1f77b4;stroke:#1f77b4;\" x=\"63.970103\" xlink:href=\"#m1b14a36d90\" y=\"139.624771\"/>\n     <use style=\"fill:#1f77b4;stroke:#1f77b4;\" x=\"77.391311\" xlink:href=\"#m1b14a36d90\" y=\"110.175229\"/>\n     <use style=\"fill:#1f77b4;stroke:#1f77b4;\" x=\"75.109706\" xlink:href=\"#m1b14a36d90\" y=\"139.624771\"/>\n     <use style=\"fill:#1f77b4;stroke:#1f77b4;\" x=\"78.062372\" xlink:href=\"#m1b14a36d90\" y=\"131.77156\"/>\n     <use style=\"fill:#1f77b4;stroke:#1f77b4;\" x=\"88.799338\" xlink:href=\"#m1b14a36d90\" y=\"110.175229\"/>\n     <use style=\"fill:#1f77b4;stroke:#1f77b4;\" x=\"63.674836\" xlink:href=\"#m1b14a36d90\" y=\"159.257798\"/>\n     <use style=\"fill:#1f77b4;stroke:#1f77b4;\" x=\"60.400061\" xlink:href=\"#m1b14a36d90\" y=\"119.991743\"/>\n     <use style=\"fill:#1f77b4;stroke:#1f77b4;\" x=\"90.141459\" xlink:href=\"#m1b14a36d90\" y=\"139.624771\"/>\n     <use style=\"fill:#1f77b4;stroke:#1f77b4;\" x=\"86.115097\" xlink:href=\"#m1b14a36d90\" y=\"110.175229\"/>\n     <use style=\"fill:#1f77b4;stroke:#1f77b4;\" x=\"96.852063\" xlink:href=\"#m1b14a36d90\" y=\"131.77156\"/>\n     <use style=\"fill:#1f77b4;stroke:#1f77b4;\" x=\"65.043799\" xlink:href=\"#m1b14a36d90\" y=\"139.624771\"/>\n     <use style=\"fill:#1f77b4;stroke:#1f77b4;\" x=\"64.641163\" xlink:href=\"#m1b14a36d90\" y=\"159.257798\"/>\n     <use style=\"fill:#1f77b4;stroke:#1f77b4;\" x=\"91.215156\" xlink:href=\"#m1b14a36d90\" y=\"139.624771\"/>\n     <use style=\"fill:#1f77b4;stroke:#1f77b4;\" x=\"158.589622\" xlink:href=\"#m1b14a36d90\" y=\"47.349541\"/>\n     <use style=\"fill:#1f77b4;stroke:#1f77b4;\" x=\"117.955572\" xlink:href=\"#m1b14a36d90\" y=\"68.945872\"/>\n     <use style=\"fill:#1f77b4;stroke:#1f77b4;\" x=\"93.069967\" xlink:href=\"#m1b14a36d90\" y=\"119.991743\"/>\n     <use style=\"fill:#1f77b4;stroke:#1f77b4;\" x=\"77.391311\" xlink:href=\"#m1b14a36d90\" y=\"178.890826\"/>\n     <use style=\"fill:#1f77b4;stroke:#1f77b4;\" x=\"83.162431\" xlink:href=\"#m1b14a36d90\" y=\"123.918349\"/>\n     <use style=\"fill:#1f77b4;stroke:#1f77b4;\" x=\"63.970103\" xlink:href=\"#m1b14a36d90\" y=\"139.624771\"/>\n     <use style=\"fill:#1f77b4;stroke:#1f77b4;\" x=\"75.37813\" xlink:href=\"#m1b14a36d90\" y=\"100.358716\"/>\n     <use style=\"fill:#1f77b4;stroke:#1f77b4;\" x=\"63.299042\" xlink:href=\"#m1b14a36d90\" y=\"165.147706\"/>\n     <use style=\"fill:#1f77b4;stroke:#1f77b4;\" x=\"63.299042\" xlink:href=\"#m1b14a36d90\" y=\"139.624771\"/>\n     <use style=\"fill:#1f77b4;stroke:#1f77b4;\" x=\"77.257099\" xlink:href=\"#m1b14a36d90\" y=\"178.890826\"/>\n     <use style=\"fill:#1f77b4;stroke:#1f77b4;\" x=\"61.420073\" xlink:href=\"#m1b14a36d90\" y=\"135.698165\"/>\n     <use style=\"fill:#1f77b4;stroke:#1f77b4;\" x=\"61.688497\" xlink:href=\"#m1b14a36d90\" y=\"133.734862\"/>\n     <use style=\"fill:#1f77b4;stroke:#1f77b4;\" x=\"64.641163\" xlink:href=\"#m1b14a36d90\" y=\"178.890826\"/>\n     <use style=\"fill:#1f77b4;stroke:#1f77b4;\" x=\"59.27268\" xlink:href=\"#m1b14a36d90\" y=\"118.02844\"/>\n     <use style=\"fill:#1f77b4;stroke:#1f77b4;\" x=\"163.958106\" xlink:href=\"#m1b14a36d90\" y=\"61.092661\"/>\n     <use style=\"fill:#1f77b4;stroke:#1f77b4;\" x=\"126.853833\" xlink:href=\"#m1b14a36d90\" y=\"90.542202\"/>\n     <use style=\"fill:#1f77b4;stroke:#1f77b4;\" x=\"63.833206\" xlink:href=\"#m1b14a36d90\" y=\"178.890826\"/>\n     <use style=\"fill:#1f77b4;stroke:#1f77b4;\" x=\"94.973094\" xlink:href=\"#m1b14a36d90\" y=\"80.725688\"/>\n     <use style=\"fill:#1f77b4;stroke:#1f77b4;\" x=\"77.525523\" xlink:href=\"#m1b14a36d90\" y=\"123.918349\"/>\n     <use style=\"fill:#1f77b4;stroke:#1f77b4;\" x=\"56.588438\" xlink:href=\"#m1b14a36d90\" y=\"173.000917\"/>\n     <use style=\"fill:#1f77b4;stroke:#1f77b4;\" x=\"88.799338\" xlink:href=\"#m1b14a36d90\" y=\"80.725688\"/>\n     <use style=\"fill:#1f77b4;stroke:#1f77b4;\" x=\"53.904196\" xlink:href=\"#m1b14a36d90\" y=\"119.991743\"/>\n     <use style=\"fill:#1f77b4;stroke:#1f77b4;\" x=\"158.589622\" xlink:href=\"#m1b14a36d90\" y=\"41.459633\"/>\n     <use style=\"fill:#1f77b4;stroke:#1f77b4;\" x=\"50.951531\" xlink:href=\"#m1b14a36d90\" y=\"104.285321\"/>\n     <use style=\"fill:#1f77b4;stroke:#1f77b4;\" x=\"59.27268\" xlink:href=\"#m1b14a36d90\" y=\"119.991743\"/>\n     <use style=\"fill:#1f77b4;stroke:#1f77b4;\" x=\"65.003536\" xlink:href=\"#m1b14a36d90\" y=\"133.734862\"/>\n     <use style=\"fill:#1f77b4;stroke:#1f77b4;\" x=\"85.0414\" xlink:href=\"#m1b14a36d90\" y=\"135.698165\"/>\n     <use style=\"fill:#1f77b4;stroke:#1f77b4;\" x=\"90.946732\" xlink:href=\"#m1b14a36d90\" y=\"102.322018\"/>\n     <use style=\"fill:#1f77b4;stroke:#1f77b4;\" x=\"80.746613\" xlink:href=\"#m1b14a36d90\" y=\"139.624771\"/>\n     <use style=\"fill:#1f77b4;stroke:#1f77b4;\" x=\"78.062372\" xlink:href=\"#m1b14a36d90\" y=\"119.991743\"/>\n     <use style=\"fill:#1f77b4;stroke:#1f77b4;\" x=\"63.835891\" xlink:href=\"#m1b14a36d90\" y=\"178.890826\"/>\n     <use style=\"fill:#1f77b4;stroke:#1f77b4;\" x=\"94.167822\" xlink:href=\"#m1b14a36d90\" y=\"129.808257\"/>\n     <use style=\"fill:#1f77b4;stroke:#1f77b4;\" x=\"88.799338\" xlink:href=\"#m1b14a36d90\" y=\"145.514679\"/>\n     <use style=\"fill:#1f77b4;stroke:#1f77b4;\" x=\"88.128278\" xlink:href=\"#m1b14a36d90\" y=\"116.065138\"/>\n     <use style=\"fill:#1f77b4;stroke:#1f77b4;\" x=\"77.257099\" xlink:href=\"#m1b14a36d90\" y=\"147.477982\"/>\n     <use style=\"fill:#1f77b4;stroke:#1f77b4;\" x=\"64.641163\" xlink:href=\"#m1b14a36d90\" y=\"139.624771\"/>\n     <use style=\"fill:#1f77b4;stroke:#1f77b4;\" x=\"63.701679\" xlink:href=\"#m1b14a36d90\" y=\"131.77156\"/>\n     <use style=\"fill:#1f77b4;stroke:#1f77b4;\" x=\"63.299042\" xlink:href=\"#m1b14a36d90\" y=\"178.890826\"/>\n     <use style=\"fill:#1f77b4;stroke:#1f77b4;\" x=\"123.69448\" xlink:href=\"#m1b14a36d90\" y=\"80.725688\"/>\n     <use style=\"fill:#1f77b4;stroke:#1f77b4;\" x=\"64.775375\" xlink:href=\"#m1b14a36d90\" y=\"119.991743\"/>\n     <use style=\"fill:#1f77b4;stroke:#1f77b4;\" x=\"88.799338\" xlink:href=\"#m1b14a36d90\" y=\"143.551376\"/>\n     <use style=\"fill:#1f77b4;stroke:#1f77b4;\" x=\"77.793947\" xlink:href=\"#m1b14a36d90\" y=\"149.441284\"/>\n     <use style=\"fill:#1f77b4;stroke:#1f77b4;\" x=\"153.221139\" xlink:href=\"#m1b14a36d90\" y=\"25.753211\"/>\n     <use style=\"fill:#1f77b4;stroke:#1f77b4;\" x=\"61.956922\" xlink:href=\"#m1b14a36d90\" y=\"119.991743\"/>\n     <use style=\"fill:#1f77b4;stroke:#1f77b4;\" x=\"94.167822\" xlink:href=\"#m1b14a36d90\" y=\"139.624771\"/>\n     <use style=\"fill:#1f77b4;stroke:#1f77b4;\" x=\"94.570458\" xlink:href=\"#m1b14a36d90\" y=\"119.991743\"/>\n     <use style=\"fill:#1f77b4;stroke:#1f77b4;\" x=\"143.826293\" xlink:href=\"#m1b14a36d90\" y=\"80.725688\"/>\n     <use style=\"fill:#1f77b4;stroke:#1f77b4;\" x=\"56.588438\" xlink:href=\"#m1b14a36d90\" y=\"231.9\"/>\n     <use style=\"fill:#1f77b4;stroke:#1f77b4;\" x=\"79.404492\" xlink:href=\"#m1b14a36d90\" y=\"159.257798\"/>\n     <use style=\"fill:#1f77b4;stroke:#1f77b4;\" x=\"63.567467\" xlink:href=\"#m1b14a36d90\" y=\"159.257798\"/>\n     <use style=\"fill:#1f77b4;stroke:#1f77b4;\" x=\"51.219955\" xlink:href=\"#m1b14a36d90\" y=\"218.156881\"/>\n     <use style=\"fill:#1f77b4;stroke:#1f77b4;\" x=\"80.746613\" xlink:href=\"#m1b14a36d90\" y=\"178.890826\"/>\n     <use style=\"fill:#1f77b4;stroke:#1f77b4;\" x=\"115.641755\" xlink:href=\"#m1b14a36d90\" y=\"70.909174\"/>\n     <use style=\"fill:#1f77b4;stroke:#1f77b4;\" x=\"78.062372\" xlink:href=\"#m1b14a36d90\" y=\"119.991743\"/>\n     <use style=\"fill:#1f77b4;stroke:#1f77b4;\" x=\"137.115689\" xlink:href=\"#m1b14a36d90\" y=\"57.166055\"/>\n     <use style=\"fill:#1f77b4;stroke:#1f77b4;\" x=\"63.752679\" xlink:href=\"#m1b14a36d90\" y=\"139.624771\"/>\n     <use style=\"fill:#1f77b4;stroke:#1f77b4;\" x=\"83.430855\" xlink:href=\"#m1b14a36d90\" y=\"98.395413\"/>\n     <use style=\"fill:#1f77b4;stroke:#1f77b4;\" x=\"155.905381\" xlink:href=\"#m1b14a36d90\" y=\"61.092661\"/>\n     <use style=\"fill:#1f77b4;stroke:#1f77b4;\" x=\"63.835891\" xlink:href=\"#m1b14a36d90\" y=\"118.02844\"/>\n     <use style=\"fill:#1f77b4;stroke:#1f77b4;\" x=\"78.062372\" xlink:href=\"#m1b14a36d90\" y=\"125.881651\"/>\n     <use style=\"fill:#1f77b4;stroke:#1f77b4;\" x=\"115.641755\" xlink:href=\"#m1b14a36d90\" y=\"55.202752\"/>\n     <use style=\"fill:#1f77b4;stroke:#1f77b4;\" x=\"122.325517\" xlink:href=\"#m1b14a36d90\" y=\"86.615596\"/>\n     <use style=\"fill:#1f77b4;stroke:#1f77b4;\" x=\"95.509943\" xlink:href=\"#m1b14a36d90\" y=\"139.624771\"/>\n     <use style=\"fill:#1f77b4;stroke:#1f77b4;\" x=\"78.062372\" xlink:href=\"#m1b14a36d90\" y=\"110.175229\"/>\n     <use style=\"fill:#1f77b4;stroke:#1f77b4;\" x=\"59.004256\" xlink:href=\"#m1b14a36d90\" y=\"163.184404\"/>\n     <use style=\"fill:#1f77b4;stroke:#1f77b4;\" x=\"63.647994\" xlink:href=\"#m1b14a36d90\" y=\"178.890826\"/>\n     <use style=\"fill:#1f77b4;stroke:#1f77b4;\" x=\"63.970103\" xlink:href=\"#m1b14a36d90\" y=\"159.257798\"/>\n     <use style=\"fill:#1f77b4;stroke:#1f77b4;\" x=\"80.746613\" xlink:href=\"#m1b14a36d90\" y=\"139.624771\"/>\n     <use style=\"fill:#1f77b4;stroke:#1f77b4;\" x=\"116.503397\" xlink:href=\"#m1b14a36d90\" y=\"112.138532\"/>\n     <use style=\"fill:#1f77b4;stroke:#1f77b4;\" x=\"118.057573\" xlink:href=\"#m1b14a36d90\" y=\"100.358716\"/>\n     <use style=\"fill:#1f77b4;stroke:#1f77b4;\" x=\"68.667526\" xlink:href=\"#m1b14a36d90\" y=\"100.358716\"/>\n     <use style=\"fill:#1f77b4;stroke:#1f77b4;\" x=\"169.326589\" xlink:href=\"#m1b14a36d90\" y=\"17.9\"/>\n    </g>\n   </g>\n   <g id=\"matplotlib.axis_1\">\n    <g id=\"xtick_1\">\n     <g id=\"line2d_1\">\n      <defs>\n       <path d=\"M 0 0 \nL 0 3.5 \n\" id=\"ma35c061825\" style=\"stroke:#000000;stroke-width:0.8;\"/>\n      </defs>\n      <g>\n       <use style=\"stroke:#000000;stroke-width:0.8;\" x=\"91.48358\" xlink:href=\"#ma35c061825\" y=\"242.6\"/>\n      </g>\n     </g>\n     <g id=\"text_1\">\n      <!-- 40000 -->\n      <g transform=\"translate(75.57733 257.198437)scale(0.1 -0.1)\">\n       <defs>\n        <path d=\"M 2419 4116 \nL 825 1625 \nL 2419 1625 \nL 2419 4116 \nz\nM 2253 4666 \nL 3047 4666 \nL 3047 1625 \nL 3713 1625 \nL 3713 1100 \nL 3047 1100 \nL 3047 0 \nL 2419 0 \nL 2419 1100 \nL 313 1100 \nL 313 1709 \nL 2253 4666 \nz\n\" id=\"DejaVuSans-34\" transform=\"scale(0.015625)\"/>\n        <path d=\"M 2034 4250 \nQ 1547 4250 1301 3770 \nQ 1056 3291 1056 2328 \nQ 1056 1369 1301 889 \nQ 1547 409 2034 409 \nQ 2525 409 2770 889 \nQ 3016 1369 3016 2328 \nQ 3016 3291 2770 3770 \nQ 2525 4250 2034 4250 \nz\nM 2034 4750 \nQ 2819 4750 3233 4129 \nQ 3647 3509 3647 2328 \nQ 3647 1150 3233 529 \nQ 2819 -91 2034 -91 \nQ 1250 -91 836 529 \nQ 422 1150 422 2328 \nQ 422 3509 836 4129 \nQ 1250 4750 2034 4750 \nz\n\" id=\"DejaVuSans-30\" transform=\"scale(0.015625)\"/>\n       </defs>\n       <use xlink:href=\"#DejaVuSans-34\"/>\n       <use x=\"63.623047\" xlink:href=\"#DejaVuSans-30\"/>\n       <use x=\"127.246094\" xlink:href=\"#DejaVuSans-30\"/>\n       <use x=\"190.869141\" xlink:href=\"#DejaVuSans-30\"/>\n       <use x=\"254.492188\" xlink:href=\"#DejaVuSans-30\"/>\n      </g>\n     </g>\n    </g>\n    <g id=\"xtick_2\">\n     <g id=\"line2d_2\">\n      <g>\n       <use style=\"stroke:#000000;stroke-width:0.8;\" x=\"145.168414\" xlink:href=\"#ma35c061825\" y=\"242.6\"/>\n      </g>\n     </g>\n     <g id=\"text_2\">\n      <!-- 60000 -->\n      <g transform=\"translate(129.262164 257.198437)scale(0.1 -0.1)\">\n       <defs>\n        <path d=\"M 2113 2584 \nQ 1688 2584 1439 2293 \nQ 1191 2003 1191 1497 \nQ 1191 994 1439 701 \nQ 1688 409 2113 409 \nQ 2538 409 2786 701 \nQ 3034 994 3034 1497 \nQ 3034 2003 2786 2293 \nQ 2538 2584 2113 2584 \nz\nM 3366 4563 \nL 3366 3988 \nQ 3128 4100 2886 4159 \nQ 2644 4219 2406 4219 \nQ 1781 4219 1451 3797 \nQ 1122 3375 1075 2522 \nQ 1259 2794 1537 2939 \nQ 1816 3084 2150 3084 \nQ 2853 3084 3261 2657 \nQ 3669 2231 3669 1497 \nQ 3669 778 3244 343 \nQ 2819 -91 2113 -91 \nQ 1303 -91 875 529 \nQ 447 1150 447 2328 \nQ 447 3434 972 4092 \nQ 1497 4750 2381 4750 \nQ 2619 4750 2861 4703 \nQ 3103 4656 3366 4563 \nz\n\" id=\"DejaVuSans-36\" transform=\"scale(0.015625)\"/>\n       </defs>\n       <use xlink:href=\"#DejaVuSans-36\"/>\n       <use x=\"63.623047\" xlink:href=\"#DejaVuSans-30\"/>\n       <use x=\"127.246094\" xlink:href=\"#DejaVuSans-30\"/>\n       <use x=\"190.869141\" xlink:href=\"#DejaVuSans-30\"/>\n       <use x=\"254.492188\" xlink:href=\"#DejaVuSans-30\"/>\n      </g>\n     </g>\n    </g>\n    <g id=\"xtick_3\">\n     <g id=\"line2d_3\">\n      <g>\n       <use style=\"stroke:#000000;stroke-width:0.8;\" x=\"198.853248\" xlink:href=\"#ma35c061825\" y=\"242.6\"/>\n      </g>\n     </g>\n     <g id=\"text_3\">\n      <!-- 80000 -->\n      <g transform=\"translate(182.946998 257.198437)scale(0.1 -0.1)\">\n       <defs>\n        <path d=\"M 2034 2216 \nQ 1584 2216 1326 1975 \nQ 1069 1734 1069 1313 \nQ 1069 891 1326 650 \nQ 1584 409 2034 409 \nQ 2484 409 2743 651 \nQ 3003 894 3003 1313 \nQ 3003 1734 2745 1975 \nQ 2488 2216 2034 2216 \nz\nM 1403 2484 \nQ 997 2584 770 2862 \nQ 544 3141 544 3541 \nQ 544 4100 942 4425 \nQ 1341 4750 2034 4750 \nQ 2731 4750 3128 4425 \nQ 3525 4100 3525 3541 \nQ 3525 3141 3298 2862 \nQ 3072 2584 2669 2484 \nQ 3125 2378 3379 2068 \nQ 3634 1759 3634 1313 \nQ 3634 634 3220 271 \nQ 2806 -91 2034 -91 \nQ 1263 -91 848 271 \nQ 434 634 434 1313 \nQ 434 1759 690 2068 \nQ 947 2378 1403 2484 \nz\nM 1172 3481 \nQ 1172 3119 1398 2916 \nQ 1625 2713 2034 2713 \nQ 2441 2713 2670 2916 \nQ 2900 3119 2900 3481 \nQ 2900 3844 2670 4047 \nQ 2441 4250 2034 4250 \nQ 1625 4250 1398 4047 \nQ 1172 3844 1172 3481 \nz\n\" id=\"DejaVuSans-38\" transform=\"scale(0.015625)\"/>\n       </defs>\n       <use xlink:href=\"#DejaVuSans-38\"/>\n       <use x=\"63.623047\" xlink:href=\"#DejaVuSans-30\"/>\n       <use x=\"127.246094\" xlink:href=\"#DejaVuSans-30\"/>\n       <use x=\"190.869141\" xlink:href=\"#DejaVuSans-30\"/>\n       <use x=\"254.492188\" xlink:href=\"#DejaVuSans-30\"/>\n      </g>\n     </g>\n    </g>\n    <g id=\"text_4\">\n     <!-- salary -->\n     <g transform=\"translate(107.517618 270.876562)scale(0.1 -0.1)\">\n      <defs>\n       <path d=\"M 2834 3397 \nL 2834 2853 \nQ 2591 2978 2328 3040 \nQ 2066 3103 1784 3103 \nQ 1356 3103 1142 2972 \nQ 928 2841 928 2578 \nQ 928 2378 1081 2264 \nQ 1234 2150 1697 2047 \nL 1894 2003 \nQ 2506 1872 2764 1633 \nQ 3022 1394 3022 966 \nQ 3022 478 2636 193 \nQ 2250 -91 1575 -91 \nQ 1294 -91 989 -36 \nQ 684 19 347 128 \nL 347 722 \nQ 666 556 975 473 \nQ 1284 391 1588 391 \nQ 1994 391 2212 530 \nQ 2431 669 2431 922 \nQ 2431 1156 2273 1281 \nQ 2116 1406 1581 1522 \nL 1381 1569 \nQ 847 1681 609 1914 \nQ 372 2147 372 2553 \nQ 372 3047 722 3315 \nQ 1072 3584 1716 3584 \nQ 2034 3584 2315 3537 \nQ 2597 3491 2834 3397 \nz\n\" id=\"DejaVuSans-73\" transform=\"scale(0.015625)\"/>\n       <path d=\"M 2194 1759 \nQ 1497 1759 1228 1600 \nQ 959 1441 959 1056 \nQ 959 750 1161 570 \nQ 1363 391 1709 391 \nQ 2188 391 2477 730 \nQ 2766 1069 2766 1631 \nL 2766 1759 \nL 2194 1759 \nz\nM 3341 1997 \nL 3341 0 \nL 2766 0 \nL 2766 531 \nQ 2569 213 2275 61 \nQ 1981 -91 1556 -91 \nQ 1019 -91 701 211 \nQ 384 513 384 1019 \nQ 384 1609 779 1909 \nQ 1175 2209 1959 2209 \nL 2766 2209 \nL 2766 2266 \nQ 2766 2663 2505 2880 \nQ 2244 3097 1772 3097 \nQ 1472 3097 1187 3025 \nQ 903 2953 641 2809 \nL 641 3341 \nQ 956 3463 1253 3523 \nQ 1550 3584 1831 3584 \nQ 2591 3584 2966 3190 \nQ 3341 2797 3341 1997 \nz\n\" id=\"DejaVuSans-61\" transform=\"scale(0.015625)\"/>\n       <path d=\"M 603 4863 \nL 1178 4863 \nL 1178 0 \nL 603 0 \nL 603 4863 \nz\n\" id=\"DejaVuSans-6c\" transform=\"scale(0.015625)\"/>\n       <path d=\"M 2631 2963 \nQ 2534 3019 2420 3045 \nQ 2306 3072 2169 3072 \nQ 1681 3072 1420 2755 \nQ 1159 2438 1159 1844 \nL 1159 0 \nL 581 0 \nL 581 3500 \nL 1159 3500 \nL 1159 2956 \nQ 1341 3275 1631 3429 \nQ 1922 3584 2338 3584 \nQ 2397 3584 2469 3576 \nQ 2541 3569 2628 3553 \nL 2631 2963 \nz\n\" id=\"DejaVuSans-72\" transform=\"scale(0.015625)\"/>\n       <path d=\"M 2059 -325 \nQ 1816 -950 1584 -1140 \nQ 1353 -1331 966 -1331 \nL 506 -1331 \nL 506 -850 \nL 844 -850 \nQ 1081 -850 1212 -737 \nQ 1344 -625 1503 -206 \nL 1606 56 \nL 191 3500 \nL 800 3500 \nL 1894 763 \nL 2988 3500 \nL 3597 3500 \nL 2059 -325 \nz\n\" id=\"DejaVuSans-79\" transform=\"scale(0.015625)\"/>\n      </defs>\n      <use xlink:href=\"#DejaVuSans-73\"/>\n      <use x=\"52.099609\" xlink:href=\"#DejaVuSans-61\"/>\n      <use x=\"113.378906\" xlink:href=\"#DejaVuSans-6c\"/>\n      <use x=\"141.162109\" xlink:href=\"#DejaVuSans-61\"/>\n      <use x=\"202.441406\" xlink:href=\"#DejaVuSans-72\"/>\n      <use x=\"243.554688\" xlink:href=\"#DejaVuSans-79\"/>\n     </g>\n    </g>\n   </g>\n   <g id=\"matplotlib.axis_2\">\n    <g id=\"ytick_1\">\n     <g id=\"line2d_4\">\n      <defs>\n       <path d=\"M 0 0 \nL -3.5 0 \n\" id=\"m4aa727f15b\" style=\"stroke:#000000;stroke-width:0.8;\"/>\n      </defs>\n      <g>\n       <use style=\"stroke:#000000;stroke-width:0.8;\" x=\"43.78125\" xlink:href=\"#m4aa727f15b\" y=\"218.156881\"/>\n      </g>\n     </g>\n     <g id=\"text_5\">\n      <!-- 2.8 -->\n      <g transform=\"translate(20.878125 221.956099)scale(0.1 -0.1)\">\n       <defs>\n        <path d=\"M 1228 531 \nL 3431 531 \nL 3431 0 \nL 469 0 \nL 469 531 \nQ 828 903 1448 1529 \nQ 2069 2156 2228 2338 \nQ 2531 2678 2651 2914 \nQ 2772 3150 2772 3378 \nQ 2772 3750 2511 3984 \nQ 2250 4219 1831 4219 \nQ 1534 4219 1204 4116 \nQ 875 4013 500 3803 \nL 500 4441 \nQ 881 4594 1212 4672 \nQ 1544 4750 1819 4750 \nQ 2544 4750 2975 4387 \nQ 3406 4025 3406 3419 \nQ 3406 3131 3298 2873 \nQ 3191 2616 2906 2266 \nQ 2828 2175 2409 1742 \nQ 1991 1309 1228 531 \nz\n\" id=\"DejaVuSans-32\" transform=\"scale(0.015625)\"/>\n        <path d=\"M 684 794 \nL 1344 794 \nL 1344 0 \nL 684 0 \nL 684 794 \nz\n\" id=\"DejaVuSans-2e\" transform=\"scale(0.015625)\"/>\n       </defs>\n       <use xlink:href=\"#DejaVuSans-32\"/>\n       <use x=\"63.623047\" xlink:href=\"#DejaVuSans-2e\"/>\n       <use x=\"95.410156\" xlink:href=\"#DejaVuSans-38\"/>\n      </g>\n     </g>\n    </g>\n    <g id=\"ytick_2\">\n     <g id=\"line2d_5\">\n      <g>\n       <use style=\"stroke:#000000;stroke-width:0.8;\" x=\"43.78125\" xlink:href=\"#m4aa727f15b\" y=\"178.890826\"/>\n      </g>\n     </g>\n     <g id=\"text_6\">\n      <!-- 3.0 -->\n      <g transform=\"translate(20.878125 182.690044)scale(0.1 -0.1)\">\n       <defs>\n        <path d=\"M 2597 2516 \nQ 3050 2419 3304 2112 \nQ 3559 1806 3559 1356 \nQ 3559 666 3084 287 \nQ 2609 -91 1734 -91 \nQ 1441 -91 1130 -33 \nQ 819 25 488 141 \nL 488 750 \nQ 750 597 1062 519 \nQ 1375 441 1716 441 \nQ 2309 441 2620 675 \nQ 2931 909 2931 1356 \nQ 2931 1769 2642 2001 \nQ 2353 2234 1838 2234 \nL 1294 2234 \nL 1294 2753 \nL 1863 2753 \nQ 2328 2753 2575 2939 \nQ 2822 3125 2822 3475 \nQ 2822 3834 2567 4026 \nQ 2313 4219 1838 4219 \nQ 1578 4219 1281 4162 \nQ 984 4106 628 3988 \nL 628 4550 \nQ 988 4650 1302 4700 \nQ 1616 4750 1894 4750 \nQ 2613 4750 3031 4423 \nQ 3450 4097 3450 3541 \nQ 3450 3153 3228 2886 \nQ 3006 2619 2597 2516 \nz\n\" id=\"DejaVuSans-33\" transform=\"scale(0.015625)\"/>\n       </defs>\n       <use xlink:href=\"#DejaVuSans-33\"/>\n       <use x=\"63.623047\" xlink:href=\"#DejaVuSans-2e\"/>\n       <use x=\"95.410156\" xlink:href=\"#DejaVuSans-30\"/>\n      </g>\n     </g>\n    </g>\n    <g id=\"ytick_3\">\n     <g id=\"line2d_6\">\n      <g>\n       <use style=\"stroke:#000000;stroke-width:0.8;\" x=\"43.78125\" xlink:href=\"#m4aa727f15b\" y=\"139.624771\"/>\n      </g>\n     </g>\n     <g id=\"text_7\">\n      <!-- 3.2 -->\n      <g transform=\"translate(20.878125 143.423989)scale(0.1 -0.1)\">\n       <use xlink:href=\"#DejaVuSans-33\"/>\n       <use x=\"63.623047\" xlink:href=\"#DejaVuSans-2e\"/>\n       <use x=\"95.410156\" xlink:href=\"#DejaVuSans-32\"/>\n      </g>\n     </g>\n    </g>\n    <g id=\"ytick_4\">\n     <g id=\"line2d_7\">\n      <g>\n       <use style=\"stroke:#000000;stroke-width:0.8;\" x=\"43.78125\" xlink:href=\"#m4aa727f15b\" y=\"100.358716\"/>\n      </g>\n     </g>\n     <g id=\"text_8\">\n      <!-- 3.4 -->\n      <g transform=\"translate(20.878125 104.157934)scale(0.1 -0.1)\">\n       <use xlink:href=\"#DejaVuSans-33\"/>\n       <use x=\"63.623047\" xlink:href=\"#DejaVuSans-2e\"/>\n       <use x=\"95.410156\" xlink:href=\"#DejaVuSans-34\"/>\n      </g>\n     </g>\n    </g>\n    <g id=\"ytick_5\">\n     <g id=\"line2d_8\">\n      <g>\n       <use style=\"stroke:#000000;stroke-width:0.8;\" x=\"43.78125\" xlink:href=\"#m4aa727f15b\" y=\"61.092661\"/>\n      </g>\n     </g>\n     <g id=\"text_9\">\n      <!-- 3.6 -->\n      <g transform=\"translate(20.878125 64.891879)scale(0.1 -0.1)\">\n       <use xlink:href=\"#DejaVuSans-33\"/>\n       <use x=\"63.623047\" xlink:href=\"#DejaVuSans-2e\"/>\n       <use x=\"95.410156\" xlink:href=\"#DejaVuSans-36\"/>\n      </g>\n     </g>\n    </g>\n    <g id=\"ytick_6\">\n     <g id=\"line2d_9\">\n      <g>\n       <use style=\"stroke:#000000;stroke-width:0.8;\" x=\"43.78125\" xlink:href=\"#m4aa727f15b\" y=\"21.826606\"/>\n      </g>\n     </g>\n     <g id=\"text_10\">\n      <!-- 3.8 -->\n      <g transform=\"translate(20.878125 25.625824)scale(0.1 -0.1)\">\n       <use xlink:href=\"#DejaVuSans-33\"/>\n       <use x=\"63.623047\" xlink:href=\"#DejaVuSans-2e\"/>\n       <use x=\"95.410156\" xlink:href=\"#DejaVuSans-38\"/>\n      </g>\n     </g>\n    </g>\n    <g id=\"text_11\">\n     <!-- GPA -->\n     <g transform=\"translate(14.798438 134.890625)rotate(-90)scale(0.1 -0.1)\">\n      <defs>\n       <path d=\"M 3809 666 \nL 3809 1919 \nL 2778 1919 \nL 2778 2438 \nL 4434 2438 \nL 4434 434 \nQ 4069 175 3628 42 \nQ 3188 -91 2688 -91 \nQ 1594 -91 976 548 \nQ 359 1188 359 2328 \nQ 359 3472 976 4111 \nQ 1594 4750 2688 4750 \nQ 3144 4750 3555 4637 \nQ 3966 4525 4313 4306 \nL 4313 3634 \nQ 3963 3931 3569 4081 \nQ 3175 4231 2741 4231 \nQ 1884 4231 1454 3753 \nQ 1025 3275 1025 2328 \nQ 1025 1384 1454 906 \nQ 1884 428 2741 428 \nQ 3075 428 3337 486 \nQ 3600 544 3809 666 \nz\n\" id=\"DejaVuSans-47\" transform=\"scale(0.015625)\"/>\n       <path d=\"M 1259 4147 \nL 1259 2394 \nL 2053 2394 \nQ 2494 2394 2734 2622 \nQ 2975 2850 2975 3272 \nQ 2975 3691 2734 3919 \nQ 2494 4147 2053 4147 \nL 1259 4147 \nz\nM 628 4666 \nL 2053 4666 \nQ 2838 4666 3239 4311 \nQ 3641 3956 3641 3272 \nQ 3641 2581 3239 2228 \nQ 2838 1875 2053 1875 \nL 1259 1875 \nL 1259 0 \nL 628 0 \nL 628 4666 \nz\n\" id=\"DejaVuSans-50\" transform=\"scale(0.015625)\"/>\n       <path d=\"M 2188 4044 \nL 1331 1722 \nL 3047 1722 \nL 2188 4044 \nz\nM 1831 4666 \nL 2547 4666 \nL 4325 0 \nL 3669 0 \nL 3244 1197 \nL 1141 1197 \nL 716 0 \nL 50 0 \nL 1831 4666 \nz\n\" id=\"DejaVuSans-41\" transform=\"scale(0.015625)\"/>\n      </defs>\n      <use xlink:href=\"#DejaVuSans-47\"/>\n      <use x=\"77.490234\" xlink:href=\"#DejaVuSans-50\"/>\n      <use x=\"131.417969\" xlink:href=\"#DejaVuSans-41\"/>\n     </g>\n    </g>\n   </g>\n   <g id=\"patch_3\">\n    <path d=\"M 43.78125 242.6 \nL 43.78125 7.2 \n\" style=\"fill:none;stroke:#000000;stroke-linecap:square;stroke-linejoin:miter;stroke-width:0.8;\"/>\n   </g>\n   <g id=\"patch_4\">\n    <path d=\"M 201.527423 242.6 \nL 201.527423 7.2 \n\" style=\"fill:none;stroke:#000000;stroke-linecap:square;stroke-linejoin:miter;stroke-width:0.8;\"/>\n   </g>\n   <g id=\"patch_5\">\n    <path d=\"M 43.78125 242.6 \nL 201.527423 242.6 \n\" style=\"fill:none;stroke:#000000;stroke-linecap:square;stroke-linejoin:miter;stroke-width:0.8;\"/>\n   </g>\n   <g id=\"patch_6\">\n    <path d=\"M 43.78125 7.2 \nL 201.527423 7.2 \n\" style=\"fill:none;stroke:#000000;stroke-linecap:square;stroke-linejoin:miter;stroke-width:0.8;\"/>\n   </g>\n  </g>\n  <g id=\"axes_2\">\n   <g id=\"patch_7\">\n    <path d=\"M 259.435077 242.6 \nL 417.18125 242.6 \nL 417.18125 7.2 \nL 259.435077 7.2 \nz\n\" style=\"fill:#ffffff;\"/>\n   </g>\n   <g id=\"patch_8\">\n    <path clip-path=\"url(#p7fa42c54c9)\" d=\"M 266.605357 242.6 \nL 280.945919 242.6 \nL 280.945919 230.800501 \nL 266.605357 230.800501 \nz\n\" style=\"fill:#1f77b4;\"/>\n   </g>\n   <g id=\"patch_9\">\n    <path clip-path=\"url(#p7fa42c54c9)\" d=\"M 280.945919 242.6 \nL 295.28648 242.6 \nL 295.28648 236.700251 \nL 280.945919 236.700251 \nz\n\" style=\"fill:#1f77b4;\"/>\n   </g>\n   <g id=\"patch_10\">\n    <path clip-path=\"url(#p7fa42c54c9)\" d=\"M 295.28648 242.6 \nL 309.627041 242.6 \nL 309.627041 177.702757 \nL 295.28648 177.702757 \nz\n\" style=\"fill:#1f77b4;\"/>\n   </g>\n   <g id=\"patch_11\">\n    <path clip-path=\"url(#p7fa42c54c9)\" d=\"M 309.627041 242.6 \nL 323.967602 242.6 \nL 323.967602 136.404511 \nL 309.627041 136.404511 \nz\n\" style=\"fill:#1f77b4;\"/>\n   </g>\n   <g id=\"patch_12\">\n    <path clip-path=\"url(#p7fa42c54c9)\" d=\"M 323.967602 242.6 \nL 338.308163 242.6 \nL 338.308163 18.409524 \nL 323.967602 18.409524 \nz\n\" style=\"fill:#1f77b4;\"/>\n   </g>\n   <g id=\"patch_13\">\n    <path clip-path=\"url(#p7fa42c54c9)\" d=\"M 338.308163 242.6 \nL 352.648725 242.6 \nL 352.648725 53.80802 \nL 338.308163 53.80802 \nz\n\" style=\"fill:#1f77b4;\"/>\n   </g>\n   <g id=\"patch_14\">\n    <path clip-path=\"url(#p7fa42c54c9)\" d=\"M 352.648725 242.6 \nL 366.989286 242.6 \nL 366.989286 136.404511 \nL 352.648725 136.404511 \nz\n\" style=\"fill:#1f77b4;\"/>\n   </g>\n   <g id=\"patch_15\">\n    <path clip-path=\"url(#p7fa42c54c9)\" d=\"M 366.989286 242.6 \nL 381.329847 242.6 \nL 381.329847 136.404511 \nL 366.989286 136.404511 \nz\n\" style=\"fill:#1f77b4;\"/>\n   </g>\n   <g id=\"patch_16\">\n    <path clip-path=\"url(#p7fa42c54c9)\" d=\"M 381.329847 242.6 \nL 395.670408 242.6 \nL 395.670408 201.301754 \nL 381.329847 201.301754 \nz\n\" style=\"fill:#1f77b4;\"/>\n   </g>\n   <g id=\"patch_17\">\n    <path clip-path=\"url(#p7fa42c54c9)\" d=\"M 395.670408 242.6 \nL 410.010969 242.6 \nL 410.010969 219.001003 \nL 395.670408 219.001003 \nz\n\" style=\"fill:#1f77b4;\"/>\n   </g>\n   <g id=\"matplotlib.axis_3\">\n    <g id=\"xtick_4\">\n     <g id=\"line2d_10\">\n      <g>\n       <use style=\"stroke:#000000;stroke-width:0.8;\" x=\"269.236653\" xlink:href=\"#ma35c061825\" y=\"242.6\"/>\n      </g>\n     </g>\n     <g id=\"text_12\">\n      <!-- 2.75 -->\n      <g transform=\"translate(258.10384 257.198437)scale(0.1 -0.1)\">\n       <defs>\n        <path d=\"M 525 4666 \nL 3525 4666 \nL 3525 4397 \nL 1831 0 \nL 1172 0 \nL 2766 4134 \nL 525 4134 \nL 525 4666 \nz\n\" id=\"DejaVuSans-37\" transform=\"scale(0.015625)\"/>\n        <path d=\"M 691 4666 \nL 3169 4666 \nL 3169 4134 \nL 1269 4134 \nL 1269 2991 \nQ 1406 3038 1543 3061 \nQ 1681 3084 1819 3084 \nQ 2600 3084 3056 2656 \nQ 3513 2228 3513 1497 \nQ 3513 744 3044 326 \nQ 2575 -91 1722 -91 \nQ 1428 -91 1123 -41 \nQ 819 9 494 109 \nL 494 744 \nQ 775 591 1075 516 \nQ 1375 441 1709 441 \nQ 2250 441 2565 725 \nQ 2881 1009 2881 1497 \nQ 2881 1984 2565 2268 \nQ 2250 2553 1709 2553 \nQ 1456 2553 1204 2497 \nQ 953 2441 691 2322 \nL 691 4666 \nz\n\" id=\"DejaVuSans-35\" transform=\"scale(0.015625)\"/>\n       </defs>\n       <use xlink:href=\"#DejaVuSans-32\"/>\n       <use x=\"63.623047\" xlink:href=\"#DejaVuSans-2e\"/>\n       <use x=\"95.410156\" xlink:href=\"#DejaVuSans-37\"/>\n       <use x=\"159.033203\" xlink:href=\"#DejaVuSans-35\"/>\n      </g>\n     </g>\n    </g>\n    <g id=\"xtick_5\">\n     <g id=\"line2d_11\">\n      <g>\n       <use style=\"stroke:#000000;stroke-width:0.8;\" x=\"302.127848\" xlink:href=\"#ma35c061825\" y=\"242.6\"/>\n      </g>\n     </g>\n     <g id=\"text_13\">\n      <!-- 3.00 -->\n      <g transform=\"translate(290.995036 257.198437)scale(0.1 -0.1)\">\n       <use xlink:href=\"#DejaVuSans-33\"/>\n       <use x=\"63.623047\" xlink:href=\"#DejaVuSans-2e\"/>\n       <use x=\"95.410156\" xlink:href=\"#DejaVuSans-30\"/>\n       <use x=\"159.033203\" xlink:href=\"#DejaVuSans-30\"/>\n      </g>\n     </g>\n    </g>\n    <g id=\"xtick_6\">\n     <g id=\"line2d_12\">\n      <g>\n       <use style=\"stroke:#000000;stroke-width:0.8;\" x=\"335.019044\" xlink:href=\"#ma35c061825\" y=\"242.6\"/>\n      </g>\n     </g>\n     <g id=\"text_14\">\n      <!-- 3.25 -->\n      <g transform=\"translate(323.886231 257.198437)scale(0.1 -0.1)\">\n       <use xlink:href=\"#DejaVuSans-33\"/>\n       <use x=\"63.623047\" xlink:href=\"#DejaVuSans-2e\"/>\n       <use x=\"95.410156\" xlink:href=\"#DejaVuSans-32\"/>\n       <use x=\"159.033203\" xlink:href=\"#DejaVuSans-35\"/>\n      </g>\n     </g>\n    </g>\n    <g id=\"xtick_7\">\n     <g id=\"line2d_13\">\n      <g>\n       <use style=\"stroke:#000000;stroke-width:0.8;\" x=\"367.910239\" xlink:href=\"#ma35c061825\" y=\"242.6\"/>\n      </g>\n     </g>\n     <g id=\"text_15\">\n      <!-- 3.50 -->\n      <g transform=\"translate(356.777427 257.198437)scale(0.1 -0.1)\">\n       <use xlink:href=\"#DejaVuSans-33\"/>\n       <use x=\"63.623047\" xlink:href=\"#DejaVuSans-2e\"/>\n       <use x=\"95.410156\" xlink:href=\"#DejaVuSans-35\"/>\n       <use x=\"159.033203\" xlink:href=\"#DejaVuSans-30\"/>\n      </g>\n     </g>\n    </g>\n    <g id=\"xtick_8\">\n     <g id=\"line2d_14\">\n      <g>\n       <use style=\"stroke:#000000;stroke-width:0.8;\" x=\"400.801435\" xlink:href=\"#ma35c061825\" y=\"242.6\"/>\n      </g>\n     </g>\n     <g id=\"text_16\">\n      <!-- 3.75 -->\n      <g transform=\"translate(389.668622 257.198437)scale(0.1 -0.1)\">\n       <use xlink:href=\"#DejaVuSans-33\"/>\n       <use x=\"63.623047\" xlink:href=\"#DejaVuSans-2e\"/>\n       <use x=\"95.410156\" xlink:href=\"#DejaVuSans-37\"/>\n       <use x=\"159.033203\" xlink:href=\"#DejaVuSans-35\"/>\n      </g>\n     </g>\n    </g>\n   </g>\n   <g id=\"matplotlib.axis_4\">\n    <g id=\"ytick_7\">\n     <g id=\"line2d_15\">\n      <g>\n       <use style=\"stroke:#000000;stroke-width:0.8;\" x=\"259.435077\" xlink:href=\"#m4aa727f15b\" y=\"242.6\"/>\n      </g>\n     </g>\n     <g id=\"text_17\">\n      <!-- 0 -->\n      <g transform=\"translate(246.072577 246.399219)scale(0.1 -0.1)\">\n       <use xlink:href=\"#DejaVuSans-30\"/>\n      </g>\n     </g>\n    </g>\n    <g id=\"ytick_8\">\n     <g id=\"line2d_16\">\n      <g>\n       <use style=\"stroke:#000000;stroke-width:0.8;\" x=\"259.435077\" xlink:href=\"#m4aa727f15b\" y=\"213.101253\"/>\n      </g>\n     </g>\n     <g id=\"text_18\">\n      <!-- 5 -->\n      <g transform=\"translate(246.072577 216.900472)scale(0.1 -0.1)\">\n       <use xlink:href=\"#DejaVuSans-35\"/>\n      </g>\n     </g>\n    </g>\n    <g id=\"ytick_9\">\n     <g id=\"line2d_17\">\n      <g>\n       <use style=\"stroke:#000000;stroke-width:0.8;\" x=\"259.435077\" xlink:href=\"#m4aa727f15b\" y=\"183.602506\"/>\n      </g>\n     </g>\n     <g id=\"text_19\">\n      <!-- 10 -->\n      <g transform=\"translate(239.710077 187.401725)scale(0.1 -0.1)\">\n       <defs>\n        <path d=\"M 794 531 \nL 1825 531 \nL 1825 4091 \nL 703 3866 \nL 703 4441 \nL 1819 4666 \nL 2450 4666 \nL 2450 531 \nL 3481 531 \nL 3481 0 \nL 794 0 \nL 794 531 \nz\n\" id=\"DejaVuSans-31\" transform=\"scale(0.015625)\"/>\n       </defs>\n       <use xlink:href=\"#DejaVuSans-31\"/>\n       <use x=\"63.623047\" xlink:href=\"#DejaVuSans-30\"/>\n      </g>\n     </g>\n    </g>\n    <g id=\"ytick_10\">\n     <g id=\"line2d_18\">\n      <g>\n       <use style=\"stroke:#000000;stroke-width:0.8;\" x=\"259.435077\" xlink:href=\"#m4aa727f15b\" y=\"154.103759\"/>\n      </g>\n     </g>\n     <g id=\"text_20\">\n      <!-- 15 -->\n      <g transform=\"translate(239.710077 157.902978)scale(0.1 -0.1)\">\n       <use xlink:href=\"#DejaVuSans-31\"/>\n       <use x=\"63.623047\" xlink:href=\"#DejaVuSans-35\"/>\n      </g>\n     </g>\n    </g>\n    <g id=\"ytick_11\">\n     <g id=\"line2d_19\">\n      <g>\n       <use style=\"stroke:#000000;stroke-width:0.8;\" x=\"259.435077\" xlink:href=\"#m4aa727f15b\" y=\"124.605013\"/>\n      </g>\n     </g>\n     <g id=\"text_21\">\n      <!-- 20 -->\n      <g transform=\"translate(239.710077 128.404231)scale(0.1 -0.1)\">\n       <use xlink:href=\"#DejaVuSans-32\"/>\n       <use x=\"63.623047\" xlink:href=\"#DejaVuSans-30\"/>\n      </g>\n     </g>\n    </g>\n    <g id=\"ytick_12\">\n     <g id=\"line2d_20\">\n      <g>\n       <use style=\"stroke:#000000;stroke-width:0.8;\" x=\"259.435077\" xlink:href=\"#m4aa727f15b\" y=\"95.106266\"/>\n      </g>\n     </g>\n     <g id=\"text_22\">\n      <!-- 25 -->\n      <g transform=\"translate(239.710077 98.905484)scale(0.1 -0.1)\">\n       <use xlink:href=\"#DejaVuSans-32\"/>\n       <use x=\"63.623047\" xlink:href=\"#DejaVuSans-35\"/>\n      </g>\n     </g>\n    </g>\n    <g id=\"ytick_13\">\n     <g id=\"line2d_21\">\n      <g>\n       <use style=\"stroke:#000000;stroke-width:0.8;\" x=\"259.435077\" xlink:href=\"#m4aa727f15b\" y=\"65.607519\"/>\n      </g>\n     </g>\n     <g id=\"text_23\">\n      <!-- 30 -->\n      <g transform=\"translate(239.710077 69.406738)scale(0.1 -0.1)\">\n       <use xlink:href=\"#DejaVuSans-33\"/>\n       <use x=\"63.623047\" xlink:href=\"#DejaVuSans-30\"/>\n      </g>\n     </g>\n    </g>\n    <g id=\"ytick_14\">\n     <g id=\"line2d_22\">\n      <g>\n       <use style=\"stroke:#000000;stroke-width:0.8;\" x=\"259.435077\" xlink:href=\"#m4aa727f15b\" y=\"36.108772\"/>\n      </g>\n     </g>\n     <g id=\"text_24\">\n      <!-- 35 -->\n      <g transform=\"translate(239.710077 39.907991)scale(0.1 -0.1)\">\n       <use xlink:href=\"#DejaVuSans-33\"/>\n       <use x=\"63.623047\" xlink:href=\"#DejaVuSans-35\"/>\n      </g>\n     </g>\n    </g>\n    <g id=\"text_25\">\n     <!-- Frequency -->\n     <g transform=\"translate(233.630389 150.729687)rotate(-90)scale(0.1 -0.1)\">\n      <defs>\n       <path d=\"M 628 4666 \nL 3309 4666 \nL 3309 4134 \nL 1259 4134 \nL 1259 2759 \nL 3109 2759 \nL 3109 2228 \nL 1259 2228 \nL 1259 0 \nL 628 0 \nL 628 4666 \nz\n\" id=\"DejaVuSans-46\" transform=\"scale(0.015625)\"/>\n       <path d=\"M 3597 1894 \nL 3597 1613 \nL 953 1613 \nQ 991 1019 1311 708 \nQ 1631 397 2203 397 \nQ 2534 397 2845 478 \nQ 3156 559 3463 722 \nL 3463 178 \nQ 3153 47 2828 -22 \nQ 2503 -91 2169 -91 \nQ 1331 -91 842 396 \nQ 353 884 353 1716 \nQ 353 2575 817 3079 \nQ 1281 3584 2069 3584 \nQ 2775 3584 3186 3129 \nQ 3597 2675 3597 1894 \nz\nM 3022 2063 \nQ 3016 2534 2758 2815 \nQ 2500 3097 2075 3097 \nQ 1594 3097 1305 2825 \nQ 1016 2553 972 2059 \nL 3022 2063 \nz\n\" id=\"DejaVuSans-65\" transform=\"scale(0.015625)\"/>\n       <path d=\"M 947 1747 \nQ 947 1113 1208 752 \nQ 1469 391 1925 391 \nQ 2381 391 2643 752 \nQ 2906 1113 2906 1747 \nQ 2906 2381 2643 2742 \nQ 2381 3103 1925 3103 \nQ 1469 3103 1208 2742 \nQ 947 2381 947 1747 \nz\nM 2906 525 \nQ 2725 213 2448 61 \nQ 2172 -91 1784 -91 \nQ 1150 -91 751 415 \nQ 353 922 353 1747 \nQ 353 2572 751 3078 \nQ 1150 3584 1784 3584 \nQ 2172 3584 2448 3432 \nQ 2725 3281 2906 2969 \nL 2906 3500 \nL 3481 3500 \nL 3481 -1331 \nL 2906 -1331 \nL 2906 525 \nz\n\" id=\"DejaVuSans-71\" transform=\"scale(0.015625)\"/>\n       <path d=\"M 544 1381 \nL 544 3500 \nL 1119 3500 \nL 1119 1403 \nQ 1119 906 1312 657 \nQ 1506 409 1894 409 \nQ 2359 409 2629 706 \nQ 2900 1003 2900 1516 \nL 2900 3500 \nL 3475 3500 \nL 3475 0 \nL 2900 0 \nL 2900 538 \nQ 2691 219 2414 64 \nQ 2138 -91 1772 -91 \nQ 1169 -91 856 284 \nQ 544 659 544 1381 \nz\nM 1991 3584 \nL 1991 3584 \nz\n\" id=\"DejaVuSans-75\" transform=\"scale(0.015625)\"/>\n       <path d=\"M 3513 2113 \nL 3513 0 \nL 2938 0 \nL 2938 2094 \nQ 2938 2591 2744 2837 \nQ 2550 3084 2163 3084 \nQ 1697 3084 1428 2787 \nQ 1159 2491 1159 1978 \nL 1159 0 \nL 581 0 \nL 581 3500 \nL 1159 3500 \nL 1159 2956 \nQ 1366 3272 1645 3428 \nQ 1925 3584 2291 3584 \nQ 2894 3584 3203 3211 \nQ 3513 2838 3513 2113 \nz\n\" id=\"DejaVuSans-6e\" transform=\"scale(0.015625)\"/>\n       <path d=\"M 3122 3366 \nL 3122 2828 \nQ 2878 2963 2633 3030 \nQ 2388 3097 2138 3097 \nQ 1578 3097 1268 2742 \nQ 959 2388 959 1747 \nQ 959 1106 1268 751 \nQ 1578 397 2138 397 \nQ 2388 397 2633 464 \nQ 2878 531 3122 666 \nL 3122 134 \nQ 2881 22 2623 -34 \nQ 2366 -91 2075 -91 \nQ 1284 -91 818 406 \nQ 353 903 353 1747 \nQ 353 2603 823 3093 \nQ 1294 3584 2113 3584 \nQ 2378 3584 2631 3529 \nQ 2884 3475 3122 3366 \nz\n\" id=\"DejaVuSans-63\" transform=\"scale(0.015625)\"/>\n      </defs>\n      <use xlink:href=\"#DejaVuSans-46\"/>\n      <use x=\"50.269531\" xlink:href=\"#DejaVuSans-72\"/>\n      <use x=\"89.132812\" xlink:href=\"#DejaVuSans-65\"/>\n      <use x=\"150.65625\" xlink:href=\"#DejaVuSans-71\"/>\n      <use x=\"214.132812\" xlink:href=\"#DejaVuSans-75\"/>\n      <use x=\"277.511719\" xlink:href=\"#DejaVuSans-65\"/>\n      <use x=\"339.035156\" xlink:href=\"#DejaVuSans-6e\"/>\n      <use x=\"402.414062\" xlink:href=\"#DejaVuSans-63\"/>\n      <use x=\"457.394531\" xlink:href=\"#DejaVuSans-79\"/>\n     </g>\n    </g>\n   </g>\n   <g id=\"patch_18\">\n    <path d=\"M 259.435077 242.6 \nL 259.435077 7.2 \n\" style=\"fill:none;stroke:#000000;stroke-linecap:square;stroke-linejoin:miter;stroke-width:0.8;\"/>\n   </g>\n   <g id=\"patch_19\">\n    <path d=\"M 417.18125 242.6 \nL 417.18125 7.2 \n\" style=\"fill:none;stroke:#000000;stroke-linecap:square;stroke-linejoin:miter;stroke-width:0.8;\"/>\n   </g>\n   <g id=\"patch_20\">\n    <path d=\"M 259.435077 242.6 \nL 417.18125 242.6 \n\" style=\"fill:none;stroke:#000000;stroke-linecap:square;stroke-linejoin:miter;stroke-width:0.8;\"/>\n   </g>\n   <g id=\"patch_21\">\n    <path d=\"M 259.435077 7.2 \nL 417.18125 7.2 \n\" style=\"fill:none;stroke:#000000;stroke-linecap:square;stroke-linejoin:miter;stroke-width:0.8;\"/>\n   </g>\n  </g>\n </g>\n <defs>\n  <clipPath id=\"p271aeb7358\">\n   <rect height=\"235.4\" width=\"157.746173\" x=\"43.78125\" y=\"7.2\"/>\n  </clipPath>\n  <clipPath id=\"p7fa42c54c9\">\n   <rect height=\"235.4\" width=\"157.746173\" x=\"259.435077\" y=\"7.2\"/>\n  </clipPath>\n </defs>\n</svg>\n",
      "text/plain": [
       "<Figure size 432x288 with 2 Axes>"
      ]
     },
     "metadata": {
      "needs_background": "light"
     },
     "output_type": "display_data"
    }
   ],
   "source": [
    "fig, (ax1, ax2) = plt.subplots(1,2)\n",
    "\n",
    "df.plot.scatter('salary', 'GPA', ax=ax1)\n",
    "df['GPA'].plot.hist( ax=ax2)\n",
    "\n",
    "plt.tight_layout()"
   ]
  },
  {
   "cell_type": "markdown",
   "metadata": {},
   "source": [
    "## Using `plotly`"
   ]
  },
  {
   "cell_type": "code",
   "execution_count": 10,
   "metadata": {},
   "outputs": [
    {
     "data": {
      "application/vnd.plotly.v1+json": {
       "config": {
        "plotlyServerURL": "https://plot.ly"
       },
       "data": [
        {
         "hovertemplate": "salary=%{x}<br>GPA=%{y}<extra></extra>",
         "legendgroup": "",
         "marker": {
          "color": "#636efa",
          "symbol": "circle"
         },
         "mode": "markers",
         "name": "",
         "orientation": "v",
         "showlegend": false,
         "type": "scatter",
         "x": [
          31400,
          33098,
          32870,
          35000,
          33606,
          31700,
          30410,
          30150,
          31300,
          33200,
          34900,
          55413,
          33750,
          65000,
          null,
          62000,
          63000,
          31300,
          28500,
          30100,
          33650,
          40325,
          70000,
          32800,
          null,
          35000,
          78325,
          null,
          67500,
          null,
          29800,
          28900,
          42300,
          32900,
          29200,
          34500,
          null,
          32300,
          60172,
          32093,
          46103,
          null,
          33900,
          64880,
          29336,
          null,
          61000,
          62705,
          45889,
          null,
          34130,
          34400,
          67815,
          30580,
          51082,
          39000,
          29500,
          27000,
          40000,
          50000,
          31000,
          26000,
          63000,
          30000,
          36000,
          33000,
          29750,
          34750,
          33900,
          35000,
          39000,
          29640,
          28420,
          39500,
          38000,
          42000,
          30150,
          30000,
          39900,
          65000,
          49862,
          40591,
          34750,
          36900,
          29750,
          34000,
          29500,
          29500,
          34700,
          56200,
          28800,
          28900,
          30000,
          28000,
          67000,
          53177,
          29699,
          41300,
          34800,
          27000,
          39000,
          26000,
          65000,
          24900,
          28000,
          30135,
          37600,
          39800,
          36000,
          35000,
          29700,
          41000,
          39000,
          38750,
          34700,
          30000,
          29650,
          29500,
          52000,
          30050,
          39000,
          34900,
          63000,
          30000,
          29000,
          41000,
          41150,
          29499,
          59500,
          27000,
          35500,
          29799,
          29600,
          25000,
          36000,
          49000,
          35000,
          57000,
          29669,
          37000,
          64000,
          29700,
          35000,
          49000,
          51490,
          41500,
          35000,
          27900,
          29630,
          29750,
          36000,
          49321,
          49900,
          31500,
          69000,
          29800
         ],
         "xaxis": "x",
         "y": [
          3.15,
          3.5,
          3.25,
          3.2,
          3.38,
          3.4,
          3.16,
          3.12,
          3.12,
          3.66,
          3.55,
          3.42,
          3.6,
          3.7,
          3.45,
          3.55,
          3.57,
          3.2,
          3.2,
          3.25,
          3.3,
          3.3,
          3.75,
          3.37,
          null,
          3.31,
          3.6,
          3.29,
          3.55,
          3.2,
          3.1,
          3.2,
          3.2,
          3.27,
          3,
          3.3,
          3.4,
          3.23,
          3.7,
          null,
          3.4,
          3.53,
          3.3,
          3.3,
          3,
          3.27,
          3.51,
          3.52,
          3.4,
          3.12,
          3.14,
          3.16,
          3.75,
          3.42,
          3.25,
          3.3,
          2.85,
          3.25,
          3.4,
          3.49,
          3.3,
          3.15,
          3.49,
          3.2,
          3.43,
          3.3,
          3.2,
          3.35,
          3.2,
          3.24,
          3.35,
          3.1,
          3.3,
          3.2,
          3.35,
          3.24,
          3.2,
          3.1,
          3.2,
          3.67,
          3.56,
          3.3,
          3,
          3.28,
          3.2,
          3.4,
          3.07,
          3.2,
          3,
          null,
          3.22,
          3.23,
          3,
          3.31,
          3.6,
          3.45,
          3,
          3.5,
          3.28,
          3.03,
          3.5,
          3.3,
          3.7,
          3.38,
          3.3,
          3.23,
          3.22,
          3.39,
          3.2,
          3.3,
          3,
          3.25,
          3.17,
          3.32,
          3.16,
          3.2,
          3.24,
          3,
          3.5,
          3.3,
          3.18,
          3.15,
          3.78,
          null,
          3.3,
          3.2,
          3.3,
          null,
          3.5,
          2.73,
          3.1,
          null,
          3.1,
          2.8,
          3,
          3.55,
          3.3,
          3.62,
          3.2,
          3.41,
          3.6,
          3.31,
          3.27,
          3.63,
          3.47,
          3.2,
          3.35,
          3.08,
          3,
          3.1,
          3.2,
          3.34,
          3.4,
          3.4,
          3.82,
          null
         ],
         "yaxis": "y"
        }
       ],
       "layout": {
        "legend": {
         "tracegroupgap": 0
        },
        "margin": {
         "t": 60
        },
        "template": {
         "data": {
          "bar": [
           {
            "error_x": {
             "color": "#2a3f5f"
            },
            "error_y": {
             "color": "#2a3f5f"
            },
            "marker": {
             "line": {
              "color": "#E5ECF6",
              "width": 0.5
             },
             "pattern": {
              "fillmode": "overlay",
              "size": 10,
              "solidity": 0.2
             }
            },
            "type": "bar"
           }
          ],
          "barpolar": [
           {
            "marker": {
             "line": {
              "color": "#E5ECF6",
              "width": 0.5
             },
             "pattern": {
              "fillmode": "overlay",
              "size": 10,
              "solidity": 0.2
             }
            },
            "type": "barpolar"
           }
          ],
          "carpet": [
           {
            "aaxis": {
             "endlinecolor": "#2a3f5f",
             "gridcolor": "white",
             "linecolor": "white",
             "minorgridcolor": "white",
             "startlinecolor": "#2a3f5f"
            },
            "baxis": {
             "endlinecolor": "#2a3f5f",
             "gridcolor": "white",
             "linecolor": "white",
             "minorgridcolor": "white",
             "startlinecolor": "#2a3f5f"
            },
            "type": "carpet"
           }
          ],
          "choropleth": [
           {
            "colorbar": {
             "outlinewidth": 0,
             "ticks": ""
            },
            "type": "choropleth"
           }
          ],
          "contour": [
           {
            "colorbar": {
             "outlinewidth": 0,
             "ticks": ""
            },
            "colorscale": [
             [
              0,
              "#0d0887"
             ],
             [
              0.1111111111111111,
              "#46039f"
             ],
             [
              0.2222222222222222,
              "#7201a8"
             ],
             [
              0.3333333333333333,
              "#9c179e"
             ],
             [
              0.4444444444444444,
              "#bd3786"
             ],
             [
              0.5555555555555556,
              "#d8576b"
             ],
             [
              0.6666666666666666,
              "#ed7953"
             ],
             [
              0.7777777777777778,
              "#fb9f3a"
             ],
             [
              0.8888888888888888,
              "#fdca26"
             ],
             [
              1,
              "#f0f921"
             ]
            ],
            "type": "contour"
           }
          ],
          "contourcarpet": [
           {
            "colorbar": {
             "outlinewidth": 0,
             "ticks": ""
            },
            "type": "contourcarpet"
           }
          ],
          "heatmap": [
           {
            "colorbar": {
             "outlinewidth": 0,
             "ticks": ""
            },
            "colorscale": [
             [
              0,
              "#0d0887"
             ],
             [
              0.1111111111111111,
              "#46039f"
             ],
             [
              0.2222222222222222,
              "#7201a8"
             ],
             [
              0.3333333333333333,
              "#9c179e"
             ],
             [
              0.4444444444444444,
              "#bd3786"
             ],
             [
              0.5555555555555556,
              "#d8576b"
             ],
             [
              0.6666666666666666,
              "#ed7953"
             ],
             [
              0.7777777777777778,
              "#fb9f3a"
             ],
             [
              0.8888888888888888,
              "#fdca26"
             ],
             [
              1,
              "#f0f921"
             ]
            ],
            "type": "heatmap"
           }
          ],
          "heatmapgl": [
           {
            "colorbar": {
             "outlinewidth": 0,
             "ticks": ""
            },
            "colorscale": [
             [
              0,
              "#0d0887"
             ],
             [
              0.1111111111111111,
              "#46039f"
             ],
             [
              0.2222222222222222,
              "#7201a8"
             ],
             [
              0.3333333333333333,
              "#9c179e"
             ],
             [
              0.4444444444444444,
              "#bd3786"
             ],
             [
              0.5555555555555556,
              "#d8576b"
             ],
             [
              0.6666666666666666,
              "#ed7953"
             ],
             [
              0.7777777777777778,
              "#fb9f3a"
             ],
             [
              0.8888888888888888,
              "#fdca26"
             ],
             [
              1,
              "#f0f921"
             ]
            ],
            "type": "heatmapgl"
           }
          ],
          "histogram": [
           {
            "marker": {
             "pattern": {
              "fillmode": "overlay",
              "size": 10,
              "solidity": 0.2
             }
            },
            "type": "histogram"
           }
          ],
          "histogram2d": [
           {
            "colorbar": {
             "outlinewidth": 0,
             "ticks": ""
            },
            "colorscale": [
             [
              0,
              "#0d0887"
             ],
             [
              0.1111111111111111,
              "#46039f"
             ],
             [
              0.2222222222222222,
              "#7201a8"
             ],
             [
              0.3333333333333333,
              "#9c179e"
             ],
             [
              0.4444444444444444,
              "#bd3786"
             ],
             [
              0.5555555555555556,
              "#d8576b"
             ],
             [
              0.6666666666666666,
              "#ed7953"
             ],
             [
              0.7777777777777778,
              "#fb9f3a"
             ],
             [
              0.8888888888888888,
              "#fdca26"
             ],
             [
              1,
              "#f0f921"
             ]
            ],
            "type": "histogram2d"
           }
          ],
          "histogram2dcontour": [
           {
            "colorbar": {
             "outlinewidth": 0,
             "ticks": ""
            },
            "colorscale": [
             [
              0,
              "#0d0887"
             ],
             [
              0.1111111111111111,
              "#46039f"
             ],
             [
              0.2222222222222222,
              "#7201a8"
             ],
             [
              0.3333333333333333,
              "#9c179e"
             ],
             [
              0.4444444444444444,
              "#bd3786"
             ],
             [
              0.5555555555555556,
              "#d8576b"
             ],
             [
              0.6666666666666666,
              "#ed7953"
             ],
             [
              0.7777777777777778,
              "#fb9f3a"
             ],
             [
              0.8888888888888888,
              "#fdca26"
             ],
             [
              1,
              "#f0f921"
             ]
            ],
            "type": "histogram2dcontour"
           }
          ],
          "mesh3d": [
           {
            "colorbar": {
             "outlinewidth": 0,
             "ticks": ""
            },
            "type": "mesh3d"
           }
          ],
          "parcoords": [
           {
            "line": {
             "colorbar": {
              "outlinewidth": 0,
              "ticks": ""
             }
            },
            "type": "parcoords"
           }
          ],
          "pie": [
           {
            "automargin": true,
            "type": "pie"
           }
          ],
          "scatter": [
           {
            "marker": {
             "colorbar": {
              "outlinewidth": 0,
              "ticks": ""
             }
            },
            "type": "scatter"
           }
          ],
          "scatter3d": [
           {
            "line": {
             "colorbar": {
              "outlinewidth": 0,
              "ticks": ""
             }
            },
            "marker": {
             "colorbar": {
              "outlinewidth": 0,
              "ticks": ""
             }
            },
            "type": "scatter3d"
           }
          ],
          "scattercarpet": [
           {
            "marker": {
             "colorbar": {
              "outlinewidth": 0,
              "ticks": ""
             }
            },
            "type": "scattercarpet"
           }
          ],
          "scattergeo": [
           {
            "marker": {
             "colorbar": {
              "outlinewidth": 0,
              "ticks": ""
             }
            },
            "type": "scattergeo"
           }
          ],
          "scattergl": [
           {
            "marker": {
             "colorbar": {
              "outlinewidth": 0,
              "ticks": ""
             }
            },
            "type": "scattergl"
           }
          ],
          "scattermapbox": [
           {
            "marker": {
             "colorbar": {
              "outlinewidth": 0,
              "ticks": ""
             }
            },
            "type": "scattermapbox"
           }
          ],
          "scatterpolar": [
           {
            "marker": {
             "colorbar": {
              "outlinewidth": 0,
              "ticks": ""
             }
            },
            "type": "scatterpolar"
           }
          ],
          "scatterpolargl": [
           {
            "marker": {
             "colorbar": {
              "outlinewidth": 0,
              "ticks": ""
             }
            },
            "type": "scatterpolargl"
           }
          ],
          "scatterternary": [
           {
            "marker": {
             "colorbar": {
              "outlinewidth": 0,
              "ticks": ""
             }
            },
            "type": "scatterternary"
           }
          ],
          "surface": [
           {
            "colorbar": {
             "outlinewidth": 0,
             "ticks": ""
            },
            "colorscale": [
             [
              0,
              "#0d0887"
             ],
             [
              0.1111111111111111,
              "#46039f"
             ],
             [
              0.2222222222222222,
              "#7201a8"
             ],
             [
              0.3333333333333333,
              "#9c179e"
             ],
             [
              0.4444444444444444,
              "#bd3786"
             ],
             [
              0.5555555555555556,
              "#d8576b"
             ],
             [
              0.6666666666666666,
              "#ed7953"
             ],
             [
              0.7777777777777778,
              "#fb9f3a"
             ],
             [
              0.8888888888888888,
              "#fdca26"
             ],
             [
              1,
              "#f0f921"
             ]
            ],
            "type": "surface"
           }
          ],
          "table": [
           {
            "cells": {
             "fill": {
              "color": "#EBF0F8"
             },
             "line": {
              "color": "white"
             }
            },
            "header": {
             "fill": {
              "color": "#C8D4E3"
             },
             "line": {
              "color": "white"
             }
            },
            "type": "table"
           }
          ]
         },
         "layout": {
          "annotationdefaults": {
           "arrowcolor": "#2a3f5f",
           "arrowhead": 0,
           "arrowwidth": 1
          },
          "autotypenumbers": "strict",
          "coloraxis": {
           "colorbar": {
            "outlinewidth": 0,
            "ticks": ""
           }
          },
          "colorscale": {
           "diverging": [
            [
             0,
             "#8e0152"
            ],
            [
             0.1,
             "#c51b7d"
            ],
            [
             0.2,
             "#de77ae"
            ],
            [
             0.3,
             "#f1b6da"
            ],
            [
             0.4,
             "#fde0ef"
            ],
            [
             0.5,
             "#f7f7f7"
            ],
            [
             0.6,
             "#e6f5d0"
            ],
            [
             0.7,
             "#b8e186"
            ],
            [
             0.8,
             "#7fbc41"
            ],
            [
             0.9,
             "#4d9221"
            ],
            [
             1,
             "#276419"
            ]
           ],
           "sequential": [
            [
             0,
             "#0d0887"
            ],
            [
             0.1111111111111111,
             "#46039f"
            ],
            [
             0.2222222222222222,
             "#7201a8"
            ],
            [
             0.3333333333333333,
             "#9c179e"
            ],
            [
             0.4444444444444444,
             "#bd3786"
            ],
            [
             0.5555555555555556,
             "#d8576b"
            ],
            [
             0.6666666666666666,
             "#ed7953"
            ],
            [
             0.7777777777777778,
             "#fb9f3a"
            ],
            [
             0.8888888888888888,
             "#fdca26"
            ],
            [
             1,
             "#f0f921"
            ]
           ],
           "sequentialminus": [
            [
             0,
             "#0d0887"
            ],
            [
             0.1111111111111111,
             "#46039f"
            ],
            [
             0.2222222222222222,
             "#7201a8"
            ],
            [
             0.3333333333333333,
             "#9c179e"
            ],
            [
             0.4444444444444444,
             "#bd3786"
            ],
            [
             0.5555555555555556,
             "#d8576b"
            ],
            [
             0.6666666666666666,
             "#ed7953"
            ],
            [
             0.7777777777777778,
             "#fb9f3a"
            ],
            [
             0.8888888888888888,
             "#fdca26"
            ],
            [
             1,
             "#f0f921"
            ]
           ]
          },
          "colorway": [
           "#636efa",
           "#EF553B",
           "#00cc96",
           "#ab63fa",
           "#FFA15A",
           "#19d3f3",
           "#FF6692",
           "#B6E880",
           "#FF97FF",
           "#FECB52"
          ],
          "font": {
           "color": "#2a3f5f"
          },
          "geo": {
           "bgcolor": "white",
           "lakecolor": "white",
           "landcolor": "#E5ECF6",
           "showlakes": true,
           "showland": true,
           "subunitcolor": "white"
          },
          "hoverlabel": {
           "align": "left"
          },
          "hovermode": "closest",
          "mapbox": {
           "style": "light"
          },
          "paper_bgcolor": "white",
          "plot_bgcolor": "#E5ECF6",
          "polar": {
           "angularaxis": {
            "gridcolor": "white",
            "linecolor": "white",
            "ticks": ""
           },
           "bgcolor": "#E5ECF6",
           "radialaxis": {
            "gridcolor": "white",
            "linecolor": "white",
            "ticks": ""
           }
          },
          "scene": {
           "xaxis": {
            "backgroundcolor": "#E5ECF6",
            "gridcolor": "white",
            "gridwidth": 2,
            "linecolor": "white",
            "showbackground": true,
            "ticks": "",
            "zerolinecolor": "white"
           },
           "yaxis": {
            "backgroundcolor": "#E5ECF6",
            "gridcolor": "white",
            "gridwidth": 2,
            "linecolor": "white",
            "showbackground": true,
            "ticks": "",
            "zerolinecolor": "white"
           },
           "zaxis": {
            "backgroundcolor": "#E5ECF6",
            "gridcolor": "white",
            "gridwidth": 2,
            "linecolor": "white",
            "showbackground": true,
            "ticks": "",
            "zerolinecolor": "white"
           }
          },
          "shapedefaults": {
           "line": {
            "color": "#2a3f5f"
           }
          },
          "ternary": {
           "aaxis": {
            "gridcolor": "white",
            "linecolor": "white",
            "ticks": ""
           },
           "baxis": {
            "gridcolor": "white",
            "linecolor": "white",
            "ticks": ""
           },
           "bgcolor": "#E5ECF6",
           "caxis": {
            "gridcolor": "white",
            "linecolor": "white",
            "ticks": ""
           }
          },
          "title": {
           "x": 0.05
          },
          "xaxis": {
           "automargin": true,
           "gridcolor": "white",
           "linecolor": "white",
           "ticks": "",
           "title": {
            "standoff": 15
           },
           "zerolinecolor": "white",
           "zerolinewidth": 2
          },
          "yaxis": {
           "automargin": true,
           "gridcolor": "white",
           "linecolor": "white",
           "ticks": "",
           "title": {
            "standoff": 15
           },
           "zerolinecolor": "white",
           "zerolinewidth": 2
          }
         }
        },
        "xaxis": {
         "anchor": "y",
         "domain": [
          0,
          1
         ],
         "title": {
          "text": "salary"
         }
        },
        "yaxis": {
         "anchor": "x",
         "domain": [
          0,
          1
         ],
         "title": {
          "text": "GPA"
         }
        }
       }
      }
     },
     "metadata": {},
     "output_type": "display_data"
    }
   ],
   "source": [
    "px.scatter(df, 'salary', 'GPA')"
   ]
  },
  {
   "cell_type": "code",
   "execution_count": 11,
   "metadata": {},
   "outputs": [
    {
     "data": {
      "application/vnd.plotly.v1+json": {
       "config": {
        "plotlyServerURL": "https://plot.ly"
       },
       "data": [
        {
         "hovertemplate": "salary=%{x}<br>GPA=%{y}<br>LSAT=%{marker.color}<extra></extra>",
         "legendgroup": "",
         "marker": {
          "color": [
           155,
           160,
           155,
           157,
           162,
           161,
           155,
           152,
           155,
           160,
           165,
           163,
           162,
           167,
           164,
           163,
           165,
           156,
           156,
           154,
           160,
           158,
           168,
           162,
           null,
           164,
           168,
           160,
           163,
           154,
           156,
           155,
           158,
           158,
           155,
           155,
           156,
           155,
           169,
           null,
           163,
           162,
           158,
           163,
           154,
           160,
           163,
           166,
           163,
           159,
           158,
           154,
           168,
           160,
           158,
           159,
           152,
           152,
           161,
           160,
           159,
           140,
           159,
           158,
           159,
           160,
           161,
           156,
           157,
           160,
           161,
           152,
           157,
           157,
           160,
           157,
           154,
           157,
           155,
           168,
           163,
           153,
           153,
           154,
           155,
           156,
           152,
           158,
           154,
           null,
           152,
           159,
           157,
           151,
           162,
           161,
           156,
           161,
           154,
           151,
           160,
           159,
           165,
           146,
           159,
           161,
           157,
           161,
           158,
           156,
           154,
           160,
           159,
           159,
           155,
           157,
           156,
           155,
           164,
           156,
           159,
           157,
           167,
           null,
           158,
           155,
           157,
           null,
           163,
           145,
           157,
           149,
           157,
           152,
           155,
           161,
           155,
           164,
           159,
           160,
           164,
           162,
           154,
           163,
           163,
           160,
           158,
           153,
           155,
           154,
           157,
           162,
           161,
           157,
           171,
           null
          ],
          "coloraxis": "coloraxis",
          "symbol": "circle"
         },
         "mode": "markers",
         "name": "",
         "orientation": "v",
         "showlegend": false,
         "type": "scatter",
         "x": [
          31400,
          33098,
          32870,
          35000,
          33606,
          31700,
          30410,
          30150,
          31300,
          33200,
          34900,
          55413,
          33750,
          65000,
          null,
          62000,
          63000,
          31300,
          28500,
          30100,
          33650,
          40325,
          70000,
          32800,
          null,
          35000,
          78325,
          null,
          67500,
          null,
          29800,
          28900,
          42300,
          32900,
          29200,
          34500,
          null,
          32300,
          60172,
          32093,
          46103,
          null,
          33900,
          64880,
          29336,
          null,
          61000,
          62705,
          45889,
          null,
          34130,
          34400,
          67815,
          30580,
          51082,
          39000,
          29500,
          27000,
          40000,
          50000,
          31000,
          26000,
          63000,
          30000,
          36000,
          33000,
          29750,
          34750,
          33900,
          35000,
          39000,
          29640,
          28420,
          39500,
          38000,
          42000,
          30150,
          30000,
          39900,
          65000,
          49862,
          40591,
          34750,
          36900,
          29750,
          34000,
          29500,
          29500,
          34700,
          56200,
          28800,
          28900,
          30000,
          28000,
          67000,
          53177,
          29699,
          41300,
          34800,
          27000,
          39000,
          26000,
          65000,
          24900,
          28000,
          30135,
          37600,
          39800,
          36000,
          35000,
          29700,
          41000,
          39000,
          38750,
          34700,
          30000,
          29650,
          29500,
          52000,
          30050,
          39000,
          34900,
          63000,
          30000,
          29000,
          41000,
          41150,
          29499,
          59500,
          27000,
          35500,
          29799,
          29600,
          25000,
          36000,
          49000,
          35000,
          57000,
          29669,
          37000,
          64000,
          29700,
          35000,
          49000,
          51490,
          41500,
          35000,
          27900,
          29630,
          29750,
          36000,
          49321,
          49900,
          31500,
          69000,
          29800
         ],
         "xaxis": "x",
         "y": [
          3.15,
          3.5,
          3.25,
          3.2,
          3.38,
          3.4,
          3.16,
          3.12,
          3.12,
          3.66,
          3.55,
          3.42,
          3.6,
          3.7,
          3.45,
          3.55,
          3.57,
          3.2,
          3.2,
          3.25,
          3.3,
          3.3,
          3.75,
          3.37,
          null,
          3.31,
          3.6,
          3.29,
          3.55,
          3.2,
          3.1,
          3.2,
          3.2,
          3.27,
          3,
          3.3,
          3.4,
          3.23,
          3.7,
          null,
          3.4,
          3.53,
          3.3,
          3.3,
          3,
          3.27,
          3.51,
          3.52,
          3.4,
          3.12,
          3.14,
          3.16,
          3.75,
          3.42,
          3.25,
          3.3,
          2.85,
          3.25,
          3.4,
          3.49,
          3.3,
          3.15,
          3.49,
          3.2,
          3.43,
          3.3,
          3.2,
          3.35,
          3.2,
          3.24,
          3.35,
          3.1,
          3.3,
          3.2,
          3.35,
          3.24,
          3.2,
          3.1,
          3.2,
          3.67,
          3.56,
          3.3,
          3,
          3.28,
          3.2,
          3.4,
          3.07,
          3.2,
          3,
          null,
          3.22,
          3.23,
          3,
          3.31,
          3.6,
          3.45,
          3,
          3.5,
          3.28,
          3.03,
          3.5,
          3.3,
          3.7,
          3.38,
          3.3,
          3.23,
          3.22,
          3.39,
          3.2,
          3.3,
          3,
          3.25,
          3.17,
          3.32,
          3.16,
          3.2,
          3.24,
          3,
          3.5,
          3.3,
          3.18,
          3.15,
          3.78,
          null,
          3.3,
          3.2,
          3.3,
          null,
          3.5,
          2.73,
          3.1,
          null,
          3.1,
          2.8,
          3,
          3.55,
          3.3,
          3.62,
          3.2,
          3.41,
          3.6,
          3.31,
          3.27,
          3.63,
          3.47,
          3.2,
          3.35,
          3.08,
          3,
          3.1,
          3.2,
          3.34,
          3.4,
          3.4,
          3.82,
          null
         ],
         "yaxis": "y"
        }
       ],
       "layout": {
        "coloraxis": {
         "colorbar": {
          "title": {
           "text": "LSAT"
          }
         },
         "colorscale": [
          [
           0,
           "#0d0887"
          ],
          [
           0.1111111111111111,
           "#46039f"
          ],
          [
           0.2222222222222222,
           "#7201a8"
          ],
          [
           0.3333333333333333,
           "#9c179e"
          ],
          [
           0.4444444444444444,
           "#bd3786"
          ],
          [
           0.5555555555555556,
           "#d8576b"
          ],
          [
           0.6666666666666666,
           "#ed7953"
          ],
          [
           0.7777777777777778,
           "#fb9f3a"
          ],
          [
           0.8888888888888888,
           "#fdca26"
          ],
          [
           1,
           "#f0f921"
          ]
         ]
        },
        "legend": {
         "tracegroupgap": 0
        },
        "margin": {
         "t": 60
        },
        "template": {
         "data": {
          "bar": [
           {
            "error_x": {
             "color": "#2a3f5f"
            },
            "error_y": {
             "color": "#2a3f5f"
            },
            "marker": {
             "line": {
              "color": "#E5ECF6",
              "width": 0.5
             },
             "pattern": {
              "fillmode": "overlay",
              "size": 10,
              "solidity": 0.2
             }
            },
            "type": "bar"
           }
          ],
          "barpolar": [
           {
            "marker": {
             "line": {
              "color": "#E5ECF6",
              "width": 0.5
             },
             "pattern": {
              "fillmode": "overlay",
              "size": 10,
              "solidity": 0.2
             }
            },
            "type": "barpolar"
           }
          ],
          "carpet": [
           {
            "aaxis": {
             "endlinecolor": "#2a3f5f",
             "gridcolor": "white",
             "linecolor": "white",
             "minorgridcolor": "white",
             "startlinecolor": "#2a3f5f"
            },
            "baxis": {
             "endlinecolor": "#2a3f5f",
             "gridcolor": "white",
             "linecolor": "white",
             "minorgridcolor": "white",
             "startlinecolor": "#2a3f5f"
            },
            "type": "carpet"
           }
          ],
          "choropleth": [
           {
            "colorbar": {
             "outlinewidth": 0,
             "ticks": ""
            },
            "type": "choropleth"
           }
          ],
          "contour": [
           {
            "colorbar": {
             "outlinewidth": 0,
             "ticks": ""
            },
            "colorscale": [
             [
              0,
              "#0d0887"
             ],
             [
              0.1111111111111111,
              "#46039f"
             ],
             [
              0.2222222222222222,
              "#7201a8"
             ],
             [
              0.3333333333333333,
              "#9c179e"
             ],
             [
              0.4444444444444444,
              "#bd3786"
             ],
             [
              0.5555555555555556,
              "#d8576b"
             ],
             [
              0.6666666666666666,
              "#ed7953"
             ],
             [
              0.7777777777777778,
              "#fb9f3a"
             ],
             [
              0.8888888888888888,
              "#fdca26"
             ],
             [
              1,
              "#f0f921"
             ]
            ],
            "type": "contour"
           }
          ],
          "contourcarpet": [
           {
            "colorbar": {
             "outlinewidth": 0,
             "ticks": ""
            },
            "type": "contourcarpet"
           }
          ],
          "heatmap": [
           {
            "colorbar": {
             "outlinewidth": 0,
             "ticks": ""
            },
            "colorscale": [
             [
              0,
              "#0d0887"
             ],
             [
              0.1111111111111111,
              "#46039f"
             ],
             [
              0.2222222222222222,
              "#7201a8"
             ],
             [
              0.3333333333333333,
              "#9c179e"
             ],
             [
              0.4444444444444444,
              "#bd3786"
             ],
             [
              0.5555555555555556,
              "#d8576b"
             ],
             [
              0.6666666666666666,
              "#ed7953"
             ],
             [
              0.7777777777777778,
              "#fb9f3a"
             ],
             [
              0.8888888888888888,
              "#fdca26"
             ],
             [
              1,
              "#f0f921"
             ]
            ],
            "type": "heatmap"
           }
          ],
          "heatmapgl": [
           {
            "colorbar": {
             "outlinewidth": 0,
             "ticks": ""
            },
            "colorscale": [
             [
              0,
              "#0d0887"
             ],
             [
              0.1111111111111111,
              "#46039f"
             ],
             [
              0.2222222222222222,
              "#7201a8"
             ],
             [
              0.3333333333333333,
              "#9c179e"
             ],
             [
              0.4444444444444444,
              "#bd3786"
             ],
             [
              0.5555555555555556,
              "#d8576b"
             ],
             [
              0.6666666666666666,
              "#ed7953"
             ],
             [
              0.7777777777777778,
              "#fb9f3a"
             ],
             [
              0.8888888888888888,
              "#fdca26"
             ],
             [
              1,
              "#f0f921"
             ]
            ],
            "type": "heatmapgl"
           }
          ],
          "histogram": [
           {
            "marker": {
             "pattern": {
              "fillmode": "overlay",
              "size": 10,
              "solidity": 0.2
             }
            },
            "type": "histogram"
           }
          ],
          "histogram2d": [
           {
            "colorbar": {
             "outlinewidth": 0,
             "ticks": ""
            },
            "colorscale": [
             [
              0,
              "#0d0887"
             ],
             [
              0.1111111111111111,
              "#46039f"
             ],
             [
              0.2222222222222222,
              "#7201a8"
             ],
             [
              0.3333333333333333,
              "#9c179e"
             ],
             [
              0.4444444444444444,
              "#bd3786"
             ],
             [
              0.5555555555555556,
              "#d8576b"
             ],
             [
              0.6666666666666666,
              "#ed7953"
             ],
             [
              0.7777777777777778,
              "#fb9f3a"
             ],
             [
              0.8888888888888888,
              "#fdca26"
             ],
             [
              1,
              "#f0f921"
             ]
            ],
            "type": "histogram2d"
           }
          ],
          "histogram2dcontour": [
           {
            "colorbar": {
             "outlinewidth": 0,
             "ticks": ""
            },
            "colorscale": [
             [
              0,
              "#0d0887"
             ],
             [
              0.1111111111111111,
              "#46039f"
             ],
             [
              0.2222222222222222,
              "#7201a8"
             ],
             [
              0.3333333333333333,
              "#9c179e"
             ],
             [
              0.4444444444444444,
              "#bd3786"
             ],
             [
              0.5555555555555556,
              "#d8576b"
             ],
             [
              0.6666666666666666,
              "#ed7953"
             ],
             [
              0.7777777777777778,
              "#fb9f3a"
             ],
             [
              0.8888888888888888,
              "#fdca26"
             ],
             [
              1,
              "#f0f921"
             ]
            ],
            "type": "histogram2dcontour"
           }
          ],
          "mesh3d": [
           {
            "colorbar": {
             "outlinewidth": 0,
             "ticks": ""
            },
            "type": "mesh3d"
           }
          ],
          "parcoords": [
           {
            "line": {
             "colorbar": {
              "outlinewidth": 0,
              "ticks": ""
             }
            },
            "type": "parcoords"
           }
          ],
          "pie": [
           {
            "automargin": true,
            "type": "pie"
           }
          ],
          "scatter": [
           {
            "marker": {
             "colorbar": {
              "outlinewidth": 0,
              "ticks": ""
             }
            },
            "type": "scatter"
           }
          ],
          "scatter3d": [
           {
            "line": {
             "colorbar": {
              "outlinewidth": 0,
              "ticks": ""
             }
            },
            "marker": {
             "colorbar": {
              "outlinewidth": 0,
              "ticks": ""
             }
            },
            "type": "scatter3d"
           }
          ],
          "scattercarpet": [
           {
            "marker": {
             "colorbar": {
              "outlinewidth": 0,
              "ticks": ""
             }
            },
            "type": "scattercarpet"
           }
          ],
          "scattergeo": [
           {
            "marker": {
             "colorbar": {
              "outlinewidth": 0,
              "ticks": ""
             }
            },
            "type": "scattergeo"
           }
          ],
          "scattergl": [
           {
            "marker": {
             "colorbar": {
              "outlinewidth": 0,
              "ticks": ""
             }
            },
            "type": "scattergl"
           }
          ],
          "scattermapbox": [
           {
            "marker": {
             "colorbar": {
              "outlinewidth": 0,
              "ticks": ""
             }
            },
            "type": "scattermapbox"
           }
          ],
          "scatterpolar": [
           {
            "marker": {
             "colorbar": {
              "outlinewidth": 0,
              "ticks": ""
             }
            },
            "type": "scatterpolar"
           }
          ],
          "scatterpolargl": [
           {
            "marker": {
             "colorbar": {
              "outlinewidth": 0,
              "ticks": ""
             }
            },
            "type": "scatterpolargl"
           }
          ],
          "scatterternary": [
           {
            "marker": {
             "colorbar": {
              "outlinewidth": 0,
              "ticks": ""
             }
            },
            "type": "scatterternary"
           }
          ],
          "surface": [
           {
            "colorbar": {
             "outlinewidth": 0,
             "ticks": ""
            },
            "colorscale": [
             [
              0,
              "#0d0887"
             ],
             [
              0.1111111111111111,
              "#46039f"
             ],
             [
              0.2222222222222222,
              "#7201a8"
             ],
             [
              0.3333333333333333,
              "#9c179e"
             ],
             [
              0.4444444444444444,
              "#bd3786"
             ],
             [
              0.5555555555555556,
              "#d8576b"
             ],
             [
              0.6666666666666666,
              "#ed7953"
             ],
             [
              0.7777777777777778,
              "#fb9f3a"
             ],
             [
              0.8888888888888888,
              "#fdca26"
             ],
             [
              1,
              "#f0f921"
             ]
            ],
            "type": "surface"
           }
          ],
          "table": [
           {
            "cells": {
             "fill": {
              "color": "#EBF0F8"
             },
             "line": {
              "color": "white"
             }
            },
            "header": {
             "fill": {
              "color": "#C8D4E3"
             },
             "line": {
              "color": "white"
             }
            },
            "type": "table"
           }
          ]
         },
         "layout": {
          "annotationdefaults": {
           "arrowcolor": "#2a3f5f",
           "arrowhead": 0,
           "arrowwidth": 1
          },
          "autotypenumbers": "strict",
          "coloraxis": {
           "colorbar": {
            "outlinewidth": 0,
            "ticks": ""
           }
          },
          "colorscale": {
           "diverging": [
            [
             0,
             "#8e0152"
            ],
            [
             0.1,
             "#c51b7d"
            ],
            [
             0.2,
             "#de77ae"
            ],
            [
             0.3,
             "#f1b6da"
            ],
            [
             0.4,
             "#fde0ef"
            ],
            [
             0.5,
             "#f7f7f7"
            ],
            [
             0.6,
             "#e6f5d0"
            ],
            [
             0.7,
             "#b8e186"
            ],
            [
             0.8,
             "#7fbc41"
            ],
            [
             0.9,
             "#4d9221"
            ],
            [
             1,
             "#276419"
            ]
           ],
           "sequential": [
            [
             0,
             "#0d0887"
            ],
            [
             0.1111111111111111,
             "#46039f"
            ],
            [
             0.2222222222222222,
             "#7201a8"
            ],
            [
             0.3333333333333333,
             "#9c179e"
            ],
            [
             0.4444444444444444,
             "#bd3786"
            ],
            [
             0.5555555555555556,
             "#d8576b"
            ],
            [
             0.6666666666666666,
             "#ed7953"
            ],
            [
             0.7777777777777778,
             "#fb9f3a"
            ],
            [
             0.8888888888888888,
             "#fdca26"
            ],
            [
             1,
             "#f0f921"
            ]
           ],
           "sequentialminus": [
            [
             0,
             "#0d0887"
            ],
            [
             0.1111111111111111,
             "#46039f"
            ],
            [
             0.2222222222222222,
             "#7201a8"
            ],
            [
             0.3333333333333333,
             "#9c179e"
            ],
            [
             0.4444444444444444,
             "#bd3786"
            ],
            [
             0.5555555555555556,
             "#d8576b"
            ],
            [
             0.6666666666666666,
             "#ed7953"
            ],
            [
             0.7777777777777778,
             "#fb9f3a"
            ],
            [
             0.8888888888888888,
             "#fdca26"
            ],
            [
             1,
             "#f0f921"
            ]
           ]
          },
          "colorway": [
           "#636efa",
           "#EF553B",
           "#00cc96",
           "#ab63fa",
           "#FFA15A",
           "#19d3f3",
           "#FF6692",
           "#B6E880",
           "#FF97FF",
           "#FECB52"
          ],
          "font": {
           "color": "#2a3f5f"
          },
          "geo": {
           "bgcolor": "white",
           "lakecolor": "white",
           "landcolor": "#E5ECF6",
           "showlakes": true,
           "showland": true,
           "subunitcolor": "white"
          },
          "hoverlabel": {
           "align": "left"
          },
          "hovermode": "closest",
          "mapbox": {
           "style": "light"
          },
          "paper_bgcolor": "white",
          "plot_bgcolor": "#E5ECF6",
          "polar": {
           "angularaxis": {
            "gridcolor": "white",
            "linecolor": "white",
            "ticks": ""
           },
           "bgcolor": "#E5ECF6",
           "radialaxis": {
            "gridcolor": "white",
            "linecolor": "white",
            "ticks": ""
           }
          },
          "scene": {
           "xaxis": {
            "backgroundcolor": "#E5ECF6",
            "gridcolor": "white",
            "gridwidth": 2,
            "linecolor": "white",
            "showbackground": true,
            "ticks": "",
            "zerolinecolor": "white"
           },
           "yaxis": {
            "backgroundcolor": "#E5ECF6",
            "gridcolor": "white",
            "gridwidth": 2,
            "linecolor": "white",
            "showbackground": true,
            "ticks": "",
            "zerolinecolor": "white"
           },
           "zaxis": {
            "backgroundcolor": "#E5ECF6",
            "gridcolor": "white",
            "gridwidth": 2,
            "linecolor": "white",
            "showbackground": true,
            "ticks": "",
            "zerolinecolor": "white"
           }
          },
          "shapedefaults": {
           "line": {
            "color": "#2a3f5f"
           }
          },
          "ternary": {
           "aaxis": {
            "gridcolor": "white",
            "linecolor": "white",
            "ticks": ""
           },
           "baxis": {
            "gridcolor": "white",
            "linecolor": "white",
            "ticks": ""
           },
           "bgcolor": "#E5ECF6",
           "caxis": {
            "gridcolor": "white",
            "linecolor": "white",
            "ticks": ""
           }
          },
          "title": {
           "x": 0.05
          },
          "xaxis": {
           "automargin": true,
           "gridcolor": "white",
           "linecolor": "white",
           "ticks": "",
           "title": {
            "standoff": 15
           },
           "zerolinecolor": "white",
           "zerolinewidth": 2
          },
          "yaxis": {
           "automargin": true,
           "gridcolor": "white",
           "linecolor": "white",
           "ticks": "",
           "title": {
            "standoff": 15
           },
           "zerolinecolor": "white",
           "zerolinewidth": 2
          }
         }
        },
        "xaxis": {
         "anchor": "y",
         "domain": [
          0,
          1
         ],
         "title": {
          "text": "salary"
         }
        },
        "yaxis": {
         "anchor": "x",
         "domain": [
          0,
          1
         ],
         "title": {
          "text": "GPA"
         }
        }
       }
      }
     },
     "metadata": {},
     "output_type": "display_data"
    }
   ],
   "source": [
    "px.scatter(df, 'salary', 'GPA', color='LSAT')"
   ]
  },
  {
   "cell_type": "code",
   "execution_count": 12,
   "metadata": {},
   "outputs": [
    {
     "data": {
      "application/vnd.plotly.v1+json": {
       "config": {
        "plotlyServerURL": "https://plot.ly"
       },
       "data": [
        {
         "hovertemplate": "salary=%{x}<br>GPA=%{y}<br>rank=%{marker.size}<br>LSAT=%{marker.color}<extra></extra>",
         "legendgroup": "",
         "marker": {
          "color": [
           155,
           160,
           155,
           157,
           162,
           161,
           155,
           152,
           155,
           160,
           165,
           163,
           162,
           167,
           164,
           163,
           165,
           156,
           156,
           154,
           160,
           158,
           168,
           162,
           null,
           164,
           168,
           160,
           163,
           154,
           156,
           155,
           158,
           158,
           155,
           155,
           156,
           155,
           169,
           null,
           163,
           162,
           158,
           163,
           154,
           160,
           163,
           166,
           163,
           159,
           158,
           154,
           168,
           160,
           158,
           159,
           152,
           152,
           161,
           160,
           159,
           140,
           159,
           158,
           159,
           160,
           161,
           156,
           157,
           160,
           161,
           152,
           157,
           157,
           160,
           157,
           154,
           157,
           155,
           168,
           163,
           153,
           153,
           154,
           155,
           156,
           152,
           158,
           154,
           null,
           152,
           159,
           157,
           151,
           162,
           161,
           156,
           161,
           154,
           151,
           160,
           159,
           165,
           146,
           159,
           161,
           157,
           161,
           158,
           156,
           154,
           160,
           159,
           159,
           155,
           157,
           156,
           155,
           164,
           156,
           159,
           157,
           167,
           null,
           158,
           155,
           157,
           null,
           163,
           145,
           157,
           149,
           157,
           152,
           155,
           161,
           155,
           164,
           159,
           160,
           164,
           162,
           154,
           163,
           163,
           160,
           158,
           153,
           155,
           154,
           157,
           162,
           161,
           157,
           171,
           null
          ],
          "coloraxis": "coloraxis",
          "size": [
           128,
           104,
           34,
           49,
           95,
           98,
           124,
           157,
           145,
           91,
           50,
           23,
           78,
           5,
           27,
           19,
           13,
           115,
           171,
           131,
           72,
           55,
           4,
           90,
           133,
           65,
           7,
           84,
           10,
           112,
           137,
           141,
           47,
           82,
           144,
           76,
           94,
           88,
           9,
           89,
           43,
           59,
           81,
           22,
           142,
           127,
           31,
           18,
           46,
           175,
           79,
           74,
           1,
           139,
           28,
           48,
           116,
           132,
           38,
           30,
           109,
           172,
           17,
           113,
           62,
           92,
           123,
           83,
           93,
           73,
           36,
           155,
           150,
           40,
           57,
           37,
           140,
           105,
           107,
           2,
           20,
           54,
           85,
           96,
           122,
           97,
           114,
           125,
           86,
           11,
           163,
           110,
           160,
           167,
           14,
           35,
           136,
           33,
           80,
           134,
           53,
           162,
           8,
           165,
           129,
           148,
           64,
           60,
           70,
           68,
           151,
           52,
           56,
           61,
           87,
           118,
           153,
           168,
           26,
           106,
           42,
           75,
           6,
           146,
           108,
           51,
           45,
           117,
           12,
           170,
           101,
           121,
           154,
           174,
           100,
           29,
           69,
           16,
           152,
           63,
           15,
           111,
           102,
           25,
           16,
           41,
           67,
           135,
           156,
           138,
           66,
           17,
           21,
           143,
           3,
           120
          ],
          "sizemode": "area",
          "sizeref": 0.4375,
          "symbol": "circle"
         },
         "mode": "markers",
         "name": "",
         "orientation": "v",
         "showlegend": false,
         "type": "scatter",
         "x": [
          31400,
          33098,
          32870,
          35000,
          33606,
          31700,
          30410,
          30150,
          31300,
          33200,
          34900,
          55413,
          33750,
          65000,
          null,
          62000,
          63000,
          31300,
          28500,
          30100,
          33650,
          40325,
          70000,
          32800,
          null,
          35000,
          78325,
          null,
          67500,
          null,
          29800,
          28900,
          42300,
          32900,
          29200,
          34500,
          null,
          32300,
          60172,
          32093,
          46103,
          null,
          33900,
          64880,
          29336,
          null,
          61000,
          62705,
          45889,
          null,
          34130,
          34400,
          67815,
          30580,
          51082,
          39000,
          29500,
          27000,
          40000,
          50000,
          31000,
          26000,
          63000,
          30000,
          36000,
          33000,
          29750,
          34750,
          33900,
          35000,
          39000,
          29640,
          28420,
          39500,
          38000,
          42000,
          30150,
          30000,
          39900,
          65000,
          49862,
          40591,
          34750,
          36900,
          29750,
          34000,
          29500,
          29500,
          34700,
          56200,
          28800,
          28900,
          30000,
          28000,
          67000,
          53177,
          29699,
          41300,
          34800,
          27000,
          39000,
          26000,
          65000,
          24900,
          28000,
          30135,
          37600,
          39800,
          36000,
          35000,
          29700,
          41000,
          39000,
          38750,
          34700,
          30000,
          29650,
          29500,
          52000,
          30050,
          39000,
          34900,
          63000,
          30000,
          29000,
          41000,
          41150,
          29499,
          59500,
          27000,
          35500,
          29799,
          29600,
          25000,
          36000,
          49000,
          35000,
          57000,
          29669,
          37000,
          64000,
          29700,
          35000,
          49000,
          51490,
          41500,
          35000,
          27900,
          29630,
          29750,
          36000,
          49321,
          49900,
          31500,
          69000,
          29800
         ],
         "xaxis": "x",
         "y": [
          3.15,
          3.5,
          3.25,
          3.2,
          3.38,
          3.4,
          3.16,
          3.12,
          3.12,
          3.66,
          3.55,
          3.42,
          3.6,
          3.7,
          3.45,
          3.55,
          3.57,
          3.2,
          3.2,
          3.25,
          3.3,
          3.3,
          3.75,
          3.37,
          null,
          3.31,
          3.6,
          3.29,
          3.55,
          3.2,
          3.1,
          3.2,
          3.2,
          3.27,
          3,
          3.3,
          3.4,
          3.23,
          3.7,
          null,
          3.4,
          3.53,
          3.3,
          3.3,
          3,
          3.27,
          3.51,
          3.52,
          3.4,
          3.12,
          3.14,
          3.16,
          3.75,
          3.42,
          3.25,
          3.3,
          2.85,
          3.25,
          3.4,
          3.49,
          3.3,
          3.15,
          3.49,
          3.2,
          3.43,
          3.3,
          3.2,
          3.35,
          3.2,
          3.24,
          3.35,
          3.1,
          3.3,
          3.2,
          3.35,
          3.24,
          3.2,
          3.1,
          3.2,
          3.67,
          3.56,
          3.3,
          3,
          3.28,
          3.2,
          3.4,
          3.07,
          3.2,
          3,
          null,
          3.22,
          3.23,
          3,
          3.31,
          3.6,
          3.45,
          3,
          3.5,
          3.28,
          3.03,
          3.5,
          3.3,
          3.7,
          3.38,
          3.3,
          3.23,
          3.22,
          3.39,
          3.2,
          3.3,
          3,
          3.25,
          3.17,
          3.32,
          3.16,
          3.2,
          3.24,
          3,
          3.5,
          3.3,
          3.18,
          3.15,
          3.78,
          null,
          3.3,
          3.2,
          3.3,
          null,
          3.5,
          2.73,
          3.1,
          null,
          3.1,
          2.8,
          3,
          3.55,
          3.3,
          3.62,
          3.2,
          3.41,
          3.6,
          3.31,
          3.27,
          3.63,
          3.47,
          3.2,
          3.35,
          3.08,
          3,
          3.1,
          3.2,
          3.34,
          3.4,
          3.4,
          3.82,
          null
         ],
         "yaxis": "y"
        }
       ],
       "layout": {
        "coloraxis": {
         "colorbar": {
          "title": {
           "text": "LSAT"
          }
         },
         "colorscale": [
          [
           0,
           "#0d0887"
          ],
          [
           0.1111111111111111,
           "#46039f"
          ],
          [
           0.2222222222222222,
           "#7201a8"
          ],
          [
           0.3333333333333333,
           "#9c179e"
          ],
          [
           0.4444444444444444,
           "#bd3786"
          ],
          [
           0.5555555555555556,
           "#d8576b"
          ],
          [
           0.6666666666666666,
           "#ed7953"
          ],
          [
           0.7777777777777778,
           "#fb9f3a"
          ],
          [
           0.8888888888888888,
           "#fdca26"
          ],
          [
           1,
           "#f0f921"
          ]
         ]
        },
        "legend": {
         "itemsizing": "constant",
         "tracegroupgap": 0
        },
        "margin": {
         "t": 60
        },
        "template": {
         "data": {
          "bar": [
           {
            "error_x": {
             "color": "#2a3f5f"
            },
            "error_y": {
             "color": "#2a3f5f"
            },
            "marker": {
             "line": {
              "color": "#E5ECF6",
              "width": 0.5
             },
             "pattern": {
              "fillmode": "overlay",
              "size": 10,
              "solidity": 0.2
             }
            },
            "type": "bar"
           }
          ],
          "barpolar": [
           {
            "marker": {
             "line": {
              "color": "#E5ECF6",
              "width": 0.5
             },
             "pattern": {
              "fillmode": "overlay",
              "size": 10,
              "solidity": 0.2
             }
            },
            "type": "barpolar"
           }
          ],
          "carpet": [
           {
            "aaxis": {
             "endlinecolor": "#2a3f5f",
             "gridcolor": "white",
             "linecolor": "white",
             "minorgridcolor": "white",
             "startlinecolor": "#2a3f5f"
            },
            "baxis": {
             "endlinecolor": "#2a3f5f",
             "gridcolor": "white",
             "linecolor": "white",
             "minorgridcolor": "white",
             "startlinecolor": "#2a3f5f"
            },
            "type": "carpet"
           }
          ],
          "choropleth": [
           {
            "colorbar": {
             "outlinewidth": 0,
             "ticks": ""
            },
            "type": "choropleth"
           }
          ],
          "contour": [
           {
            "colorbar": {
             "outlinewidth": 0,
             "ticks": ""
            },
            "colorscale": [
             [
              0,
              "#0d0887"
             ],
             [
              0.1111111111111111,
              "#46039f"
             ],
             [
              0.2222222222222222,
              "#7201a8"
             ],
             [
              0.3333333333333333,
              "#9c179e"
             ],
             [
              0.4444444444444444,
              "#bd3786"
             ],
             [
              0.5555555555555556,
              "#d8576b"
             ],
             [
              0.6666666666666666,
              "#ed7953"
             ],
             [
              0.7777777777777778,
              "#fb9f3a"
             ],
             [
              0.8888888888888888,
              "#fdca26"
             ],
             [
              1,
              "#f0f921"
             ]
            ],
            "type": "contour"
           }
          ],
          "contourcarpet": [
           {
            "colorbar": {
             "outlinewidth": 0,
             "ticks": ""
            },
            "type": "contourcarpet"
           }
          ],
          "heatmap": [
           {
            "colorbar": {
             "outlinewidth": 0,
             "ticks": ""
            },
            "colorscale": [
             [
              0,
              "#0d0887"
             ],
             [
              0.1111111111111111,
              "#46039f"
             ],
             [
              0.2222222222222222,
              "#7201a8"
             ],
             [
              0.3333333333333333,
              "#9c179e"
             ],
             [
              0.4444444444444444,
              "#bd3786"
             ],
             [
              0.5555555555555556,
              "#d8576b"
             ],
             [
              0.6666666666666666,
              "#ed7953"
             ],
             [
              0.7777777777777778,
              "#fb9f3a"
             ],
             [
              0.8888888888888888,
              "#fdca26"
             ],
             [
              1,
              "#f0f921"
             ]
            ],
            "type": "heatmap"
           }
          ],
          "heatmapgl": [
           {
            "colorbar": {
             "outlinewidth": 0,
             "ticks": ""
            },
            "colorscale": [
             [
              0,
              "#0d0887"
             ],
             [
              0.1111111111111111,
              "#46039f"
             ],
             [
              0.2222222222222222,
              "#7201a8"
             ],
             [
              0.3333333333333333,
              "#9c179e"
             ],
             [
              0.4444444444444444,
              "#bd3786"
             ],
             [
              0.5555555555555556,
              "#d8576b"
             ],
             [
              0.6666666666666666,
              "#ed7953"
             ],
             [
              0.7777777777777778,
              "#fb9f3a"
             ],
             [
              0.8888888888888888,
              "#fdca26"
             ],
             [
              1,
              "#f0f921"
             ]
            ],
            "type": "heatmapgl"
           }
          ],
          "histogram": [
           {
            "marker": {
             "pattern": {
              "fillmode": "overlay",
              "size": 10,
              "solidity": 0.2
             }
            },
            "type": "histogram"
           }
          ],
          "histogram2d": [
           {
            "colorbar": {
             "outlinewidth": 0,
             "ticks": ""
            },
            "colorscale": [
             [
              0,
              "#0d0887"
             ],
             [
              0.1111111111111111,
              "#46039f"
             ],
             [
              0.2222222222222222,
              "#7201a8"
             ],
             [
              0.3333333333333333,
              "#9c179e"
             ],
             [
              0.4444444444444444,
              "#bd3786"
             ],
             [
              0.5555555555555556,
              "#d8576b"
             ],
             [
              0.6666666666666666,
              "#ed7953"
             ],
             [
              0.7777777777777778,
              "#fb9f3a"
             ],
             [
              0.8888888888888888,
              "#fdca26"
             ],
             [
              1,
              "#f0f921"
             ]
            ],
            "type": "histogram2d"
           }
          ],
          "histogram2dcontour": [
           {
            "colorbar": {
             "outlinewidth": 0,
             "ticks": ""
            },
            "colorscale": [
             [
              0,
              "#0d0887"
             ],
             [
              0.1111111111111111,
              "#46039f"
             ],
             [
              0.2222222222222222,
              "#7201a8"
             ],
             [
              0.3333333333333333,
              "#9c179e"
             ],
             [
              0.4444444444444444,
              "#bd3786"
             ],
             [
              0.5555555555555556,
              "#d8576b"
             ],
             [
              0.6666666666666666,
              "#ed7953"
             ],
             [
              0.7777777777777778,
              "#fb9f3a"
             ],
             [
              0.8888888888888888,
              "#fdca26"
             ],
             [
              1,
              "#f0f921"
             ]
            ],
            "type": "histogram2dcontour"
           }
          ],
          "mesh3d": [
           {
            "colorbar": {
             "outlinewidth": 0,
             "ticks": ""
            },
            "type": "mesh3d"
           }
          ],
          "parcoords": [
           {
            "line": {
             "colorbar": {
              "outlinewidth": 0,
              "ticks": ""
             }
            },
            "type": "parcoords"
           }
          ],
          "pie": [
           {
            "automargin": true,
            "type": "pie"
           }
          ],
          "scatter": [
           {
            "marker": {
             "colorbar": {
              "outlinewidth": 0,
              "ticks": ""
             }
            },
            "type": "scatter"
           }
          ],
          "scatter3d": [
           {
            "line": {
             "colorbar": {
              "outlinewidth": 0,
              "ticks": ""
             }
            },
            "marker": {
             "colorbar": {
              "outlinewidth": 0,
              "ticks": ""
             }
            },
            "type": "scatter3d"
           }
          ],
          "scattercarpet": [
           {
            "marker": {
             "colorbar": {
              "outlinewidth": 0,
              "ticks": ""
             }
            },
            "type": "scattercarpet"
           }
          ],
          "scattergeo": [
           {
            "marker": {
             "colorbar": {
              "outlinewidth": 0,
              "ticks": ""
             }
            },
            "type": "scattergeo"
           }
          ],
          "scattergl": [
           {
            "marker": {
             "colorbar": {
              "outlinewidth": 0,
              "ticks": ""
             }
            },
            "type": "scattergl"
           }
          ],
          "scattermapbox": [
           {
            "marker": {
             "colorbar": {
              "outlinewidth": 0,
              "ticks": ""
             }
            },
            "type": "scattermapbox"
           }
          ],
          "scatterpolar": [
           {
            "marker": {
             "colorbar": {
              "outlinewidth": 0,
              "ticks": ""
             }
            },
            "type": "scatterpolar"
           }
          ],
          "scatterpolargl": [
           {
            "marker": {
             "colorbar": {
              "outlinewidth": 0,
              "ticks": ""
             }
            },
            "type": "scatterpolargl"
           }
          ],
          "scatterternary": [
           {
            "marker": {
             "colorbar": {
              "outlinewidth": 0,
              "ticks": ""
             }
            },
            "type": "scatterternary"
           }
          ],
          "surface": [
           {
            "colorbar": {
             "outlinewidth": 0,
             "ticks": ""
            },
            "colorscale": [
             [
              0,
              "#0d0887"
             ],
             [
              0.1111111111111111,
              "#46039f"
             ],
             [
              0.2222222222222222,
              "#7201a8"
             ],
             [
              0.3333333333333333,
              "#9c179e"
             ],
             [
              0.4444444444444444,
              "#bd3786"
             ],
             [
              0.5555555555555556,
              "#d8576b"
             ],
             [
              0.6666666666666666,
              "#ed7953"
             ],
             [
              0.7777777777777778,
              "#fb9f3a"
             ],
             [
              0.8888888888888888,
              "#fdca26"
             ],
             [
              1,
              "#f0f921"
             ]
            ],
            "type": "surface"
           }
          ],
          "table": [
           {
            "cells": {
             "fill": {
              "color": "#EBF0F8"
             },
             "line": {
              "color": "white"
             }
            },
            "header": {
             "fill": {
              "color": "#C8D4E3"
             },
             "line": {
              "color": "white"
             }
            },
            "type": "table"
           }
          ]
         },
         "layout": {
          "annotationdefaults": {
           "arrowcolor": "#2a3f5f",
           "arrowhead": 0,
           "arrowwidth": 1
          },
          "autotypenumbers": "strict",
          "coloraxis": {
           "colorbar": {
            "outlinewidth": 0,
            "ticks": ""
           }
          },
          "colorscale": {
           "diverging": [
            [
             0,
             "#8e0152"
            ],
            [
             0.1,
             "#c51b7d"
            ],
            [
             0.2,
             "#de77ae"
            ],
            [
             0.3,
             "#f1b6da"
            ],
            [
             0.4,
             "#fde0ef"
            ],
            [
             0.5,
             "#f7f7f7"
            ],
            [
             0.6,
             "#e6f5d0"
            ],
            [
             0.7,
             "#b8e186"
            ],
            [
             0.8,
             "#7fbc41"
            ],
            [
             0.9,
             "#4d9221"
            ],
            [
             1,
             "#276419"
            ]
           ],
           "sequential": [
            [
             0,
             "#0d0887"
            ],
            [
             0.1111111111111111,
             "#46039f"
            ],
            [
             0.2222222222222222,
             "#7201a8"
            ],
            [
             0.3333333333333333,
             "#9c179e"
            ],
            [
             0.4444444444444444,
             "#bd3786"
            ],
            [
             0.5555555555555556,
             "#d8576b"
            ],
            [
             0.6666666666666666,
             "#ed7953"
            ],
            [
             0.7777777777777778,
             "#fb9f3a"
            ],
            [
             0.8888888888888888,
             "#fdca26"
            ],
            [
             1,
             "#f0f921"
            ]
           ],
           "sequentialminus": [
            [
             0,
             "#0d0887"
            ],
            [
             0.1111111111111111,
             "#46039f"
            ],
            [
             0.2222222222222222,
             "#7201a8"
            ],
            [
             0.3333333333333333,
             "#9c179e"
            ],
            [
             0.4444444444444444,
             "#bd3786"
            ],
            [
             0.5555555555555556,
             "#d8576b"
            ],
            [
             0.6666666666666666,
             "#ed7953"
            ],
            [
             0.7777777777777778,
             "#fb9f3a"
            ],
            [
             0.8888888888888888,
             "#fdca26"
            ],
            [
             1,
             "#f0f921"
            ]
           ]
          },
          "colorway": [
           "#636efa",
           "#EF553B",
           "#00cc96",
           "#ab63fa",
           "#FFA15A",
           "#19d3f3",
           "#FF6692",
           "#B6E880",
           "#FF97FF",
           "#FECB52"
          ],
          "font": {
           "color": "#2a3f5f"
          },
          "geo": {
           "bgcolor": "white",
           "lakecolor": "white",
           "landcolor": "#E5ECF6",
           "showlakes": true,
           "showland": true,
           "subunitcolor": "white"
          },
          "hoverlabel": {
           "align": "left"
          },
          "hovermode": "closest",
          "mapbox": {
           "style": "light"
          },
          "paper_bgcolor": "white",
          "plot_bgcolor": "#E5ECF6",
          "polar": {
           "angularaxis": {
            "gridcolor": "white",
            "linecolor": "white",
            "ticks": ""
           },
           "bgcolor": "#E5ECF6",
           "radialaxis": {
            "gridcolor": "white",
            "linecolor": "white",
            "ticks": ""
           }
          },
          "scene": {
           "xaxis": {
            "backgroundcolor": "#E5ECF6",
            "gridcolor": "white",
            "gridwidth": 2,
            "linecolor": "white",
            "showbackground": true,
            "ticks": "",
            "zerolinecolor": "white"
           },
           "yaxis": {
            "backgroundcolor": "#E5ECF6",
            "gridcolor": "white",
            "gridwidth": 2,
            "linecolor": "white",
            "showbackground": true,
            "ticks": "",
            "zerolinecolor": "white"
           },
           "zaxis": {
            "backgroundcolor": "#E5ECF6",
            "gridcolor": "white",
            "gridwidth": 2,
            "linecolor": "white",
            "showbackground": true,
            "ticks": "",
            "zerolinecolor": "white"
           }
          },
          "shapedefaults": {
           "line": {
            "color": "#2a3f5f"
           }
          },
          "ternary": {
           "aaxis": {
            "gridcolor": "white",
            "linecolor": "white",
            "ticks": ""
           },
           "baxis": {
            "gridcolor": "white",
            "linecolor": "white",
            "ticks": ""
           },
           "bgcolor": "#E5ECF6",
           "caxis": {
            "gridcolor": "white",
            "linecolor": "white",
            "ticks": ""
           }
          },
          "title": {
           "x": 0.05
          },
          "xaxis": {
           "automargin": true,
           "gridcolor": "white",
           "linecolor": "white",
           "ticks": "",
           "title": {
            "standoff": 15
           },
           "zerolinecolor": "white",
           "zerolinewidth": 2
          },
          "yaxis": {
           "automargin": true,
           "gridcolor": "white",
           "linecolor": "white",
           "ticks": "",
           "title": {
            "standoff": 15
           },
           "zerolinecolor": "white",
           "zerolinewidth": 2
          }
         }
        },
        "xaxis": {
         "anchor": "y",
         "domain": [
          0,
          1
         ],
         "title": {
          "text": "salary"
         }
        },
        "yaxis": {
         "anchor": "x",
         "domain": [
          0,
          1
         ],
         "title": {
          "text": "GPA"
         }
        }
       }
      }
     },
     "metadata": {},
     "output_type": "display_data"
    }
   ],
   "source": [
    "px.scatter(df, 'salary', 'GPA', color='LSAT', size='rank')"
   ]
  },
  {
   "cell_type": "code",
   "execution_count": 15,
   "metadata": {},
   "outputs": [
    {
     "data": {
      "application/vnd.plotly.v1+json": {
       "config": {
        "plotlyServerURL": "https://plot.ly"
       },
       "data": [
        {
         "hovertemplate": "salary=%{x}<br>GPA=%{y}<br>rank=%{marker.size}<br>LSAT=%{marker.color}<extra></extra>",
         "legendgroup": "",
         "marker": {
          "color": [
           155,
           160,
           155,
           157,
           162,
           161,
           155,
           152,
           155,
           160,
           165,
           163,
           162,
           167,
           164,
           163,
           165,
           156,
           156,
           154,
           160,
           158,
           168,
           162,
           null,
           164,
           168,
           160,
           163,
           154,
           156,
           155,
           158,
           158,
           155,
           155,
           156,
           155,
           169,
           null,
           163,
           162,
           158,
           163,
           154,
           160,
           163,
           166,
           163,
           159,
           158,
           154,
           168,
           160,
           158,
           159,
           152,
           152,
           161,
           160,
           159,
           140,
           159,
           158,
           159,
           160,
           161,
           156,
           157,
           160,
           161,
           152,
           157,
           157,
           160,
           157,
           154,
           157,
           155,
           168,
           163,
           153,
           153,
           154,
           155,
           156,
           152,
           158,
           154,
           null,
           152,
           159,
           157,
           151,
           162,
           161,
           156,
           161,
           154,
           151,
           160,
           159,
           165,
           146,
           159,
           161,
           157,
           161,
           158,
           156,
           154,
           160,
           159,
           159,
           155,
           157,
           156,
           155,
           164,
           156,
           159,
           157,
           167,
           null,
           158,
           155,
           157,
           null,
           163,
           145,
           157,
           149,
           157,
           152,
           155,
           161,
           155,
           164,
           159,
           160,
           164,
           162,
           154,
           163,
           163,
           160,
           158,
           153,
           155,
           154,
           157,
           162,
           161,
           157,
           171,
           null
          ],
          "coloraxis": "coloraxis",
          "size": [
           128,
           104,
           34,
           49,
           95,
           98,
           124,
           157,
           145,
           91,
           50,
           23,
           78,
           5,
           27,
           19,
           13,
           115,
           171,
           131,
           72,
           55,
           4,
           90,
           133,
           65,
           7,
           84,
           10,
           112,
           137,
           141,
           47,
           82,
           144,
           76,
           94,
           88,
           9,
           89,
           43,
           59,
           81,
           22,
           142,
           127,
           31,
           18,
           46,
           175,
           79,
           74,
           1,
           139,
           28,
           48,
           116,
           132,
           38,
           30,
           109,
           172,
           17,
           113,
           62,
           92,
           123,
           83,
           93,
           73,
           36,
           155,
           150,
           40,
           57,
           37,
           140,
           105,
           107,
           2,
           20,
           54,
           85,
           96,
           122,
           97,
           114,
           125,
           86,
           11,
           163,
           110,
           160,
           167,
           14,
           35,
           136,
           33,
           80,
           134,
           53,
           162,
           8,
           165,
           129,
           148,
           64,
           60,
           70,
           68,
           151,
           52,
           56,
           61,
           87,
           118,
           153,
           168,
           26,
           106,
           42,
           75,
           6,
           146,
           108,
           51,
           45,
           117,
           12,
           170,
           101,
           121,
           154,
           174,
           100,
           29,
           69,
           16,
           152,
           63,
           15,
           111,
           102,
           25,
           16,
           41,
           67,
           135,
           156,
           138,
           66,
           17,
           21,
           143,
           3,
           120
          ],
          "sizemode": "area",
          "sizeref": 0.4375,
          "symbol": "circle"
         },
         "mode": "markers",
         "name": "",
         "orientation": "v",
         "showlegend": false,
         "type": "scatter",
         "x": [
          31400,
          33098,
          32870,
          35000,
          33606,
          31700,
          30410,
          30150,
          31300,
          33200,
          34900,
          55413,
          33750,
          65000,
          null,
          62000,
          63000,
          31300,
          28500,
          30100,
          33650,
          40325,
          70000,
          32800,
          null,
          35000,
          78325,
          null,
          67500,
          null,
          29800,
          28900,
          42300,
          32900,
          29200,
          34500,
          null,
          32300,
          60172,
          32093,
          46103,
          null,
          33900,
          64880,
          29336,
          null,
          61000,
          62705,
          45889,
          null,
          34130,
          34400,
          67815,
          30580,
          51082,
          39000,
          29500,
          27000,
          40000,
          50000,
          31000,
          26000,
          63000,
          30000,
          36000,
          33000,
          29750,
          34750,
          33900,
          35000,
          39000,
          29640,
          28420,
          39500,
          38000,
          42000,
          30150,
          30000,
          39900,
          65000,
          49862,
          40591,
          34750,
          36900,
          29750,
          34000,
          29500,
          29500,
          34700,
          56200,
          28800,
          28900,
          30000,
          28000,
          67000,
          53177,
          29699,
          41300,
          34800,
          27000,
          39000,
          26000,
          65000,
          24900,
          28000,
          30135,
          37600,
          39800,
          36000,
          35000,
          29700,
          41000,
          39000,
          38750,
          34700,
          30000,
          29650,
          29500,
          52000,
          30050,
          39000,
          34900,
          63000,
          30000,
          29000,
          41000,
          41150,
          29499,
          59500,
          27000,
          35500,
          29799,
          29600,
          25000,
          36000,
          49000,
          35000,
          57000,
          29669,
          37000,
          64000,
          29700,
          35000,
          49000,
          51490,
          41500,
          35000,
          27900,
          29630,
          29750,
          36000,
          49321,
          49900,
          31500,
          69000,
          29800
         ],
         "xaxis": "x",
         "y": [
          3.15,
          3.5,
          3.25,
          3.2,
          3.38,
          3.4,
          3.16,
          3.12,
          3.12,
          3.66,
          3.55,
          3.42,
          3.6,
          3.7,
          3.45,
          3.55,
          3.57,
          3.2,
          3.2,
          3.25,
          3.3,
          3.3,
          3.75,
          3.37,
          null,
          3.31,
          3.6,
          3.29,
          3.55,
          3.2,
          3.1,
          3.2,
          3.2,
          3.27,
          3,
          3.3,
          3.4,
          3.23,
          3.7,
          null,
          3.4,
          3.53,
          3.3,
          3.3,
          3,
          3.27,
          3.51,
          3.52,
          3.4,
          3.12,
          3.14,
          3.16,
          3.75,
          3.42,
          3.25,
          3.3,
          2.85,
          3.25,
          3.4,
          3.49,
          3.3,
          3.15,
          3.49,
          3.2,
          3.43,
          3.3,
          3.2,
          3.35,
          3.2,
          3.24,
          3.35,
          3.1,
          3.3,
          3.2,
          3.35,
          3.24,
          3.2,
          3.1,
          3.2,
          3.67,
          3.56,
          3.3,
          3,
          3.28,
          3.2,
          3.4,
          3.07,
          3.2,
          3,
          null,
          3.22,
          3.23,
          3,
          3.31,
          3.6,
          3.45,
          3,
          3.5,
          3.28,
          3.03,
          3.5,
          3.3,
          3.7,
          3.38,
          3.3,
          3.23,
          3.22,
          3.39,
          3.2,
          3.3,
          3,
          3.25,
          3.17,
          3.32,
          3.16,
          3.2,
          3.24,
          3,
          3.5,
          3.3,
          3.18,
          3.15,
          3.78,
          null,
          3.3,
          3.2,
          3.3,
          null,
          3.5,
          2.73,
          3.1,
          null,
          3.1,
          2.8,
          3,
          3.55,
          3.3,
          3.62,
          3.2,
          3.41,
          3.6,
          3.31,
          3.27,
          3.63,
          3.47,
          3.2,
          3.35,
          3.08,
          3,
          3.1,
          3.2,
          3.34,
          3.4,
          3.4,
          3.82,
          null
         ],
         "yaxis": "y"
        },
        {
         "hovertemplate": "<b>OLS trendline</b><br>GPA = 1.22173e-05 * salary + 2.82368<br>R<sup>2</sup>=0.546388<br><br>salary=%{x}<br>GPA=%{y} <b>(trend)</b><extra></extra>",
         "legendgroup": "",
         "marker": {
          "symbol": "circle"
         },
         "mode": "lines",
         "name": "",
         "showlegend": false,
         "type": "scatter",
         "x": [
          24900,
          25000,
          26000,
          26000,
          27000,
          27000,
          27000,
          27900,
          28000,
          28000,
          28420,
          28500,
          28800,
          28900,
          28900,
          29000,
          29200,
          29336,
          29500,
          29500,
          29500,
          29500,
          29600,
          29630,
          29640,
          29650,
          29669,
          29699,
          29700,
          29700,
          29750,
          29750,
          29750,
          29800,
          30000,
          30000,
          30000,
          30000,
          30050,
          30100,
          30135,
          30150,
          30150,
          30410,
          30580,
          31000,
          31300,
          31300,
          31400,
          31500,
          31700,
          32300,
          32800,
          32870,
          32900,
          33000,
          33098,
          33200,
          33606,
          33650,
          33750,
          33900,
          33900,
          34000,
          34130,
          34400,
          34500,
          34700,
          34700,
          34750,
          34750,
          34800,
          34900,
          34900,
          35000,
          35000,
          35000,
          35000,
          35000,
          35000,
          35000,
          35500,
          36000,
          36000,
          36000,
          36000,
          36900,
          37000,
          37600,
          38000,
          38750,
          39000,
          39000,
          39000,
          39000,
          39000,
          39500,
          39800,
          39900,
          40000,
          40325,
          40591,
          41000,
          41000,
          41150,
          41300,
          41500,
          42000,
          42300,
          45889,
          46103,
          49000,
          49000,
          49321,
          49862,
          49900,
          50000,
          51082,
          51490,
          52000,
          53177,
          55413,
          57000,
          59500,
          60172,
          61000,
          62000,
          62705,
          63000,
          63000,
          63000,
          64000,
          64880,
          65000,
          65000,
          65000,
          67000,
          67500,
          67815,
          69000,
          70000,
          78325
         ],
         "xaxis": "x",
         "y": [
          3.127885777349606,
          3.129107507203557,
          3.1413248057430634,
          3.1413248057430634,
          3.1535421042825704,
          3.1535421042825704,
          3.1535421042825704,
          3.1645376729681267,
          3.1657594028220775,
          3.1657594028220775,
          3.17089066820867,
          3.1718680520918308,
          3.1755332416536826,
          3.1767549715076333,
          3.1767549715076333,
          3.177976701361584,
          3.1804201610694856,
          3.1820817136708586,
          3.1840853506313374,
          3.1840853506313374,
          3.1840853506313374,
          3.1840853506313374,
          3.185307080485288,
          3.1856735994414733,
          3.1857957724268684,
          3.1859179454122635,
          3.186150074084514,
          3.1865165930406993,
          3.186528810339239,
          3.186528810339239,
          3.1871396752662142,
          3.1871396752662142,
          3.1871396752662142,
          3.1877505401931896,
          3.190193999901091,
          3.190193999901091,
          3.190193999901091,
          3.190193999901091,
          3.1908048648280665,
          3.1914157297550414,
          3.1918433352039246,
          3.1920265946820168,
          3.1920265946820168,
          3.1952030923022887,
          3.197280033054005,
          3.2024112984405977,
          3.20607648800245,
          3.20607648800245,
          3.2072982178564007,
          3.208519947710351,
          3.2109634074182525,
          3.2182937865419565,
          3.2244024358117103,
          3.225257646709476,
          3.225624165665661,
          3.2268458955196113,
          3.228043190776483,
          3.229289355227513,
          3.234249578434553,
          3.234787139570291,
          3.2360088694242415,
          3.2378414642051676,
          3.2378414642051676,
          3.2390631940591184,
          3.2406514428692543,
          3.243950113474921,
          3.2451718433288717,
          3.247615303036773,
          3.247615303036773,
          3.2482261679637485,
          3.2482261679637485,
          3.248837032890724,
          3.2500587627446746,
          3.2500587627446746,
          3.2512804925986254,
          3.2512804925986254,
          3.2512804925986254,
          3.2512804925986254,
          3.2512804925986254,
          3.2512804925986254,
          3.2512804925986254,
          3.2573891418683787,
          3.263497791138132,
          3.263497791138132,
          3.263497791138132,
          3.263497791138132,
          3.2744933598236883,
          3.275715089677639,
          3.283045468801343,
          3.2879323882171456,
          3.297095362121776,
          3.3001496867566527,
          3.3001496867566527,
          3.3001496867566527,
          3.3001496867566527,
          3.3001496867566527,
          3.306258336026406,
          3.309923525588258,
          3.311145255442209,
          3.3123669852961592,
          3.316337607321499,
          3.319587408733008,
          3.3245842838356663,
          3.3245842838356663,
          3.3264168786165924,
          3.3282494733975185,
          3.3306929331054196,
          3.3368015823751733,
          3.340466771937025,
          3.3843146563953153,
          3.38692915828277,
          3.4223226721517213,
          3.4223226721517213,
          3.4262444249829027,
          3.432853983492776,
          3.433318240837277,
          3.434539970691228,
          3.4477590877109745,
          3.452743745515093,
          3.458974567770242,
          3.4733543281512413,
          3.5006722076855787,
          3.520061060467776,
          3.550604306816543,
          3.5588143314350917,
          3.5689302546258035,
          3.5811475531653105,
          3.589760748635663,
          3.593364851704817,
          3.593364851704817,
          3.593364851704817,
          3.605582150244324,
          3.6163333729590903,
          3.6177994487838308,
          3.6177994487838308,
          3.6177994487838308,
          3.6422340458628444,
          3.648342695132598,
          3.6521911441725425,
          3.6666686429418585,
          3.678885941481365,
          3.78059495182276
         ],
         "yaxis": "y"
        }
       ],
       "layout": {
        "coloraxis": {
         "colorbar": {
          "title": {
           "text": "LSAT"
          }
         },
         "colorscale": [
          [
           0,
           "#0d0887"
          ],
          [
           0.1111111111111111,
           "#46039f"
          ],
          [
           0.2222222222222222,
           "#7201a8"
          ],
          [
           0.3333333333333333,
           "#9c179e"
          ],
          [
           0.4444444444444444,
           "#bd3786"
          ],
          [
           0.5555555555555556,
           "#d8576b"
          ],
          [
           0.6666666666666666,
           "#ed7953"
          ],
          [
           0.7777777777777778,
           "#fb9f3a"
          ],
          [
           0.8888888888888888,
           "#fdca26"
          ],
          [
           1,
           "#f0f921"
          ]
         ]
        },
        "legend": {
         "itemsizing": "constant",
         "tracegroupgap": 0
        },
        "margin": {
         "t": 60
        },
        "template": {
         "data": {
          "bar": [
           {
            "error_x": {
             "color": "#2a3f5f"
            },
            "error_y": {
             "color": "#2a3f5f"
            },
            "marker": {
             "line": {
              "color": "#E5ECF6",
              "width": 0.5
             },
             "pattern": {
              "fillmode": "overlay",
              "size": 10,
              "solidity": 0.2
             }
            },
            "type": "bar"
           }
          ],
          "barpolar": [
           {
            "marker": {
             "line": {
              "color": "#E5ECF6",
              "width": 0.5
             },
             "pattern": {
              "fillmode": "overlay",
              "size": 10,
              "solidity": 0.2
             }
            },
            "type": "barpolar"
           }
          ],
          "carpet": [
           {
            "aaxis": {
             "endlinecolor": "#2a3f5f",
             "gridcolor": "white",
             "linecolor": "white",
             "minorgridcolor": "white",
             "startlinecolor": "#2a3f5f"
            },
            "baxis": {
             "endlinecolor": "#2a3f5f",
             "gridcolor": "white",
             "linecolor": "white",
             "minorgridcolor": "white",
             "startlinecolor": "#2a3f5f"
            },
            "type": "carpet"
           }
          ],
          "choropleth": [
           {
            "colorbar": {
             "outlinewidth": 0,
             "ticks": ""
            },
            "type": "choropleth"
           }
          ],
          "contour": [
           {
            "colorbar": {
             "outlinewidth": 0,
             "ticks": ""
            },
            "colorscale": [
             [
              0,
              "#0d0887"
             ],
             [
              0.1111111111111111,
              "#46039f"
             ],
             [
              0.2222222222222222,
              "#7201a8"
             ],
             [
              0.3333333333333333,
              "#9c179e"
             ],
             [
              0.4444444444444444,
              "#bd3786"
             ],
             [
              0.5555555555555556,
              "#d8576b"
             ],
             [
              0.6666666666666666,
              "#ed7953"
             ],
             [
              0.7777777777777778,
              "#fb9f3a"
             ],
             [
              0.8888888888888888,
              "#fdca26"
             ],
             [
              1,
              "#f0f921"
             ]
            ],
            "type": "contour"
           }
          ],
          "contourcarpet": [
           {
            "colorbar": {
             "outlinewidth": 0,
             "ticks": ""
            },
            "type": "contourcarpet"
           }
          ],
          "heatmap": [
           {
            "colorbar": {
             "outlinewidth": 0,
             "ticks": ""
            },
            "colorscale": [
             [
              0,
              "#0d0887"
             ],
             [
              0.1111111111111111,
              "#46039f"
             ],
             [
              0.2222222222222222,
              "#7201a8"
             ],
             [
              0.3333333333333333,
              "#9c179e"
             ],
             [
              0.4444444444444444,
              "#bd3786"
             ],
             [
              0.5555555555555556,
              "#d8576b"
             ],
             [
              0.6666666666666666,
              "#ed7953"
             ],
             [
              0.7777777777777778,
              "#fb9f3a"
             ],
             [
              0.8888888888888888,
              "#fdca26"
             ],
             [
              1,
              "#f0f921"
             ]
            ],
            "type": "heatmap"
           }
          ],
          "heatmapgl": [
           {
            "colorbar": {
             "outlinewidth": 0,
             "ticks": ""
            },
            "colorscale": [
             [
              0,
              "#0d0887"
             ],
             [
              0.1111111111111111,
              "#46039f"
             ],
             [
              0.2222222222222222,
              "#7201a8"
             ],
             [
              0.3333333333333333,
              "#9c179e"
             ],
             [
              0.4444444444444444,
              "#bd3786"
             ],
             [
              0.5555555555555556,
              "#d8576b"
             ],
             [
              0.6666666666666666,
              "#ed7953"
             ],
             [
              0.7777777777777778,
              "#fb9f3a"
             ],
             [
              0.8888888888888888,
              "#fdca26"
             ],
             [
              1,
              "#f0f921"
             ]
            ],
            "type": "heatmapgl"
           }
          ],
          "histogram": [
           {
            "marker": {
             "pattern": {
              "fillmode": "overlay",
              "size": 10,
              "solidity": 0.2
             }
            },
            "type": "histogram"
           }
          ],
          "histogram2d": [
           {
            "colorbar": {
             "outlinewidth": 0,
             "ticks": ""
            },
            "colorscale": [
             [
              0,
              "#0d0887"
             ],
             [
              0.1111111111111111,
              "#46039f"
             ],
             [
              0.2222222222222222,
              "#7201a8"
             ],
             [
              0.3333333333333333,
              "#9c179e"
             ],
             [
              0.4444444444444444,
              "#bd3786"
             ],
             [
              0.5555555555555556,
              "#d8576b"
             ],
             [
              0.6666666666666666,
              "#ed7953"
             ],
             [
              0.7777777777777778,
              "#fb9f3a"
             ],
             [
              0.8888888888888888,
              "#fdca26"
             ],
             [
              1,
              "#f0f921"
             ]
            ],
            "type": "histogram2d"
           }
          ],
          "histogram2dcontour": [
           {
            "colorbar": {
             "outlinewidth": 0,
             "ticks": ""
            },
            "colorscale": [
             [
              0,
              "#0d0887"
             ],
             [
              0.1111111111111111,
              "#46039f"
             ],
             [
              0.2222222222222222,
              "#7201a8"
             ],
             [
              0.3333333333333333,
              "#9c179e"
             ],
             [
              0.4444444444444444,
              "#bd3786"
             ],
             [
              0.5555555555555556,
              "#d8576b"
             ],
             [
              0.6666666666666666,
              "#ed7953"
             ],
             [
              0.7777777777777778,
              "#fb9f3a"
             ],
             [
              0.8888888888888888,
              "#fdca26"
             ],
             [
              1,
              "#f0f921"
             ]
            ],
            "type": "histogram2dcontour"
           }
          ],
          "mesh3d": [
           {
            "colorbar": {
             "outlinewidth": 0,
             "ticks": ""
            },
            "type": "mesh3d"
           }
          ],
          "parcoords": [
           {
            "line": {
             "colorbar": {
              "outlinewidth": 0,
              "ticks": ""
             }
            },
            "type": "parcoords"
           }
          ],
          "pie": [
           {
            "automargin": true,
            "type": "pie"
           }
          ],
          "scatter": [
           {
            "marker": {
             "colorbar": {
              "outlinewidth": 0,
              "ticks": ""
             }
            },
            "type": "scatter"
           }
          ],
          "scatter3d": [
           {
            "line": {
             "colorbar": {
              "outlinewidth": 0,
              "ticks": ""
             }
            },
            "marker": {
             "colorbar": {
              "outlinewidth": 0,
              "ticks": ""
             }
            },
            "type": "scatter3d"
           }
          ],
          "scattercarpet": [
           {
            "marker": {
             "colorbar": {
              "outlinewidth": 0,
              "ticks": ""
             }
            },
            "type": "scattercarpet"
           }
          ],
          "scattergeo": [
           {
            "marker": {
             "colorbar": {
              "outlinewidth": 0,
              "ticks": ""
             }
            },
            "type": "scattergeo"
           }
          ],
          "scattergl": [
           {
            "marker": {
             "colorbar": {
              "outlinewidth": 0,
              "ticks": ""
             }
            },
            "type": "scattergl"
           }
          ],
          "scattermapbox": [
           {
            "marker": {
             "colorbar": {
              "outlinewidth": 0,
              "ticks": ""
             }
            },
            "type": "scattermapbox"
           }
          ],
          "scatterpolar": [
           {
            "marker": {
             "colorbar": {
              "outlinewidth": 0,
              "ticks": ""
             }
            },
            "type": "scatterpolar"
           }
          ],
          "scatterpolargl": [
           {
            "marker": {
             "colorbar": {
              "outlinewidth": 0,
              "ticks": ""
             }
            },
            "type": "scatterpolargl"
           }
          ],
          "scatterternary": [
           {
            "marker": {
             "colorbar": {
              "outlinewidth": 0,
              "ticks": ""
             }
            },
            "type": "scatterternary"
           }
          ],
          "surface": [
           {
            "colorbar": {
             "outlinewidth": 0,
             "ticks": ""
            },
            "colorscale": [
             [
              0,
              "#0d0887"
             ],
             [
              0.1111111111111111,
              "#46039f"
             ],
             [
              0.2222222222222222,
              "#7201a8"
             ],
             [
              0.3333333333333333,
              "#9c179e"
             ],
             [
              0.4444444444444444,
              "#bd3786"
             ],
             [
              0.5555555555555556,
              "#d8576b"
             ],
             [
              0.6666666666666666,
              "#ed7953"
             ],
             [
              0.7777777777777778,
              "#fb9f3a"
             ],
             [
              0.8888888888888888,
              "#fdca26"
             ],
             [
              1,
              "#f0f921"
             ]
            ],
            "type": "surface"
           }
          ],
          "table": [
           {
            "cells": {
             "fill": {
              "color": "#EBF0F8"
             },
             "line": {
              "color": "white"
             }
            },
            "header": {
             "fill": {
              "color": "#C8D4E3"
             },
             "line": {
              "color": "white"
             }
            },
            "type": "table"
           }
          ]
         },
         "layout": {
          "annotationdefaults": {
           "arrowcolor": "#2a3f5f",
           "arrowhead": 0,
           "arrowwidth": 1
          },
          "autotypenumbers": "strict",
          "coloraxis": {
           "colorbar": {
            "outlinewidth": 0,
            "ticks": ""
           }
          },
          "colorscale": {
           "diverging": [
            [
             0,
             "#8e0152"
            ],
            [
             0.1,
             "#c51b7d"
            ],
            [
             0.2,
             "#de77ae"
            ],
            [
             0.3,
             "#f1b6da"
            ],
            [
             0.4,
             "#fde0ef"
            ],
            [
             0.5,
             "#f7f7f7"
            ],
            [
             0.6,
             "#e6f5d0"
            ],
            [
             0.7,
             "#b8e186"
            ],
            [
             0.8,
             "#7fbc41"
            ],
            [
             0.9,
             "#4d9221"
            ],
            [
             1,
             "#276419"
            ]
           ],
           "sequential": [
            [
             0,
             "#0d0887"
            ],
            [
             0.1111111111111111,
             "#46039f"
            ],
            [
             0.2222222222222222,
             "#7201a8"
            ],
            [
             0.3333333333333333,
             "#9c179e"
            ],
            [
             0.4444444444444444,
             "#bd3786"
            ],
            [
             0.5555555555555556,
             "#d8576b"
            ],
            [
             0.6666666666666666,
             "#ed7953"
            ],
            [
             0.7777777777777778,
             "#fb9f3a"
            ],
            [
             0.8888888888888888,
             "#fdca26"
            ],
            [
             1,
             "#f0f921"
            ]
           ],
           "sequentialminus": [
            [
             0,
             "#0d0887"
            ],
            [
             0.1111111111111111,
             "#46039f"
            ],
            [
             0.2222222222222222,
             "#7201a8"
            ],
            [
             0.3333333333333333,
             "#9c179e"
            ],
            [
             0.4444444444444444,
             "#bd3786"
            ],
            [
             0.5555555555555556,
             "#d8576b"
            ],
            [
             0.6666666666666666,
             "#ed7953"
            ],
            [
             0.7777777777777778,
             "#fb9f3a"
            ],
            [
             0.8888888888888888,
             "#fdca26"
            ],
            [
             1,
             "#f0f921"
            ]
           ]
          },
          "colorway": [
           "#636efa",
           "#EF553B",
           "#00cc96",
           "#ab63fa",
           "#FFA15A",
           "#19d3f3",
           "#FF6692",
           "#B6E880",
           "#FF97FF",
           "#FECB52"
          ],
          "font": {
           "color": "#2a3f5f"
          },
          "geo": {
           "bgcolor": "white",
           "lakecolor": "white",
           "landcolor": "#E5ECF6",
           "showlakes": true,
           "showland": true,
           "subunitcolor": "white"
          },
          "hoverlabel": {
           "align": "left"
          },
          "hovermode": "closest",
          "mapbox": {
           "style": "light"
          },
          "paper_bgcolor": "white",
          "plot_bgcolor": "#E5ECF6",
          "polar": {
           "angularaxis": {
            "gridcolor": "white",
            "linecolor": "white",
            "ticks": ""
           },
           "bgcolor": "#E5ECF6",
           "radialaxis": {
            "gridcolor": "white",
            "linecolor": "white",
            "ticks": ""
           }
          },
          "scene": {
           "xaxis": {
            "backgroundcolor": "#E5ECF6",
            "gridcolor": "white",
            "gridwidth": 2,
            "linecolor": "white",
            "showbackground": true,
            "ticks": "",
            "zerolinecolor": "white"
           },
           "yaxis": {
            "backgroundcolor": "#E5ECF6",
            "gridcolor": "white",
            "gridwidth": 2,
            "linecolor": "white",
            "showbackground": true,
            "ticks": "",
            "zerolinecolor": "white"
           },
           "zaxis": {
            "backgroundcolor": "#E5ECF6",
            "gridcolor": "white",
            "gridwidth": 2,
            "linecolor": "white",
            "showbackground": true,
            "ticks": "",
            "zerolinecolor": "white"
           }
          },
          "shapedefaults": {
           "line": {
            "color": "#2a3f5f"
           }
          },
          "ternary": {
           "aaxis": {
            "gridcolor": "white",
            "linecolor": "white",
            "ticks": ""
           },
           "baxis": {
            "gridcolor": "white",
            "linecolor": "white",
            "ticks": ""
           },
           "bgcolor": "#E5ECF6",
           "caxis": {
            "gridcolor": "white",
            "linecolor": "white",
            "ticks": ""
           }
          },
          "title": {
           "x": 0.05
          },
          "xaxis": {
           "automargin": true,
           "gridcolor": "white",
           "linecolor": "white",
           "ticks": "",
           "title": {
            "standoff": 15
           },
           "zerolinecolor": "white",
           "zerolinewidth": 2
          },
          "yaxis": {
           "automargin": true,
           "gridcolor": "white",
           "linecolor": "white",
           "ticks": "",
           "title": {
            "standoff": 15
           },
           "zerolinecolor": "white",
           "zerolinewidth": 2
          }
         }
        },
        "xaxis": {
         "anchor": "y",
         "domain": [
          0,
          1
         ],
         "title": {
          "text": "salary"
         }
        },
        "yaxis": {
         "anchor": "x",
         "domain": [
          0,
          1
         ],
         "title": {
          "text": "GPA"
         }
        }
       }
      }
     },
     "metadata": {},
     "output_type": "display_data"
    }
   ],
   "source": [
    "px.scatter(df, 'salary', 'GPA', color='LSAT', size='rank', trendline='ols')"
   ]
  },
  {
   "cell_type": "code",
   "execution_count": 23,
   "metadata": {},
   "outputs": [
    {
     "data": {
      "application/vnd.plotly.v1+json": {
       "config": {
        "plotlyServerURL": "https://plot.ly"
       },
       "data": [
        {
         "alignmentgroup": "True",
         "bingroup": "x",
         "hovertemplate": "salary=%{x}<br>count=%{y}<extra></extra>",
         "legendgroup": "",
         "marker": {
          "color": "#636efa",
          "pattern": {
           "shape": ""
          }
         },
         "name": "",
         "offsetgroup": "",
         "orientation": "v",
         "showlegend": false,
         "type": "histogram",
         "x": [
          31400,
          33098,
          32870,
          35000,
          33606,
          31700,
          30410,
          30150,
          31300,
          33200,
          34900,
          55413,
          33750,
          65000,
          null,
          62000,
          63000,
          31300,
          28500,
          30100,
          33650,
          40325,
          70000,
          32800,
          null,
          35000,
          78325,
          null,
          67500,
          null,
          29800,
          28900,
          42300,
          32900,
          29200,
          34500,
          null,
          32300,
          60172,
          32093,
          46103,
          null,
          33900,
          64880,
          29336,
          null,
          61000,
          62705,
          45889,
          null,
          34130,
          34400,
          67815,
          30580,
          51082,
          39000,
          29500,
          27000,
          40000,
          50000,
          31000,
          26000,
          63000,
          30000,
          36000,
          33000,
          29750,
          34750,
          33900,
          35000,
          39000,
          29640,
          28420,
          39500,
          38000,
          42000,
          30150,
          30000,
          39900,
          65000,
          49862,
          40591,
          34750,
          36900,
          29750,
          34000,
          29500,
          29500,
          34700,
          56200,
          28800,
          28900,
          30000,
          28000,
          67000,
          53177,
          29699,
          41300,
          34800,
          27000,
          39000,
          26000,
          65000,
          24900,
          28000,
          30135,
          37600,
          39800,
          36000,
          35000,
          29700,
          41000,
          39000,
          38750,
          34700,
          30000,
          29650,
          29500,
          52000,
          30050,
          39000,
          34900,
          63000,
          30000,
          29000,
          41000,
          41150,
          29499,
          59500,
          27000,
          35500,
          29799,
          29600,
          25000,
          36000,
          49000,
          35000,
          57000,
          29669,
          37000,
          64000,
          29700,
          35000,
          49000,
          51490,
          41500,
          35000,
          27900,
          29630,
          29750,
          36000,
          49321,
          49900,
          31500,
          69000,
          29800
         ],
         "xaxis": "x",
         "yaxis": "y"
        }
       ],
       "layout": {
        "barmode": "relative",
        "legend": {
         "tracegroupgap": 0
        },
        "margin": {
         "t": 60
        },
        "template": {
         "data": {
          "bar": [
           {
            "error_x": {
             "color": "#2a3f5f"
            },
            "error_y": {
             "color": "#2a3f5f"
            },
            "marker": {
             "line": {
              "color": "#E5ECF6",
              "width": 0.5
             },
             "pattern": {
              "fillmode": "overlay",
              "size": 10,
              "solidity": 0.2
             }
            },
            "type": "bar"
           }
          ],
          "barpolar": [
           {
            "marker": {
             "line": {
              "color": "#E5ECF6",
              "width": 0.5
             },
             "pattern": {
              "fillmode": "overlay",
              "size": 10,
              "solidity": 0.2
             }
            },
            "type": "barpolar"
           }
          ],
          "carpet": [
           {
            "aaxis": {
             "endlinecolor": "#2a3f5f",
             "gridcolor": "white",
             "linecolor": "white",
             "minorgridcolor": "white",
             "startlinecolor": "#2a3f5f"
            },
            "baxis": {
             "endlinecolor": "#2a3f5f",
             "gridcolor": "white",
             "linecolor": "white",
             "minorgridcolor": "white",
             "startlinecolor": "#2a3f5f"
            },
            "type": "carpet"
           }
          ],
          "choropleth": [
           {
            "colorbar": {
             "outlinewidth": 0,
             "ticks": ""
            },
            "type": "choropleth"
           }
          ],
          "contour": [
           {
            "colorbar": {
             "outlinewidth": 0,
             "ticks": ""
            },
            "colorscale": [
             [
              0,
              "#0d0887"
             ],
             [
              0.1111111111111111,
              "#46039f"
             ],
             [
              0.2222222222222222,
              "#7201a8"
             ],
             [
              0.3333333333333333,
              "#9c179e"
             ],
             [
              0.4444444444444444,
              "#bd3786"
             ],
             [
              0.5555555555555556,
              "#d8576b"
             ],
             [
              0.6666666666666666,
              "#ed7953"
             ],
             [
              0.7777777777777778,
              "#fb9f3a"
             ],
             [
              0.8888888888888888,
              "#fdca26"
             ],
             [
              1,
              "#f0f921"
             ]
            ],
            "type": "contour"
           }
          ],
          "contourcarpet": [
           {
            "colorbar": {
             "outlinewidth": 0,
             "ticks": ""
            },
            "type": "contourcarpet"
           }
          ],
          "heatmap": [
           {
            "colorbar": {
             "outlinewidth": 0,
             "ticks": ""
            },
            "colorscale": [
             [
              0,
              "#0d0887"
             ],
             [
              0.1111111111111111,
              "#46039f"
             ],
             [
              0.2222222222222222,
              "#7201a8"
             ],
             [
              0.3333333333333333,
              "#9c179e"
             ],
             [
              0.4444444444444444,
              "#bd3786"
             ],
             [
              0.5555555555555556,
              "#d8576b"
             ],
             [
              0.6666666666666666,
              "#ed7953"
             ],
             [
              0.7777777777777778,
              "#fb9f3a"
             ],
             [
              0.8888888888888888,
              "#fdca26"
             ],
             [
              1,
              "#f0f921"
             ]
            ],
            "type": "heatmap"
           }
          ],
          "heatmapgl": [
           {
            "colorbar": {
             "outlinewidth": 0,
             "ticks": ""
            },
            "colorscale": [
             [
              0,
              "#0d0887"
             ],
             [
              0.1111111111111111,
              "#46039f"
             ],
             [
              0.2222222222222222,
              "#7201a8"
             ],
             [
              0.3333333333333333,
              "#9c179e"
             ],
             [
              0.4444444444444444,
              "#bd3786"
             ],
             [
              0.5555555555555556,
              "#d8576b"
             ],
             [
              0.6666666666666666,
              "#ed7953"
             ],
             [
              0.7777777777777778,
              "#fb9f3a"
             ],
             [
              0.8888888888888888,
              "#fdca26"
             ],
             [
              1,
              "#f0f921"
             ]
            ],
            "type": "heatmapgl"
           }
          ],
          "histogram": [
           {
            "marker": {
             "pattern": {
              "fillmode": "overlay",
              "size": 10,
              "solidity": 0.2
             }
            },
            "type": "histogram"
           }
          ],
          "histogram2d": [
           {
            "colorbar": {
             "outlinewidth": 0,
             "ticks": ""
            },
            "colorscale": [
             [
              0,
              "#0d0887"
             ],
             [
              0.1111111111111111,
              "#46039f"
             ],
             [
              0.2222222222222222,
              "#7201a8"
             ],
             [
              0.3333333333333333,
              "#9c179e"
             ],
             [
              0.4444444444444444,
              "#bd3786"
             ],
             [
              0.5555555555555556,
              "#d8576b"
             ],
             [
              0.6666666666666666,
              "#ed7953"
             ],
             [
              0.7777777777777778,
              "#fb9f3a"
             ],
             [
              0.8888888888888888,
              "#fdca26"
             ],
             [
              1,
              "#f0f921"
             ]
            ],
            "type": "histogram2d"
           }
          ],
          "histogram2dcontour": [
           {
            "colorbar": {
             "outlinewidth": 0,
             "ticks": ""
            },
            "colorscale": [
             [
              0,
              "#0d0887"
             ],
             [
              0.1111111111111111,
              "#46039f"
             ],
             [
              0.2222222222222222,
              "#7201a8"
             ],
             [
              0.3333333333333333,
              "#9c179e"
             ],
             [
              0.4444444444444444,
              "#bd3786"
             ],
             [
              0.5555555555555556,
              "#d8576b"
             ],
             [
              0.6666666666666666,
              "#ed7953"
             ],
             [
              0.7777777777777778,
              "#fb9f3a"
             ],
             [
              0.8888888888888888,
              "#fdca26"
             ],
             [
              1,
              "#f0f921"
             ]
            ],
            "type": "histogram2dcontour"
           }
          ],
          "mesh3d": [
           {
            "colorbar": {
             "outlinewidth": 0,
             "ticks": ""
            },
            "type": "mesh3d"
           }
          ],
          "parcoords": [
           {
            "line": {
             "colorbar": {
              "outlinewidth": 0,
              "ticks": ""
             }
            },
            "type": "parcoords"
           }
          ],
          "pie": [
           {
            "automargin": true,
            "type": "pie"
           }
          ],
          "scatter": [
           {
            "marker": {
             "colorbar": {
              "outlinewidth": 0,
              "ticks": ""
             }
            },
            "type": "scatter"
           }
          ],
          "scatter3d": [
           {
            "line": {
             "colorbar": {
              "outlinewidth": 0,
              "ticks": ""
             }
            },
            "marker": {
             "colorbar": {
              "outlinewidth": 0,
              "ticks": ""
             }
            },
            "type": "scatter3d"
           }
          ],
          "scattercarpet": [
           {
            "marker": {
             "colorbar": {
              "outlinewidth": 0,
              "ticks": ""
             }
            },
            "type": "scattercarpet"
           }
          ],
          "scattergeo": [
           {
            "marker": {
             "colorbar": {
              "outlinewidth": 0,
              "ticks": ""
             }
            },
            "type": "scattergeo"
           }
          ],
          "scattergl": [
           {
            "marker": {
             "colorbar": {
              "outlinewidth": 0,
              "ticks": ""
             }
            },
            "type": "scattergl"
           }
          ],
          "scattermapbox": [
           {
            "marker": {
             "colorbar": {
              "outlinewidth": 0,
              "ticks": ""
             }
            },
            "type": "scattermapbox"
           }
          ],
          "scatterpolar": [
           {
            "marker": {
             "colorbar": {
              "outlinewidth": 0,
              "ticks": ""
             }
            },
            "type": "scatterpolar"
           }
          ],
          "scatterpolargl": [
           {
            "marker": {
             "colorbar": {
              "outlinewidth": 0,
              "ticks": ""
             }
            },
            "type": "scatterpolargl"
           }
          ],
          "scatterternary": [
           {
            "marker": {
             "colorbar": {
              "outlinewidth": 0,
              "ticks": ""
             }
            },
            "type": "scatterternary"
           }
          ],
          "surface": [
           {
            "colorbar": {
             "outlinewidth": 0,
             "ticks": ""
            },
            "colorscale": [
             [
              0,
              "#0d0887"
             ],
             [
              0.1111111111111111,
              "#46039f"
             ],
             [
              0.2222222222222222,
              "#7201a8"
             ],
             [
              0.3333333333333333,
              "#9c179e"
             ],
             [
              0.4444444444444444,
              "#bd3786"
             ],
             [
              0.5555555555555556,
              "#d8576b"
             ],
             [
              0.6666666666666666,
              "#ed7953"
             ],
             [
              0.7777777777777778,
              "#fb9f3a"
             ],
             [
              0.8888888888888888,
              "#fdca26"
             ],
             [
              1,
              "#f0f921"
             ]
            ],
            "type": "surface"
           }
          ],
          "table": [
           {
            "cells": {
             "fill": {
              "color": "#EBF0F8"
             },
             "line": {
              "color": "white"
             }
            },
            "header": {
             "fill": {
              "color": "#C8D4E3"
             },
             "line": {
              "color": "white"
             }
            },
            "type": "table"
           }
          ]
         },
         "layout": {
          "annotationdefaults": {
           "arrowcolor": "#2a3f5f",
           "arrowhead": 0,
           "arrowwidth": 1
          },
          "autotypenumbers": "strict",
          "coloraxis": {
           "colorbar": {
            "outlinewidth": 0,
            "ticks": ""
           }
          },
          "colorscale": {
           "diverging": [
            [
             0,
             "#8e0152"
            ],
            [
             0.1,
             "#c51b7d"
            ],
            [
             0.2,
             "#de77ae"
            ],
            [
             0.3,
             "#f1b6da"
            ],
            [
             0.4,
             "#fde0ef"
            ],
            [
             0.5,
             "#f7f7f7"
            ],
            [
             0.6,
             "#e6f5d0"
            ],
            [
             0.7,
             "#b8e186"
            ],
            [
             0.8,
             "#7fbc41"
            ],
            [
             0.9,
             "#4d9221"
            ],
            [
             1,
             "#276419"
            ]
           ],
           "sequential": [
            [
             0,
             "#0d0887"
            ],
            [
             0.1111111111111111,
             "#46039f"
            ],
            [
             0.2222222222222222,
             "#7201a8"
            ],
            [
             0.3333333333333333,
             "#9c179e"
            ],
            [
             0.4444444444444444,
             "#bd3786"
            ],
            [
             0.5555555555555556,
             "#d8576b"
            ],
            [
             0.6666666666666666,
             "#ed7953"
            ],
            [
             0.7777777777777778,
             "#fb9f3a"
            ],
            [
             0.8888888888888888,
             "#fdca26"
            ],
            [
             1,
             "#f0f921"
            ]
           ],
           "sequentialminus": [
            [
             0,
             "#0d0887"
            ],
            [
             0.1111111111111111,
             "#46039f"
            ],
            [
             0.2222222222222222,
             "#7201a8"
            ],
            [
             0.3333333333333333,
             "#9c179e"
            ],
            [
             0.4444444444444444,
             "#bd3786"
            ],
            [
             0.5555555555555556,
             "#d8576b"
            ],
            [
             0.6666666666666666,
             "#ed7953"
            ],
            [
             0.7777777777777778,
             "#fb9f3a"
            ],
            [
             0.8888888888888888,
             "#fdca26"
            ],
            [
             1,
             "#f0f921"
            ]
           ]
          },
          "colorway": [
           "#636efa",
           "#EF553B",
           "#00cc96",
           "#ab63fa",
           "#FFA15A",
           "#19d3f3",
           "#FF6692",
           "#B6E880",
           "#FF97FF",
           "#FECB52"
          ],
          "font": {
           "color": "#2a3f5f"
          },
          "geo": {
           "bgcolor": "white",
           "lakecolor": "white",
           "landcolor": "#E5ECF6",
           "showlakes": true,
           "showland": true,
           "subunitcolor": "white"
          },
          "hoverlabel": {
           "align": "left"
          },
          "hovermode": "closest",
          "mapbox": {
           "style": "light"
          },
          "paper_bgcolor": "white",
          "plot_bgcolor": "#E5ECF6",
          "polar": {
           "angularaxis": {
            "gridcolor": "white",
            "linecolor": "white",
            "ticks": ""
           },
           "bgcolor": "#E5ECF6",
           "radialaxis": {
            "gridcolor": "white",
            "linecolor": "white",
            "ticks": ""
           }
          },
          "scene": {
           "xaxis": {
            "backgroundcolor": "#E5ECF6",
            "gridcolor": "white",
            "gridwidth": 2,
            "linecolor": "white",
            "showbackground": true,
            "ticks": "",
            "zerolinecolor": "white"
           },
           "yaxis": {
            "backgroundcolor": "#E5ECF6",
            "gridcolor": "white",
            "gridwidth": 2,
            "linecolor": "white",
            "showbackground": true,
            "ticks": "",
            "zerolinecolor": "white"
           },
           "zaxis": {
            "backgroundcolor": "#E5ECF6",
            "gridcolor": "white",
            "gridwidth": 2,
            "linecolor": "white",
            "showbackground": true,
            "ticks": "",
            "zerolinecolor": "white"
           }
          },
          "shapedefaults": {
           "line": {
            "color": "#2a3f5f"
           }
          },
          "ternary": {
           "aaxis": {
            "gridcolor": "white",
            "linecolor": "white",
            "ticks": ""
           },
           "baxis": {
            "gridcolor": "white",
            "linecolor": "white",
            "ticks": ""
           },
           "bgcolor": "#E5ECF6",
           "caxis": {
            "gridcolor": "white",
            "linecolor": "white",
            "ticks": ""
           }
          },
          "title": {
           "x": 0.05
          },
          "xaxis": {
           "automargin": true,
           "gridcolor": "white",
           "linecolor": "white",
           "ticks": "",
           "title": {
            "standoff": 15
           },
           "zerolinecolor": "white",
           "zerolinewidth": 2
          },
          "yaxis": {
           "automargin": true,
           "gridcolor": "white",
           "linecolor": "white",
           "ticks": "",
           "title": {
            "standoff": 15
           },
           "zerolinecolor": "white",
           "zerolinewidth": 2
          }
         }
        },
        "xaxis": {
         "anchor": "y",
         "domain": [
          0,
          1
         ],
         "title": {
          "text": "salary"
         }
        },
        "yaxis": {
         "anchor": "x",
         "domain": [
          0,
          1
         ],
         "title": {
          "text": "count"
         }
        }
       }
      }
     },
     "metadata": {},
     "output_type": "display_data"
    }
   ],
   "source": [
    "px.histogram(df, 'salary')"
   ]
  },
  {
   "cell_type": "code",
   "execution_count": 24,
   "metadata": {},
   "outputs": [
    {
     "data": {
      "application/vnd.plotly.v1+json": {
       "config": {
        "plotlyServerURL": "https://plot.ly"
       },
       "data": [
        {
         "hovertemplate": "<b>%{hovertext}</b><br><br>continent=Asia<br>year=1952<br>gdpPercap=%{x}<br>lifeExp=%{y}<br>pop=%{marker.size}<extra></extra>",
         "hovertext": [
          "Afghanistan",
          "Bahrain",
          "Bangladesh",
          "Cambodia",
          "China",
          "Hong Kong, China",
          "India",
          "Indonesia",
          "Iran",
          "Iraq",
          "Israel",
          "Japan",
          "Jordan",
          "Korea, Dem. Rep.",
          "Korea, Rep.",
          "Kuwait",
          "Lebanon",
          "Malaysia",
          "Mongolia",
          "Myanmar",
          "Nepal",
          "Oman",
          "Pakistan",
          "Philippines",
          "Saudi Arabia",
          "Singapore",
          "Sri Lanka",
          "Syria",
          "Taiwan",
          "Thailand",
          "Vietnam",
          "West Bank and Gaza",
          "Yemen, Rep."
         ],
         "ids": [
          "Afghanistan",
          "Bahrain",
          "Bangladesh",
          "Cambodia",
          "China",
          "Hong Kong, China",
          "India",
          "Indonesia",
          "Iran",
          "Iraq",
          "Israel",
          "Japan",
          "Jordan",
          "Korea, Dem. Rep.",
          "Korea, Rep.",
          "Kuwait",
          "Lebanon",
          "Malaysia",
          "Mongolia",
          "Myanmar",
          "Nepal",
          "Oman",
          "Pakistan",
          "Philippines",
          "Saudi Arabia",
          "Singapore",
          "Sri Lanka",
          "Syria",
          "Taiwan",
          "Thailand",
          "Vietnam",
          "West Bank and Gaza",
          "Yemen, Rep."
         ],
         "legendgroup": "Asia",
         "marker": {
          "color": "#636efa",
          "size": [
           8425333,
           120447,
           46886859,
           4693836,
           556263527,
           2125900,
           372000000,
           82052000,
           17272000,
           5441766,
           1620914,
           86459025,
           607914,
           8865488,
           20947571,
           160000,
           1439529,
           6748378,
           800663,
           20092996,
           9182536,
           507833,
           41346560,
           22438691,
           4005677,
           1127000,
           7982342,
           3661549,
           8550362,
           21289402,
           26246839,
           1030585,
           4963829
          ],
          "sizemode": "area",
          "sizeref": 435928.2961983471,
          "symbol": "circle"
         },
         "mode": "markers",
         "name": "Asia",
         "orientation": "v",
         "showlegend": true,
         "type": "scatter",
         "x": [
          779.4453145,
          9867.084765,
          684.2441716,
          368.4692856,
          400.448611,
          3054.421209,
          546.5657493,
          749.6816546,
          3035.326002,
          4129.766056,
          4086.522128,
          3216.956347,
          1546.907807,
          1088.277758,
          1030.592226,
          108382.3529,
          4834.804067,
          1831.132894,
          786.5668575,
          331,
          545.8657228999998,
          1828.230307,
          684.5971437999998,
          1272.880995,
          6459.554823,
          2315.138227,
          1083.53203,
          1643.485354,
          1206.947913,
          757.7974177,
          605.0664917,
          1515.5923289999996,
          781.7175761
         ],
         "xaxis": "x",
         "y": [
          28.801,
          50.93899999999999,
          37.484,
          39.417,
          44,
          60.96,
          37.37300000000001,
          37.468,
          44.869,
          45.32,
          65.39,
          63.03,
          43.158,
          50.056,
          47.453,
          55.565,
          55.928,
          48.463,
          42.244,
          36.319,
          36.157,
          37.578,
          43.43600000000001,
          47.752,
          39.875,
          60.396,
          57.593,
          45.883,
          58.5,
          50.848,
          40.412,
          43.16,
          32.548
         ],
         "yaxis": "y"
        },
        {
         "hovertemplate": "<b>%{hovertext}</b><br><br>continent=Europe<br>year=1952<br>gdpPercap=%{x}<br>lifeExp=%{y}<br>pop=%{marker.size}<extra></extra>",
         "hovertext": [
          "Albania",
          "Austria",
          "Belgium",
          "Bosnia and Herzegovina",
          "Bulgaria",
          "Croatia",
          "Czech Republic",
          "Denmark",
          "Finland",
          "France",
          "Germany",
          "Greece",
          "Hungary",
          "Iceland",
          "Ireland",
          "Italy",
          "Montenegro",
          "Netherlands",
          "Norway",
          "Poland",
          "Portugal",
          "Romania",
          "Serbia",
          "Slovak Republic",
          "Slovenia",
          "Spain",
          "Sweden",
          "Switzerland",
          "Turkey",
          "United Kingdom"
         ],
         "ids": [
          "Albania",
          "Austria",
          "Belgium",
          "Bosnia and Herzegovina",
          "Bulgaria",
          "Croatia",
          "Czech Republic",
          "Denmark",
          "Finland",
          "France",
          "Germany",
          "Greece",
          "Hungary",
          "Iceland",
          "Ireland",
          "Italy",
          "Montenegro",
          "Netherlands",
          "Norway",
          "Poland",
          "Portugal",
          "Romania",
          "Serbia",
          "Slovak Republic",
          "Slovenia",
          "Spain",
          "Sweden",
          "Switzerland",
          "Turkey",
          "United Kingdom"
         ],
         "legendgroup": "Europe",
         "marker": {
          "color": "#EF553B",
          "size": [
           1282697,
           6927772,
           8730405,
           2791000,
           7274900,
           3882229,
           9125183,
           4334000,
           4090500,
           42459667,
           69145952,
           7733250,
           9504000,
           147962,
           2952156,
           47666000,
           413834,
           10381988,
           3327728,
           25730551,
           8526050,
           16630000,
           6860147,
           3558137,
           1489518,
           28549870,
           7124673,
           4815000,
           22235677,
           50430000
          ],
          "sizemode": "area",
          "sizeref": 435928.2961983471,
          "symbol": "circle"
         },
         "mode": "markers",
         "name": "Europe",
         "orientation": "v",
         "showlegend": true,
         "type": "scatter",
         "x": [
          1601.056136,
          6137.076492,
          8343.105126999999,
          973.5331948,
          2444.286648,
          3119.23652,
          6876.14025,
          9692.385245,
          6424.519071,
          7029.809327,
          7144.114393000002,
          3530.690067,
          5263.673816,
          7267.688428,
          5210.280328,
          4931.404154999998,
          2647.585601,
          8941.571858,
          10095.42172,
          4029.329699,
          3068.319867,
          3144.613186,
          3581.459448,
          5074.659104,
          4215.041741,
          3834.034742,
          8527.844662000001,
          14734.23275,
          1969.10098,
          9979.508487
         ],
         "xaxis": "x",
         "y": [
          55.23,
          66.8,
          68,
          53.82,
          59.6,
          61.21,
          66.87,
          70.78,
          66.55,
          67.41,
          67.5,
          65.86,
          64.03,
          72.49,
          66.91,
          65.94,
          59.164,
          72.13,
          72.67,
          61.31,
          59.82,
          61.05,
          57.996,
          64.36,
          65.57,
          64.94,
          71.86,
          69.62,
          43.585,
          69.18
         ],
         "yaxis": "y"
        },
        {
         "hovertemplate": "<b>%{hovertext}</b><br><br>continent=Africa<br>year=1952<br>gdpPercap=%{x}<br>lifeExp=%{y}<br>pop=%{marker.size}<extra></extra>",
         "hovertext": [
          "Algeria",
          "Angola",
          "Benin",
          "Botswana",
          "Burkina Faso",
          "Burundi",
          "Cameroon",
          "Central African Republic",
          "Chad",
          "Comoros",
          "Congo, Dem. Rep.",
          "Congo, Rep.",
          "Cote d'Ivoire",
          "Djibouti",
          "Egypt",
          "Equatorial Guinea",
          "Eritrea",
          "Ethiopia",
          "Gabon",
          "Gambia",
          "Ghana",
          "Guinea",
          "Guinea-Bissau",
          "Kenya",
          "Lesotho",
          "Liberia",
          "Libya",
          "Madagascar",
          "Malawi",
          "Mali",
          "Mauritania",
          "Mauritius",
          "Morocco",
          "Mozambique",
          "Namibia",
          "Niger",
          "Nigeria",
          "Reunion",
          "Rwanda",
          "Sao Tome and Principe",
          "Senegal",
          "Sierra Leone",
          "Somalia",
          "South Africa",
          "Sudan",
          "Swaziland",
          "Tanzania",
          "Togo",
          "Tunisia",
          "Uganda",
          "Zambia",
          "Zimbabwe"
         ],
         "ids": [
          "Algeria",
          "Angola",
          "Benin",
          "Botswana",
          "Burkina Faso",
          "Burundi",
          "Cameroon",
          "Central African Republic",
          "Chad",
          "Comoros",
          "Congo, Dem. Rep.",
          "Congo, Rep.",
          "Cote d'Ivoire",
          "Djibouti",
          "Egypt",
          "Equatorial Guinea",
          "Eritrea",
          "Ethiopia",
          "Gabon",
          "Gambia",
          "Ghana",
          "Guinea",
          "Guinea-Bissau",
          "Kenya",
          "Lesotho",
          "Liberia",
          "Libya",
          "Madagascar",
          "Malawi",
          "Mali",
          "Mauritania",
          "Mauritius",
          "Morocco",
          "Mozambique",
          "Namibia",
          "Niger",
          "Nigeria",
          "Reunion",
          "Rwanda",
          "Sao Tome and Principe",
          "Senegal",
          "Sierra Leone",
          "Somalia",
          "South Africa",
          "Sudan",
          "Swaziland",
          "Tanzania",
          "Togo",
          "Tunisia",
          "Uganda",
          "Zambia",
          "Zimbabwe"
         ],
         "legendgroup": "Africa",
         "marker": {
          "color": "#00cc96",
          "size": [
           9279525,
           4232095,
           1738315,
           442308,
           4469979,
           2445618,
           5009067,
           1291695,
           2682462,
           153936,
           14100005,
           854885,
           2977019,
           63149,
           22223309,
           216964,
           1438760,
           20860941,
           420702,
           284320,
           5581001,
           2664249,
           580653,
           6464046,
           748747,
           863308,
           1019729,
           4762912,
           2917802,
           3838168,
           1022556,
           516556,
           9939217,
           6446316,
           485831,
           3379468,
           33119096,
           257700,
           2534927,
           60011,
           2755589,
           2143249,
           2526994,
           14264935,
           8504667,
           290243,
           8322925,
           1219113,
           3647735,
           5824797,
           2672000,
           3080907
          ],
          "sizemode": "area",
          "sizeref": 435928.2961983471,
          "symbol": "circle"
         },
         "mode": "markers",
         "name": "Africa",
         "orientation": "v",
         "showlegend": true,
         "type": "scatter",
         "x": [
          2449.008185,
          3520.610273,
          1062.7522,
          851.2411407,
          543.2552413,
          339.2964587,
          1172.667655,
          1071.310713,
          1178.665927,
          1102.990936,
          780.5423257,
          2125.621418,
          1388.594732,
          2669.529475,
          1418.822445,
          375.6431231,
          328.9405571000001,
          362.1462796,
          4293.476475,
          485.2306591,
          911.2989371,
          510.1964923000001,
          299.850319,
          853.5409189999998,
          298.8462121,
          575.5729961000002,
          2387.54806,
          1443.011715,
          369.1650802,
          452.3369807,
          743.1159097,
          1967.955707,
          1688.20357,
          468.5260381,
          2423.780443,
          761.879376,
          1077.281856,
          2718.885295,
          493.3238752,
          879.5835855,
          1450.356983,
          879.7877358,
          1135.749842,
          4725.295531000002,
          1615.991129,
          1148.376626,
          716.6500721,
          859.8086567,
          1468.475631,
          734.753484,
          1147.388831,
          406.8841148
         ],
         "xaxis": "x",
         "y": [
          43.077,
          30.015,
          38.223,
          47.622,
          31.975,
          39.031,
          38.523,
          35.463,
          38.092,
          40.715,
          39.143,
          42.111,
          40.477,
          34.812,
          41.893,
          34.482,
          35.92800000000001,
          34.078,
          37.003,
          30,
          43.149,
          33.609,
          32.5,
          42.27,
          42.13800000000001,
          38.48,
          42.723,
          36.681,
          36.256,
          33.685,
          40.543,
          50.986,
          42.87300000000001,
          31.286,
          41.725,
          37.444,
          36.324,
          52.724,
          40,
          46.471,
          37.278,
          30.331,
          32.978,
          45.00899999999999,
          38.635,
          41.407,
          41.215,
          38.596,
          44.6,
          39.978,
          42.038,
          48.451
         ],
         "yaxis": "y"
        },
        {
         "hovertemplate": "<b>%{hovertext}</b><br><br>continent=Americas<br>year=1952<br>gdpPercap=%{x}<br>lifeExp=%{y}<br>pop=%{marker.size}<extra></extra>",
         "hovertext": [
          "Argentina",
          "Bolivia",
          "Brazil",
          "Canada",
          "Chile",
          "Colombia",
          "Costa Rica",
          "Cuba",
          "Dominican Republic",
          "Ecuador",
          "El Salvador",
          "Guatemala",
          "Haiti",
          "Honduras",
          "Jamaica",
          "Mexico",
          "Nicaragua",
          "Panama",
          "Paraguay",
          "Peru",
          "Puerto Rico",
          "Trinidad and Tobago",
          "United States",
          "Uruguay",
          "Venezuela"
         ],
         "ids": [
          "Argentina",
          "Bolivia",
          "Brazil",
          "Canada",
          "Chile",
          "Colombia",
          "Costa Rica",
          "Cuba",
          "Dominican Republic",
          "Ecuador",
          "El Salvador",
          "Guatemala",
          "Haiti",
          "Honduras",
          "Jamaica",
          "Mexico",
          "Nicaragua",
          "Panama",
          "Paraguay",
          "Peru",
          "Puerto Rico",
          "Trinidad and Tobago",
          "United States",
          "Uruguay",
          "Venezuela"
         ],
         "legendgroup": "Americas",
         "marker": {
          "color": "#ab63fa",
          "size": [
           17876956,
           2883315,
           56602560,
           14785584,
           6377619,
           12350771,
           926317,
           6007797,
           2491346,
           3548753,
           2042865,
           3146381,
           3201488,
           1517453,
           1426095,
           30144317,
           1165790,
           940080,
           1555876,
           8025700,
           2227000,
           662850,
           157553000,
           2252965,
           5439568
          ],
          "sizemode": "area",
          "sizeref": 435928.2961983471,
          "symbol": "circle"
         },
         "mode": "markers",
         "name": "Americas",
         "orientation": "v",
         "showlegend": true,
         "type": "scatter",
         "x": [
          5911.315053,
          2677.326347,
          2108.944355,
          11367.16112,
          3939.978789,
          2144.115096,
          2627.0094710000008,
          5586.53878,
          1397.717137,
          3522.110717,
          3048.3029,
          2428.2377690000008,
          1840.366939,
          2194.926204,
          2898.530881,
          3478.125529,
          3112.363948,
          2480.380334,
          1952.308701,
          3758.523437,
          3081.959785,
          3023.271928,
          13990.482080000002,
          5716.766744,
          7689.799761
         ],
         "xaxis": "x",
         "y": [
          62.485,
          40.414,
          50.917,
          68.75,
          54.745,
          50.643,
          57.206,
          59.42100000000001,
          45.928,
          48.357,
          45.262,
          42.023,
          37.579,
          41.912,
          58.53,
          50.789,
          42.31399999999999,
          55.191,
          62.649,
          43.902,
          64.28,
          59.1,
          68.44,
          66.071,
          55.088
         ],
         "yaxis": "y"
        },
        {
         "hovertemplate": "<b>%{hovertext}</b><br><br>continent=Oceania<br>year=1952<br>gdpPercap=%{x}<br>lifeExp=%{y}<br>pop=%{marker.size}<extra></extra>",
         "hovertext": [
          "Australia",
          "New Zealand"
         ],
         "ids": [
          "Australia",
          "New Zealand"
         ],
         "legendgroup": "Oceania",
         "marker": {
          "color": "#FFA15A",
          "size": [
           8691212,
           1994794
          ],
          "sizemode": "area",
          "sizeref": 435928.2961983471,
          "symbol": "circle"
         },
         "mode": "markers",
         "name": "Oceania",
         "orientation": "v",
         "showlegend": true,
         "type": "scatter",
         "x": [
          10039.59564,
          10556.57566
         ],
         "xaxis": "x",
         "y": [
          69.12,
          69.39
         ],
         "yaxis": "y"
        }
       ],
       "frames": [
        {
         "data": [
          {
           "hovertemplate": "<b>%{hovertext}</b><br><br>continent=Asia<br>year=1952<br>gdpPercap=%{x}<br>lifeExp=%{y}<br>pop=%{marker.size}<extra></extra>",
           "hovertext": [
            "Afghanistan",
            "Bahrain",
            "Bangladesh",
            "Cambodia",
            "China",
            "Hong Kong, China",
            "India",
            "Indonesia",
            "Iran",
            "Iraq",
            "Israel",
            "Japan",
            "Jordan",
            "Korea, Dem. Rep.",
            "Korea, Rep.",
            "Kuwait",
            "Lebanon",
            "Malaysia",
            "Mongolia",
            "Myanmar",
            "Nepal",
            "Oman",
            "Pakistan",
            "Philippines",
            "Saudi Arabia",
            "Singapore",
            "Sri Lanka",
            "Syria",
            "Taiwan",
            "Thailand",
            "Vietnam",
            "West Bank and Gaza",
            "Yemen, Rep."
           ],
           "ids": [
            "Afghanistan",
            "Bahrain",
            "Bangladesh",
            "Cambodia",
            "China",
            "Hong Kong, China",
            "India",
            "Indonesia",
            "Iran",
            "Iraq",
            "Israel",
            "Japan",
            "Jordan",
            "Korea, Dem. Rep.",
            "Korea, Rep.",
            "Kuwait",
            "Lebanon",
            "Malaysia",
            "Mongolia",
            "Myanmar",
            "Nepal",
            "Oman",
            "Pakistan",
            "Philippines",
            "Saudi Arabia",
            "Singapore",
            "Sri Lanka",
            "Syria",
            "Taiwan",
            "Thailand",
            "Vietnam",
            "West Bank and Gaza",
            "Yemen, Rep."
           ],
           "legendgroup": "Asia",
           "marker": {
            "color": "#636efa",
            "size": [
             8425333,
             120447,
             46886859,
             4693836,
             556263527,
             2125900,
             372000000,
             82052000,
             17272000,
             5441766,
             1620914,
             86459025,
             607914,
             8865488,
             20947571,
             160000,
             1439529,
             6748378,
             800663,
             20092996,
             9182536,
             507833,
             41346560,
             22438691,
             4005677,
             1127000,
             7982342,
             3661549,
             8550362,
             21289402,
             26246839,
             1030585,
             4963829
            ],
            "sizemode": "area",
            "sizeref": 435928.2961983471,
            "symbol": "circle"
           },
           "mode": "markers",
           "name": "Asia",
           "orientation": "v",
           "showlegend": true,
           "type": "scatter",
           "x": [
            779.4453145,
            9867.084765,
            684.2441716,
            368.4692856,
            400.448611,
            3054.421209,
            546.5657493,
            749.6816546,
            3035.326002,
            4129.766056,
            4086.522128,
            3216.956347,
            1546.907807,
            1088.277758,
            1030.592226,
            108382.3529,
            4834.804067,
            1831.132894,
            786.5668575,
            331,
            545.8657228999998,
            1828.230307,
            684.5971437999998,
            1272.880995,
            6459.554823,
            2315.138227,
            1083.53203,
            1643.485354,
            1206.947913,
            757.7974177,
            605.0664917,
            1515.5923289999996,
            781.7175761
           ],
           "xaxis": "x",
           "y": [
            28.801,
            50.93899999999999,
            37.484,
            39.417,
            44,
            60.96,
            37.37300000000001,
            37.468,
            44.869,
            45.32,
            65.39,
            63.03,
            43.158,
            50.056,
            47.453,
            55.565,
            55.928,
            48.463,
            42.244,
            36.319,
            36.157,
            37.578,
            43.43600000000001,
            47.752,
            39.875,
            60.396,
            57.593,
            45.883,
            58.5,
            50.848,
            40.412,
            43.16,
            32.548
           ],
           "yaxis": "y"
          },
          {
           "hovertemplate": "<b>%{hovertext}</b><br><br>continent=Europe<br>year=1952<br>gdpPercap=%{x}<br>lifeExp=%{y}<br>pop=%{marker.size}<extra></extra>",
           "hovertext": [
            "Albania",
            "Austria",
            "Belgium",
            "Bosnia and Herzegovina",
            "Bulgaria",
            "Croatia",
            "Czech Republic",
            "Denmark",
            "Finland",
            "France",
            "Germany",
            "Greece",
            "Hungary",
            "Iceland",
            "Ireland",
            "Italy",
            "Montenegro",
            "Netherlands",
            "Norway",
            "Poland",
            "Portugal",
            "Romania",
            "Serbia",
            "Slovak Republic",
            "Slovenia",
            "Spain",
            "Sweden",
            "Switzerland",
            "Turkey",
            "United Kingdom"
           ],
           "ids": [
            "Albania",
            "Austria",
            "Belgium",
            "Bosnia and Herzegovina",
            "Bulgaria",
            "Croatia",
            "Czech Republic",
            "Denmark",
            "Finland",
            "France",
            "Germany",
            "Greece",
            "Hungary",
            "Iceland",
            "Ireland",
            "Italy",
            "Montenegro",
            "Netherlands",
            "Norway",
            "Poland",
            "Portugal",
            "Romania",
            "Serbia",
            "Slovak Republic",
            "Slovenia",
            "Spain",
            "Sweden",
            "Switzerland",
            "Turkey",
            "United Kingdom"
           ],
           "legendgroup": "Europe",
           "marker": {
            "color": "#EF553B",
            "size": [
             1282697,
             6927772,
             8730405,
             2791000,
             7274900,
             3882229,
             9125183,
             4334000,
             4090500,
             42459667,
             69145952,
             7733250,
             9504000,
             147962,
             2952156,
             47666000,
             413834,
             10381988,
             3327728,
             25730551,
             8526050,
             16630000,
             6860147,
             3558137,
             1489518,
             28549870,
             7124673,
             4815000,
             22235677,
             50430000
            ],
            "sizemode": "area",
            "sizeref": 435928.2961983471,
            "symbol": "circle"
           },
           "mode": "markers",
           "name": "Europe",
           "orientation": "v",
           "showlegend": true,
           "type": "scatter",
           "x": [
            1601.056136,
            6137.076492,
            8343.105126999999,
            973.5331948,
            2444.286648,
            3119.23652,
            6876.14025,
            9692.385245,
            6424.519071,
            7029.809327,
            7144.114393000002,
            3530.690067,
            5263.673816,
            7267.688428,
            5210.280328,
            4931.404154999998,
            2647.585601,
            8941.571858,
            10095.42172,
            4029.329699,
            3068.319867,
            3144.613186,
            3581.459448,
            5074.659104,
            4215.041741,
            3834.034742,
            8527.844662000001,
            14734.23275,
            1969.10098,
            9979.508487
           ],
           "xaxis": "x",
           "y": [
            55.23,
            66.8,
            68,
            53.82,
            59.6,
            61.21,
            66.87,
            70.78,
            66.55,
            67.41,
            67.5,
            65.86,
            64.03,
            72.49,
            66.91,
            65.94,
            59.164,
            72.13,
            72.67,
            61.31,
            59.82,
            61.05,
            57.996,
            64.36,
            65.57,
            64.94,
            71.86,
            69.62,
            43.585,
            69.18
           ],
           "yaxis": "y"
          },
          {
           "hovertemplate": "<b>%{hovertext}</b><br><br>continent=Africa<br>year=1952<br>gdpPercap=%{x}<br>lifeExp=%{y}<br>pop=%{marker.size}<extra></extra>",
           "hovertext": [
            "Algeria",
            "Angola",
            "Benin",
            "Botswana",
            "Burkina Faso",
            "Burundi",
            "Cameroon",
            "Central African Republic",
            "Chad",
            "Comoros",
            "Congo, Dem. Rep.",
            "Congo, Rep.",
            "Cote d'Ivoire",
            "Djibouti",
            "Egypt",
            "Equatorial Guinea",
            "Eritrea",
            "Ethiopia",
            "Gabon",
            "Gambia",
            "Ghana",
            "Guinea",
            "Guinea-Bissau",
            "Kenya",
            "Lesotho",
            "Liberia",
            "Libya",
            "Madagascar",
            "Malawi",
            "Mali",
            "Mauritania",
            "Mauritius",
            "Morocco",
            "Mozambique",
            "Namibia",
            "Niger",
            "Nigeria",
            "Reunion",
            "Rwanda",
            "Sao Tome and Principe",
            "Senegal",
            "Sierra Leone",
            "Somalia",
            "South Africa",
            "Sudan",
            "Swaziland",
            "Tanzania",
            "Togo",
            "Tunisia",
            "Uganda",
            "Zambia",
            "Zimbabwe"
           ],
           "ids": [
            "Algeria",
            "Angola",
            "Benin",
            "Botswana",
            "Burkina Faso",
            "Burundi",
            "Cameroon",
            "Central African Republic",
            "Chad",
            "Comoros",
            "Congo, Dem. Rep.",
            "Congo, Rep.",
            "Cote d'Ivoire",
            "Djibouti",
            "Egypt",
            "Equatorial Guinea",
            "Eritrea",
            "Ethiopia",
            "Gabon",
            "Gambia",
            "Ghana",
            "Guinea",
            "Guinea-Bissau",
            "Kenya",
            "Lesotho",
            "Liberia",
            "Libya",
            "Madagascar",
            "Malawi",
            "Mali",
            "Mauritania",
            "Mauritius",
            "Morocco",
            "Mozambique",
            "Namibia",
            "Niger",
            "Nigeria",
            "Reunion",
            "Rwanda",
            "Sao Tome and Principe",
            "Senegal",
            "Sierra Leone",
            "Somalia",
            "South Africa",
            "Sudan",
            "Swaziland",
            "Tanzania",
            "Togo",
            "Tunisia",
            "Uganda",
            "Zambia",
            "Zimbabwe"
           ],
           "legendgroup": "Africa",
           "marker": {
            "color": "#00cc96",
            "size": [
             9279525,
             4232095,
             1738315,
             442308,
             4469979,
             2445618,
             5009067,
             1291695,
             2682462,
             153936,
             14100005,
             854885,
             2977019,
             63149,
             22223309,
             216964,
             1438760,
             20860941,
             420702,
             284320,
             5581001,
             2664249,
             580653,
             6464046,
             748747,
             863308,
             1019729,
             4762912,
             2917802,
             3838168,
             1022556,
             516556,
             9939217,
             6446316,
             485831,
             3379468,
             33119096,
             257700,
             2534927,
             60011,
             2755589,
             2143249,
             2526994,
             14264935,
             8504667,
             290243,
             8322925,
             1219113,
             3647735,
             5824797,
             2672000,
             3080907
            ],
            "sizemode": "area",
            "sizeref": 435928.2961983471,
            "symbol": "circle"
           },
           "mode": "markers",
           "name": "Africa",
           "orientation": "v",
           "showlegend": true,
           "type": "scatter",
           "x": [
            2449.008185,
            3520.610273,
            1062.7522,
            851.2411407,
            543.2552413,
            339.2964587,
            1172.667655,
            1071.310713,
            1178.665927,
            1102.990936,
            780.5423257,
            2125.621418,
            1388.594732,
            2669.529475,
            1418.822445,
            375.6431231,
            328.9405571000001,
            362.1462796,
            4293.476475,
            485.2306591,
            911.2989371,
            510.1964923000001,
            299.850319,
            853.5409189999998,
            298.8462121,
            575.5729961000002,
            2387.54806,
            1443.011715,
            369.1650802,
            452.3369807,
            743.1159097,
            1967.955707,
            1688.20357,
            468.5260381,
            2423.780443,
            761.879376,
            1077.281856,
            2718.885295,
            493.3238752,
            879.5835855,
            1450.356983,
            879.7877358,
            1135.749842,
            4725.295531000002,
            1615.991129,
            1148.376626,
            716.6500721,
            859.8086567,
            1468.475631,
            734.753484,
            1147.388831,
            406.8841148
           ],
           "xaxis": "x",
           "y": [
            43.077,
            30.015,
            38.223,
            47.622,
            31.975,
            39.031,
            38.523,
            35.463,
            38.092,
            40.715,
            39.143,
            42.111,
            40.477,
            34.812,
            41.893,
            34.482,
            35.92800000000001,
            34.078,
            37.003,
            30,
            43.149,
            33.609,
            32.5,
            42.27,
            42.13800000000001,
            38.48,
            42.723,
            36.681,
            36.256,
            33.685,
            40.543,
            50.986,
            42.87300000000001,
            31.286,
            41.725,
            37.444,
            36.324,
            52.724,
            40,
            46.471,
            37.278,
            30.331,
            32.978,
            45.00899999999999,
            38.635,
            41.407,
            41.215,
            38.596,
            44.6,
            39.978,
            42.038,
            48.451
           ],
           "yaxis": "y"
          },
          {
           "hovertemplate": "<b>%{hovertext}</b><br><br>continent=Americas<br>year=1952<br>gdpPercap=%{x}<br>lifeExp=%{y}<br>pop=%{marker.size}<extra></extra>",
           "hovertext": [
            "Argentina",
            "Bolivia",
            "Brazil",
            "Canada",
            "Chile",
            "Colombia",
            "Costa Rica",
            "Cuba",
            "Dominican Republic",
            "Ecuador",
            "El Salvador",
            "Guatemala",
            "Haiti",
            "Honduras",
            "Jamaica",
            "Mexico",
            "Nicaragua",
            "Panama",
            "Paraguay",
            "Peru",
            "Puerto Rico",
            "Trinidad and Tobago",
            "United States",
            "Uruguay",
            "Venezuela"
           ],
           "ids": [
            "Argentina",
            "Bolivia",
            "Brazil",
            "Canada",
            "Chile",
            "Colombia",
            "Costa Rica",
            "Cuba",
            "Dominican Republic",
            "Ecuador",
            "El Salvador",
            "Guatemala",
            "Haiti",
            "Honduras",
            "Jamaica",
            "Mexico",
            "Nicaragua",
            "Panama",
            "Paraguay",
            "Peru",
            "Puerto Rico",
            "Trinidad and Tobago",
            "United States",
            "Uruguay",
            "Venezuela"
           ],
           "legendgroup": "Americas",
           "marker": {
            "color": "#ab63fa",
            "size": [
             17876956,
             2883315,
             56602560,
             14785584,
             6377619,
             12350771,
             926317,
             6007797,
             2491346,
             3548753,
             2042865,
             3146381,
             3201488,
             1517453,
             1426095,
             30144317,
             1165790,
             940080,
             1555876,
             8025700,
             2227000,
             662850,
             157553000,
             2252965,
             5439568
            ],
            "sizemode": "area",
            "sizeref": 435928.2961983471,
            "symbol": "circle"
           },
           "mode": "markers",
           "name": "Americas",
           "orientation": "v",
           "showlegend": true,
           "type": "scatter",
           "x": [
            5911.315053,
            2677.326347,
            2108.944355,
            11367.16112,
            3939.978789,
            2144.115096,
            2627.0094710000008,
            5586.53878,
            1397.717137,
            3522.110717,
            3048.3029,
            2428.2377690000008,
            1840.366939,
            2194.926204,
            2898.530881,
            3478.125529,
            3112.363948,
            2480.380334,
            1952.308701,
            3758.523437,
            3081.959785,
            3023.271928,
            13990.482080000002,
            5716.766744,
            7689.799761
           ],
           "xaxis": "x",
           "y": [
            62.485,
            40.414,
            50.917,
            68.75,
            54.745,
            50.643,
            57.206,
            59.42100000000001,
            45.928,
            48.357,
            45.262,
            42.023,
            37.579,
            41.912,
            58.53,
            50.789,
            42.31399999999999,
            55.191,
            62.649,
            43.902,
            64.28,
            59.1,
            68.44,
            66.071,
            55.088
           ],
           "yaxis": "y"
          },
          {
           "hovertemplate": "<b>%{hovertext}</b><br><br>continent=Oceania<br>year=1952<br>gdpPercap=%{x}<br>lifeExp=%{y}<br>pop=%{marker.size}<extra></extra>",
           "hovertext": [
            "Australia",
            "New Zealand"
           ],
           "ids": [
            "Australia",
            "New Zealand"
           ],
           "legendgroup": "Oceania",
           "marker": {
            "color": "#FFA15A",
            "size": [
             8691212,
             1994794
            ],
            "sizemode": "area",
            "sizeref": 435928.2961983471,
            "symbol": "circle"
           },
           "mode": "markers",
           "name": "Oceania",
           "orientation": "v",
           "showlegend": true,
           "type": "scatter",
           "x": [
            10039.59564,
            10556.57566
           ],
           "xaxis": "x",
           "y": [
            69.12,
            69.39
           ],
           "yaxis": "y"
          }
         ],
         "name": "1952"
        },
        {
         "data": [
          {
           "hovertemplate": "<b>%{hovertext}</b><br><br>continent=Asia<br>year=1957<br>gdpPercap=%{x}<br>lifeExp=%{y}<br>pop=%{marker.size}<extra></extra>",
           "hovertext": [
            "Afghanistan",
            "Bahrain",
            "Bangladesh",
            "Cambodia",
            "China",
            "Hong Kong, China",
            "India",
            "Indonesia",
            "Iran",
            "Iraq",
            "Israel",
            "Japan",
            "Jordan",
            "Korea, Dem. Rep.",
            "Korea, Rep.",
            "Kuwait",
            "Lebanon",
            "Malaysia",
            "Mongolia",
            "Myanmar",
            "Nepal",
            "Oman",
            "Pakistan",
            "Philippines",
            "Saudi Arabia",
            "Singapore",
            "Sri Lanka",
            "Syria",
            "Taiwan",
            "Thailand",
            "Vietnam",
            "West Bank and Gaza",
            "Yemen, Rep."
           ],
           "ids": [
            "Afghanistan",
            "Bahrain",
            "Bangladesh",
            "Cambodia",
            "China",
            "Hong Kong, China",
            "India",
            "Indonesia",
            "Iran",
            "Iraq",
            "Israel",
            "Japan",
            "Jordan",
            "Korea, Dem. Rep.",
            "Korea, Rep.",
            "Kuwait",
            "Lebanon",
            "Malaysia",
            "Mongolia",
            "Myanmar",
            "Nepal",
            "Oman",
            "Pakistan",
            "Philippines",
            "Saudi Arabia",
            "Singapore",
            "Sri Lanka",
            "Syria",
            "Taiwan",
            "Thailand",
            "Vietnam",
            "West Bank and Gaza",
            "Yemen, Rep."
           ],
           "legendgroup": "Asia",
           "marker": {
            "color": "#636efa",
            "size": [
             9240934,
             138655,
             51365468,
             5322536,
             637408000,
             2736300,
             409000000,
             90124000,
             19792000,
             6248643,
             1944401,
             91563009,
             746559,
             9411381,
             22611552,
             212846,
             1647412,
             7739235,
             882134,
             21731844,
             9682338,
             561977,
             46679944,
             26072194,
             4419650,
             1445929,
             9128546,
             4149908,
             10164215,
             25041917,
             28998543,
             1070439,
             5498090
            ],
            "sizemode": "area",
            "sizeref": 435928.2961983471,
            "symbol": "circle"
           },
           "mode": "markers",
           "name": "Asia",
           "orientation": "v",
           "showlegend": true,
           "type": "scatter",
           "x": [
            820.8530296,
            11635.79945,
            661.6374577,
            434.0383364,
            575.9870009,
            3629.076457,
            590.061996,
            858.9002707000002,
            3290.257643,
            6229.333562,
            5385.278451,
            4317.694365,
            1886.080591,
            1571.134655,
            1487.593537,
            113523.1329,
            6089.786934000002,
            1810.0669920000007,
            912.6626085,
            350,
            597.9363557999999,
            2242.746551,
            747.0835292,
            1547.944844,
            8157.5912480000015,
            2843.104409,
            1072.546602,
            2117.234893,
            1507.86129,
            793.5774147999998,
            676.2854477999998,
            1827.067742,
            804.8304547
           ],
           "xaxis": "x",
           "y": [
            30.332,
            53.832,
            39.348,
            41.36600000000001,
            50.54896,
            64.75,
            40.249,
            39.918,
            47.181,
            48.437,
            67.84,
            65.5,
            45.669,
            54.081,
            52.681,
            58.033,
            59.489,
            52.102,
            45.24800000000001,
            41.905,
            37.686,
            40.08,
            45.557,
            51.334,
            42.868,
            63.179,
            61.456,
            48.284,
            62.4,
            53.63,
            42.887,
            45.67100000000001,
            33.97
           ],
           "yaxis": "y"
          },
          {
           "hovertemplate": "<b>%{hovertext}</b><br><br>continent=Europe<br>year=1957<br>gdpPercap=%{x}<br>lifeExp=%{y}<br>pop=%{marker.size}<extra></extra>",
           "hovertext": [
            "Albania",
            "Austria",
            "Belgium",
            "Bosnia and Herzegovina",
            "Bulgaria",
            "Croatia",
            "Czech Republic",
            "Denmark",
            "Finland",
            "France",
            "Germany",
            "Greece",
            "Hungary",
            "Iceland",
            "Ireland",
            "Italy",
            "Montenegro",
            "Netherlands",
            "Norway",
            "Poland",
            "Portugal",
            "Romania",
            "Serbia",
            "Slovak Republic",
            "Slovenia",
            "Spain",
            "Sweden",
            "Switzerland",
            "Turkey",
            "United Kingdom"
           ],
           "ids": [
            "Albania",
            "Austria",
            "Belgium",
            "Bosnia and Herzegovina",
            "Bulgaria",
            "Croatia",
            "Czech Republic",
            "Denmark",
            "Finland",
            "France",
            "Germany",
            "Greece",
            "Hungary",
            "Iceland",
            "Ireland",
            "Italy",
            "Montenegro",
            "Netherlands",
            "Norway",
            "Poland",
            "Portugal",
            "Romania",
            "Serbia",
            "Slovak Republic",
            "Slovenia",
            "Spain",
            "Sweden",
            "Switzerland",
            "Turkey",
            "United Kingdom"
           ],
           "legendgroup": "Europe",
           "marker": {
            "color": "#EF553B",
            "size": [
             1476505,
             6965860,
             8989111,
             3076000,
             7651254,
             3991242,
             9513758,
             4487831,
             4324000,
             44310863,
             71019069,
             8096218,
             9839000,
             165110,
             2878220,
             49182000,
             442829,
             11026383,
             3491938,
             28235346,
             8817650,
             17829327,
             7271135,
             3844277,
             1533070,
             29841614,
             7363802,
             5126000,
             25670939,
             51430000
            ],
            "sizemode": "area",
            "sizeref": 435928.2961983471,
            "symbol": "circle"
           },
           "mode": "markers",
           "name": "Europe",
           "orientation": "v",
           "showlegend": true,
           "type": "scatter",
           "x": [
            1942.284244,
            8842.59803,
            9714.960623,
            1353.989176,
            3008.670727,
            4338.231617,
            8256.343918,
            11099.65935,
            7545.415386,
            8662.834898000001,
            10187.82665,
            4916.299889,
            6040.180011,
            9244.001412,
            5599.077872,
            6248.656232,
            3682.259903,
            11276.19344,
            11653.97304,
            4734.253019,
            3774.571743,
            3943.370225,
            4981.090891,
            6093.26298,
            5862.276629,
            4564.80241,
            9911.878226,
            17909.48973,
            2218.754257,
            11283.17795
           ],
           "xaxis": "x",
           "y": [
            59.28,
            67.48,
            69.24,
            58.45,
            66.61,
            64.77,
            69.03,
            71.81,
            67.49,
            68.93,
            69.1,
            67.86,
            66.41,
            73.47,
            68.9,
            67.81,
            61.448,
            72.99,
            73.44,
            65.77,
            61.51,
            64.1,
            61.685,
            67.45,
            67.85,
            66.66,
            72.49,
            70.56,
            48.07899999999999,
            70.42
           ],
           "yaxis": "y"
          },
          {
           "hovertemplate": "<b>%{hovertext}</b><br><br>continent=Africa<br>year=1957<br>gdpPercap=%{x}<br>lifeExp=%{y}<br>pop=%{marker.size}<extra></extra>",
           "hovertext": [
            "Algeria",
            "Angola",
            "Benin",
            "Botswana",
            "Burkina Faso",
            "Burundi",
            "Cameroon",
            "Central African Republic",
            "Chad",
            "Comoros",
            "Congo, Dem. Rep.",
            "Congo, Rep.",
            "Cote d'Ivoire",
            "Djibouti",
            "Egypt",
            "Equatorial Guinea",
            "Eritrea",
            "Ethiopia",
            "Gabon",
            "Gambia",
            "Ghana",
            "Guinea",
            "Guinea-Bissau",
            "Kenya",
            "Lesotho",
            "Liberia",
            "Libya",
            "Madagascar",
            "Malawi",
            "Mali",
            "Mauritania",
            "Mauritius",
            "Morocco",
            "Mozambique",
            "Namibia",
            "Niger",
            "Nigeria",
            "Reunion",
            "Rwanda",
            "Sao Tome and Principe",
            "Senegal",
            "Sierra Leone",
            "Somalia",
            "South Africa",
            "Sudan",
            "Swaziland",
            "Tanzania",
            "Togo",
            "Tunisia",
            "Uganda",
            "Zambia",
            "Zimbabwe"
           ],
           "ids": [
            "Algeria",
            "Angola",
            "Benin",
            "Botswana",
            "Burkina Faso",
            "Burundi",
            "Cameroon",
            "Central African Republic",
            "Chad",
            "Comoros",
            "Congo, Dem. Rep.",
            "Congo, Rep.",
            "Cote d'Ivoire",
            "Djibouti",
            "Egypt",
            "Equatorial Guinea",
            "Eritrea",
            "Ethiopia",
            "Gabon",
            "Gambia",
            "Ghana",
            "Guinea",
            "Guinea-Bissau",
            "Kenya",
            "Lesotho",
            "Liberia",
            "Libya",
            "Madagascar",
            "Malawi",
            "Mali",
            "Mauritania",
            "Mauritius",
            "Morocco",
            "Mozambique",
            "Namibia",
            "Niger",
            "Nigeria",
            "Reunion",
            "Rwanda",
            "Sao Tome and Principe",
            "Senegal",
            "Sierra Leone",
            "Somalia",
            "South Africa",
            "Sudan",
            "Swaziland",
            "Tanzania",
            "Togo",
            "Tunisia",
            "Uganda",
            "Zambia",
            "Zimbabwe"
           ],
           "legendgroup": "Africa",
           "marker": {
            "color": "#00cc96",
            "size": [
             10270856,
             4561361,
             1925173,
             474639,
             4713416,
             2667518,
             5359923,
             1392284,
             2894855,
             170928,
             15577932,
             940458,
             3300000,
             71851,
             25009741,
             232922,
             1542611,
             22815614,
             434904,
             323150,
             6391288,
             2876726,
             601095,
             7454779,
             813338,
             975950,
             1201578,
             5181679,
             3221238,
             4241884,
             1076852,
             609816,
             11406350,
             7038035,
             548080,
             3692184,
             37173340,
             308700,
             2822082,
             61325,
             3054547,
             2295678,
             2780415,
             16151549,
             9753392,
             326741,
             9452826,
             1357445,
             3950849,
             6675501,
             3016000,
             3646340
            ],
            "sizemode": "area",
            "sizeref": 435928.2961983471,
            "symbol": "circle"
           },
           "mode": "markers",
           "name": "Africa",
           "orientation": "v",
           "showlegend": true,
           "type": "scatter",
           "x": [
            3013.976023,
            3827.940465,
            959.6010805,
            918.2325349,
            617.1834647999998,
            379.5646281000001,
            1313.048099,
            1190.844328,
            1308.495577,
            1211.148548,
            905.8602303,
            2315.056572,
            1500.895925,
            2864.9690760000008,
            1458.915272,
            426.0964081,
            344.1618859,
            378.9041632,
            4976.198099,
            520.9267111,
            1043.5615369999996,
            576.2670245,
            431.79045660000014,
            944.4383152,
            335.9971151000001,
            620.9699901,
            3448.284395,
            1589.20275,
            416.3698064,
            490.3821867,
            846.1202613,
            2034.037981,
            1642.002314,
            495.58683330000014,
            2621.448058,
            835.5234025000002,
            1100.5925630000004,
            2769.451844,
            540.2893982999999,
            860.7369026,
            1567.653006,
            1004.484437,
            1258.147413,
            5487.104219,
            1770.3370739999998,
            1244.708364,
            698.5356073,
            925.9083202,
            1395.232468,
            774.3710692000002,
            1311.956766,
            518.7642681
           ],
           "xaxis": "x",
           "y": [
            45.685,
            31.999,
            40.358,
            49.618,
            34.906,
            40.533,
            40.428,
            37.464,
            39.881,
            42.46,
            40.652,
            45.053,
            42.469,
            37.328,
            44.444,
            35.98300000000001,
            38.047,
            36.667,
            38.999,
            32.065,
            44.779,
            34.558,
            33.489000000000004,
            44.68600000000001,
            45.047,
            39.486,
            45.289,
            38.865,
            37.207,
            35.30699999999999,
            42.338,
            58.089,
            45.423,
            33.779,
            45.226000000000006,
            38.598,
            37.802,
            55.09,
            41.5,
            48.945,
            39.329,
            31.57,
            34.977,
            47.985,
            39.624,
            43.424,
            42.974,
            41.208,
            47.1,
            42.57100000000001,
            44.077,
            50.469
           ],
           "yaxis": "y"
          },
          {
           "hovertemplate": "<b>%{hovertext}</b><br><br>continent=Americas<br>year=1957<br>gdpPercap=%{x}<br>lifeExp=%{y}<br>pop=%{marker.size}<extra></extra>",
           "hovertext": [
            "Argentina",
            "Bolivia",
            "Brazil",
            "Canada",
            "Chile",
            "Colombia",
            "Costa Rica",
            "Cuba",
            "Dominican Republic",
            "Ecuador",
            "El Salvador",
            "Guatemala",
            "Haiti",
            "Honduras",
            "Jamaica",
            "Mexico",
            "Nicaragua",
            "Panama",
            "Paraguay",
            "Peru",
            "Puerto Rico",
            "Trinidad and Tobago",
            "United States",
            "Uruguay",
            "Venezuela"
           ],
           "ids": [
            "Argentina",
            "Bolivia",
            "Brazil",
            "Canada",
            "Chile",
            "Colombia",
            "Costa Rica",
            "Cuba",
            "Dominican Republic",
            "Ecuador",
            "El Salvador",
            "Guatemala",
            "Haiti",
            "Honduras",
            "Jamaica",
            "Mexico",
            "Nicaragua",
            "Panama",
            "Paraguay",
            "Peru",
            "Puerto Rico",
            "Trinidad and Tobago",
            "United States",
            "Uruguay",
            "Venezuela"
           ],
           "legendgroup": "Americas",
           "marker": {
            "color": "#ab63fa",
            "size": [
             19610538,
             3211738,
             65551171,
             17010154,
             7048426,
             14485993,
             1112300,
             6640752,
             2923186,
             4058385,
             2355805,
             3640876,
             3507701,
             1770390,
             1535090,
             35015548,
             1358828,
             1063506,
             1770902,
             9146100,
             2260000,
             764900,
             171984000,
             2424959,
             6702668
            ],
            "sizemode": "area",
            "sizeref": 435928.2961983471,
            "symbol": "circle"
           },
           "mode": "markers",
           "name": "Americas",
           "orientation": "v",
           "showlegend": true,
           "type": "scatter",
           "x": [
            6856.8562120000015,
            2127.686326,
            2487.365989,
            12489.95006,
            4315.622723,
            2323.805581,
            2990.010802,
            6092.1743590000015,
            1544.402995,
            3780.546651,
            3421.523218,
            2617.155967,
            1726.887882,
            2220.487682,
            4756.525781,
            4131.546641,
            3457.415947,
            2961.800905,
            2046.154706,
            4245.256697999999,
            3907.156189,
            4100.3934,
            14847.12712,
            6150.772969,
            9802.466526
           ],
           "xaxis": "x",
           "y": [
            64.399,
            41.89,
            53.285,
            69.96,
            56.074,
            55.118,
            60.026,
            62.325,
            49.828,
            51.356,
            48.57,
            44.142,
            40.696,
            44.665,
            62.61,
            55.19,
            45.432,
            59.201,
            63.19600000000001,
            46.26300000000001,
            68.54,
            61.8,
            69.49,
            67.044,
            57.907
           ],
           "yaxis": "y"
          },
          {
           "hovertemplate": "<b>%{hovertext}</b><br><br>continent=Oceania<br>year=1957<br>gdpPercap=%{x}<br>lifeExp=%{y}<br>pop=%{marker.size}<extra></extra>",
           "hovertext": [
            "Australia",
            "New Zealand"
           ],
           "ids": [
            "Australia",
            "New Zealand"
           ],
           "legendgroup": "Oceania",
           "marker": {
            "color": "#FFA15A",
            "size": [
             9712569,
             2229407
            ],
            "sizemode": "area",
            "sizeref": 435928.2961983471,
            "symbol": "circle"
           },
           "mode": "markers",
           "name": "Oceania",
           "orientation": "v",
           "showlegend": true,
           "type": "scatter",
           "x": [
            10949.64959,
            12247.39532
           ],
           "xaxis": "x",
           "y": [
            70.33,
            70.26
           ],
           "yaxis": "y"
          }
         ],
         "name": "1957"
        },
        {
         "data": [
          {
           "hovertemplate": "<b>%{hovertext}</b><br><br>continent=Asia<br>year=1962<br>gdpPercap=%{x}<br>lifeExp=%{y}<br>pop=%{marker.size}<extra></extra>",
           "hovertext": [
            "Afghanistan",
            "Bahrain",
            "Bangladesh",
            "Cambodia",
            "China",
            "Hong Kong, China",
            "India",
            "Indonesia",
            "Iran",
            "Iraq",
            "Israel",
            "Japan",
            "Jordan",
            "Korea, Dem. Rep.",
            "Korea, Rep.",
            "Kuwait",
            "Lebanon",
            "Malaysia",
            "Mongolia",
            "Myanmar",
            "Nepal",
            "Oman",
            "Pakistan",
            "Philippines",
            "Saudi Arabia",
            "Singapore",
            "Sri Lanka",
            "Syria",
            "Taiwan",
            "Thailand",
            "Vietnam",
            "West Bank and Gaza",
            "Yemen, Rep."
           ],
           "ids": [
            "Afghanistan",
            "Bahrain",
            "Bangladesh",
            "Cambodia",
            "China",
            "Hong Kong, China",
            "India",
            "Indonesia",
            "Iran",
            "Iraq",
            "Israel",
            "Japan",
            "Jordan",
            "Korea, Dem. Rep.",
            "Korea, Rep.",
            "Kuwait",
            "Lebanon",
            "Malaysia",
            "Mongolia",
            "Myanmar",
            "Nepal",
            "Oman",
            "Pakistan",
            "Philippines",
            "Saudi Arabia",
            "Singapore",
            "Sri Lanka",
            "Syria",
            "Taiwan",
            "Thailand",
            "Vietnam",
            "West Bank and Gaza",
            "Yemen, Rep."
           ],
           "legendgroup": "Asia",
           "marker": {
            "color": "#636efa",
            "size": [
             10267083,
             171863,
             56839289,
             6083619,
             665770000,
             3305200,
             454000000,
             99028000,
             22874000,
             7240260,
             2310904,
             95831757,
             933559,
             10917494,
             26420307,
             358266,
             1886848,
             8906385,
             1010280,
             23634436,
             10332057,
             628164,
             53100671,
             30325264,
             4943029,
             1750200,
             10421936,
             4834621,
             11918938,
             29263397,
             33796140,
             1133134,
             6120081
            ],
            "sizemode": "area",
            "sizeref": 435928.2961983471,
            "symbol": "circle"
           },
           "mode": "markers",
           "name": "Asia",
           "orientation": "v",
           "showlegend": true,
           "type": "scatter",
           "x": [
            853.1007099999998,
            12753.27514,
            686.3415537999998,
            496.9136476,
            487.6740183,
            4692.648271999999,
            658.3471509,
            849.2897700999998,
            4187.329802,
            8341.737815,
            7105.630706,
            6576.649461,
            2348.009158,
            1621.693598,
            1536.344387,
            95458.11176,
            5714.560611,
            2036.884944,
            1056.353958,
            388,
            652.3968593,
            2924.638113,
            803.3427418,
            1649.552153,
            11626.41975,
            3674.735572,
            1074.47196,
            2193.037133,
            1822.879028,
            1002.199172,
            772.0491602000002,
            2198.9563120000007,
            825.6232006
           ],
           "xaxis": "x",
           "y": [
            31.997,
            56.923,
            41.216,
            43.415,
            44.50136,
            67.65,
            43.605,
            42.518,
            49.325,
            51.457,
            69.39,
            68.73,
            48.12600000000001,
            56.65600000000001,
            55.292,
            60.47,
            62.094,
            55.737,
            48.25100000000001,
            45.108,
            39.393,
            43.165,
            47.67,
            54.757,
            45.914,
            65.798,
            62.192,
            50.305,
            65.2,
            56.06100000000001,
            45.363,
            48.127,
            35.18
           ],
           "yaxis": "y"
          },
          {
           "hovertemplate": "<b>%{hovertext}</b><br><br>continent=Europe<br>year=1962<br>gdpPercap=%{x}<br>lifeExp=%{y}<br>pop=%{marker.size}<extra></extra>",
           "hovertext": [
            "Albania",
            "Austria",
            "Belgium",
            "Bosnia and Herzegovina",
            "Bulgaria",
            "Croatia",
            "Czech Republic",
            "Denmark",
            "Finland",
            "France",
            "Germany",
            "Greece",
            "Hungary",
            "Iceland",
            "Ireland",
            "Italy",
            "Montenegro",
            "Netherlands",
            "Norway",
            "Poland",
            "Portugal",
            "Romania",
            "Serbia",
            "Slovak Republic",
            "Slovenia",
            "Spain",
            "Sweden",
            "Switzerland",
            "Turkey",
            "United Kingdom"
           ],
           "ids": [
            "Albania",
            "Austria",
            "Belgium",
            "Bosnia and Herzegovina",
            "Bulgaria",
            "Croatia",
            "Czech Republic",
            "Denmark",
            "Finland",
            "France",
            "Germany",
            "Greece",
            "Hungary",
            "Iceland",
            "Ireland",
            "Italy",
            "Montenegro",
            "Netherlands",
            "Norway",
            "Poland",
            "Portugal",
            "Romania",
            "Serbia",
            "Slovak Republic",
            "Slovenia",
            "Spain",
            "Sweden",
            "Switzerland",
            "Turkey",
            "United Kingdom"
           ],
           "legendgroup": "Europe",
           "marker": {
            "color": "#EF553B",
            "size": [
             1728137,
             7129864,
             9218400,
             3349000,
             8012946,
             4076557,
             9620282,
             4646899,
             4491443,
             47124000,
             73739117,
             8448233,
             10063000,
             182053,
             2830000,
             50843200,
             474528,
             11805689,
             3638919,
             30329617,
             9019800,
             18680721,
             7616060,
             4237384,
             1582962,
             31158061,
             7561588,
             5666000,
             29788695,
             53292000
            ],
            "sizemode": "area",
            "sizeref": 435928.2961983471,
            "symbol": "circle"
           },
           "mode": "markers",
           "name": "Europe",
           "orientation": "v",
           "showlegend": true,
           "type": "scatter",
           "x": [
            2312.888958,
            10750.72111,
            10991.20676,
            1709.683679,
            4254.337839,
            5477.890018,
            10136.86713,
            13583.31351,
            9371.842561,
            10560.48553,
            12902.46291,
            6017.190732999999,
            7550.359877,
            10350.15906,
            6631.597314,
            8243.58234,
            4649.593785,
            12790.84956,
            13450.40151,
            5338.752143,
            4727.954889,
            4734.997586,
            6289.629157,
            7481.107598,
            7402.303395,
            5693.843879,
            12329.44192,
            20431.0927,
            2322.869908,
            12477.17707
           ],
           "xaxis": "x",
           "y": [
            64.82,
            69.54,
            70.25,
            61.93,
            69.51,
            67.13,
            69.9,
            72.35,
            68.75,
            70.51,
            70.3,
            69.51,
            67.96,
            73.68,
            70.29,
            69.24,
            63.728,
            73.23,
            73.47,
            67.64,
            64.39,
            66.8,
            64.531,
            70.33,
            69.15,
            69.69,
            73.37,
            71.32,
            52.098,
            70.76
           ],
           "yaxis": "y"
          },
          {
           "hovertemplate": "<b>%{hovertext}</b><br><br>continent=Africa<br>year=1962<br>gdpPercap=%{x}<br>lifeExp=%{y}<br>pop=%{marker.size}<extra></extra>",
           "hovertext": [
            "Algeria",
            "Angola",
            "Benin",
            "Botswana",
            "Burkina Faso",
            "Burundi",
            "Cameroon",
            "Central African Republic",
            "Chad",
            "Comoros",
            "Congo, Dem. Rep.",
            "Congo, Rep.",
            "Cote d'Ivoire",
            "Djibouti",
            "Egypt",
            "Equatorial Guinea",
            "Eritrea",
            "Ethiopia",
            "Gabon",
            "Gambia",
            "Ghana",
            "Guinea",
            "Guinea-Bissau",
            "Kenya",
            "Lesotho",
            "Liberia",
            "Libya",
            "Madagascar",
            "Malawi",
            "Mali",
            "Mauritania",
            "Mauritius",
            "Morocco",
            "Mozambique",
            "Namibia",
            "Niger",
            "Nigeria",
            "Reunion",
            "Rwanda",
            "Sao Tome and Principe",
            "Senegal",
            "Sierra Leone",
            "Somalia",
            "South Africa",
            "Sudan",
            "Swaziland",
            "Tanzania",
            "Togo",
            "Tunisia",
            "Uganda",
            "Zambia",
            "Zimbabwe"
           ],
           "ids": [
            "Algeria",
            "Angola",
            "Benin",
            "Botswana",
            "Burkina Faso",
            "Burundi",
            "Cameroon",
            "Central African Republic",
            "Chad",
            "Comoros",
            "Congo, Dem. Rep.",
            "Congo, Rep.",
            "Cote d'Ivoire",
            "Djibouti",
            "Egypt",
            "Equatorial Guinea",
            "Eritrea",
            "Ethiopia",
            "Gabon",
            "Gambia",
            "Ghana",
            "Guinea",
            "Guinea-Bissau",
            "Kenya",
            "Lesotho",
            "Liberia",
            "Libya",
            "Madagascar",
            "Malawi",
            "Mali",
            "Mauritania",
            "Mauritius",
            "Morocco",
            "Mozambique",
            "Namibia",
            "Niger",
            "Nigeria",
            "Reunion",
            "Rwanda",
            "Sao Tome and Principe",
            "Senegal",
            "Sierra Leone",
            "Somalia",
            "South Africa",
            "Sudan",
            "Swaziland",
            "Tanzania",
            "Togo",
            "Tunisia",
            "Uganda",
            "Zambia",
            "Zimbabwe"
           ],
           "legendgroup": "Africa",
           "marker": {
            "color": "#00cc96",
            "size": [
             11000948,
             4826015,
             2151895,
             512764,
             4919632,
             2961915,
             5793633,
             1523478,
             3150417,
             191689,
             17486434,
             1047924,
             3832408,
             89898,
             28173309,
             249220,
             1666618,
             25145372,
             455661,
             374020,
             7355248,
             3140003,
             627820,
             8678557,
             893143,
             1112796,
             1441863,
             5703324,
             3628608,
             4690372,
             1146757,
             701016,
             13056604,
             7788944,
             621392,
             4076008,
             41871351,
             358900,
             3051242,
             65345,
             3430243,
             2467895,
             3080153,
             18356657,
             11183227,
             370006,
             10863958,
             1528098,
             4286552,
             7688797,
             3421000,
             4277736
            ],
            "sizemode": "area",
            "sizeref": 435928.2961983471,
            "symbol": "circle"
           },
           "mode": "markers",
           "name": "Africa",
           "orientation": "v",
           "showlegend": true,
           "type": "scatter",
           "x": [
            2550.81688,
            4269.276742,
            949.4990641,
            983.6539764,
            722.5120206,
            355.2032273,
            1399.607441,
            1193.068753,
            1389.817618,
            1406.648278,
            896.3146335000001,
            2464.783157,
            1728.8694280000002,
            3020.989263,
            1693.335853,
            582.8419713999998,
            380.9958433000001,
            419.4564161,
            6631.459222,
            599.650276,
            1190.041118,
            686.3736739,
            522.0343725,
            896.9663732,
            411.8006266,
            634.1951625,
            6757.030816,
            1643.38711,
            427.9010856,
            496.1743428,
            1055.896036,
            2529.0674870000007,
            1566.353493,
            556.6863539,
            3173.215595,
            997.7661127,
            1150.9274779999996,
            3173.72334,
            597.4730727000001,
            1071.551119,
            1654.988723,
            1116.6398769999996,
            1369.488336,
            5768.729717,
            1959.593767,
            1856.182125,
            722.0038073,
            1067.53481,
            1660.30321,
            767.2717397999999,
            1452.725766,
            527.2721818
           ],
           "xaxis": "x",
           "y": [
            48.303,
            34,
            42.618,
            51.52,
            37.814,
            42.045,
            42.643,
            39.475,
            41.716,
            44.467,
            42.122,
            48.435,
            44.93,
            39.69300000000001,
            46.992,
            37.485,
            40.158,
            40.059,
            40.489,
            33.896,
            46.452,
            35.753,
            34.488,
            47.949,
            47.747,
            40.502,
            47.808,
            40.848,
            38.41,
            36.936,
            44.24800000000001,
            60.246,
            47.924,
            36.161,
            48.386,
            39.487,
            39.36,
            57.666,
            43,
            51.893,
            41.45399999999999,
            32.767,
            36.981,
            49.951,
            40.87,
            44.992,
            44.246,
            43.922,
            49.57899999999999,
            45.344,
            46.023,
            52.358
           ],
           "yaxis": "y"
          },
          {
           "hovertemplate": "<b>%{hovertext}</b><br><br>continent=Americas<br>year=1962<br>gdpPercap=%{x}<br>lifeExp=%{y}<br>pop=%{marker.size}<extra></extra>",
           "hovertext": [
            "Argentina",
            "Bolivia",
            "Brazil",
            "Canada",
            "Chile",
            "Colombia",
            "Costa Rica",
            "Cuba",
            "Dominican Republic",
            "Ecuador",
            "El Salvador",
            "Guatemala",
            "Haiti",
            "Honduras",
            "Jamaica",
            "Mexico",
            "Nicaragua",
            "Panama",
            "Paraguay",
            "Peru",
            "Puerto Rico",
            "Trinidad and Tobago",
            "United States",
            "Uruguay",
            "Venezuela"
           ],
           "ids": [
            "Argentina",
            "Bolivia",
            "Brazil",
            "Canada",
            "Chile",
            "Colombia",
            "Costa Rica",
            "Cuba",
            "Dominican Republic",
            "Ecuador",
            "El Salvador",
            "Guatemala",
            "Haiti",
            "Honduras",
            "Jamaica",
            "Mexico",
            "Nicaragua",
            "Panama",
            "Paraguay",
            "Peru",
            "Puerto Rico",
            "Trinidad and Tobago",
            "United States",
            "Uruguay",
            "Venezuela"
           ],
           "legendgroup": "Americas",
           "marker": {
            "color": "#ab63fa",
            "size": [
             21283783,
             3593918,
             76039390,
             18985849,
             7961258,
             17009885,
             1345187,
             7254373,
             3453434,
             4681707,
             2747687,
             4208858,
             3880130,
             2090162,
             1665128,
             41121485,
             1590597,
             1215725,
             2009813,
             10516500,
             2448046,
             887498,
             186538000,
             2598466,
             8143375
            ],
            "sizemode": "area",
            "sizeref": 435928.2961983471,
            "symbol": "circle"
           },
           "mode": "markers",
           "name": "Americas",
           "orientation": "v",
           "showlegend": true,
           "type": "scatter",
           "x": [
            7133.166023000002,
            2180.972546,
            3336.585802,
            13462.48555,
            4519.094331,
            2492.351109,
            3460.937025,
            5180.75591,
            1662.137359,
            4086.114078,
            3776.803627,
            2750.364446,
            1796.589032,
            2291.156835,
            5246.107524,
            4581.609385,
            3634.364406,
            3536.540301,
            2148.027146,
            4957.037982,
            5108.34463,
            4997.523971000001,
            16173.14586,
            5603.357717,
            8422.974165000001
           ],
           "xaxis": "x",
           "y": [
            65.142,
            43.428,
            55.665,
            71.3,
            57.924,
            57.863,
            62.842,
            65.24600000000001,
            53.459,
            54.64,
            52.307,
            46.95399999999999,
            43.59,
            48.041,
            65.61,
            58.299,
            48.632,
            61.817,
            64.361,
            49.096,
            69.62,
            64.9,
            70.21,
            68.253,
            60.77
           ],
           "yaxis": "y"
          },
          {
           "hovertemplate": "<b>%{hovertext}</b><br><br>continent=Oceania<br>year=1962<br>gdpPercap=%{x}<br>lifeExp=%{y}<br>pop=%{marker.size}<extra></extra>",
           "hovertext": [
            "Australia",
            "New Zealand"
           ],
           "ids": [
            "Australia",
            "New Zealand"
           ],
           "legendgroup": "Oceania",
           "marker": {
            "color": "#FFA15A",
            "size": [
             10794968,
             2488550
            ],
            "sizemode": "area",
            "sizeref": 435928.2961983471,
            "symbol": "circle"
           },
           "mode": "markers",
           "name": "Oceania",
           "orientation": "v",
           "showlegend": true,
           "type": "scatter",
           "x": [
            12217.22686,
            13175.678
           ],
           "xaxis": "x",
           "y": [
            70.93,
            71.24
           ],
           "yaxis": "y"
          }
         ],
         "name": "1962"
        },
        {
         "data": [
          {
           "hovertemplate": "<b>%{hovertext}</b><br><br>continent=Asia<br>year=1967<br>gdpPercap=%{x}<br>lifeExp=%{y}<br>pop=%{marker.size}<extra></extra>",
           "hovertext": [
            "Afghanistan",
            "Bahrain",
            "Bangladesh",
            "Cambodia",
            "China",
            "Hong Kong, China",
            "India",
            "Indonesia",
            "Iran",
            "Iraq",
            "Israel",
            "Japan",
            "Jordan",
            "Korea, Dem. Rep.",
            "Korea, Rep.",
            "Kuwait",
            "Lebanon",
            "Malaysia",
            "Mongolia",
            "Myanmar",
            "Nepal",
            "Oman",
            "Pakistan",
            "Philippines",
            "Saudi Arabia",
            "Singapore",
            "Sri Lanka",
            "Syria",
            "Taiwan",
            "Thailand",
            "Vietnam",
            "West Bank and Gaza",
            "Yemen, Rep."
           ],
           "ids": [
            "Afghanistan",
            "Bahrain",
            "Bangladesh",
            "Cambodia",
            "China",
            "Hong Kong, China",
            "India",
            "Indonesia",
            "Iran",
            "Iraq",
            "Israel",
            "Japan",
            "Jordan",
            "Korea, Dem. Rep.",
            "Korea, Rep.",
            "Kuwait",
            "Lebanon",
            "Malaysia",
            "Mongolia",
            "Myanmar",
            "Nepal",
            "Oman",
            "Pakistan",
            "Philippines",
            "Saudi Arabia",
            "Singapore",
            "Sri Lanka",
            "Syria",
            "Taiwan",
            "Thailand",
            "Vietnam",
            "West Bank and Gaza",
            "Yemen, Rep."
           ],
           "legendgroup": "Asia",
           "marker": {
            "color": "#636efa",
            "size": [
             11537966,
             202182,
             62821884,
             6960067,
             754550000,
             3722800,
             506000000,
             109343000,
             26538000,
             8519282,
             2693585,
             100825279,
             1255058,
             12617009,
             30131000,
             575003,
             2186894,
             10154878,
             1149500,
             25870271,
             11261690,
             714775,
             60641899,
             35356600,
             5618198,
             1977600,
             11737396,
             5680812,
             13648692,
             34024249,
             39463910,
             1142636,
             6740785
            ],
            "sizemode": "area",
            "sizeref": 435928.2961983471,
            "symbol": "circle"
           },
           "mode": "markers",
           "name": "Asia",
           "orientation": "v",
           "showlegend": true,
           "type": "scatter",
           "x": [
            836.1971382,
            14804.6727,
            721.1860862000002,
            523.4323142,
            612.7056934,
            6197.962814,
            700.7706107000001,
            762.4317721,
            5906.731804999999,
            8931.459811,
            8393.741404,
            9847.788607,
            2741.796252,
            2143.540609,
            2029.228142,
            80894.88326,
            6006.983042,
            2277.742396,
            1226.04113,
            349,
            676.4422254,
            4720.942687,
            942.4082588,
            1814.12743,
            16903.04886,
            4977.41854,
            1135.514326,
            1881.923632,
            2643.858681,
            1295.46066,
            637.1232887,
            2649.715007,
            862.4421463
           ],
           "xaxis": "x",
           "y": [
            34.02,
            59.923,
            43.453,
            45.415,
            58.38112,
            70,
            47.19300000000001,
            45.964,
            52.469,
            54.459,
            70.75,
            71.43,
            51.629,
            59.942,
            57.716,
            64.624,
            63.87,
            59.371,
            51.253,
            49.379,
            41.472,
            46.988,
            49.8,
            56.393,
            49.901,
            67.946,
            64.266,
            53.655,
            67.5,
            58.285,
            47.838,
            51.631,
            36.984
           ],
           "yaxis": "y"
          },
          {
           "hovertemplate": "<b>%{hovertext}</b><br><br>continent=Europe<br>year=1967<br>gdpPercap=%{x}<br>lifeExp=%{y}<br>pop=%{marker.size}<extra></extra>",
           "hovertext": [
            "Albania",
            "Austria",
            "Belgium",
            "Bosnia and Herzegovina",
            "Bulgaria",
            "Croatia",
            "Czech Republic",
            "Denmark",
            "Finland",
            "France",
            "Germany",
            "Greece",
            "Hungary",
            "Iceland",
            "Ireland",
            "Italy",
            "Montenegro",
            "Netherlands",
            "Norway",
            "Poland",
            "Portugal",
            "Romania",
            "Serbia",
            "Slovak Republic",
            "Slovenia",
            "Spain",
            "Sweden",
            "Switzerland",
            "Turkey",
            "United Kingdom"
           ],
           "ids": [
            "Albania",
            "Austria",
            "Belgium",
            "Bosnia and Herzegovina",
            "Bulgaria",
            "Croatia",
            "Czech Republic",
            "Denmark",
            "Finland",
            "France",
            "Germany",
            "Greece",
            "Hungary",
            "Iceland",
            "Ireland",
            "Italy",
            "Montenegro",
            "Netherlands",
            "Norway",
            "Poland",
            "Portugal",
            "Romania",
            "Serbia",
            "Slovak Republic",
            "Slovenia",
            "Spain",
            "Sweden",
            "Switzerland",
            "Turkey",
            "United Kingdom"
           ],
           "legendgroup": "Europe",
           "marker": {
            "color": "#EF553B",
            "size": [
             1984060,
             7376998,
             9556500,
             3585000,
             8310226,
             4174366,
             9835109,
             4838800,
             4605744,
             49569000,
             76368453,
             8716441,
             10223422,
             198676,
             2900100,
             52667100,
             501035,
             12596822,
             3786019,
             31785378,
             9103000,
             19284814,
             7971222,
             4442238,
             1646912,
             32850275,
             7867931,
             6063000,
             33411317,
             54959000
            ],
            "sizemode": "area",
            "sizeref": 435928.2961983471,
            "symbol": "circle"
           },
           "mode": "markers",
           "name": "Europe",
           "orientation": "v",
           "showlegend": true,
           "type": "scatter",
           "x": [
            2760.196931,
            12834.6024,
            13149.04119,
            2172.3524230000007,
            5577.0028,
            6960.297861,
            11399.44489,
            15937.21123,
            10921.63626,
            12999.91766,
            14745.62561,
            8513.097016,
            9326.64467,
            13319.89568,
            7655.568963,
            10022.40131,
            5907.850937,
            15363.25136,
            16361.87647,
            6557.152776,
            6361.517993,
            6470.866545,
            7991.707066,
            8412.902397,
            9405.489397,
            7993.512294,
            15258.29697,
            22966.14432,
            2826.3563870000007,
            14142.85089
           ],
           "xaxis": "x",
           "y": [
            66.22,
            70.14,
            70.94,
            64.79,
            70.42,
            68.5,
            70.38,
            72.96,
            69.83,
            71.55,
            70.8,
            71,
            69.5,
            73.73,
            71.08,
            71.06,
            67.178,
            73.82,
            74.08,
            69.61,
            66.6,
            66.8,
            66.914,
            70.98,
            69.18,
            71.44,
            74.16,
            72.77,
            54.33600000000001,
            71.36
           ],
           "yaxis": "y"
          },
          {
           "hovertemplate": "<b>%{hovertext}</b><br><br>continent=Africa<br>year=1967<br>gdpPercap=%{x}<br>lifeExp=%{y}<br>pop=%{marker.size}<extra></extra>",
           "hovertext": [
            "Algeria",
            "Angola",
            "Benin",
            "Botswana",
            "Burkina Faso",
            "Burundi",
            "Cameroon",
            "Central African Republic",
            "Chad",
            "Comoros",
            "Congo, Dem. Rep.",
            "Congo, Rep.",
            "Cote d'Ivoire",
            "Djibouti",
            "Egypt",
            "Equatorial Guinea",
            "Eritrea",
            "Ethiopia",
            "Gabon",
            "Gambia",
            "Ghana",
            "Guinea",
            "Guinea-Bissau",
            "Kenya",
            "Lesotho",
            "Liberia",
            "Libya",
            "Madagascar",
            "Malawi",
            "Mali",
            "Mauritania",
            "Mauritius",
            "Morocco",
            "Mozambique",
            "Namibia",
            "Niger",
            "Nigeria",
            "Reunion",
            "Rwanda",
            "Sao Tome and Principe",
            "Senegal",
            "Sierra Leone",
            "Somalia",
            "South Africa",
            "Sudan",
            "Swaziland",
            "Tanzania",
            "Togo",
            "Tunisia",
            "Uganda",
            "Zambia",
            "Zimbabwe"
           ],
           "ids": [
            "Algeria",
            "Angola",
            "Benin",
            "Botswana",
            "Burkina Faso",
            "Burundi",
            "Cameroon",
            "Central African Republic",
            "Chad",
            "Comoros",
            "Congo, Dem. Rep.",
            "Congo, Rep.",
            "Cote d'Ivoire",
            "Djibouti",
            "Egypt",
            "Equatorial Guinea",
            "Eritrea",
            "Ethiopia",
            "Gabon",
            "Gambia",
            "Ghana",
            "Guinea",
            "Guinea-Bissau",
            "Kenya",
            "Lesotho",
            "Liberia",
            "Libya",
            "Madagascar",
            "Malawi",
            "Mali",
            "Mauritania",
            "Mauritius",
            "Morocco",
            "Mozambique",
            "Namibia",
            "Niger",
            "Nigeria",
            "Reunion",
            "Rwanda",
            "Sao Tome and Principe",
            "Senegal",
            "Sierra Leone",
            "Somalia",
            "South Africa",
            "Sudan",
            "Swaziland",
            "Tanzania",
            "Togo",
            "Tunisia",
            "Uganda",
            "Zambia",
            "Zimbabwe"
           ],
           "legendgroup": "Africa",
           "marker": {
            "color": "#00cc96",
            "size": [
             12760499,
             5247469,
             2427334,
             553541,
             5127935,
             3330989,
             6335506,
             1733638,
             3495967,
             217378,
             19941073,
             1179760,
             4744870,
             127617,
             31681188,
             259864,
             1820319,
             27860297,
             489004,
             439593,
             8490213,
             3451418,
             601287,
             10191512,
             996380,
             1279406,
             1759224,
             6334556,
             4147252,
             5212416,
             1230542,
             789309,
             14770296,
             8680909,
             706640,
             4534062,
             47287752,
             414024,
             3451079,
             70787,
             3965841,
             2662190,
             3428839,
             20997321,
             12716129,
             420690,
             12607312,
             1735550,
             4786986,
             8900294,
             3900000,
             4995432
            ],
            "sizemode": "area",
            "sizeref": 435928.2961983471,
            "symbol": "circle"
           },
           "mode": "markers",
           "name": "Africa",
           "orientation": "v",
           "showlegend": true,
           "type": "scatter",
           "x": [
            3246.991771,
            5522.776375,
            1035.831411,
            1214.709294,
            794.8265597,
            412.97751360000007,
            1508.453148,
            1136.056615,
            1196.810565,
            1876.029643,
            861.5932424,
            2677.9396420000007,
            2052.050473,
            3020.050513,
            1814.880728,
            915.5960025,
            468.7949699,
            516.1186438,
            8358.761987,
            734.7829124,
            1125.69716,
            708.7595409,
            715.5806402000002,
            1056.736457,
            498.6390265,
            713.6036482999998,
            18772.75169,
            1634.047282,
            495.5147806,
            545.0098873,
            1421.145193,
            2475.387562,
            1711.04477,
            566.6691539,
            3793.694753,
            1054.384891,
            1014.514104,
            4021.175739,
            510.9637142,
            1384.840593,
            1612.404632,
            1206.043465,
            1284.7331800000004,
            7114.477970999998,
            1687.997641,
            2613.101665,
            848.2186575,
            1477.59676,
            1932.3601670000005,
            908.9185217,
            1777.077318,
            569.7950712
           ],
           "xaxis": "x",
           "y": [
            51.407,
            35.985,
            44.885,
            53.298,
            40.697,
            43.548,
            44.799,
            41.478,
            43.601000000000006,
            46.472,
            44.056,
            52.04,
            47.35,
            42.074,
            49.293,
            38.987,
            42.18899999999999,
            42.115,
            44.598,
            35.857,
            48.072,
            37.197,
            35.492,
            50.654,
            48.492,
            41.536,
            50.227,
            42.881,
            39.487,
            38.487,
            46.289,
            61.557,
            50.335,
            38.113,
            51.159,
            40.118,
            41.04,
            60.542,
            44.1,
            54.425,
            43.563,
            34.113,
            38.977,
            51.927,
            42.858,
            46.633,
            45.757,
            46.769,
            52.053,
            48.051,
            47.768,
            53.995
           ],
           "yaxis": "y"
          },
          {
           "hovertemplate": "<b>%{hovertext}</b><br><br>continent=Americas<br>year=1967<br>gdpPercap=%{x}<br>lifeExp=%{y}<br>pop=%{marker.size}<extra></extra>",
           "hovertext": [
            "Argentina",
            "Bolivia",
            "Brazil",
            "Canada",
            "Chile",
            "Colombia",
            "Costa Rica",
            "Cuba",
            "Dominican Republic",
            "Ecuador",
            "El Salvador",
            "Guatemala",
            "Haiti",
            "Honduras",
            "Jamaica",
            "Mexico",
            "Nicaragua",
            "Panama",
            "Paraguay",
            "Peru",
            "Puerto Rico",
            "Trinidad and Tobago",
            "United States",
            "Uruguay",
            "Venezuela"
           ],
           "ids": [
            "Argentina",
            "Bolivia",
            "Brazil",
            "Canada",
            "Chile",
            "Colombia",
            "Costa Rica",
            "Cuba",
            "Dominican Republic",
            "Ecuador",
            "El Salvador",
            "Guatemala",
            "Haiti",
            "Honduras",
            "Jamaica",
            "Mexico",
            "Nicaragua",
            "Panama",
            "Paraguay",
            "Peru",
            "Puerto Rico",
            "Trinidad and Tobago",
            "United States",
            "Uruguay",
            "Venezuela"
           ],
           "legendgroup": "Americas",
           "marker": {
            "color": "#ab63fa",
            "size": [
             22934225,
             4040665,
             88049823,
             20819767,
             8858908,
             19764027,
             1588717,
             8139332,
             4049146,
             5432424,
             3232927,
             4690773,
             4318137,
             2500689,
             1861096,
             47995559,
             1865490,
             1405486,
             2287985,
             12132200,
             2648961,
             960155,
             198712000,
             2748579,
             9709552
            ],
            "sizemode": "area",
            "sizeref": 435928.2961983471,
            "symbol": "circle"
           },
           "mode": "markers",
           "name": "Americas",
           "orientation": "v",
           "showlegend": true,
           "type": "scatter",
           "x": [
            8052.953020999998,
            2586.886053,
            3429.864357,
            16076.58803,
            5106.654313,
            2678.729839,
            4161.727834,
            5690.268015,
            1653.7230029999996,
            4579.074215,
            4358.595393,
            3242.531147,
            1452.057666,
            2538.269358,
            6124.703450999999,
            5754.733883,
            4643.393534000002,
            4421.009084,
            2299.376311,
            5788.09333,
            6929.277714,
            5621.368472,
            19530.36557,
            5444.61962,
            9541.474188
           ],
           "xaxis": "x",
           "y": [
            65.634,
            45.032,
            57.632,
            72.13,
            60.523,
            59.963,
            65.42399999999999,
            68.29,
            56.75100000000001,
            56.678,
            55.855,
            50.01600000000001,
            46.243,
            50.924,
            67.51,
            60.11,
            51.88399999999999,
            64.071,
            64.95100000000001,
            51.445,
            71.1,
            65.4,
            70.76,
            68.468,
            63.479
           ],
           "yaxis": "y"
          },
          {
           "hovertemplate": "<b>%{hovertext}</b><br><br>continent=Oceania<br>year=1967<br>gdpPercap=%{x}<br>lifeExp=%{y}<br>pop=%{marker.size}<extra></extra>",
           "hovertext": [
            "Australia",
            "New Zealand"
           ],
           "ids": [
            "Australia",
            "New Zealand"
           ],
           "legendgroup": "Oceania",
           "marker": {
            "color": "#FFA15A",
            "size": [
             11872264,
             2728150
            ],
            "sizemode": "area",
            "sizeref": 435928.2961983471,
            "symbol": "circle"
           },
           "mode": "markers",
           "name": "Oceania",
           "orientation": "v",
           "showlegend": true,
           "type": "scatter",
           "x": [
            14526.12465,
            14463.918930000002
           ],
           "xaxis": "x",
           "y": [
            71.1,
            71.52
           ],
           "yaxis": "y"
          }
         ],
         "name": "1967"
        },
        {
         "data": [
          {
           "hovertemplate": "<b>%{hovertext}</b><br><br>continent=Asia<br>year=1972<br>gdpPercap=%{x}<br>lifeExp=%{y}<br>pop=%{marker.size}<extra></extra>",
           "hovertext": [
            "Afghanistan",
            "Bahrain",
            "Bangladesh",
            "Cambodia",
            "China",
            "Hong Kong, China",
            "India",
            "Indonesia",
            "Iran",
            "Iraq",
            "Israel",
            "Japan",
            "Jordan",
            "Korea, Dem. Rep.",
            "Korea, Rep.",
            "Kuwait",
            "Lebanon",
            "Malaysia",
            "Mongolia",
            "Myanmar",
            "Nepal",
            "Oman",
            "Pakistan",
            "Philippines",
            "Saudi Arabia",
            "Singapore",
            "Sri Lanka",
            "Syria",
            "Taiwan",
            "Thailand",
            "Vietnam",
            "West Bank and Gaza",
            "Yemen, Rep."
           ],
           "ids": [
            "Afghanistan",
            "Bahrain",
            "Bangladesh",
            "Cambodia",
            "China",
            "Hong Kong, China",
            "India",
            "Indonesia",
            "Iran",
            "Iraq",
            "Israel",
            "Japan",
            "Jordan",
            "Korea, Dem. Rep.",
            "Korea, Rep.",
            "Kuwait",
            "Lebanon",
            "Malaysia",
            "Mongolia",
            "Myanmar",
            "Nepal",
            "Oman",
            "Pakistan",
            "Philippines",
            "Saudi Arabia",
            "Singapore",
            "Sri Lanka",
            "Syria",
            "Taiwan",
            "Thailand",
            "Vietnam",
            "West Bank and Gaza",
            "Yemen, Rep."
           ],
           "legendgroup": "Asia",
           "marker": {
            "color": "#636efa",
            "size": [
             13079460,
             230800,
             70759295,
             7450606,
             862030000,
             4115700,
             567000000,
             121282000,
             30614000,
             10061506,
             3095893,
             107188273,
             1613551,
             14781241,
             33505000,
             841934,
             2680018,
             11441462,
             1320500,
             28466390,
             12412593,
             829050,
             69325921,
             40850141,
             6472756,
             2152400,
             13016733,
             6701172,
             15226039,
             39276153,
             44655014,
             1089572,
             7407075
            ],
            "sizemode": "area",
            "sizeref": 435928.2961983471,
            "symbol": "circle"
           },
           "mode": "markers",
           "name": "Asia",
           "orientation": "v",
           "showlegend": true,
           "type": "scatter",
           "x": [
            739.9811057999998,
            18268.65839,
            630.2336265,
            421.6240257,
            676.9000921,
            8315.928145,
            724.032527,
            1111.107907,
            9613.818607,
            9576.037596,
            12786.93223,
            14778.78636,
            2110.856309,
            3701.621503,
            3030.87665,
            109347.867,
            7486.384341,
            2849.09478,
            1421.741975,
            357,
            674.7881296,
            10618.03855,
            1049.938981,
            1989.37407,
            24837.42865,
            8597.756202,
            1213.39553,
            2571.423014,
            4062.523897,
            1524.358936,
            699.5016441,
            3133.409277,
            1265.047031
           ],
           "xaxis": "x",
           "y": [
            36.088,
            63.3,
            45.252,
            40.317,
            63.11888,
            72,
            50.651,
            49.203,
            55.234,
            56.95,
            71.63,
            73.42,
            56.528,
            63.983,
            62.612,
            67.712,
            65.421,
            63.01,
            53.754,
            53.07,
            43.971,
            52.143,
            51.929,
            58.065,
            53.886,
            69.521,
            65.042,
            57.29600000000001,
            69.39,
            60.405,
            50.254,
            56.532,
            39.848
           ],
           "yaxis": "y"
          },
          {
           "hovertemplate": "<b>%{hovertext}</b><br><br>continent=Europe<br>year=1972<br>gdpPercap=%{x}<br>lifeExp=%{y}<br>pop=%{marker.size}<extra></extra>",
           "hovertext": [
            "Albania",
            "Austria",
            "Belgium",
            "Bosnia and Herzegovina",
            "Bulgaria",
            "Croatia",
            "Czech Republic",
            "Denmark",
            "Finland",
            "France",
            "Germany",
            "Greece",
            "Hungary",
            "Iceland",
            "Ireland",
            "Italy",
            "Montenegro",
            "Netherlands",
            "Norway",
            "Poland",
            "Portugal",
            "Romania",
            "Serbia",
            "Slovak Republic",
            "Slovenia",
            "Spain",
            "Sweden",
            "Switzerland",
            "Turkey",
            "United Kingdom"
           ],
           "ids": [
            "Albania",
            "Austria",
            "Belgium",
            "Bosnia and Herzegovina",
            "Bulgaria",
            "Croatia",
            "Czech Republic",
            "Denmark",
            "Finland",
            "France",
            "Germany",
            "Greece",
            "Hungary",
            "Iceland",
            "Ireland",
            "Italy",
            "Montenegro",
            "Netherlands",
            "Norway",
            "Poland",
            "Portugal",
            "Romania",
            "Serbia",
            "Slovak Republic",
            "Slovenia",
            "Spain",
            "Sweden",
            "Switzerland",
            "Turkey",
            "United Kingdom"
           ],
           "legendgroup": "Europe",
           "marker": {
            "color": "#EF553B",
            "size": [
             2263554,
             7544201,
             9709100,
             3819000,
             8576200,
             4225310,
             9862158,
             4991596,
             4639657,
             51732000,
             78717088,
             8888628,
             10394091,
             209275,
             3024400,
             54365564,
             527678,
             13329874,
             3933004,
             33039545,
             8970450,
             20662648,
             8313288,
             4593433,
             1694510,
             34513161,
             8122293,
             6401400,
             37492953,
             56079000
            ],
            "sizemode": "area",
            "sizeref": 435928.2961983471,
            "symbol": "circle"
           },
           "mode": "markers",
           "name": "Europe",
           "orientation": "v",
           "showlegend": true,
           "type": "scatter",
           "x": [
            3313.422188,
            16661.6256,
            16672.14356,
            2860.16975,
            6597.494398,
            9164.090127,
            13108.4536,
            18866.20721,
            14358.8759,
            16107.19171,
            18016.18027,
            12724.82957,
            10168.65611,
            15798.06362,
            9530.772896,
            12269.27378,
            7778.414017,
            18794.74567,
            18965.05551,
            8006.506993000001,
            9022.247417,
            8011.4144019999985,
            10522.06749,
            9674.167626,
            12383.4862,
            10638.75131,
            17832.02464,
            27195.11304,
            3450.69638,
            15895.11641
           ],
           "xaxis": "x",
           "y": [
            67.69,
            70.63,
            71.44,
            67.45,
            70.9,
            69.61,
            70.29,
            73.47,
            70.87,
            72.38,
            71,
            72.34,
            69.76,
            74.46,
            71.28,
            72.19,
            70.63600000000002,
            73.75,
            74.34,
            70.85,
            69.26,
            69.21,
            68.7,
            70.35,
            69.82,
            73.06,
            74.72,
            73.78,
            57.005,
            72.01
           ],
           "yaxis": "y"
          },
          {
           "hovertemplate": "<b>%{hovertext}</b><br><br>continent=Africa<br>year=1972<br>gdpPercap=%{x}<br>lifeExp=%{y}<br>pop=%{marker.size}<extra></extra>",
           "hovertext": [
            "Algeria",
            "Angola",
            "Benin",
            "Botswana",
            "Burkina Faso",
            "Burundi",
            "Cameroon",
            "Central African Republic",
            "Chad",
            "Comoros",
            "Congo, Dem. Rep.",
            "Congo, Rep.",
            "Cote d'Ivoire",
            "Djibouti",
            "Egypt",
            "Equatorial Guinea",
            "Eritrea",
            "Ethiopia",
            "Gabon",
            "Gambia",
            "Ghana",
            "Guinea",
            "Guinea-Bissau",
            "Kenya",
            "Lesotho",
            "Liberia",
            "Libya",
            "Madagascar",
            "Malawi",
            "Mali",
            "Mauritania",
            "Mauritius",
            "Morocco",
            "Mozambique",
            "Namibia",
            "Niger",
            "Nigeria",
            "Reunion",
            "Rwanda",
            "Sao Tome and Principe",
            "Senegal",
            "Sierra Leone",
            "Somalia",
            "South Africa",
            "Sudan",
            "Swaziland",
            "Tanzania",
            "Togo",
            "Tunisia",
            "Uganda",
            "Zambia",
            "Zimbabwe"
           ],
           "ids": [
            "Algeria",
            "Angola",
            "Benin",
            "Botswana",
            "Burkina Faso",
            "Burundi",
            "Cameroon",
            "Central African Republic",
            "Chad",
            "Comoros",
            "Congo, Dem. Rep.",
            "Congo, Rep.",
            "Cote d'Ivoire",
            "Djibouti",
            "Egypt",
            "Equatorial Guinea",
            "Eritrea",
            "Ethiopia",
            "Gabon",
            "Gambia",
            "Ghana",
            "Guinea",
            "Guinea-Bissau",
            "Kenya",
            "Lesotho",
            "Liberia",
            "Libya",
            "Madagascar",
            "Malawi",
            "Mali",
            "Mauritania",
            "Mauritius",
            "Morocco",
            "Mozambique",
            "Namibia",
            "Niger",
            "Nigeria",
            "Reunion",
            "Rwanda",
            "Sao Tome and Principe",
            "Senegal",
            "Sierra Leone",
            "Somalia",
            "South Africa",
            "Sudan",
            "Swaziland",
            "Tanzania",
            "Togo",
            "Tunisia",
            "Uganda",
            "Zambia",
            "Zimbabwe"
           ],
           "legendgroup": "Africa",
           "marker": {
            "color": "#00cc96",
            "size": [
             14760787,
             5894858,
             2761407,
             619351,
             5433886,
             3529983,
             7021028,
             1927260,
             3899068,
             250027,
             23007669,
             1340458,
             6071696,
             178848,
             34807417,
             277603,
             2260187,
             30770372,
             537977,
             517101,
             9354120,
             3811387,
             625361,
             12044785,
             1116779,
             1482628,
             2183877,
             7082430,
             4730997,
             5828158,
             1332786,
             851334,
             16660670,
             9809596,
             821782,
             5060262,
             53740085,
             461633,
             3992121,
             76595,
             4588696,
             2879013,
             3840161,
             23935810,
             14597019,
             480105,
             14706593,
             2056351,
             5303507,
             10190285,
             4506497,
             5861135
            ],
            "sizemode": "area",
            "sizeref": 435928.2961983471,
            "symbol": "circle"
           },
           "mode": "markers",
           "name": "Africa",
           "orientation": "v",
           "showlegend": true,
           "type": "scatter",
           "x": [
            4182.663766,
            5473.288004999999,
            1085.796879,
            2263.6111140000007,
            854.7359763000002,
            464.0995039,
            1684.1465280000002,
            1070.013275,
            1104.103987,
            1937.577675,
            904.8960685,
            3213.152683,
            2378.201111,
            3694.2123520000014,
            2024.008147,
            672.4122571,
            514.3242081999998,
            566.2439442000001,
            11401.94841,
            756.0868363,
            1178.223708,
            741.6662307,
            820.2245876000002,
            1222.359968,
            496.5815922000001,
            803.0054535,
            21011.49721,
            1748.562982,
            584.6219709,
            581.3688761,
            1586.851781,
            2575.484158,
            1930.194975,
            724.9178037,
            3746.080948,
            954.2092363,
            1698.388838,
            5047.658563,
            590.5806637999998,
            1532.985254,
            1597.712056,
            1353.759762,
            1254.576127,
            7765.962636,
            1659.652775,
            3364.836625,
            915.9850592,
            1649.660188,
            2753.2859940000008,
            950.735869,
            1773.498265,
            799.3621757999998
           ],
           "xaxis": "x",
           "y": [
            54.518,
            37.928,
            47.014,
            56.024,
            43.591,
            44.057,
            47.049,
            43.457,
            45.569,
            48.944,
            45.989,
            54.907,
            49.801,
            44.36600000000001,
            51.137,
            40.516,
            44.142,
            43.515,
            48.69,
            38.308,
            49.875,
            38.842,
            36.486,
            53.559,
            49.767,
            42.614,
            52.773,
            44.851000000000006,
            41.76600000000001,
            39.977,
            48.437,
            62.944,
            52.862,
            40.328,
            53.867,
            40.546,
            42.82100000000001,
            64.274,
            44.6,
            56.48,
            45.815,
            35.4,
            40.973,
            53.69600000000001,
            45.083,
            49.552,
            47.62,
            49.75899999999999,
            55.602,
            51.01600000000001,
            50.107,
            55.635
           ],
           "yaxis": "y"
          },
          {
           "hovertemplate": "<b>%{hovertext}</b><br><br>continent=Americas<br>year=1972<br>gdpPercap=%{x}<br>lifeExp=%{y}<br>pop=%{marker.size}<extra></extra>",
           "hovertext": [
            "Argentina",
            "Bolivia",
            "Brazil",
            "Canada",
            "Chile",
            "Colombia",
            "Costa Rica",
            "Cuba",
            "Dominican Republic",
            "Ecuador",
            "El Salvador",
            "Guatemala",
            "Haiti",
            "Honduras",
            "Jamaica",
            "Mexico",
            "Nicaragua",
            "Panama",
            "Paraguay",
            "Peru",
            "Puerto Rico",
            "Trinidad and Tobago",
            "United States",
            "Uruguay",
            "Venezuela"
           ],
           "ids": [
            "Argentina",
            "Bolivia",
            "Brazil",
            "Canada",
            "Chile",
            "Colombia",
            "Costa Rica",
            "Cuba",
            "Dominican Republic",
            "Ecuador",
            "El Salvador",
            "Guatemala",
            "Haiti",
            "Honduras",
            "Jamaica",
            "Mexico",
            "Nicaragua",
            "Panama",
            "Paraguay",
            "Peru",
            "Puerto Rico",
            "Trinidad and Tobago",
            "United States",
            "Uruguay",
            "Venezuela"
           ],
           "legendgroup": "Americas",
           "marker": {
            "color": "#ab63fa",
            "size": [
             24779799,
             4565872,
             100840058,
             22284500,
             9717524,
             22542890,
             1834796,
             8831348,
             4671329,
             6298651,
             3790903,
             5149581,
             4698301,
             2965146,
             1997616,
             55984294,
             2182908,
             1616384,
             2614104,
             13954700,
             2847132,
             975199,
             209896000,
             2829526,
             11515649
            ],
            "sizemode": "area",
            "sizeref": 435928.2961983471,
            "symbol": "circle"
           },
           "mode": "markers",
           "name": "Americas",
           "orientation": "v",
           "showlegend": true,
           "type": "scatter",
           "x": [
            9443.038526,
            2980.331339,
            4985.711467,
            18970.57086,
            5494.024437,
            3264.660041,
            5118.146939,
            5305.445256,
            2189.874499,
            5280.99471,
            4520.246008,
            4031.408271,
            1654.456946,
            2529.842345,
            7433.889293000001,
            6809.406690000002,
            4688.593267,
            5364.249663000001,
            2523.337977,
            5937.827283,
            9123.041742,
            6619.551418999999,
            21806.03594,
            5703.408898,
            10505.25966
           ],
           "xaxis": "x",
           "y": [
            67.065,
            46.714,
            59.504,
            72.88,
            63.441,
            61.62300000000001,
            67.84899999999999,
            70.723,
            59.631,
            58.79600000000001,
            58.207,
            53.738,
            48.042,
            53.88399999999999,
            69,
            62.361,
            55.151,
            66.21600000000001,
            65.815,
            55.448,
            72.16,
            65.9,
            71.34,
            68.673,
            65.712
           ],
           "yaxis": "y"
          },
          {
           "hovertemplate": "<b>%{hovertext}</b><br><br>continent=Oceania<br>year=1972<br>gdpPercap=%{x}<br>lifeExp=%{y}<br>pop=%{marker.size}<extra></extra>",
           "hovertext": [
            "Australia",
            "New Zealand"
           ],
           "ids": [
            "Australia",
            "New Zealand"
           ],
           "legendgroup": "Oceania",
           "marker": {
            "color": "#FFA15A",
            "size": [
             13177000,
             2929100
            ],
            "sizemode": "area",
            "sizeref": 435928.2961983471,
            "symbol": "circle"
           },
           "mode": "markers",
           "name": "Oceania",
           "orientation": "v",
           "showlegend": true,
           "type": "scatter",
           "x": [
            16788.62948,
            16046.03728
           ],
           "xaxis": "x",
           "y": [
            71.93,
            71.89
           ],
           "yaxis": "y"
          }
         ],
         "name": "1972"
        },
        {
         "data": [
          {
           "hovertemplate": "<b>%{hovertext}</b><br><br>continent=Asia<br>year=1977<br>gdpPercap=%{x}<br>lifeExp=%{y}<br>pop=%{marker.size}<extra></extra>",
           "hovertext": [
            "Afghanistan",
            "Bahrain",
            "Bangladesh",
            "Cambodia",
            "China",
            "Hong Kong, China",
            "India",
            "Indonesia",
            "Iran",
            "Iraq",
            "Israel",
            "Japan",
            "Jordan",
            "Korea, Dem. Rep.",
            "Korea, Rep.",
            "Kuwait",
            "Lebanon",
            "Malaysia",
            "Mongolia",
            "Myanmar",
            "Nepal",
            "Oman",
            "Pakistan",
            "Philippines",
            "Saudi Arabia",
            "Singapore",
            "Sri Lanka",
            "Syria",
            "Taiwan",
            "Thailand",
            "Vietnam",
            "West Bank and Gaza",
            "Yemen, Rep."
           ],
           "ids": [
            "Afghanistan",
            "Bahrain",
            "Bangladesh",
            "Cambodia",
            "China",
            "Hong Kong, China",
            "India",
            "Indonesia",
            "Iran",
            "Iraq",
            "Israel",
            "Japan",
            "Jordan",
            "Korea, Dem. Rep.",
            "Korea, Rep.",
            "Kuwait",
            "Lebanon",
            "Malaysia",
            "Mongolia",
            "Myanmar",
            "Nepal",
            "Oman",
            "Pakistan",
            "Philippines",
            "Saudi Arabia",
            "Singapore",
            "Sri Lanka",
            "Syria",
            "Taiwan",
            "Thailand",
            "Vietnam",
            "West Bank and Gaza",
            "Yemen, Rep."
           ],
           "legendgroup": "Asia",
           "marker": {
            "color": "#636efa",
            "size": [
             14880372,
             297410,
             80428306,
             6978607,
             943455000,
             4583700,
             634000000,
             136725000,
             35480679,
             11882916,
             3495918,
             113872473,
             1937652,
             16325320,
             36436000,
             1140357,
             3115787,
             12845381,
             1528000,
             31528087,
             13933198,
             1004533,
             78152686,
             46850962,
             8128505,
             2325300,
             14116836,
             7932503,
             16785196,
             44148285,
             50533506,
             1261091,
             8403990
            ],
            "sizemode": "area",
            "sizeref": 435928.2961983471,
            "symbol": "circle"
           },
           "mode": "markers",
           "name": "Asia",
           "orientation": "v",
           "showlegend": true,
           "type": "scatter",
           "x": [
            786.11336,
            19340.10196,
            659.8772322000002,
            524.9721831999999,
            741.2374699,
            11186.14125,
            813.3373230000002,
            1382.702056,
            11888.59508,
            14688.23507,
            13306.61921,
            16610.37701,
            2852.351568,
            4106.301249,
            4657.22102,
            59265.47714,
            8659.696836,
            3827.921571,
            1647.511665,
            371,
            694.1124398,
            11848.34392,
            1175.921193,
            2373.204287,
            34167.7626,
            11210.08948,
            1348.775651,
            3195.484582,
            5596.519826,
            1961.2246350000007,
            713.5371196000001,
            3682.831494,
            1829.765177
           ],
           "xaxis": "x",
           "y": [
            38.438,
            65.593,
            46.923,
            31.22,
            63.96736,
            73.6,
            54.208,
            52.702,
            57.702,
            60.413,
            73.06,
            75.38,
            61.13399999999999,
            67.15899999999999,
            64.766,
            69.343,
            66.09899999999999,
            65.256,
            55.49100000000001,
            56.059,
            46.74800000000001,
            57.367,
            54.043,
            60.06,
            58.69,
            70.795,
            65.949,
            61.195,
            70.59,
            62.494,
            55.764,
            60.765,
            44.175
           ],
           "yaxis": "y"
          },
          {
           "hovertemplate": "<b>%{hovertext}</b><br><br>continent=Europe<br>year=1977<br>gdpPercap=%{x}<br>lifeExp=%{y}<br>pop=%{marker.size}<extra></extra>",
           "hovertext": [
            "Albania",
            "Austria",
            "Belgium",
            "Bosnia and Herzegovina",
            "Bulgaria",
            "Croatia",
            "Czech Republic",
            "Denmark",
            "Finland",
            "France",
            "Germany",
            "Greece",
            "Hungary",
            "Iceland",
            "Ireland",
            "Italy",
            "Montenegro",
            "Netherlands",
            "Norway",
            "Poland",
            "Portugal",
            "Romania",
            "Serbia",
            "Slovak Republic",
            "Slovenia",
            "Spain",
            "Sweden",
            "Switzerland",
            "Turkey",
            "United Kingdom"
           ],
           "ids": [
            "Albania",
            "Austria",
            "Belgium",
            "Bosnia and Herzegovina",
            "Bulgaria",
            "Croatia",
            "Czech Republic",
            "Denmark",
            "Finland",
            "France",
            "Germany",
            "Greece",
            "Hungary",
            "Iceland",
            "Ireland",
            "Italy",
            "Montenegro",
            "Netherlands",
            "Norway",
            "Poland",
            "Portugal",
            "Romania",
            "Serbia",
            "Slovak Republic",
            "Slovenia",
            "Spain",
            "Sweden",
            "Switzerland",
            "Turkey",
            "United Kingdom"
           ],
           "legendgroup": "Europe",
           "marker": {
            "color": "#EF553B",
            "size": [
             2509048,
             7568430,
             9821800,
             4086000,
             8797022,
             4318673,
             10161915,
             5088419,
             4738902,
             53165019,
             78160773,
             9308479,
             10637171,
             221823,
             3271900,
             56059245,
             560073,
             13852989,
             4043205,
             34621254,
             9662600,
             21658597,
             8686367,
             4827803,
             1746919,
             36439000,
             8251648,
             6316424,
             42404033,
             56179000
            ],
            "sizemode": "area",
            "sizeref": 435928.2961983471,
            "symbol": "circle"
           },
           "mode": "markers",
           "name": "Europe",
           "orientation": "v",
           "showlegend": true,
           "type": "scatter",
           "x": [
            3533.003910000001,
            19749.4223,
            19117.97448,
            3528.481305,
            7612.240438,
            11305.38517,
            14800.16062,
            20422.9015,
            15605.42283,
            18292.63514,
            20512.92123,
            14195.52428,
            11674.83737,
            19654.96247,
            11150.98113,
            14255.98475,
            9595.929905,
            21209.0592,
            23311.34939,
            9508.141454,
            10172.48572,
            9356.39724,
            12980.66956,
            10922.66404,
            15277.030169999998,
            13236.92117,
            18855.72521,
            26982.29052,
            4269.122326,
            17428.74846
           ],
           "xaxis": "x",
           "y": [
            68.93,
            72.17,
            72.8,
            69.86,
            70.81,
            70.64,
            70.71,
            74.69,
            72.52,
            73.83,
            72.5,
            73.68,
            69.95,
            76.11,
            72.03,
            73.48,
            73.066,
            75.24,
            75.37,
            70.67,
            70.41,
            69.46,
            70.3,
            70.45,
            70.97,
            74.39,
            75.44,
            75.39,
            59.507,
            72.76
           ],
           "yaxis": "y"
          },
          {
           "hovertemplate": "<b>%{hovertext}</b><br><br>continent=Africa<br>year=1977<br>gdpPercap=%{x}<br>lifeExp=%{y}<br>pop=%{marker.size}<extra></extra>",
           "hovertext": [
            "Algeria",
            "Angola",
            "Benin",
            "Botswana",
            "Burkina Faso",
            "Burundi",
            "Cameroon",
            "Central African Republic",
            "Chad",
            "Comoros",
            "Congo, Dem. Rep.",
            "Congo, Rep.",
            "Cote d'Ivoire",
            "Djibouti",
            "Egypt",
            "Equatorial Guinea",
            "Eritrea",
            "Ethiopia",
            "Gabon",
            "Gambia",
            "Ghana",
            "Guinea",
            "Guinea-Bissau",
            "Kenya",
            "Lesotho",
            "Liberia",
            "Libya",
            "Madagascar",
            "Malawi",
            "Mali",
            "Mauritania",
            "Mauritius",
            "Morocco",
            "Mozambique",
            "Namibia",
            "Niger",
            "Nigeria",
            "Reunion",
            "Rwanda",
            "Sao Tome and Principe",
            "Senegal",
            "Sierra Leone",
            "Somalia",
            "South Africa",
            "Sudan",
            "Swaziland",
            "Tanzania",
            "Togo",
            "Tunisia",
            "Uganda",
            "Zambia",
            "Zimbabwe"
           ],
           "ids": [
            "Algeria",
            "Angola",
            "Benin",
            "Botswana",
            "Burkina Faso",
            "Burundi",
            "Cameroon",
            "Central African Republic",
            "Chad",
            "Comoros",
            "Congo, Dem. Rep.",
            "Congo, Rep.",
            "Cote d'Ivoire",
            "Djibouti",
            "Egypt",
            "Equatorial Guinea",
            "Eritrea",
            "Ethiopia",
            "Gabon",
            "Gambia",
            "Ghana",
            "Guinea",
            "Guinea-Bissau",
            "Kenya",
            "Lesotho",
            "Liberia",
            "Libya",
            "Madagascar",
            "Malawi",
            "Mali",
            "Mauritania",
            "Mauritius",
            "Morocco",
            "Mozambique",
            "Namibia",
            "Niger",
            "Nigeria",
            "Reunion",
            "Rwanda",
            "Sao Tome and Principe",
            "Senegal",
            "Sierra Leone",
            "Somalia",
            "South Africa",
            "Sudan",
            "Swaziland",
            "Tanzania",
            "Togo",
            "Tunisia",
            "Uganda",
            "Zambia",
            "Zimbabwe"
           ],
           "legendgroup": "Africa",
           "marker": {
            "color": "#00cc96",
            "size": [
             17152804,
             6162675,
             3168267,
             781472,
             5889574,
             3834415,
             7959865,
             2167533,
             4388260,
             304739,
             26480870,
             1536769,
             7459574,
             228694,
             38783863,
             192675,
             2512642,
             34617799,
             706367,
             608274,
             10538093,
             4227026,
             745228,
             14500404,
             1251524,
             1703617,
             2721783,
             8007166,
             5637246,
             6491649,
             1456688,
             913025,
             18396941,
             11127868,
             977026,
             5682086,
             62209173,
             492095,
             4657072,
             86796,
             5260855,
             3140897,
             4353666,
             27129932,
             17104986,
             551425,
             17129565,
             2308582,
             6005061,
             11457758,
             5216550,
             6642107
            ],
            "sizemode": "area",
            "sizeref": 435928.2961983471,
            "symbol": "circle"
           },
           "mode": "markers",
           "name": "Africa",
           "orientation": "v",
           "showlegend": true,
           "type": "scatter",
           "x": [
            4910.416756000001,
            3008.647355,
            1029.161251,
            3214.857818,
            743.3870368,
            556.1032651,
            1783.432873,
            1109.374338,
            1133.98495,
            1172.603047,
            795.757282,
            3259.178978,
            2517.736547,
            3081.761022,
            2785.493582,
            958.5668124,
            505.7538077,
            556.8083834,
            21745.57328,
            884.7552507000001,
            993.2239571,
            874.6858642999998,
            764.7259627999998,
            1267.613204,
            745.3695408,
            640.3224382999998,
            21951.21176,
            1544.228586,
            663.2236766,
            686.3952693,
            1497.492223,
            3710.982963,
            2370.619976,
            502.3197334,
            3876.485958,
            808.8970727999998,
            1981.951806,
            4319.804067,
            670.0806011,
            1737.561657,
            1561.769116,
            1348.285159,
            1450.992513,
            8028.651439,
            2202.988423,
            3781.410618,
            962.4922932,
            1532.776998,
            3120.876811,
            843.7331372000001,
            1588.688299,
            685.5876821
           ],
           "xaxis": "x",
           "y": [
            58.014,
            39.483,
            49.19,
            59.319,
            46.137,
            45.91,
            49.355,
            46.775,
            47.383,
            50.93899999999999,
            47.804,
            55.625,
            52.374,
            46.519,
            53.319,
            42.024,
            44.535,
            44.51,
            52.79,
            41.842,
            51.756,
            40.762,
            37.465,
            56.155,
            52.208,
            43.764,
            57.442,
            46.881,
            43.767,
            41.714,
            50.852,
            64.93,
            55.73,
            42.495,
            56.437,
            41.291,
            44.514,
            67.064,
            45,
            58.55,
            48.879,
            36.788,
            41.974,
            55.527,
            47.8,
            52.537,
            49.919,
            52.887,
            59.837,
            50.35,
            51.386,
            57.674
           ],
           "yaxis": "y"
          },
          {
           "hovertemplate": "<b>%{hovertext}</b><br><br>continent=Americas<br>year=1977<br>gdpPercap=%{x}<br>lifeExp=%{y}<br>pop=%{marker.size}<extra></extra>",
           "hovertext": [
            "Argentina",
            "Bolivia",
            "Brazil",
            "Canada",
            "Chile",
            "Colombia",
            "Costa Rica",
            "Cuba",
            "Dominican Republic",
            "Ecuador",
            "El Salvador",
            "Guatemala",
            "Haiti",
            "Honduras",
            "Jamaica",
            "Mexico",
            "Nicaragua",
            "Panama",
            "Paraguay",
            "Peru",
            "Puerto Rico",
            "Trinidad and Tobago",
            "United States",
            "Uruguay",
            "Venezuela"
           ],
           "ids": [
            "Argentina",
            "Bolivia",
            "Brazil",
            "Canada",
            "Chile",
            "Colombia",
            "Costa Rica",
            "Cuba",
            "Dominican Republic",
            "Ecuador",
            "El Salvador",
            "Guatemala",
            "Haiti",
            "Honduras",
            "Jamaica",
            "Mexico",
            "Nicaragua",
            "Panama",
            "Paraguay",
            "Peru",
            "Puerto Rico",
            "Trinidad and Tobago",
            "United States",
            "Uruguay",
            "Venezuela"
           ],
           "legendgroup": "Americas",
           "marker": {
            "color": "#ab63fa",
            "size": [
             26983828,
             5079716,
             114313951,
             23796400,
             10599793,
             25094412,
             2108457,
             9537988,
             5302800,
             7278866,
             4282586,
             5703430,
             4908554,
             3055235,
             2156814,
             63759976,
             2554598,
             1839782,
             2984494,
             15990099,
             3080828,
             1039009,
             220239000,
             2873520,
             13503563
            ],
            "sizemode": "area",
            "sizeref": 435928.2961983471,
            "symbol": "circle"
           },
           "mode": "markers",
           "name": "Americas",
           "orientation": "v",
           "showlegend": true,
           "type": "scatter",
           "x": [
            10079.02674,
            3548.097832,
            6660.118654,
            22090.88306,
            4756.763836,
            3815.80787,
            5926.876967,
            6380.494965999998,
            2681.9889,
            6679.62326,
            5138.922374,
            4879.992748,
            1874.298931,
            3203.208066,
            6650.195573,
            7674.929108,
            5486.371089,
            5351.912144,
            3248.373311,
            6281.290854999998,
            9770.524921,
            7899.554209000001,
            24072.63213,
            6504.339663000002,
            13143.95095
           ],
           "xaxis": "x",
           "y": [
            68.48100000000001,
            50.023,
            61.489,
            74.21,
            67.05199999999999,
            63.837,
            70.75,
            72.649,
            61.788,
            61.31,
            56.69600000000001,
            56.029,
            49.923,
            57.402,
            70.11,
            65.032,
            57.47,
            68.681,
            66.35300000000001,
            58.447,
            73.44,
            68.3,
            73.38,
            69.48100000000001,
            67.456
           ],
           "yaxis": "y"
          },
          {
           "hovertemplate": "<b>%{hovertext}</b><br><br>continent=Oceania<br>year=1977<br>gdpPercap=%{x}<br>lifeExp=%{y}<br>pop=%{marker.size}<extra></extra>",
           "hovertext": [
            "Australia",
            "New Zealand"
           ],
           "ids": [
            "Australia",
            "New Zealand"
           ],
           "legendgroup": "Oceania",
           "marker": {
            "color": "#FFA15A",
            "size": [
             14074100,
             3164900
            ],
            "sizemode": "area",
            "sizeref": 435928.2961983471,
            "symbol": "circle"
           },
           "mode": "markers",
           "name": "Oceania",
           "orientation": "v",
           "showlegend": true,
           "type": "scatter",
           "x": [
            18334.19751,
            16233.7177
           ],
           "xaxis": "x",
           "y": [
            73.49,
            72.22
           ],
           "yaxis": "y"
          }
         ],
         "name": "1977"
        },
        {
         "data": [
          {
           "hovertemplate": "<b>%{hovertext}</b><br><br>continent=Asia<br>year=1982<br>gdpPercap=%{x}<br>lifeExp=%{y}<br>pop=%{marker.size}<extra></extra>",
           "hovertext": [
            "Afghanistan",
            "Bahrain",
            "Bangladesh",
            "Cambodia",
            "China",
            "Hong Kong, China",
            "India",
            "Indonesia",
            "Iran",
            "Iraq",
            "Israel",
            "Japan",
            "Jordan",
            "Korea, Dem. Rep.",
            "Korea, Rep.",
            "Kuwait",
            "Lebanon",
            "Malaysia",
            "Mongolia",
            "Myanmar",
            "Nepal",
            "Oman",
            "Pakistan",
            "Philippines",
            "Saudi Arabia",
            "Singapore",
            "Sri Lanka",
            "Syria",
            "Taiwan",
            "Thailand",
            "Vietnam",
            "West Bank and Gaza",
            "Yemen, Rep."
           ],
           "ids": [
            "Afghanistan",
            "Bahrain",
            "Bangladesh",
            "Cambodia",
            "China",
            "Hong Kong, China",
            "India",
            "Indonesia",
            "Iran",
            "Iraq",
            "Israel",
            "Japan",
            "Jordan",
            "Korea, Dem. Rep.",
            "Korea, Rep.",
            "Kuwait",
            "Lebanon",
            "Malaysia",
            "Mongolia",
            "Myanmar",
            "Nepal",
            "Oman",
            "Pakistan",
            "Philippines",
            "Saudi Arabia",
            "Singapore",
            "Sri Lanka",
            "Syria",
            "Taiwan",
            "Thailand",
            "Vietnam",
            "West Bank and Gaza",
            "Yemen, Rep."
           ],
           "legendgroup": "Asia",
           "marker": {
            "color": "#636efa",
            "size": [
             12881816,
             377967,
             93074406,
             7272485,
             1000281000,
             5264500,
             708000000,
             153343000,
             43072751,
             14173318,
             3858421,
             118454974,
             2347031,
             17647518,
             39326000,
             1497494,
             3086876,
             14441916,
             1756032,
             34680442,
             15796314,
             1301048,
             91462088,
             53456774,
             11254672,
             2651869,
             15410151,
             9410494,
             18501390,
             48827160,
             56142181,
             1425876,
             9657618
            ],
            "sizemode": "area",
            "sizeref": 435928.2961983471,
            "symbol": "circle"
           },
           "mode": "markers",
           "name": "Asia",
           "orientation": "v",
           "showlegend": true,
           "type": "scatter",
           "x": [
            978.0114388,
            19211.14731,
            676.9818656,
            624.4754784,
            962.4213805,
            14560.53051,
            855.7235377000002,
            1516.872988,
            7608.334602,
            14517.90711,
            15367.0292,
            19384.10571,
            4161.415959,
            4106.525293,
            5622.942464,
            31354.03573,
            7640.519520999998,
            4920.355951,
            2000.603139,
            424,
            718.3730947,
            12954.79101,
            1443.429832,
            2603.273765,
            33693.17525,
            15169.16112,
            1648.079789,
            3761.837715,
            7426.3547739999985,
            2393.219781,
            707.2357863,
            4336.032082,
            1977.55701
           ],
           "xaxis": "x",
           "y": [
            39.854,
            69.05199999999999,
            50.00899999999999,
            50.957,
            65.525,
            75.45,
            56.596,
            56.159,
            59.62,
            62.038,
            74.45,
            77.11,
            63.739,
            69.1,
            67.123,
            71.309,
            66.983,
            68,
            57.489,
            58.056,
            49.594,
            62.728,
            56.158,
            62.082,
            63.012,
            71.76,
            68.757,
            64.59,
            72.16,
            64.597,
            58.816,
            64.406,
            49.113
           ],
           "yaxis": "y"
          },
          {
           "hovertemplate": "<b>%{hovertext}</b><br><br>continent=Europe<br>year=1982<br>gdpPercap=%{x}<br>lifeExp=%{y}<br>pop=%{marker.size}<extra></extra>",
           "hovertext": [
            "Albania",
            "Austria",
            "Belgium",
            "Bosnia and Herzegovina",
            "Bulgaria",
            "Croatia",
            "Czech Republic",
            "Denmark",
            "Finland",
            "France",
            "Germany",
            "Greece",
            "Hungary",
            "Iceland",
            "Ireland",
            "Italy",
            "Montenegro",
            "Netherlands",
            "Norway",
            "Poland",
            "Portugal",
            "Romania",
            "Serbia",
            "Slovak Republic",
            "Slovenia",
            "Spain",
            "Sweden",
            "Switzerland",
            "Turkey",
            "United Kingdom"
           ],
           "ids": [
            "Albania",
            "Austria",
            "Belgium",
            "Bosnia and Herzegovina",
            "Bulgaria",
            "Croatia",
            "Czech Republic",
            "Denmark",
            "Finland",
            "France",
            "Germany",
            "Greece",
            "Hungary",
            "Iceland",
            "Ireland",
            "Italy",
            "Montenegro",
            "Netherlands",
            "Norway",
            "Poland",
            "Portugal",
            "Romania",
            "Serbia",
            "Slovak Republic",
            "Slovenia",
            "Spain",
            "Sweden",
            "Switzerland",
            "Turkey",
            "United Kingdom"
           ],
           "legendgroup": "Europe",
           "marker": {
            "color": "#EF553B",
            "size": [
             2780097,
             7574613,
             9856303,
             4172693,
             8892098,
             4413368,
             10303704,
             5117810,
             4826933,
             54433565,
             78335266,
             9786480,
             10705535,
             233997,
             3480000,
             56535636,
             562548,
             14310401,
             4114787,
             36227381,
             9859650,
             22356726,
             9032824,
             5048043,
             1861252,
             37983310,
             8325260,
             6468126,
             47328791,
             56339704
            ],
            "sizemode": "area",
            "sizeref": 435928.2961983471,
            "symbol": "circle"
           },
           "mode": "markers",
           "name": "Europe",
           "orientation": "v",
           "showlegend": true,
           "type": "scatter",
           "x": [
            3630.880722,
            21597.08362,
            20979.84589,
            4126.613157,
            8224.191647,
            13221.82184,
            15377.22855,
            21688.04048,
            18533.15761,
            20293.89746,
            22031.53274,
            15268.42089,
            12545.99066,
            23269.6075,
            12618.32141,
            16537.4835,
            11222.58762,
            21399.46046,
            26298.63531,
            8451.531004,
            11753.84291,
            9605.314053,
            15181.0927,
            11348.54585,
            17866.72175,
            13926.16997,
            20667.38125,
            28397.71512,
            4241.356344,
            18232.42452
           ],
           "xaxis": "x",
           "y": [
            70.42,
            73.18,
            73.93,
            70.69,
            71.08,
            70.46,
            70.96,
            74.63,
            74.55,
            74.89,
            73.8,
            75.24,
            69.39,
            76.99,
            73.1,
            74.98,
            74.101,
            76.05,
            75.97,
            71.32,
            72.77,
            69.66,
            70.16199999999999,
            70.8,
            71.063,
            76.3,
            76.42,
            76.21,
            61.036,
            74.04
           ],
           "yaxis": "y"
          },
          {
           "hovertemplate": "<b>%{hovertext}</b><br><br>continent=Africa<br>year=1982<br>gdpPercap=%{x}<br>lifeExp=%{y}<br>pop=%{marker.size}<extra></extra>",
           "hovertext": [
            "Algeria",
            "Angola",
            "Benin",
            "Botswana",
            "Burkina Faso",
            "Burundi",
            "Cameroon",
            "Central African Republic",
            "Chad",
            "Comoros",
            "Congo, Dem. Rep.",
            "Congo, Rep.",
            "Cote d'Ivoire",
            "Djibouti",
            "Egypt",
            "Equatorial Guinea",
            "Eritrea",
            "Ethiopia",
            "Gabon",
            "Gambia",
            "Ghana",
            "Guinea",
            "Guinea-Bissau",
            "Kenya",
            "Lesotho",
            "Liberia",
            "Libya",
            "Madagascar",
            "Malawi",
            "Mali",
            "Mauritania",
            "Mauritius",
            "Morocco",
            "Mozambique",
            "Namibia",
            "Niger",
            "Nigeria",
            "Reunion",
            "Rwanda",
            "Sao Tome and Principe",
            "Senegal",
            "Sierra Leone",
            "Somalia",
            "South Africa",
            "Sudan",
            "Swaziland",
            "Tanzania",
            "Togo",
            "Tunisia",
            "Uganda",
            "Zambia",
            "Zimbabwe"
           ],
           "ids": [
            "Algeria",
            "Angola",
            "Benin",
            "Botswana",
            "Burkina Faso",
            "Burundi",
            "Cameroon",
            "Central African Republic",
            "Chad",
            "Comoros",
            "Congo, Dem. Rep.",
            "Congo, Rep.",
            "Cote d'Ivoire",
            "Djibouti",
            "Egypt",
            "Equatorial Guinea",
            "Eritrea",
            "Ethiopia",
            "Gabon",
            "Gambia",
            "Ghana",
            "Guinea",
            "Guinea-Bissau",
            "Kenya",
            "Lesotho",
            "Liberia",
            "Libya",
            "Madagascar",
            "Malawi",
            "Mali",
            "Mauritania",
            "Mauritius",
            "Morocco",
            "Mozambique",
            "Namibia",
            "Niger",
            "Nigeria",
            "Reunion",
            "Rwanda",
            "Sao Tome and Principe",
            "Senegal",
            "Sierra Leone",
            "Somalia",
            "South Africa",
            "Sudan",
            "Swaziland",
            "Tanzania",
            "Togo",
            "Tunisia",
            "Uganda",
            "Zambia",
            "Zimbabwe"
           ],
           "legendgroup": "Africa",
           "marker": {
            "color": "#00cc96",
            "size": [
             20033753,
             7016384,
             3641603,
             970347,
             6634596,
             4580410,
             9250831,
             2476971,
             4875118,
             348643,
             30646495,
             1774735,
             9025951,
             305991,
             45681811,
             285483,
             2637297,
             38111756,
             753874,
             715523,
             11400338,
             4710497,
             825987,
             17661452,
             1411807,
             1956875,
             3344074,
             9171477,
             6502825,
             6998256,
             1622136,
             992040,
             20198730,
             12587223,
             1099010,
             6437188,
             73039376,
             517810,
             5507565,
             98593,
             6147783,
             3464522,
             5828892,
             31140029,
             20367053,
             649901,
             19844382,
             2644765,
             6734098,
             12939400,
             6100407,
             7636524
            ],
            "sizemode": "area",
            "sizeref": 435928.2961983471,
            "symbol": "circle"
           },
           "mode": "markers",
           "name": "Africa",
           "orientation": "v",
           "showlegend": true,
           "type": "scatter",
           "x": [
            5745.160213,
            2756.953672,
            1277.897616,
            4551.14215,
            807.1985855,
            559.6032309999998,
            2367.983282,
            956.7529907,
            797.9081006,
            1267.100083,
            673.7478181,
            4879.507522,
            2602.710169,
            2879.468067,
            3503.729636,
            927.8253427,
            524.8758493,
            577.8607471,
            15113.36194,
            835.8096107999999,
            876.032569,
            857.2503577,
            838.1239671,
            1348.225791,
            797.2631074,
            572.1995694,
            17364.275380000006,
            1302.878658,
            632.8039209,
            618.0140640999998,
            1481.150189,
            3688.037739,
            2702.620356,
            462.2114149,
            4191.100511,
            909.7221354,
            1576.97375,
            5267.219353,
            881.5706467,
            1890.218117,
            1518.479984,
            1465.010784,
            1176.807031,
            8568.266228,
            1895.544073,
            3895.384018,
            874.2426069,
            1344.577953,
            3560.2331740000004,
            682.2662267999998,
            1408.678565,
            788.8550411
           ],
           "xaxis": "x",
           "y": [
            61.368,
            39.942,
            50.904,
            61.484,
            48.122,
            47.471,
            52.96100000000001,
            48.295,
            49.517,
            52.933,
            47.784,
            56.695,
            53.983,
            48.812,
            56.006,
            43.662,
            43.89,
            44.916,
            56.56399999999999,
            45.58,
            53.744,
            42.89100000000001,
            39.327,
            58.76600000000001,
            55.078,
            44.852,
            62.155,
            48.969,
            45.642,
            43.916,
            53.599,
            66.711,
            59.65,
            42.795,
            58.968,
            42.598,
            45.826,
            69.885,
            46.218,
            60.351000000000006,
            52.379,
            38.445,
            42.955,
            58.161,
            50.338,
            55.56100000000001,
            50.608,
            55.471,
            64.048,
            49.849,
            51.82100000000001,
            60.363
           ],
           "yaxis": "y"
          },
          {
           "hovertemplate": "<b>%{hovertext}</b><br><br>continent=Americas<br>year=1982<br>gdpPercap=%{x}<br>lifeExp=%{y}<br>pop=%{marker.size}<extra></extra>",
           "hovertext": [
            "Argentina",
            "Bolivia",
            "Brazil",
            "Canada",
            "Chile",
            "Colombia",
            "Costa Rica",
            "Cuba",
            "Dominican Republic",
            "Ecuador",
            "El Salvador",
            "Guatemala",
            "Haiti",
            "Honduras",
            "Jamaica",
            "Mexico",
            "Nicaragua",
            "Panama",
            "Paraguay",
            "Peru",
            "Puerto Rico",
            "Trinidad and Tobago",
            "United States",
            "Uruguay",
            "Venezuela"
           ],
           "ids": [
            "Argentina",
            "Bolivia",
            "Brazil",
            "Canada",
            "Chile",
            "Colombia",
            "Costa Rica",
            "Cuba",
            "Dominican Republic",
            "Ecuador",
            "El Salvador",
            "Guatemala",
            "Haiti",
            "Honduras",
            "Jamaica",
            "Mexico",
            "Nicaragua",
            "Panama",
            "Paraguay",
            "Peru",
            "Puerto Rico",
            "Trinidad and Tobago",
            "United States",
            "Uruguay",
            "Venezuela"
           ],
           "legendgroup": "Americas",
           "marker": {
            "color": "#ab63fa",
            "size": [
             29341374,
             5642224,
             128962939,
             25201900,
             11487112,
             27764644,
             2424367,
             9789224,
             5968349,
             8365850,
             4474873,
             6395630,
             5198399,
             3669448,
             2298309,
             71640904,
             2979423,
             2036305,
             3366439,
             18125129,
             3279001,
             1116479,
             232187835,
             2953997,
             15620766
            ],
            "sizemode": "area",
            "sizeref": 435928.2961983471,
            "symbol": "circle"
           },
           "mode": "markers",
           "name": "Americas",
           "orientation": "v",
           "showlegend": true,
           "type": "scatter",
           "x": [
            8997.897412,
            3156.510452,
            7030.835878,
            22898.79214,
            5095.6657380000015,
            4397.575659,
            5262.734751,
            7316.918106999998,
            2861.092386,
            7213.791267,
            4098.344175,
            4820.49479,
            2011.159549,
            3121.7607940000007,
            6068.05135,
            9611.147541,
            3470.3381560000007,
            7009.601598,
            4258.503604,
            6434.501797,
            10330.98915,
            9119.528607,
            25009.55914,
            6920.223051000001,
            11152.41011
           ],
           "xaxis": "x",
           "y": [
            69.942,
            53.859,
            63.33600000000001,
            75.76,
            70.565,
            66.653,
            73.45,
            73.717,
            63.727,
            64.342,
            56.604,
            58.137,
            51.46100000000001,
            60.909,
            71.21,
            67.405,
            59.298,
            70.472,
            66.874,
            61.40600000000001,
            73.75,
            68.832,
            74.65,
            70.805,
            68.557
           ],
           "yaxis": "y"
          },
          {
           "hovertemplate": "<b>%{hovertext}</b><br><br>continent=Oceania<br>year=1982<br>gdpPercap=%{x}<br>lifeExp=%{y}<br>pop=%{marker.size}<extra></extra>",
           "hovertext": [
            "Australia",
            "New Zealand"
           ],
           "ids": [
            "Australia",
            "New Zealand"
           ],
           "legendgroup": "Oceania",
           "marker": {
            "color": "#FFA15A",
            "size": [
             15184200,
             3210650
            ],
            "sizemode": "area",
            "sizeref": 435928.2961983471,
            "symbol": "circle"
           },
           "mode": "markers",
           "name": "Oceania",
           "orientation": "v",
           "showlegend": true,
           "type": "scatter",
           "x": [
            19477.00928,
            17632.4104
           ],
           "xaxis": "x",
           "y": [
            74.74,
            73.84
           ],
           "yaxis": "y"
          }
         ],
         "name": "1982"
        },
        {
         "data": [
          {
           "hovertemplate": "<b>%{hovertext}</b><br><br>continent=Asia<br>year=1987<br>gdpPercap=%{x}<br>lifeExp=%{y}<br>pop=%{marker.size}<extra></extra>",
           "hovertext": [
            "Afghanistan",
            "Bahrain",
            "Bangladesh",
            "Cambodia",
            "China",
            "Hong Kong, China",
            "India",
            "Indonesia",
            "Iran",
            "Iraq",
            "Israel",
            "Japan",
            "Jordan",
            "Korea, Dem. Rep.",
            "Korea, Rep.",
            "Kuwait",
            "Lebanon",
            "Malaysia",
            "Mongolia",
            "Myanmar",
            "Nepal",
            "Oman",
            "Pakistan",
            "Philippines",
            "Saudi Arabia",
            "Singapore",
            "Sri Lanka",
            "Syria",
            "Taiwan",
            "Thailand",
            "Vietnam",
            "West Bank and Gaza",
            "Yemen, Rep."
           ],
           "ids": [
            "Afghanistan",
            "Bahrain",
            "Bangladesh",
            "Cambodia",
            "China",
            "Hong Kong, China",
            "India",
            "Indonesia",
            "Iran",
            "Iraq",
            "Israel",
            "Japan",
            "Jordan",
            "Korea, Dem. Rep.",
            "Korea, Rep.",
            "Kuwait",
            "Lebanon",
            "Malaysia",
            "Mongolia",
            "Myanmar",
            "Nepal",
            "Oman",
            "Pakistan",
            "Philippines",
            "Saudi Arabia",
            "Singapore",
            "Sri Lanka",
            "Syria",
            "Taiwan",
            "Thailand",
            "Vietnam",
            "West Bank and Gaza",
            "Yemen, Rep."
           ],
           "legendgroup": "Asia",
           "marker": {
            "color": "#636efa",
            "size": [
             13867957,
             454612,
             103764241,
             8371791,
             1084035000,
             5584510,
             788000000,
             169276000,
             51889696,
             16543189,
             4203148,
             122091325,
             2820042,
             19067554,
             41622000,
             1891487,
             3089353,
             16331785,
             2015133,
             38028578,
             17917180,
             1593882,
             105186881,
             60017788,
             14619745,
             2794552,
             16495304,
             11242847,
             19757799,
             52910342,
             62826491,
             1691210,
             11219340
            ],
            "sizemode": "area",
            "sizeref": 435928.2961983471,
            "symbol": "circle"
           },
           "mode": "markers",
           "name": "Asia",
           "orientation": "v",
           "showlegend": true,
           "type": "scatter",
           "x": [
            852.3959447999998,
            18524.02406,
            751.9794035,
            683.8955732000002,
            1378.904018,
            20038.47269,
            976.5126756,
            1748.356961,
            6642.881371,
            11643.57268,
            17122.47986,
            22375.94189,
            4448.679912,
            4106.492315,
            8533.088805,
            28118.42998,
            5377.091329,
            5249.802653,
            2338.008304,
            385,
            775.6324501,
            18115.22313,
            1704.686583,
            2189.634995,
            21198.26136,
            18861.53081,
            1876.766827,
            3116.774285,
            11054.56175,
            2982.653773,
            820.7994449,
            5107.197384,
            1971.741538
           ],
           "xaxis": "x",
           "y": [
            40.822,
            70.75,
            52.819,
            53.914,
            67.274,
            76.2,
            58.553,
            60.137,
            63.04,
            65.044,
            75.6,
            78.67,
            65.869,
            70.64699999999998,
            69.81,
            74.17399999999998,
            67.926,
            69.5,
            60.222,
            58.339,
            52.537,
            67.734,
            58.245,
            64.15100000000001,
            66.295,
            73.56,
            69.01100000000001,
            66.97399999999999,
            73.4,
            66.084,
            62.82,
            67.046,
            52.922
           ],
           "yaxis": "y"
          },
          {
           "hovertemplate": "<b>%{hovertext}</b><br><br>continent=Europe<br>year=1987<br>gdpPercap=%{x}<br>lifeExp=%{y}<br>pop=%{marker.size}<extra></extra>",
           "hovertext": [
            "Albania",
            "Austria",
            "Belgium",
            "Bosnia and Herzegovina",
            "Bulgaria",
            "Croatia",
            "Czech Republic",
            "Denmark",
            "Finland",
            "France",
            "Germany",
            "Greece",
            "Hungary",
            "Iceland",
            "Ireland",
            "Italy",
            "Montenegro",
            "Netherlands",
            "Norway",
            "Poland",
            "Portugal",
            "Romania",
            "Serbia",
            "Slovak Republic",
            "Slovenia",
            "Spain",
            "Sweden",
            "Switzerland",
            "Turkey",
            "United Kingdom"
           ],
           "ids": [
            "Albania",
            "Austria",
            "Belgium",
            "Bosnia and Herzegovina",
            "Bulgaria",
            "Croatia",
            "Czech Republic",
            "Denmark",
            "Finland",
            "France",
            "Germany",
            "Greece",
            "Hungary",
            "Iceland",
            "Ireland",
            "Italy",
            "Montenegro",
            "Netherlands",
            "Norway",
            "Poland",
            "Portugal",
            "Romania",
            "Serbia",
            "Slovak Republic",
            "Slovenia",
            "Spain",
            "Sweden",
            "Switzerland",
            "Turkey",
            "United Kingdom"
           ],
           "legendgroup": "Europe",
           "marker": {
            "color": "#EF553B",
            "size": [
             3075321,
             7578903,
             9870200,
             4338977,
             8971958,
             4484310,
             10311597,
             5127024,
             4931729,
             55630100,
             77718298,
             9974490,
             10612740,
             244676,
             3539900,
             56729703,
             569473,
             14665278,
             4186147,
             37740710,
             9915289,
             22686371,
             9230783,
             5199318,
             1945870,
             38880702,
             8421403,
             6649942,
             52881328,
             56981620
            ],
            "sizemode": "area",
            "sizeref": 435928.2961983471,
            "symbol": "circle"
           },
           "mode": "markers",
           "name": "Europe",
           "orientation": "v",
           "showlegend": true,
           "type": "scatter",
           "x": [
            3738.932735,
            23687.82607,
            22525.56308,
            4314.114757,
            8239.854824,
            13822.58394,
            16310.4434,
            25116.17581,
            21141.01223,
            22066.44214,
            24639.18566,
            16120.52839,
            12986.47998,
            26923.20628,
            13872.86652,
            19207.23482,
            11732.51017,
            23651.32361,
            31540.9748,
            9082.351172,
            13039.30876,
            9696.273295,
            15870.87851,
            12037.26758,
            18678.53492,
            15764.98313,
            23586.92927,
            30281.70459,
            5089.043686,
            21664.78767
           ],
           "xaxis": "x",
           "y": [
            72,
            74.94,
            75.35,
            71.14,
            71.34,
            71.52,
            71.58,
            74.8,
            74.83,
            76.34,
            74.847,
            76.67,
            69.58,
            77.23,
            74.36,
            76.42,
            74.865,
            76.83,
            75.89,
            70.98,
            74.06,
            69.53,
            71.218,
            71.08,
            72.25,
            76.9,
            77.19,
            77.41,
            63.108,
            75.007
           ],
           "yaxis": "y"
          },
          {
           "hovertemplate": "<b>%{hovertext}</b><br><br>continent=Africa<br>year=1987<br>gdpPercap=%{x}<br>lifeExp=%{y}<br>pop=%{marker.size}<extra></extra>",
           "hovertext": [
            "Algeria",
            "Angola",
            "Benin",
            "Botswana",
            "Burkina Faso",
            "Burundi",
            "Cameroon",
            "Central African Republic",
            "Chad",
            "Comoros",
            "Congo, Dem. Rep.",
            "Congo, Rep.",
            "Cote d'Ivoire",
            "Djibouti",
            "Egypt",
            "Equatorial Guinea",
            "Eritrea",
            "Ethiopia",
            "Gabon",
            "Gambia",
            "Ghana",
            "Guinea",
            "Guinea-Bissau",
            "Kenya",
            "Lesotho",
            "Liberia",
            "Libya",
            "Madagascar",
            "Malawi",
            "Mali",
            "Mauritania",
            "Mauritius",
            "Morocco",
            "Mozambique",
            "Namibia",
            "Niger",
            "Nigeria",
            "Reunion",
            "Rwanda",
            "Sao Tome and Principe",
            "Senegal",
            "Sierra Leone",
            "Somalia",
            "South Africa",
            "Sudan",
            "Swaziland",
            "Tanzania",
            "Togo",
            "Tunisia",
            "Uganda",
            "Zambia",
            "Zimbabwe"
           ],
           "ids": [
            "Algeria",
            "Angola",
            "Benin",
            "Botswana",
            "Burkina Faso",
            "Burundi",
            "Cameroon",
            "Central African Republic",
            "Chad",
            "Comoros",
            "Congo, Dem. Rep.",
            "Congo, Rep.",
            "Cote d'Ivoire",
            "Djibouti",
            "Egypt",
            "Equatorial Guinea",
            "Eritrea",
            "Ethiopia",
            "Gabon",
            "Gambia",
            "Ghana",
            "Guinea",
            "Guinea-Bissau",
            "Kenya",
            "Lesotho",
            "Liberia",
            "Libya",
            "Madagascar",
            "Malawi",
            "Mali",
            "Mauritania",
            "Mauritius",
            "Morocco",
            "Mozambique",
            "Namibia",
            "Niger",
            "Nigeria",
            "Reunion",
            "Rwanda",
            "Sao Tome and Principe",
            "Senegal",
            "Sierra Leone",
            "Somalia",
            "South Africa",
            "Sudan",
            "Swaziland",
            "Tanzania",
            "Togo",
            "Tunisia",
            "Uganda",
            "Zambia",
            "Zimbabwe"
           ],
           "legendgroup": "Africa",
           "marker": {
            "color": "#00cc96",
            "size": [
             23254956,
             7874230,
             4243788,
             1151184,
             7586551,
             5126023,
             10780667,
             2840009,
             5498955,
             395114,
             35481645,
             2064095,
             10761098,
             311025,
             52799062,
             341244,
             2915959,
             42999530,
             880397,
             848406,
             14168101,
             5650262,
             927524,
             21198082,
             1599200,
             2269414,
             3799845,
             10568642,
             7824747,
             7634008,
             1841240,
             1042663,
             22987397,
             12891952,
             1278184,
             7332638,
             81551520,
             562035,
             6349365,
             110812,
             7171347,
             3868905,
             6921858,
             35933379,
             24725960,
             779348,
             23040630,
             3154264,
             7724976,
             15283050,
             7272406,
             9216418
            ],
            "sizemode": "area",
            "sizeref": 435928.2961983471,
            "symbol": "circle"
           },
           "mode": "markers",
           "name": "Africa",
           "orientation": "v",
           "showlegend": true,
           "type": "scatter",
           "x": [
            5681.358539,
            2430.208311,
            1225.85601,
            6205.88385,
            912.0631417,
            621.8188188999999,
            2602.664206,
            844.8763504000002,
            952.386129,
            1315.980812,
            672.774812,
            4201.194936999998,
            2156.9560690000008,
            2880.102568,
            3885.46071,
            966.8968149,
            521.1341333,
            573.7413142000001,
            11864.40844,
            611.6588611000002,
            847.0061135,
            805.5724717999999,
            736.4153921,
            1361.936856,
            773.9932140999998,
            506.1138573,
            11770.5898,
            1155.441948,
            635.5173633999998,
            684.1715576,
            1421.603576,
            4783.586903,
            2755.046991,
            389.8761846,
            3693.731337,
            668.3000228,
            1385.029563,
            5303.377488,
            847.991217,
            1516.525457,
            1441.72072,
            1294.4477880000004,
            1093.244963,
            7825.823398,
            1507.819159,
            3984.839812,
            831.8220794,
            1202.201361,
            3810.419296,
            617.7244065,
            1213.315116,
            706.1573059
           ],
           "xaxis": "x",
           "y": [
            65.79899999999999,
            39.906,
            52.337,
            63.622,
            49.557,
            48.21100000000001,
            54.985,
            50.485,
            51.051,
            54.926,
            47.412,
            57.47,
            54.655,
            50.04,
            59.797,
            45.664,
            46.453,
            46.684,
            60.19,
            49.265,
            55.729,
            45.552,
            41.245,
            59.339,
            57.18,
            46.027,
            66.234,
            49.35,
            47.457,
            46.364,
            56.145,
            68.74,
            62.677,
            42.861,
            60.835,
            44.555,
            46.886,
            71.913,
            44.02,
            61.728,
            55.769,
            40.006,
            44.50100000000001,
            60.834,
            51.744,
            57.678,
            51.535,
            56.941,
            66.89399999999999,
            51.50899999999999,
            50.82100000000001,
            62.351000000000006
           ],
           "yaxis": "y"
          },
          {
           "hovertemplate": "<b>%{hovertext}</b><br><br>continent=Americas<br>year=1987<br>gdpPercap=%{x}<br>lifeExp=%{y}<br>pop=%{marker.size}<extra></extra>",
           "hovertext": [
            "Argentina",
            "Bolivia",
            "Brazil",
            "Canada",
            "Chile",
            "Colombia",
            "Costa Rica",
            "Cuba",
            "Dominican Republic",
            "Ecuador",
            "El Salvador",
            "Guatemala",
            "Haiti",
            "Honduras",
            "Jamaica",
            "Mexico",
            "Nicaragua",
            "Panama",
            "Paraguay",
            "Peru",
            "Puerto Rico",
            "Trinidad and Tobago",
            "United States",
            "Uruguay",
            "Venezuela"
           ],
           "ids": [
            "Argentina",
            "Bolivia",
            "Brazil",
            "Canada",
            "Chile",
            "Colombia",
            "Costa Rica",
            "Cuba",
            "Dominican Republic",
            "Ecuador",
            "El Salvador",
            "Guatemala",
            "Haiti",
            "Honduras",
            "Jamaica",
            "Mexico",
            "Nicaragua",
            "Panama",
            "Paraguay",
            "Peru",
            "Puerto Rico",
            "Trinidad and Tobago",
            "United States",
            "Uruguay",
            "Venezuela"
           ],
           "legendgroup": "Americas",
           "marker": {
            "color": "#ab63fa",
            "size": [
             31620918,
             6156369,
             142938076,
             26549700,
             12463354,
             30964245,
             2799811,
             10239839,
             6655297,
             9545158,
             4842194,
             7326406,
             5756203,
             4372203,
             2326606,
             80122492,
             3344353,
             2253639,
             3886512,
             20195924,
             3444468,
             1191336,
             242803533,
             3045153,
             17910182
            ],
            "sizemode": "area",
            "sizeref": 435928.2961983471,
            "symbol": "circle"
           },
           "mode": "markers",
           "name": "Americas",
           "orientation": "v",
           "showlegend": true,
           "type": "scatter",
           "x": [
            9139.671389,
            2753.69149,
            7807.095818000002,
            26626.51503,
            5547.063754,
            4903.2191,
            5629.915318,
            7532.924762999999,
            2899.842175,
            6481.776993,
            4140.442097,
            4246.485974,
            1823.015995,
            3023.096699,
            6351.237495,
            8688.156003,
            2955.984375,
            7034.779161,
            3998.875695,
            6360.943444,
            12281.34191,
            7388.597823,
            29884.350410000006,
            7452.398969,
            9883.584648
           ],
           "xaxis": "x",
           "y": [
            70.774,
            57.25100000000001,
            65.205,
            76.86,
            72.492,
            67.768,
            74.752,
            74.17399999999998,
            66.046,
            67.23100000000001,
            63.154,
            60.782,
            53.636,
            64.492,
            71.77,
            69.498,
            62.008,
            71.523,
            67.378,
            64.134,
            74.63,
            69.582,
            75.02,
            71.918,
            70.19
           ],
           "yaxis": "y"
          },
          {
           "hovertemplate": "<b>%{hovertext}</b><br><br>continent=Oceania<br>year=1987<br>gdpPercap=%{x}<br>lifeExp=%{y}<br>pop=%{marker.size}<extra></extra>",
           "hovertext": [
            "Australia",
            "New Zealand"
           ],
           "ids": [
            "Australia",
            "New Zealand"
           ],
           "legendgroup": "Oceania",
           "marker": {
            "color": "#FFA15A",
            "size": [
             16257249,
             3317166
            ],
            "sizemode": "area",
            "sizeref": 435928.2961983471,
            "symbol": "circle"
           },
           "mode": "markers",
           "name": "Oceania",
           "orientation": "v",
           "showlegend": true,
           "type": "scatter",
           "x": [
            21888.88903,
            19007.19129
           ],
           "xaxis": "x",
           "y": [
            76.32,
            74.32
           ],
           "yaxis": "y"
          }
         ],
         "name": "1987"
        },
        {
         "data": [
          {
           "hovertemplate": "<b>%{hovertext}</b><br><br>continent=Asia<br>year=1992<br>gdpPercap=%{x}<br>lifeExp=%{y}<br>pop=%{marker.size}<extra></extra>",
           "hovertext": [
            "Afghanistan",
            "Bahrain",
            "Bangladesh",
            "Cambodia",
            "China",
            "Hong Kong, China",
            "India",
            "Indonesia",
            "Iran",
            "Iraq",
            "Israel",
            "Japan",
            "Jordan",
            "Korea, Dem. Rep.",
            "Korea, Rep.",
            "Kuwait",
            "Lebanon",
            "Malaysia",
            "Mongolia",
            "Myanmar",
            "Nepal",
            "Oman",
            "Pakistan",
            "Philippines",
            "Saudi Arabia",
            "Singapore",
            "Sri Lanka",
            "Syria",
            "Taiwan",
            "Thailand",
            "Vietnam",
            "West Bank and Gaza",
            "Yemen, Rep."
           ],
           "ids": [
            "Afghanistan",
            "Bahrain",
            "Bangladesh",
            "Cambodia",
            "China",
            "Hong Kong, China",
            "India",
            "Indonesia",
            "Iran",
            "Iraq",
            "Israel",
            "Japan",
            "Jordan",
            "Korea, Dem. Rep.",
            "Korea, Rep.",
            "Kuwait",
            "Lebanon",
            "Malaysia",
            "Mongolia",
            "Myanmar",
            "Nepal",
            "Oman",
            "Pakistan",
            "Philippines",
            "Saudi Arabia",
            "Singapore",
            "Sri Lanka",
            "Syria",
            "Taiwan",
            "Thailand",
            "Vietnam",
            "West Bank and Gaza",
            "Yemen, Rep."
           ],
           "legendgroup": "Asia",
           "marker": {
            "color": "#636efa",
            "size": [
             16317921,
             529491,
             113704579,
             10150094,
             1164970000,
             5829696,
             872000000,
             184816000,
             60397973,
             17861905,
             4936550,
             124329269,
             3867409,
             20711375,
             43805450,
             1418095,
             3219994,
             18319502,
             2312802,
             40546538,
             20326209,
             1915208,
             120065004,
             67185766,
             16945857,
             3235865,
             17587060,
             13219062,
             20686918,
             56667095,
             69940728,
             2104779,
             13367997
            ],
            "sizemode": "area",
            "sizeref": 435928.2961983471,
            "symbol": "circle"
           },
           "mode": "markers",
           "name": "Asia",
           "orientation": "v",
           "showlegend": true,
           "type": "scatter",
           "x": [
            649.3413952000002,
            19035.57917,
            837.8101642999999,
            682.3031755,
            1655.784158,
            24757.60301,
            1164.406809,
            2383.140898,
            7235.653187999998,
            3745.640687,
            18051.52254,
            26824.89511,
            3431.593647,
            3726.063507,
            12104.27872,
            34932.91959,
            6890.806854,
            7277.912802,
            1785.402016,
            347,
            897.7403604,
            18616.70691,
            1971.829464,
            2279.324017000001,
            24841.61777,
            24769.8912,
            2153.739222,
            3340.542768,
            15215.6579,
            4616.896545000001,
            989.0231487,
            6017.654756,
            1879.496673
           ],
           "xaxis": "x",
           "y": [
            41.674,
            72.601,
            56.018,
            55.803,
            68.69,
            77.601,
            60.223,
            62.681,
            65.742,
            59.46100000000001,
            76.93,
            79.36,
            68.015,
            69.97800000000001,
            72.244,
            75.19,
            69.292,
            70.693,
            61.271,
            59.32,
            55.727,
            71.197,
            60.838,
            66.458,
            68.768,
            75.788,
            70.37899999999998,
            69.249,
            74.26,
            67.298,
            67.66199999999999,
            69.718,
            55.599
           ],
           "yaxis": "y"
          },
          {
           "hovertemplate": "<b>%{hovertext}</b><br><br>continent=Europe<br>year=1992<br>gdpPercap=%{x}<br>lifeExp=%{y}<br>pop=%{marker.size}<extra></extra>",
           "hovertext": [
            "Albania",
            "Austria",
            "Belgium",
            "Bosnia and Herzegovina",
            "Bulgaria",
            "Croatia",
            "Czech Republic",
            "Denmark",
            "Finland",
            "France",
            "Germany",
            "Greece",
            "Hungary",
            "Iceland",
            "Ireland",
            "Italy",
            "Montenegro",
            "Netherlands",
            "Norway",
            "Poland",
            "Portugal",
            "Romania",
            "Serbia",
            "Slovak Republic",
            "Slovenia",
            "Spain",
            "Sweden",
            "Switzerland",
            "Turkey",
            "United Kingdom"
           ],
           "ids": [
            "Albania",
            "Austria",
            "Belgium",
            "Bosnia and Herzegovina",
            "Bulgaria",
            "Croatia",
            "Czech Republic",
            "Denmark",
            "Finland",
            "France",
            "Germany",
            "Greece",
            "Hungary",
            "Iceland",
            "Ireland",
            "Italy",
            "Montenegro",
            "Netherlands",
            "Norway",
            "Poland",
            "Portugal",
            "Romania",
            "Serbia",
            "Slovak Republic",
            "Slovenia",
            "Spain",
            "Sweden",
            "Switzerland",
            "Turkey",
            "United Kingdom"
           ],
           "legendgroup": "Europe",
           "marker": {
            "color": "#EF553B",
            "size": [
             3326498,
             7914969,
             10045622,
             4256013,
             8658506,
             4494013,
             10315702,
             5171393,
             5041039,
             57374179,
             80597764,
             10325429,
             10348684,
             259012,
             3557761,
             56840847,
             621621,
             15174244,
             4286357,
             38370697,
             9927680,
             22797027,
             9826397,
             5302888,
             1999210,
             39549438,
             8718867,
             6995447,
             58179144,
             57866349
            ],
            "sizemode": "area",
            "sizeref": 435928.2961983471,
            "symbol": "circle"
           },
           "mode": "markers",
           "name": "Europe",
           "orientation": "v",
           "showlegend": true,
           "type": "scatter",
           "x": [
            2497.437901,
            27042.01868,
            25575.57069,
            2546.781445,
            6302.623438000001,
            8447.794873,
            14297.02122,
            26406.73985,
            20647.16499,
            24703.79615,
            26505.30317,
            17541.49634,
            10535.62855,
            25144.39201,
            17558.81555,
            22013.64486,
            7003.339037000002,
            26790.94961,
            33965.66115,
            7738.881247,
            16207.266630000002,
            6598.409903,
            9325.068238,
            9498.467723,
            14214.71681,
            18603.06452,
            23880.01683,
            31871.5303,
            5678.348271,
            22705.09254
           ],
           "xaxis": "x",
           "y": [
            71.581,
            76.04,
            76.46,
            72.178,
            71.19,
            72.527,
            72.4,
            75.33,
            75.7,
            77.46,
            76.07,
            77.03,
            69.17,
            78.77,
            75.467,
            77.44,
            75.435,
            77.42,
            77.32,
            70.99,
            74.86,
            69.36,
            71.65899999999998,
            71.38,
            73.64,
            77.57,
            78.16,
            78.03,
            66.146,
            76.42
           ],
           "yaxis": "y"
          },
          {
           "hovertemplate": "<b>%{hovertext}</b><br><br>continent=Africa<br>year=1992<br>gdpPercap=%{x}<br>lifeExp=%{y}<br>pop=%{marker.size}<extra></extra>",
           "hovertext": [
            "Algeria",
            "Angola",
            "Benin",
            "Botswana",
            "Burkina Faso",
            "Burundi",
            "Cameroon",
            "Central African Republic",
            "Chad",
            "Comoros",
            "Congo, Dem. Rep.",
            "Congo, Rep.",
            "Cote d'Ivoire",
            "Djibouti",
            "Egypt",
            "Equatorial Guinea",
            "Eritrea",
            "Ethiopia",
            "Gabon",
            "Gambia",
            "Ghana",
            "Guinea",
            "Guinea-Bissau",
            "Kenya",
            "Lesotho",
            "Liberia",
            "Libya",
            "Madagascar",
            "Malawi",
            "Mali",
            "Mauritania",
            "Mauritius",
            "Morocco",
            "Mozambique",
            "Namibia",
            "Niger",
            "Nigeria",
            "Reunion",
            "Rwanda",
            "Sao Tome and Principe",
            "Senegal",
            "Sierra Leone",
            "Somalia",
            "South Africa",
            "Sudan",
            "Swaziland",
            "Tanzania",
            "Togo",
            "Tunisia",
            "Uganda",
            "Zambia",
            "Zimbabwe"
           ],
           "ids": [
            "Algeria",
            "Angola",
            "Benin",
            "Botswana",
            "Burkina Faso",
            "Burundi",
            "Cameroon",
            "Central African Republic",
            "Chad",
            "Comoros",
            "Congo, Dem. Rep.",
            "Congo, Rep.",
            "Cote d'Ivoire",
            "Djibouti",
            "Egypt",
            "Equatorial Guinea",
            "Eritrea",
            "Ethiopia",
            "Gabon",
            "Gambia",
            "Ghana",
            "Guinea",
            "Guinea-Bissau",
            "Kenya",
            "Lesotho",
            "Liberia",
            "Libya",
            "Madagascar",
            "Malawi",
            "Mali",
            "Mauritania",
            "Mauritius",
            "Morocco",
            "Mozambique",
            "Namibia",
            "Niger",
            "Nigeria",
            "Reunion",
            "Rwanda",
            "Sao Tome and Principe",
            "Senegal",
            "Sierra Leone",
            "Somalia",
            "South Africa",
            "Sudan",
            "Swaziland",
            "Tanzania",
            "Togo",
            "Tunisia",
            "Uganda",
            "Zambia",
            "Zimbabwe"
           ],
           "legendgroup": "Africa",
           "marker": {
            "color": "#00cc96",
            "size": [
             26298373,
             8735988,
             4981671,
             1342614,
             8878303,
             5809236,
             12467171,
             3265124,
             6429417,
             454429,
             41672143,
             2409073,
             12772596,
             384156,
             59402198,
             387838,
             3668440,
             52088559,
             985739,
             1025384,
             16278738,
             6990574,
             1050938,
             25020539,
             1803195,
             1912974,
             4364501,
             12210395,
             10014249,
             8416215,
             2119465,
             1096202,
             25798239,
             13160731,
             1554253,
             8392818,
             93364244,
             622191,
             7290203,
             125911,
             8307920,
             4260884,
             6099799,
             39964159,
             28227588,
             962344,
             26605473,
             3747553,
             8523077,
             18252190,
             8381163,
             10704340
            ],
            "sizemode": "area",
            "sizeref": 435928.2961983471,
            "symbol": "circle"
           },
           "mode": "markers",
           "name": "Africa",
           "orientation": "v",
           "showlegend": true,
           "type": "scatter",
           "x": [
            5023.216647,
            2627.845685,
            1191.207681,
            7954.111645,
            931.7527731,
            631.6998778,
            1793.1632780000002,
            747.9055252,
            1058.0643,
            1246.90737,
            457.7191807,
            4016.239529,
            1648.073791,
            2377.156192000001,
            3794.755195,
            1132.055034,
            582.8585102000002,
            421.3534653,
            13522.15752,
            665.6244126,
            925.060154,
            794.3484384,
            745.5398706,
            1341.9217210000004,
            977.4862725,
            636.6229191000001,
            9640.138501,
            1040.67619,
            563.2000145,
            739.014375,
            1361.369784,
            6058.253846000001,
            2948.047252,
            410.8968239,
            3804.537999,
            581.182725,
            1619.848217,
            6101.255823,
            737.0685949,
            1428.777814,
            1367.899369,
            1068.696278,
            926.9602964,
            7225.069257999998,
            1492.197043,
            3553.0224,
            825.682454,
            1034.298904,
            4332.720164,
            644.1707968999998,
            1210.884633,
            693.4207856
           ],
           "xaxis": "x",
           "y": [
            67.744,
            40.647,
            53.919,
            62.745,
            50.26,
            44.736,
            54.31399999999999,
            49.396,
            51.724,
            57.93899999999999,
            45.548,
            56.433,
            52.044,
            51.604,
            63.674,
            47.545,
            49.99100000000001,
            48.091,
            61.36600000000001,
            52.644,
            57.50100000000001,
            48.576,
            43.26600000000001,
            59.285,
            59.685,
            40.802,
            68.755,
            52.214,
            49.42,
            48.38800000000001,
            58.333,
            69.745,
            65.393,
            44.284,
            61.999,
            47.39100000000001,
            47.472,
            73.615,
            23.599,
            62.742,
            58.19600000000001,
            38.333,
            39.658,
            61.88800000000001,
            53.556,
            58.474,
            50.44,
            58.06100000000001,
            70.001,
            48.825,
            46.1,
            60.377
           ],
           "yaxis": "y"
          },
          {
           "hovertemplate": "<b>%{hovertext}</b><br><br>continent=Americas<br>year=1992<br>gdpPercap=%{x}<br>lifeExp=%{y}<br>pop=%{marker.size}<extra></extra>",
           "hovertext": [
            "Argentina",
            "Bolivia",
            "Brazil",
            "Canada",
            "Chile",
            "Colombia",
            "Costa Rica",
            "Cuba",
            "Dominican Republic",
            "Ecuador",
            "El Salvador",
            "Guatemala",
            "Haiti",
            "Honduras",
            "Jamaica",
            "Mexico",
            "Nicaragua",
            "Panama",
            "Paraguay",
            "Peru",
            "Puerto Rico",
            "Trinidad and Tobago",
            "United States",
            "Uruguay",
            "Venezuela"
           ],
           "ids": [
            "Argentina",
            "Bolivia",
            "Brazil",
            "Canada",
            "Chile",
            "Colombia",
            "Costa Rica",
            "Cuba",
            "Dominican Republic",
            "Ecuador",
            "El Salvador",
            "Guatemala",
            "Haiti",
            "Honduras",
            "Jamaica",
            "Mexico",
            "Nicaragua",
            "Panama",
            "Paraguay",
            "Peru",
            "Puerto Rico",
            "Trinidad and Tobago",
            "United States",
            "Uruguay",
            "Venezuela"
           ],
           "legendgroup": "Americas",
           "marker": {
            "color": "#ab63fa",
            "size": [
             33958947,
             6893451,
             155975974,
             28523502,
             13572994,
             34202721,
             3173216,
             10723260,
             7351181,
             10748394,
             5274649,
             8486949,
             6326682,
             5077347,
             2378618,
             88111030,
             4017939,
             2484997,
             4483945,
             22430449,
             3585176,
             1183669,
             256894189,
             3149262,
             20265563
            ],
            "sizemode": "area",
            "sizeref": 435928.2961983471,
            "symbol": "circle"
           },
           "mode": "markers",
           "name": "Americas",
           "orientation": "v",
           "showlegend": true,
           "type": "scatter",
           "x": [
            9308.41871,
            2961.699694,
            6950.283020999998,
            26342.88426,
            7596.125964,
            5444.648617,
            6160.416317,
            5592.843963,
            3044.214214,
            7103.702595000002,
            4444.2317,
            4439.45084,
            1456.309517,
            3081.694603,
            7404.923685,
            9472.384295,
            2170.151724,
            6618.74305,
            4196.411078,
            4446.380924,
            14641.58711,
            7370.990932,
            32003.93224,
            8137.004775,
            10733.92631
           ],
           "xaxis": "x",
           "y": [
            71.868,
            59.957,
            67.057,
            77.95,
            74.126,
            68.421,
            75.71300000000002,
            74.414,
            68.457,
            69.613,
            66.798,
            63.37300000000001,
            55.089,
            66.399,
            71.766,
            71.455,
            65.843,
            72.462,
            68.225,
            66.458,
            73.911,
            69.862,
            76.09,
            72.752,
            71.15
           ],
           "yaxis": "y"
          },
          {
           "hovertemplate": "<b>%{hovertext}</b><br><br>continent=Oceania<br>year=1992<br>gdpPercap=%{x}<br>lifeExp=%{y}<br>pop=%{marker.size}<extra></extra>",
           "hovertext": [
            "Australia",
            "New Zealand"
           ],
           "ids": [
            "Australia",
            "New Zealand"
           ],
           "legendgroup": "Oceania",
           "marker": {
            "color": "#FFA15A",
            "size": [
             17481977,
             3437674
            ],
            "sizemode": "area",
            "sizeref": 435928.2961983471,
            "symbol": "circle"
           },
           "mode": "markers",
           "name": "Oceania",
           "orientation": "v",
           "showlegend": true,
           "type": "scatter",
           "x": [
            23424.76683,
            18363.32494
           ],
           "xaxis": "x",
           "y": [
            77.56,
            76.33
           ],
           "yaxis": "y"
          }
         ],
         "name": "1992"
        },
        {
         "data": [
          {
           "hovertemplate": "<b>%{hovertext}</b><br><br>continent=Asia<br>year=1997<br>gdpPercap=%{x}<br>lifeExp=%{y}<br>pop=%{marker.size}<extra></extra>",
           "hovertext": [
            "Afghanistan",
            "Bahrain",
            "Bangladesh",
            "Cambodia",
            "China",
            "Hong Kong, China",
            "India",
            "Indonesia",
            "Iran",
            "Iraq",
            "Israel",
            "Japan",
            "Jordan",
            "Korea, Dem. Rep.",
            "Korea, Rep.",
            "Kuwait",
            "Lebanon",
            "Malaysia",
            "Mongolia",
            "Myanmar",
            "Nepal",
            "Oman",
            "Pakistan",
            "Philippines",
            "Saudi Arabia",
            "Singapore",
            "Sri Lanka",
            "Syria",
            "Taiwan",
            "Thailand",
            "Vietnam",
            "West Bank and Gaza",
            "Yemen, Rep."
           ],
           "ids": [
            "Afghanistan",
            "Bahrain",
            "Bangladesh",
            "Cambodia",
            "China",
            "Hong Kong, China",
            "India",
            "Indonesia",
            "Iran",
            "Iraq",
            "Israel",
            "Japan",
            "Jordan",
            "Korea, Dem. Rep.",
            "Korea, Rep.",
            "Kuwait",
            "Lebanon",
            "Malaysia",
            "Mongolia",
            "Myanmar",
            "Nepal",
            "Oman",
            "Pakistan",
            "Philippines",
            "Saudi Arabia",
            "Singapore",
            "Sri Lanka",
            "Syria",
            "Taiwan",
            "Thailand",
            "Vietnam",
            "West Bank and Gaza",
            "Yemen, Rep."
           ],
           "legendgroup": "Asia",
           "marker": {
            "color": "#636efa",
            "size": [
             22227415,
             598561,
             123315288,
             11782962,
             1230075000,
             6495918,
             959000000,
             199278000,
             63327987,
             20775703,
             5531387,
             125956499,
             4526235,
             21585105,
             46173816,
             1765345,
             3430388,
             20476091,
             2494803,
             43247867,
             23001113,
             2283635,
             135564834,
             75012988,
             21229759,
             3802309,
             18698655,
             15081016,
             21628605,
             60216677,
             76048996,
             2826046,
             15826497
            ],
            "sizemode": "area",
            "sizeref": 435928.2961983471,
            "symbol": "circle"
           },
           "mode": "markers",
           "name": "Asia",
           "orientation": "v",
           "showlegend": true,
           "type": "scatter",
           "x": [
            635.341351,
            20292.01679,
            972.7700352,
            734.28517,
            2289.234136,
            28377.63219,
            1458.817442,
            3119.335603,
            8263.590301,
            3076.239795,
            20896.60924,
            28816.58499,
            3645.379572,
            1690.756814,
            15993.52796,
            40300.61996,
            8754.96385,
            10132.90964,
            1902.2521,
            415,
            1010.892138,
            19702.05581,
            2049.3505210000008,
            2536.534925,
            20586.69019,
            33519.4766,
            2664.477257,
            4014.238972,
            20206.82098,
            5852.625497,
            1385.896769,
            7110.667619,
            2117.484526
           ],
           "xaxis": "x",
           "y": [
            41.76300000000001,
            73.925,
            59.412,
            56.534,
            70.426,
            80,
            61.765,
            66.041,
            68.042,
            58.81100000000001,
            78.26899999999998,
            80.69,
            69.77199999999999,
            67.727,
            74.64699999999998,
            76.156,
            70.265,
            71.938,
            63.625,
            60.328,
            59.426,
            72.499,
            61.81800000000001,
            68.564,
            70.533,
            77.158,
            70.457,
            71.527,
            75.25,
            67.521,
            70.672,
            71.096,
            58.02
           ],
           "yaxis": "y"
          },
          {
           "hovertemplate": "<b>%{hovertext}</b><br><br>continent=Europe<br>year=1997<br>gdpPercap=%{x}<br>lifeExp=%{y}<br>pop=%{marker.size}<extra></extra>",
           "hovertext": [
            "Albania",
            "Austria",
            "Belgium",
            "Bosnia and Herzegovina",
            "Bulgaria",
            "Croatia",
            "Czech Republic",
            "Denmark",
            "Finland",
            "France",
            "Germany",
            "Greece",
            "Hungary",
            "Iceland",
            "Ireland",
            "Italy",
            "Montenegro",
            "Netherlands",
            "Norway",
            "Poland",
            "Portugal",
            "Romania",
            "Serbia",
            "Slovak Republic",
            "Slovenia",
            "Spain",
            "Sweden",
            "Switzerland",
            "Turkey",
            "United Kingdom"
           ],
           "ids": [
            "Albania",
            "Austria",
            "Belgium",
            "Bosnia and Herzegovina",
            "Bulgaria",
            "Croatia",
            "Czech Republic",
            "Denmark",
            "Finland",
            "France",
            "Germany",
            "Greece",
            "Hungary",
            "Iceland",
            "Ireland",
            "Italy",
            "Montenegro",
            "Netherlands",
            "Norway",
            "Poland",
            "Portugal",
            "Romania",
            "Serbia",
            "Slovak Republic",
            "Slovenia",
            "Spain",
            "Sweden",
            "Switzerland",
            "Turkey",
            "United Kingdom"
           ],
           "legendgroup": "Europe",
           "marker": {
            "color": "#EF553B",
            "size": [
             3428038,
             8069876,
             10199787,
             3607000,
             8066057,
             4444595,
             10300707,
             5283663,
             5134406,
             58623428,
             82011073,
             10502372,
             10244684,
             271192,
             3667233,
             57479469,
             692651,
             15604464,
             4405672,
             38654957,
             10156415,
             22562458,
             10336594,
             5383010,
             2011612,
             39855442,
             8897619,
             7193761,
             63047647,
             58808266
            ],
            "sizemode": "area",
            "sizeref": 435928.2961983471,
            "symbol": "circle"
           },
           "mode": "markers",
           "name": "Europe",
           "orientation": "v",
           "showlegend": true,
           "type": "scatter",
           "x": [
            3193.054604,
            29095.920660000003,
            27561.19663,
            4766.355904,
            5970.38876,
            9875.604515,
            16048.51424,
            29804.34567,
            23723.9502,
            25889.78487,
            27788.88416,
            18747.69814,
            11712.7768,
            28061.099660000003,
            24521.94713,
            24675.02446,
            6465.613349,
            30246.13063,
            41283.16433,
            10159.58368,
            17641.03156,
            7346.547556999999,
            7914.320304000002,
            12126.23065,
            17161.10735,
            20445.29896,
            25266.59499,
            32135.323010000004,
            6601.429915,
            26074.53136
           ],
           "xaxis": "x",
           "y": [
            72.95,
            77.51,
            77.53,
            73.244,
            70.32,
            73.68,
            74.01,
            76.11,
            77.13,
            78.64,
            77.34,
            77.869,
            71.04,
            78.95,
            76.122,
            78.82,
            75.445,
            78.03,
            78.32,
            72.75,
            75.97,
            69.72,
            72.232,
            72.71,
            75.13,
            78.77,
            79.39,
            79.37,
            68.835,
            77.218
           ],
           "yaxis": "y"
          },
          {
           "hovertemplate": "<b>%{hovertext}</b><br><br>continent=Africa<br>year=1997<br>gdpPercap=%{x}<br>lifeExp=%{y}<br>pop=%{marker.size}<extra></extra>",
           "hovertext": [
            "Algeria",
            "Angola",
            "Benin",
            "Botswana",
            "Burkina Faso",
            "Burundi",
            "Cameroon",
            "Central African Republic",
            "Chad",
            "Comoros",
            "Congo, Dem. Rep.",
            "Congo, Rep.",
            "Cote d'Ivoire",
            "Djibouti",
            "Egypt",
            "Equatorial Guinea",
            "Eritrea",
            "Ethiopia",
            "Gabon",
            "Gambia",
            "Ghana",
            "Guinea",
            "Guinea-Bissau",
            "Kenya",
            "Lesotho",
            "Liberia",
            "Libya",
            "Madagascar",
            "Malawi",
            "Mali",
            "Mauritania",
            "Mauritius",
            "Morocco",
            "Mozambique",
            "Namibia",
            "Niger",
            "Nigeria",
            "Reunion",
            "Rwanda",
            "Sao Tome and Principe",
            "Senegal",
            "Sierra Leone",
            "Somalia",
            "South Africa",
            "Sudan",
            "Swaziland",
            "Tanzania",
            "Togo",
            "Tunisia",
            "Uganda",
            "Zambia",
            "Zimbabwe"
           ],
           "ids": [
            "Algeria",
            "Angola",
            "Benin",
            "Botswana",
            "Burkina Faso",
            "Burundi",
            "Cameroon",
            "Central African Republic",
            "Chad",
            "Comoros",
            "Congo, Dem. Rep.",
            "Congo, Rep.",
            "Cote d'Ivoire",
            "Djibouti",
            "Egypt",
            "Equatorial Guinea",
            "Eritrea",
            "Ethiopia",
            "Gabon",
            "Gambia",
            "Ghana",
            "Guinea",
            "Guinea-Bissau",
            "Kenya",
            "Lesotho",
            "Liberia",
            "Libya",
            "Madagascar",
            "Malawi",
            "Mali",
            "Mauritania",
            "Mauritius",
            "Morocco",
            "Mozambique",
            "Namibia",
            "Niger",
            "Nigeria",
            "Reunion",
            "Rwanda",
            "Sao Tome and Principe",
            "Senegal",
            "Sierra Leone",
            "Somalia",
            "South Africa",
            "Sudan",
            "Swaziland",
            "Tanzania",
            "Togo",
            "Tunisia",
            "Uganda",
            "Zambia",
            "Zimbabwe"
           ],
           "legendgroup": "Africa",
           "marker": {
            "color": "#00cc96",
            "size": [
             29072015,
             9875024,
             6066080,
             1536536,
             10352843,
             6121610,
             14195809,
             3696513,
             7562011,
             527982,
             47798986,
             2800947,
             14625967,
             417908,
             66134291,
             439971,
             4058319,
             59861301,
             1126189,
             1235767,
             18418288,
             8048834,
             1193708,
             28263827,
             1982823,
             2200725,
             4759670,
             14165114,
             10419991,
             9384984,
             2444741,
             1149818,
             28529501,
             16603334,
             1774766,
             9666252,
             106207839,
             684810,
             7212583,
             145608,
             9535314,
             4578212,
             6633514,
             42835005,
             32160729,
             1054486,
             30686889,
             4320890,
             9231669,
             21210254,
             9417789,
             11404948
            ],
            "sizemode": "area",
            "sizeref": 435928.2961983471,
            "symbol": "circle"
           },
           "mode": "markers",
           "name": "Africa",
           "orientation": "v",
           "showlegend": true,
           "type": "scatter",
           "x": [
            4797.295051,
            2277.140884,
            1232.975292,
            8647.142313,
            946.2949618,
            463.1151478,
            1694.337469,
            740.5063317,
            1004.961353,
            1173.618235,
            312.188423,
            3484.164376,
            1786.265407,
            1895.016984,
            4173.181797,
            2814.480755,
            913.47079,
            515.8894013,
            14722.841880000002,
            653.7301704,
            1005.245812,
            869.4497667999998,
            796.6644681,
            1360.4850210000004,
            1186.147994,
            609.1739508,
            9467.446056,
            986.2958956,
            692.2758102999999,
            790.2579846,
            1483.136136,
            7425.705295000002,
            2982.101858,
            472.34607710000006,
            3899.52426,
            580.3052092,
            1624.941275,
            6071.941411,
            589.9445051,
            1339.076036,
            1392.368347,
            574.6481576,
            930.5964284,
            7479.188244,
            1632.2107640000004,
            3876.76846,
            789.1862231,
            982.2869243,
            4876.798614,
            816.559081,
            1071.353818,
            792.4499602999998
           ],
           "xaxis": "x",
           "y": [
            69.152,
            40.963,
            54.777,
            52.556,
            50.324,
            45.326,
            52.199,
            46.066,
            51.573,
            60.66,
            42.587,
            52.962,
            47.99100000000001,
            53.157,
            67.217,
            48.245,
            53.378,
            49.402,
            60.46100000000001,
            55.861,
            58.556,
            51.455,
            44.87300000000001,
            54.407,
            55.558,
            42.221,
            71.555,
            54.978,
            47.495,
            49.903,
            60.43,
            70.736,
            67.66,
            46.344,
            58.909,
            51.313,
            47.464,
            74.77199999999998,
            36.087,
            63.306,
            60.187,
            39.897,
            43.795,
            60.236,
            55.37300000000001,
            54.289,
            48.466,
            58.39,
            71.973,
            44.578,
            40.238,
            46.809
           ],
           "yaxis": "y"
          },
          {
           "hovertemplate": "<b>%{hovertext}</b><br><br>continent=Americas<br>year=1997<br>gdpPercap=%{x}<br>lifeExp=%{y}<br>pop=%{marker.size}<extra></extra>",
           "hovertext": [
            "Argentina",
            "Bolivia",
            "Brazil",
            "Canada",
            "Chile",
            "Colombia",
            "Costa Rica",
            "Cuba",
            "Dominican Republic",
            "Ecuador",
            "El Salvador",
            "Guatemala",
            "Haiti",
            "Honduras",
            "Jamaica",
            "Mexico",
            "Nicaragua",
            "Panama",
            "Paraguay",
            "Peru",
            "Puerto Rico",
            "Trinidad and Tobago",
            "United States",
            "Uruguay",
            "Venezuela"
           ],
           "ids": [
            "Argentina",
            "Bolivia",
            "Brazil",
            "Canada",
            "Chile",
            "Colombia",
            "Costa Rica",
            "Cuba",
            "Dominican Republic",
            "Ecuador",
            "El Salvador",
            "Guatemala",
            "Haiti",
            "Honduras",
            "Jamaica",
            "Mexico",
            "Nicaragua",
            "Panama",
            "Paraguay",
            "Peru",
            "Puerto Rico",
            "Trinidad and Tobago",
            "United States",
            "Uruguay",
            "Venezuela"
           ],
           "legendgroup": "Americas",
           "marker": {
            "color": "#ab63fa",
            "size": [
             36203463,
             7693188,
             168546719,
             30305843,
             14599929,
             37657830,
             3518107,
             10983007,
             7992357,
             11911819,
             5783439,
             9803875,
             6913545,
             5867957,
             2531311,
             95895146,
             4609572,
             2734531,
             5154123,
             24748122,
             3759430,
             1138101,
             272911760,
             3262838,
             22374398
            ],
            "sizemode": "area",
            "sizeref": 435928.2961983471,
            "symbol": "circle"
           },
           "mode": "markers",
           "name": "Americas",
           "orientation": "v",
           "showlegend": true,
           "type": "scatter",
           "x": [
            10967.28195,
            3326.143191,
            7957.980823999998,
            28954.92589,
            10118.05318,
            6117.361746000001,
            6677.045314,
            5431.990415,
            3614.101285,
            7429.4558769999985,
            5154.825496,
            4684.313807,
            1341.726931,
            3160.454906,
            7121.924704000001,
            9767.29753,
            2253.023004,
            7113.692252,
            4247.400261,
            5838.347657,
            16999.4333,
            8792.573126000001,
            35767.43303,
            9230.240708,
            10165.49518
           ],
           "xaxis": "x",
           "y": [
            73.275,
            62.05,
            69.388,
            78.61,
            75.816,
            70.313,
            77.26,
            76.15100000000002,
            69.957,
            72.312,
            69.535,
            66.322,
            56.67100000000001,
            67.65899999999999,
            72.262,
            73.67,
            68.426,
            73.738,
            69.4,
            68.38600000000001,
            74.917,
            69.465,
            76.81,
            74.223,
            72.146
           ],
           "yaxis": "y"
          },
          {
           "hovertemplate": "<b>%{hovertext}</b><br><br>continent=Oceania<br>year=1997<br>gdpPercap=%{x}<br>lifeExp=%{y}<br>pop=%{marker.size}<extra></extra>",
           "hovertext": [
            "Australia",
            "New Zealand"
           ],
           "ids": [
            "Australia",
            "New Zealand"
           ],
           "legendgroup": "Oceania",
           "marker": {
            "color": "#FFA15A",
            "size": [
             18565243,
             3676187
            ],
            "sizemode": "area",
            "sizeref": 435928.2961983471,
            "symbol": "circle"
           },
           "mode": "markers",
           "name": "Oceania",
           "orientation": "v",
           "showlegend": true,
           "type": "scatter",
           "x": [
            26997.93657,
            21050.41377
           ],
           "xaxis": "x",
           "y": [
            78.83,
            77.55
           ],
           "yaxis": "y"
          }
         ],
         "name": "1997"
        },
        {
         "data": [
          {
           "hovertemplate": "<b>%{hovertext}</b><br><br>continent=Asia<br>year=2002<br>gdpPercap=%{x}<br>lifeExp=%{y}<br>pop=%{marker.size}<extra></extra>",
           "hovertext": [
            "Afghanistan",
            "Bahrain",
            "Bangladesh",
            "Cambodia",
            "China",
            "Hong Kong, China",
            "India",
            "Indonesia",
            "Iran",
            "Iraq",
            "Israel",
            "Japan",
            "Jordan",
            "Korea, Dem. Rep.",
            "Korea, Rep.",
            "Kuwait",
            "Lebanon",
            "Malaysia",
            "Mongolia",
            "Myanmar",
            "Nepal",
            "Oman",
            "Pakistan",
            "Philippines",
            "Saudi Arabia",
            "Singapore",
            "Sri Lanka",
            "Syria",
            "Taiwan",
            "Thailand",
            "Vietnam",
            "West Bank and Gaza",
            "Yemen, Rep."
           ],
           "ids": [
            "Afghanistan",
            "Bahrain",
            "Bangladesh",
            "Cambodia",
            "China",
            "Hong Kong, China",
            "India",
            "Indonesia",
            "Iran",
            "Iraq",
            "Israel",
            "Japan",
            "Jordan",
            "Korea, Dem. Rep.",
            "Korea, Rep.",
            "Kuwait",
            "Lebanon",
            "Malaysia",
            "Mongolia",
            "Myanmar",
            "Nepal",
            "Oman",
            "Pakistan",
            "Philippines",
            "Saudi Arabia",
            "Singapore",
            "Sri Lanka",
            "Syria",
            "Taiwan",
            "Thailand",
            "Vietnam",
            "West Bank and Gaza",
            "Yemen, Rep."
           ],
           "legendgroup": "Asia",
           "marker": {
            "color": "#636efa",
            "size": [
             25268405,
             656397,
             135656790,
             12926707,
             1280400000,
             6762476,
             1034172547,
             211060000,
             66907826,
             24001816,
             6029529,
             127065841,
             5307470,
             22215365,
             47969150,
             2111561,
             3677780,
             22662365,
             2674234,
             45598081,
             25873917,
             2713462,
             153403524,
             82995088,
             24501530,
             4197776,
             19576783,
             17155814,
             22454239,
             62806748,
             80908147,
             3389578,
             18701257
            ],
            "sizemode": "area",
            "sizeref": 435928.2961983471,
            "symbol": "circle"
           },
           "mode": "markers",
           "name": "Asia",
           "orientation": "v",
           "showlegend": true,
           "type": "scatter",
           "x": [
            726.7340548,
            23403.55927,
            1136.3904300000004,
            896.2260152999999,
            3119.280896,
            30209.015160000006,
            1746.769454,
            2873.91287,
            9240.761975,
            4390.717312,
            21905.59514,
            28604.5919,
            3844.917194,
            1646.758151,
            19233.98818,
            35110.10566,
            9313.93883,
            10206.97794,
            2140.739323,
            611,
            1057.206311,
            19774.83687,
            2092.712441,
            2650.921068,
            19014.54118,
            36023.1054,
            3015.378833,
            4090.925331,
            23235.42329,
            5913.187529,
            1764.456677,
            4515.487575,
            2234.820827
           ],
           "xaxis": "x",
           "y": [
            42.129,
            74.795,
            62.01300000000001,
            56.752,
            72.028,
            81.495,
            62.879,
            68.58800000000001,
            69.45100000000001,
            57.04600000000001,
            79.696,
            82,
            71.263,
            66.66199999999999,
            77.045,
            76.904,
            71.028,
            73.044,
            65.033,
            59.908,
            61.34,
            74.193,
            63.61,
            70.303,
            71.626,
            78.77,
            70.815,
            73.053,
            76.99,
            68.564,
            73.017,
            72.37,
            60.308
           ],
           "yaxis": "y"
          },
          {
           "hovertemplate": "<b>%{hovertext}</b><br><br>continent=Europe<br>year=2002<br>gdpPercap=%{x}<br>lifeExp=%{y}<br>pop=%{marker.size}<extra></extra>",
           "hovertext": [
            "Albania",
            "Austria",
            "Belgium",
            "Bosnia and Herzegovina",
            "Bulgaria",
            "Croatia",
            "Czech Republic",
            "Denmark",
            "Finland",
            "France",
            "Germany",
            "Greece",
            "Hungary",
            "Iceland",
            "Ireland",
            "Italy",
            "Montenegro",
            "Netherlands",
            "Norway",
            "Poland",
            "Portugal",
            "Romania",
            "Serbia",
            "Slovak Republic",
            "Slovenia",
            "Spain",
            "Sweden",
            "Switzerland",
            "Turkey",
            "United Kingdom"
           ],
           "ids": [
            "Albania",
            "Austria",
            "Belgium",
            "Bosnia and Herzegovina",
            "Bulgaria",
            "Croatia",
            "Czech Republic",
            "Denmark",
            "Finland",
            "France",
            "Germany",
            "Greece",
            "Hungary",
            "Iceland",
            "Ireland",
            "Italy",
            "Montenegro",
            "Netherlands",
            "Norway",
            "Poland",
            "Portugal",
            "Romania",
            "Serbia",
            "Slovak Republic",
            "Slovenia",
            "Spain",
            "Sweden",
            "Switzerland",
            "Turkey",
            "United Kingdom"
           ],
           "legendgroup": "Europe",
           "marker": {
            "color": "#EF553B",
            "size": [
             3508512,
             8148312,
             10311970,
             4165416,
             7661799,
             4481020,
             10256295,
             5374693,
             5193039,
             59925035,
             82350671,
             10603863,
             10083313,
             288030,
             3879155,
             57926999,
             720230,
             16122830,
             4535591,
             38625976,
             10433867,
             22404337,
             10111559,
             5410052,
             2011497,
             40152517,
             8954175,
             7361757,
             67308928,
             59912431
            ],
            "sizemode": "area",
            "sizeref": 435928.2961983471,
            "symbol": "circle"
           },
           "mode": "markers",
           "name": "Europe",
           "orientation": "v",
           "showlegend": true,
           "type": "scatter",
           "x": [
            4604.211737,
            32417.60769,
            30485.88375,
            6018.975239,
            7696.777725,
            11628.38895,
            17596.210219999994,
            32166.50006,
            28204.59057,
            28926.03234,
            30035.80198,
            22514.2548,
            14843.93556,
            31163.20196,
            34077.04939,
            27968.09817,
            6557.194282,
            33724.75778,
            44683.97525,
            12002.23908,
            19970.90787,
            7885.360081,
            7236.075251,
            13638.778369999998,
            20660.01936,
            24835.47166,
            29341.630930000007,
            34480.95771,
            6508.085718,
            29478.99919
           ],
           "xaxis": "x",
           "y": [
            75.65100000000002,
            78.98,
            78.32,
            74.09,
            72.14,
            74.876,
            75.51,
            77.18,
            78.37,
            79.59,
            78.67,
            78.256,
            72.59,
            80.5,
            77.783,
            80.24,
            73.98100000000002,
            78.53,
            79.05,
            74.67,
            77.29,
            71.322,
            73.21300000000002,
            73.8,
            76.66,
            79.78,
            80.04,
            80.62,
            70.845,
            78.471
           ],
           "yaxis": "y"
          },
          {
           "hovertemplate": "<b>%{hovertext}</b><br><br>continent=Africa<br>year=2002<br>gdpPercap=%{x}<br>lifeExp=%{y}<br>pop=%{marker.size}<extra></extra>",
           "hovertext": [
            "Algeria",
            "Angola",
            "Benin",
            "Botswana",
            "Burkina Faso",
            "Burundi",
            "Cameroon",
            "Central African Republic",
            "Chad",
            "Comoros",
            "Congo, Dem. Rep.",
            "Congo, Rep.",
            "Cote d'Ivoire",
            "Djibouti",
            "Egypt",
            "Equatorial Guinea",
            "Eritrea",
            "Ethiopia",
            "Gabon",
            "Gambia",
            "Ghana",
            "Guinea",
            "Guinea-Bissau",
            "Kenya",
            "Lesotho",
            "Liberia",
            "Libya",
            "Madagascar",
            "Malawi",
            "Mali",
            "Mauritania",
            "Mauritius",
            "Morocco",
            "Mozambique",
            "Namibia",
            "Niger",
            "Nigeria",
            "Reunion",
            "Rwanda",
            "Sao Tome and Principe",
            "Senegal",
            "Sierra Leone",
            "Somalia",
            "South Africa",
            "Sudan",
            "Swaziland",
            "Tanzania",
            "Togo",
            "Tunisia",
            "Uganda",
            "Zambia",
            "Zimbabwe"
           ],
           "ids": [
            "Algeria",
            "Angola",
            "Benin",
            "Botswana",
            "Burkina Faso",
            "Burundi",
            "Cameroon",
            "Central African Republic",
            "Chad",
            "Comoros",
            "Congo, Dem. Rep.",
            "Congo, Rep.",
            "Cote d'Ivoire",
            "Djibouti",
            "Egypt",
            "Equatorial Guinea",
            "Eritrea",
            "Ethiopia",
            "Gabon",
            "Gambia",
            "Ghana",
            "Guinea",
            "Guinea-Bissau",
            "Kenya",
            "Lesotho",
            "Liberia",
            "Libya",
            "Madagascar",
            "Malawi",
            "Mali",
            "Mauritania",
            "Mauritius",
            "Morocco",
            "Mozambique",
            "Namibia",
            "Niger",
            "Nigeria",
            "Reunion",
            "Rwanda",
            "Sao Tome and Principe",
            "Senegal",
            "Sierra Leone",
            "Somalia",
            "South Africa",
            "Sudan",
            "Swaziland",
            "Tanzania",
            "Togo",
            "Tunisia",
            "Uganda",
            "Zambia",
            "Zimbabwe"
           ],
           "legendgroup": "Africa",
           "marker": {
            "color": "#00cc96",
            "size": [
             31287142,
             10866106,
             7026113,
             1630347,
             12251209,
             7021078,
             15929988,
             4048013,
             8835739,
             614382,
             55379852,
             3328795,
             16252726,
             447416,
             73312559,
             495627,
             4414865,
             67946797,
             1299304,
             1457766,
             20550751,
             8807818,
             1332459,
             31386842,
             2046772,
             2814651,
             5368585,
             16473477,
             11824495,
             10580176,
             2828858,
             1200206,
             31167783,
             18473780,
             1972153,
             11140655,
             119901274,
             743981,
             7852401,
             170372,
             10870037,
             5359092,
             7753310,
             44433622,
             37090298,
             1130269,
             34593779,
             4977378,
             9770575,
             24739869,
             10595811,
             11926563
            ],
            "sizemode": "area",
            "sizeref": 435928.2961983471,
            "symbol": "circle"
           },
           "mode": "markers",
           "name": "Africa",
           "orientation": "v",
           "showlegend": true,
           "type": "scatter",
           "x": [
            5288.040382,
            2773.287312,
            1372.877931,
            11003.60508,
            1037.645221,
            446.4035126,
            1934.011449,
            738.6906068,
            1156.18186,
            1075.811558,
            241.1658765,
            3484.06197,
            1648.800823,
            1908.260867,
            4754.604414,
            7703.4959,
            765.3500015,
            530.0535319,
            12521.71392,
            660.5855997,
            1111.9845779999996,
            945.5835837,
            575.7047176,
            1287.514732,
            1275.184575,
            531.4823679,
            9534.677467,
            894.6370822,
            665.4231186000002,
            951.4097518,
            1579.019543,
            9021.815894,
            3258.495584,
            633.6179466,
            4072.324751,
            601.0745012,
            1615.286395,
            6316.1652,
            785.6537647999999,
            1353.09239,
            1519.635262,
            699.4897129999998,
            882.0818218000002,
            7710.946444,
            1993.398314,
            4128.116943,
            899.0742111,
            886.2205765000001,
            5722.895654999998,
            927.7210018,
            1071.6139380000004,
            672.0386227000001
           ],
           "xaxis": "x",
           "y": [
            70.994,
            41.003,
            54.40600000000001,
            46.63399999999999,
            50.65,
            47.36,
            49.856,
            43.308,
            50.525,
            62.974,
            44.966,
            52.97,
            46.832,
            53.37300000000001,
            69.806,
            49.348,
            55.24,
            50.725,
            56.761,
            58.041,
            58.453,
            53.676,
            45.504,
            50.992,
            44.593,
            43.753,
            72.737,
            57.286,
            45.00899999999999,
            51.81800000000001,
            62.247,
            71.954,
            69.615,
            44.026,
            51.479,
            54.496,
            46.608,
            75.744,
            43.413,
            64.337,
            61.6,
            41.012,
            45.93600000000001,
            53.365,
            56.369,
            43.869,
            49.651,
            57.56100000000001,
            73.042,
            47.813,
            39.19300000000001,
            39.989
           ],
           "yaxis": "y"
          },
          {
           "hovertemplate": "<b>%{hovertext}</b><br><br>continent=Americas<br>year=2002<br>gdpPercap=%{x}<br>lifeExp=%{y}<br>pop=%{marker.size}<extra></extra>",
           "hovertext": [
            "Argentina",
            "Bolivia",
            "Brazil",
            "Canada",
            "Chile",
            "Colombia",
            "Costa Rica",
            "Cuba",
            "Dominican Republic",
            "Ecuador",
            "El Salvador",
            "Guatemala",
            "Haiti",
            "Honduras",
            "Jamaica",
            "Mexico",
            "Nicaragua",
            "Panama",
            "Paraguay",
            "Peru",
            "Puerto Rico",
            "Trinidad and Tobago",
            "United States",
            "Uruguay",
            "Venezuela"
           ],
           "ids": [
            "Argentina",
            "Bolivia",
            "Brazil",
            "Canada",
            "Chile",
            "Colombia",
            "Costa Rica",
            "Cuba",
            "Dominican Republic",
            "Ecuador",
            "El Salvador",
            "Guatemala",
            "Haiti",
            "Honduras",
            "Jamaica",
            "Mexico",
            "Nicaragua",
            "Panama",
            "Paraguay",
            "Peru",
            "Puerto Rico",
            "Trinidad and Tobago",
            "United States",
            "Uruguay",
            "Venezuela"
           ],
           "legendgroup": "Americas",
           "marker": {
            "color": "#ab63fa",
            "size": [
             38331121,
             8445134,
             179914212,
             31902268,
             15497046,
             41008227,
             3834934,
             11226999,
             8650322,
             12921234,
             6353681,
             11178650,
             7607651,
             6677328,
             2664659,
             102479927,
             5146848,
             2990875,
             5884491,
             26769436,
             3859606,
             1101832,
             287675526,
             3363085,
             24287670
            ],
            "sizemode": "area",
            "sizeref": 435928.2961983471,
            "symbol": "circle"
           },
           "mode": "markers",
           "name": "Americas",
           "orientation": "v",
           "showlegend": true,
           "type": "scatter",
           "x": [
            8797.640716,
            3413.26269,
            8131.212843000001,
            33328.96507,
            10778.78385,
            5755.259962,
            7723.447195000002,
            6340.646683,
            4563.808154,
            5773.044512,
            5351.568665999999,
            4858.347495,
            1270.364932,
            3099.72866,
            6994.774861,
            10742.44053,
            2474.548819,
            7356.0319340000015,
            3783.674243,
            5909.020073,
            18855.60618,
            11460.60023,
            39097.09955,
            7727.002004000001,
            8605.047831
           ],
           "xaxis": "x",
           "y": [
            74.34,
            63.883,
            71.006,
            79.77,
            77.86,
            71.682,
            78.123,
            77.158,
            70.847,
            74.173,
            70.734,
            68.97800000000001,
            58.137,
            68.565,
            72.047,
            74.902,
            70.836,
            74.712,
            70.755,
            69.906,
            77.778,
            68.976,
            77.31,
            75.307,
            72.766
           ],
           "yaxis": "y"
          },
          {
           "hovertemplate": "<b>%{hovertext}</b><br><br>continent=Oceania<br>year=2002<br>gdpPercap=%{x}<br>lifeExp=%{y}<br>pop=%{marker.size}<extra></extra>",
           "hovertext": [
            "Australia",
            "New Zealand"
           ],
           "ids": [
            "Australia",
            "New Zealand"
           ],
           "legendgroup": "Oceania",
           "marker": {
            "color": "#FFA15A",
            "size": [
             19546792,
             3908037
            ],
            "sizemode": "area",
            "sizeref": 435928.2961983471,
            "symbol": "circle"
           },
           "mode": "markers",
           "name": "Oceania",
           "orientation": "v",
           "showlegend": true,
           "type": "scatter",
           "x": [
            30687.75473,
            23189.80135
           ],
           "xaxis": "x",
           "y": [
            80.37,
            79.11
           ],
           "yaxis": "y"
          }
         ],
         "name": "2002"
        },
        {
         "data": [
          {
           "hovertemplate": "<b>%{hovertext}</b><br><br>continent=Asia<br>year=2007<br>gdpPercap=%{x}<br>lifeExp=%{y}<br>pop=%{marker.size}<extra></extra>",
           "hovertext": [
            "Afghanistan",
            "Bahrain",
            "Bangladesh",
            "Cambodia",
            "China",
            "Hong Kong, China",
            "India",
            "Indonesia",
            "Iran",
            "Iraq",
            "Israel",
            "Japan",
            "Jordan",
            "Korea, Dem. Rep.",
            "Korea, Rep.",
            "Kuwait",
            "Lebanon",
            "Malaysia",
            "Mongolia",
            "Myanmar",
            "Nepal",
            "Oman",
            "Pakistan",
            "Philippines",
            "Saudi Arabia",
            "Singapore",
            "Sri Lanka",
            "Syria",
            "Taiwan",
            "Thailand",
            "Vietnam",
            "West Bank and Gaza",
            "Yemen, Rep."
           ],
           "ids": [
            "Afghanistan",
            "Bahrain",
            "Bangladesh",
            "Cambodia",
            "China",
            "Hong Kong, China",
            "India",
            "Indonesia",
            "Iran",
            "Iraq",
            "Israel",
            "Japan",
            "Jordan",
            "Korea, Dem. Rep.",
            "Korea, Rep.",
            "Kuwait",
            "Lebanon",
            "Malaysia",
            "Mongolia",
            "Myanmar",
            "Nepal",
            "Oman",
            "Pakistan",
            "Philippines",
            "Saudi Arabia",
            "Singapore",
            "Sri Lanka",
            "Syria",
            "Taiwan",
            "Thailand",
            "Vietnam",
            "West Bank and Gaza",
            "Yemen, Rep."
           ],
           "legendgroup": "Asia",
           "marker": {
            "color": "#636efa",
            "size": [
             31889923,
             708573,
             150448339,
             14131858,
             1318683096,
             6980412,
             1110396331,
             223547000,
             69453570,
             27499638,
             6426679,
             127467972,
             6053193,
             23301725,
             49044790,
             2505559,
             3921278,
             24821286,
             2874127,
             47761980,
             28901790,
             3204897,
             169270617,
             91077287,
             27601038,
             4553009,
             20378239,
             19314747,
             23174294,
             65068149,
             85262356,
             4018332,
             22211743
            ],
            "sizemode": "area",
            "sizeref": 435928.2961983471,
            "symbol": "circle"
           },
           "mode": "markers",
           "name": "Asia",
           "orientation": "v",
           "showlegend": true,
           "type": "scatter",
           "x": [
            974.5803384,
            29796.04834,
            1391.253792,
            1713.778686,
            4959.114854,
            39724.97867,
            2452.210407,
            3540.651564,
            11605.71449,
            4471.061906,
            25523.2771,
            31656.06806,
            4519.461171,
            1593.06548,
            23348.139730000006,
            47306.98978,
            10461.05868,
            12451.6558,
            3095.7722710000007,
            944,
            1091.359778,
            22316.19287,
            2605.94758,
            3190.481016,
            21654.83194,
            47143.17964,
            3970.095407,
            4184.548089,
            28718.27684,
            7458.396326999998,
            2441.576404,
            3025.349798,
            2280.769906
           ],
           "xaxis": "x",
           "y": [
            43.828,
            75.635,
            64.062,
            59.723,
            72.961,
            82.208,
            64.69800000000001,
            70.65,
            70.964,
            59.545,
            80.745,
            82.603,
            72.535,
            67.297,
            78.623,
            77.58800000000002,
            71.993,
            74.241,
            66.803,
            62.069,
            63.785,
            75.64,
            65.483,
            71.688,
            72.777,
            79.972,
            72.396,
            74.143,
            78.4,
            70.616,
            74.249,
            73.422,
            62.698
           ],
           "yaxis": "y"
          },
          {
           "hovertemplate": "<b>%{hovertext}</b><br><br>continent=Europe<br>year=2007<br>gdpPercap=%{x}<br>lifeExp=%{y}<br>pop=%{marker.size}<extra></extra>",
           "hovertext": [
            "Albania",
            "Austria",
            "Belgium",
            "Bosnia and Herzegovina",
            "Bulgaria",
            "Croatia",
            "Czech Republic",
            "Denmark",
            "Finland",
            "France",
            "Germany",
            "Greece",
            "Hungary",
            "Iceland",
            "Ireland",
            "Italy",
            "Montenegro",
            "Netherlands",
            "Norway",
            "Poland",
            "Portugal",
            "Romania",
            "Serbia",
            "Slovak Republic",
            "Slovenia",
            "Spain",
            "Sweden",
            "Switzerland",
            "Turkey",
            "United Kingdom"
           ],
           "ids": [
            "Albania",
            "Austria",
            "Belgium",
            "Bosnia and Herzegovina",
            "Bulgaria",
            "Croatia",
            "Czech Republic",
            "Denmark",
            "Finland",
            "France",
            "Germany",
            "Greece",
            "Hungary",
            "Iceland",
            "Ireland",
            "Italy",
            "Montenegro",
            "Netherlands",
            "Norway",
            "Poland",
            "Portugal",
            "Romania",
            "Serbia",
            "Slovak Republic",
            "Slovenia",
            "Spain",
            "Sweden",
            "Switzerland",
            "Turkey",
            "United Kingdom"
           ],
           "legendgroup": "Europe",
           "marker": {
            "color": "#EF553B",
            "size": [
             3600523,
             8199783,
             10392226,
             4552198,
             7322858,
             4493312,
             10228744,
             5468120,
             5238460,
             61083916,
             82400996,
             10706290,
             9956108,
             301931,
             4109086,
             58147733,
             684736,
             16570613,
             4627926,
             38518241,
             10642836,
             22276056,
             10150265,
             5447502,
             2009245,
             40448191,
             9031088,
             7554661,
             71158647,
             60776238
            ],
            "sizemode": "area",
            "sizeref": 435928.2961983471,
            "symbol": "circle"
           },
           "mode": "markers",
           "name": "Europe",
           "orientation": "v",
           "showlegend": true,
           "type": "scatter",
           "x": [
            5937.029525999998,
            36126.4927,
            33692.60508,
            7446.298803,
            10680.79282,
            14619.222719999998,
            22833.30851,
            35278.41874,
            33207.0844,
            30470.0167,
            32170.37442,
            27538.41188,
            18008.94444,
            36180.78919,
            40675.99635,
            28569.7197,
            9253.896111,
            36797.93332,
            49357.19017,
            15389.924680000002,
            20509.64777,
            10808.47561,
            9786.534714,
            18678.31435,
            25768.25759,
            28821.0637,
            33859.74835,
            37506.41907,
            8458.276384,
            33203.26128
           ],
           "xaxis": "x",
           "y": [
            76.423,
            79.829,
            79.441,
            74.852,
            73.005,
            75.748,
            76.486,
            78.332,
            79.313,
            80.657,
            79.406,
            79.483,
            73.33800000000002,
            81.757,
            78.885,
            80.546,
            74.543,
            79.762,
            80.196,
            75.563,
            78.098,
            72.476,
            74.002,
            74.663,
            77.926,
            80.941,
            80.884,
            81.70100000000002,
            71.777,
            79.425
           ],
           "yaxis": "y"
          },
          {
           "hovertemplate": "<b>%{hovertext}</b><br><br>continent=Africa<br>year=2007<br>gdpPercap=%{x}<br>lifeExp=%{y}<br>pop=%{marker.size}<extra></extra>",
           "hovertext": [
            "Algeria",
            "Angola",
            "Benin",
            "Botswana",
            "Burkina Faso",
            "Burundi",
            "Cameroon",
            "Central African Republic",
            "Chad",
            "Comoros",
            "Congo, Dem. Rep.",
            "Congo, Rep.",
            "Cote d'Ivoire",
            "Djibouti",
            "Egypt",
            "Equatorial Guinea",
            "Eritrea",
            "Ethiopia",
            "Gabon",
            "Gambia",
            "Ghana",
            "Guinea",
            "Guinea-Bissau",
            "Kenya",
            "Lesotho",
            "Liberia",
            "Libya",
            "Madagascar",
            "Malawi",
            "Mali",
            "Mauritania",
            "Mauritius",
            "Morocco",
            "Mozambique",
            "Namibia",
            "Niger",
            "Nigeria",
            "Reunion",
            "Rwanda",
            "Sao Tome and Principe",
            "Senegal",
            "Sierra Leone",
            "Somalia",
            "South Africa",
            "Sudan",
            "Swaziland",
            "Tanzania",
            "Togo",
            "Tunisia",
            "Uganda",
            "Zambia",
            "Zimbabwe"
           ],
           "ids": [
            "Algeria",
            "Angola",
            "Benin",
            "Botswana",
            "Burkina Faso",
            "Burundi",
            "Cameroon",
            "Central African Republic",
            "Chad",
            "Comoros",
            "Congo, Dem. Rep.",
            "Congo, Rep.",
            "Cote d'Ivoire",
            "Djibouti",
            "Egypt",
            "Equatorial Guinea",
            "Eritrea",
            "Ethiopia",
            "Gabon",
            "Gambia",
            "Ghana",
            "Guinea",
            "Guinea-Bissau",
            "Kenya",
            "Lesotho",
            "Liberia",
            "Libya",
            "Madagascar",
            "Malawi",
            "Mali",
            "Mauritania",
            "Mauritius",
            "Morocco",
            "Mozambique",
            "Namibia",
            "Niger",
            "Nigeria",
            "Reunion",
            "Rwanda",
            "Sao Tome and Principe",
            "Senegal",
            "Sierra Leone",
            "Somalia",
            "South Africa",
            "Sudan",
            "Swaziland",
            "Tanzania",
            "Togo",
            "Tunisia",
            "Uganda",
            "Zambia",
            "Zimbabwe"
           ],
           "legendgroup": "Africa",
           "marker": {
            "color": "#00cc96",
            "size": [
             33333216,
             12420476,
             8078314,
             1639131,
             14326203,
             8390505,
             17696293,
             4369038,
             10238807,
             710960,
             64606759,
             3800610,
             18013409,
             496374,
             80264543,
             551201,
             4906585,
             76511887,
             1454867,
             1688359,
             22873338,
             9947814,
             1472041,
             35610177,
             2012649,
             3193942,
             6036914,
             19167654,
             13327079,
             12031795,
             3270065,
             1250882,
             33757175,
             19951656,
             2055080,
             12894865,
             135031164,
             798094,
             8860588,
             199579,
             12267493,
             6144562,
             9118773,
             43997828,
             42292929,
             1133066,
             38139640,
             5701579,
             10276158,
             29170398,
             11746035,
             12311143
            ],
            "sizemode": "area",
            "sizeref": 435928.2961983471,
            "symbol": "circle"
           },
           "mode": "markers",
           "name": "Africa",
           "orientation": "v",
           "showlegend": true,
           "type": "scatter",
           "x": [
            6223.367465,
            4797.231267,
            1441.284873,
            12569.85177,
            1217.032994,
            430.0706916,
            2042.09524,
            706.016537,
            1704.063724,
            986.1478792,
            277.5518587,
            3632.557798,
            1544.750112,
            2082.4815670000007,
            5581.180998,
            12154.08975,
            641.3695236000002,
            690.8055759,
            13206.48452,
            752.7497265,
            1327.60891,
            942.6542111,
            579.2317429999998,
            1463.249282,
            1569.331442,
            414.5073415,
            12057.49928,
            1044.770126,
            759.3499101,
            1042.581557,
            1803.151496,
            10956.99112,
            3820.17523,
            823.6856205,
            4811.060429,
            619.6768923999998,
            2013.977305,
            7670.122558,
            863.0884639000002,
            1598.435089,
            1712.472136,
            862.5407561000002,
            926.1410683,
            9269.657808,
            2602.394995,
            4513.480643,
            1107.482182,
            882.9699437999999,
            7092.923025,
            1056.380121,
            1271.211593,
            469.70929810000007
           ],
           "xaxis": "x",
           "y": [
            72.301,
            42.731,
            56.728,
            50.728,
            52.295,
            49.58,
            50.43,
            44.74100000000001,
            50.651,
            65.152,
            46.462,
            55.322,
            48.328,
            54.791,
            71.33800000000002,
            51.57899999999999,
            58.04,
            52.947,
            56.735,
            59.448,
            60.022,
            56.007,
            46.38800000000001,
            54.11,
            42.592,
            45.678,
            73.952,
            59.44300000000001,
            48.303,
            54.467,
            64.164,
            72.801,
            71.164,
            42.082,
            52.90600000000001,
            56.867,
            46.859,
            76.442,
            46.242,
            65.528,
            63.062,
            42.56800000000001,
            48.159,
            49.339,
            58.556,
            39.613,
            52.517,
            58.42,
            73.923,
            51.542,
            42.38399999999999,
            43.487
           ],
           "yaxis": "y"
          },
          {
           "hovertemplate": "<b>%{hovertext}</b><br><br>continent=Americas<br>year=2007<br>gdpPercap=%{x}<br>lifeExp=%{y}<br>pop=%{marker.size}<extra></extra>",
           "hovertext": [
            "Argentina",
            "Bolivia",
            "Brazil",
            "Canada",
            "Chile",
            "Colombia",
            "Costa Rica",
            "Cuba",
            "Dominican Republic",
            "Ecuador",
            "El Salvador",
            "Guatemala",
            "Haiti",
            "Honduras",
            "Jamaica",
            "Mexico",
            "Nicaragua",
            "Panama",
            "Paraguay",
            "Peru",
            "Puerto Rico",
            "Trinidad and Tobago",
            "United States",
            "Uruguay",
            "Venezuela"
           ],
           "ids": [
            "Argentina",
            "Bolivia",
            "Brazil",
            "Canada",
            "Chile",
            "Colombia",
            "Costa Rica",
            "Cuba",
            "Dominican Republic",
            "Ecuador",
            "El Salvador",
            "Guatemala",
            "Haiti",
            "Honduras",
            "Jamaica",
            "Mexico",
            "Nicaragua",
            "Panama",
            "Paraguay",
            "Peru",
            "Puerto Rico",
            "Trinidad and Tobago",
            "United States",
            "Uruguay",
            "Venezuela"
           ],
           "legendgroup": "Americas",
           "marker": {
            "color": "#ab63fa",
            "size": [
             40301927,
             9119152,
             190010647,
             33390141,
             16284741,
             44227550,
             4133884,
             11416987,
             9319622,
             13755680,
             6939688,
             12572928,
             8502814,
             7483763,
             2780132,
             108700891,
             5675356,
             3242173,
             6667147,
             28674757,
             3942491,
             1056608,
             301139947,
             3447496,
             26084662
            ],
            "sizemode": "area",
            "sizeref": 435928.2961983471,
            "symbol": "circle"
           },
           "mode": "markers",
           "name": "Americas",
           "orientation": "v",
           "showlegend": true,
           "type": "scatter",
           "x": [
            12779.37964,
            3822.137084,
            9065.800825,
            36319.23501,
            13171.63885,
            7006.580419,
            9645.06142,
            8948.102923,
            6025.3747520000015,
            6873.262326000001,
            5728.353514,
            5186.050003,
            1201.637154,
            3548.3308460000007,
            7320.8802620000015,
            11977.57496,
            2749.320965,
            9809.185636,
            4172.838464,
            7408.905561,
            19328.70901,
            18008.50924,
            42951.65309,
            10611.46299,
            11415.80569
           ],
           "xaxis": "x",
           "y": [
            75.32,
            65.554,
            72.39,
            80.653,
            78.553,
            72.889,
            78.782,
            78.273,
            72.235,
            74.994,
            71.878,
            70.259,
            60.916,
            70.19800000000001,
            72.567,
            76.195,
            72.899,
            75.53699999999998,
            71.752,
            71.421,
            78.74600000000002,
            69.819,
            78.242,
            76.384,
            73.747
           ],
           "yaxis": "y"
          },
          {
           "hovertemplate": "<b>%{hovertext}</b><br><br>continent=Oceania<br>year=2007<br>gdpPercap=%{x}<br>lifeExp=%{y}<br>pop=%{marker.size}<extra></extra>",
           "hovertext": [
            "Australia",
            "New Zealand"
           ],
           "ids": [
            "Australia",
            "New Zealand"
           ],
           "legendgroup": "Oceania",
           "marker": {
            "color": "#FFA15A",
            "size": [
             20434176,
             4115771
            ],
            "sizemode": "area",
            "sizeref": 435928.2961983471,
            "symbol": "circle"
           },
           "mode": "markers",
           "name": "Oceania",
           "orientation": "v",
           "showlegend": true,
           "type": "scatter",
           "x": [
            34435.367439999995,
            25185.00911
           ],
           "xaxis": "x",
           "y": [
            81.235,
            80.204
           ],
           "yaxis": "y"
          }
         ],
         "name": "2007"
        }
       ],
       "layout": {
        "legend": {
         "itemsizing": "constant",
         "title": {
          "text": "continent"
         },
         "tracegroupgap": 0
        },
        "margin": {
         "t": 60
        },
        "sliders": [
         {
          "active": 0,
          "currentvalue": {
           "prefix": "year="
          },
          "len": 0.9,
          "pad": {
           "b": 10,
           "t": 60
          },
          "steps": [
           {
            "args": [
             [
              "1952"
             ],
             {
              "frame": {
               "duration": 0,
               "redraw": false
              },
              "fromcurrent": true,
              "mode": "immediate",
              "transition": {
               "duration": 0,
               "easing": "linear"
              }
             }
            ],
            "label": "1952",
            "method": "animate"
           },
           {
            "args": [
             [
              "1957"
             ],
             {
              "frame": {
               "duration": 0,
               "redraw": false
              },
              "fromcurrent": true,
              "mode": "immediate",
              "transition": {
               "duration": 0,
               "easing": "linear"
              }
             }
            ],
            "label": "1957",
            "method": "animate"
           },
           {
            "args": [
             [
              "1962"
             ],
             {
              "frame": {
               "duration": 0,
               "redraw": false
              },
              "fromcurrent": true,
              "mode": "immediate",
              "transition": {
               "duration": 0,
               "easing": "linear"
              }
             }
            ],
            "label": "1962",
            "method": "animate"
           },
           {
            "args": [
             [
              "1967"
             ],
             {
              "frame": {
               "duration": 0,
               "redraw": false
              },
              "fromcurrent": true,
              "mode": "immediate",
              "transition": {
               "duration": 0,
               "easing": "linear"
              }
             }
            ],
            "label": "1967",
            "method": "animate"
           },
           {
            "args": [
             [
              "1972"
             ],
             {
              "frame": {
               "duration": 0,
               "redraw": false
              },
              "fromcurrent": true,
              "mode": "immediate",
              "transition": {
               "duration": 0,
               "easing": "linear"
              }
             }
            ],
            "label": "1972",
            "method": "animate"
           },
           {
            "args": [
             [
              "1977"
             ],
             {
              "frame": {
               "duration": 0,
               "redraw": false
              },
              "fromcurrent": true,
              "mode": "immediate",
              "transition": {
               "duration": 0,
               "easing": "linear"
              }
             }
            ],
            "label": "1977",
            "method": "animate"
           },
           {
            "args": [
             [
              "1982"
             ],
             {
              "frame": {
               "duration": 0,
               "redraw": false
              },
              "fromcurrent": true,
              "mode": "immediate",
              "transition": {
               "duration": 0,
               "easing": "linear"
              }
             }
            ],
            "label": "1982",
            "method": "animate"
           },
           {
            "args": [
             [
              "1987"
             ],
             {
              "frame": {
               "duration": 0,
               "redraw": false
              },
              "fromcurrent": true,
              "mode": "immediate",
              "transition": {
               "duration": 0,
               "easing": "linear"
              }
             }
            ],
            "label": "1987",
            "method": "animate"
           },
           {
            "args": [
             [
              "1992"
             ],
             {
              "frame": {
               "duration": 0,
               "redraw": false
              },
              "fromcurrent": true,
              "mode": "immediate",
              "transition": {
               "duration": 0,
               "easing": "linear"
              }
             }
            ],
            "label": "1992",
            "method": "animate"
           },
           {
            "args": [
             [
              "1997"
             ],
             {
              "frame": {
               "duration": 0,
               "redraw": false
              },
              "fromcurrent": true,
              "mode": "immediate",
              "transition": {
               "duration": 0,
               "easing": "linear"
              }
             }
            ],
            "label": "1997",
            "method": "animate"
           },
           {
            "args": [
             [
              "2002"
             ],
             {
              "frame": {
               "duration": 0,
               "redraw": false
              },
              "fromcurrent": true,
              "mode": "immediate",
              "transition": {
               "duration": 0,
               "easing": "linear"
              }
             }
            ],
            "label": "2002",
            "method": "animate"
           },
           {
            "args": [
             [
              "2007"
             ],
             {
              "frame": {
               "duration": 0,
               "redraw": false
              },
              "fromcurrent": true,
              "mode": "immediate",
              "transition": {
               "duration": 0,
               "easing": "linear"
              }
             }
            ],
            "label": "2007",
            "method": "animate"
           }
          ],
          "x": 0.1,
          "xanchor": "left",
          "y": 0,
          "yanchor": "top"
         }
        ],
        "template": {
         "data": {
          "bar": [
           {
            "error_x": {
             "color": "#2a3f5f"
            },
            "error_y": {
             "color": "#2a3f5f"
            },
            "marker": {
             "line": {
              "color": "#E5ECF6",
              "width": 0.5
             },
             "pattern": {
              "fillmode": "overlay",
              "size": 10,
              "solidity": 0.2
             }
            },
            "type": "bar"
           }
          ],
          "barpolar": [
           {
            "marker": {
             "line": {
              "color": "#E5ECF6",
              "width": 0.5
             },
             "pattern": {
              "fillmode": "overlay",
              "size": 10,
              "solidity": 0.2
             }
            },
            "type": "barpolar"
           }
          ],
          "carpet": [
           {
            "aaxis": {
             "endlinecolor": "#2a3f5f",
             "gridcolor": "white",
             "linecolor": "white",
             "minorgridcolor": "white",
             "startlinecolor": "#2a3f5f"
            },
            "baxis": {
             "endlinecolor": "#2a3f5f",
             "gridcolor": "white",
             "linecolor": "white",
             "minorgridcolor": "white",
             "startlinecolor": "#2a3f5f"
            },
            "type": "carpet"
           }
          ],
          "choropleth": [
           {
            "colorbar": {
             "outlinewidth": 0,
             "ticks": ""
            },
            "type": "choropleth"
           }
          ],
          "contour": [
           {
            "colorbar": {
             "outlinewidth": 0,
             "ticks": ""
            },
            "colorscale": [
             [
              0,
              "#0d0887"
             ],
             [
              0.1111111111111111,
              "#46039f"
             ],
             [
              0.2222222222222222,
              "#7201a8"
             ],
             [
              0.3333333333333333,
              "#9c179e"
             ],
             [
              0.4444444444444444,
              "#bd3786"
             ],
             [
              0.5555555555555556,
              "#d8576b"
             ],
             [
              0.6666666666666666,
              "#ed7953"
             ],
             [
              0.7777777777777778,
              "#fb9f3a"
             ],
             [
              0.8888888888888888,
              "#fdca26"
             ],
             [
              1,
              "#f0f921"
             ]
            ],
            "type": "contour"
           }
          ],
          "contourcarpet": [
           {
            "colorbar": {
             "outlinewidth": 0,
             "ticks": ""
            },
            "type": "contourcarpet"
           }
          ],
          "heatmap": [
           {
            "colorbar": {
             "outlinewidth": 0,
             "ticks": ""
            },
            "colorscale": [
             [
              0,
              "#0d0887"
             ],
             [
              0.1111111111111111,
              "#46039f"
             ],
             [
              0.2222222222222222,
              "#7201a8"
             ],
             [
              0.3333333333333333,
              "#9c179e"
             ],
             [
              0.4444444444444444,
              "#bd3786"
             ],
             [
              0.5555555555555556,
              "#d8576b"
             ],
             [
              0.6666666666666666,
              "#ed7953"
             ],
             [
              0.7777777777777778,
              "#fb9f3a"
             ],
             [
              0.8888888888888888,
              "#fdca26"
             ],
             [
              1,
              "#f0f921"
             ]
            ],
            "type": "heatmap"
           }
          ],
          "heatmapgl": [
           {
            "colorbar": {
             "outlinewidth": 0,
             "ticks": ""
            },
            "colorscale": [
             [
              0,
              "#0d0887"
             ],
             [
              0.1111111111111111,
              "#46039f"
             ],
             [
              0.2222222222222222,
              "#7201a8"
             ],
             [
              0.3333333333333333,
              "#9c179e"
             ],
             [
              0.4444444444444444,
              "#bd3786"
             ],
             [
              0.5555555555555556,
              "#d8576b"
             ],
             [
              0.6666666666666666,
              "#ed7953"
             ],
             [
              0.7777777777777778,
              "#fb9f3a"
             ],
             [
              0.8888888888888888,
              "#fdca26"
             ],
             [
              1,
              "#f0f921"
             ]
            ],
            "type": "heatmapgl"
           }
          ],
          "histogram": [
           {
            "marker": {
             "pattern": {
              "fillmode": "overlay",
              "size": 10,
              "solidity": 0.2
             }
            },
            "type": "histogram"
           }
          ],
          "histogram2d": [
           {
            "colorbar": {
             "outlinewidth": 0,
             "ticks": ""
            },
            "colorscale": [
             [
              0,
              "#0d0887"
             ],
             [
              0.1111111111111111,
              "#46039f"
             ],
             [
              0.2222222222222222,
              "#7201a8"
             ],
             [
              0.3333333333333333,
              "#9c179e"
             ],
             [
              0.4444444444444444,
              "#bd3786"
             ],
             [
              0.5555555555555556,
              "#d8576b"
             ],
             [
              0.6666666666666666,
              "#ed7953"
             ],
             [
              0.7777777777777778,
              "#fb9f3a"
             ],
             [
              0.8888888888888888,
              "#fdca26"
             ],
             [
              1,
              "#f0f921"
             ]
            ],
            "type": "histogram2d"
           }
          ],
          "histogram2dcontour": [
           {
            "colorbar": {
             "outlinewidth": 0,
             "ticks": ""
            },
            "colorscale": [
             [
              0,
              "#0d0887"
             ],
             [
              0.1111111111111111,
              "#46039f"
             ],
             [
              0.2222222222222222,
              "#7201a8"
             ],
             [
              0.3333333333333333,
              "#9c179e"
             ],
             [
              0.4444444444444444,
              "#bd3786"
             ],
             [
              0.5555555555555556,
              "#d8576b"
             ],
             [
              0.6666666666666666,
              "#ed7953"
             ],
             [
              0.7777777777777778,
              "#fb9f3a"
             ],
             [
              0.8888888888888888,
              "#fdca26"
             ],
             [
              1,
              "#f0f921"
             ]
            ],
            "type": "histogram2dcontour"
           }
          ],
          "mesh3d": [
           {
            "colorbar": {
             "outlinewidth": 0,
             "ticks": ""
            },
            "type": "mesh3d"
           }
          ],
          "parcoords": [
           {
            "line": {
             "colorbar": {
              "outlinewidth": 0,
              "ticks": ""
             }
            },
            "type": "parcoords"
           }
          ],
          "pie": [
           {
            "automargin": true,
            "type": "pie"
           }
          ],
          "scatter": [
           {
            "marker": {
             "colorbar": {
              "outlinewidth": 0,
              "ticks": ""
             }
            },
            "type": "scatter"
           }
          ],
          "scatter3d": [
           {
            "line": {
             "colorbar": {
              "outlinewidth": 0,
              "ticks": ""
             }
            },
            "marker": {
             "colorbar": {
              "outlinewidth": 0,
              "ticks": ""
             }
            },
            "type": "scatter3d"
           }
          ],
          "scattercarpet": [
           {
            "marker": {
             "colorbar": {
              "outlinewidth": 0,
              "ticks": ""
             }
            },
            "type": "scattercarpet"
           }
          ],
          "scattergeo": [
           {
            "marker": {
             "colorbar": {
              "outlinewidth": 0,
              "ticks": ""
             }
            },
            "type": "scattergeo"
           }
          ],
          "scattergl": [
           {
            "marker": {
             "colorbar": {
              "outlinewidth": 0,
              "ticks": ""
             }
            },
            "type": "scattergl"
           }
          ],
          "scattermapbox": [
           {
            "marker": {
             "colorbar": {
              "outlinewidth": 0,
              "ticks": ""
             }
            },
            "type": "scattermapbox"
           }
          ],
          "scatterpolar": [
           {
            "marker": {
             "colorbar": {
              "outlinewidth": 0,
              "ticks": ""
             }
            },
            "type": "scatterpolar"
           }
          ],
          "scatterpolargl": [
           {
            "marker": {
             "colorbar": {
              "outlinewidth": 0,
              "ticks": ""
             }
            },
            "type": "scatterpolargl"
           }
          ],
          "scatterternary": [
           {
            "marker": {
             "colorbar": {
              "outlinewidth": 0,
              "ticks": ""
             }
            },
            "type": "scatterternary"
           }
          ],
          "surface": [
           {
            "colorbar": {
             "outlinewidth": 0,
             "ticks": ""
            },
            "colorscale": [
             [
              0,
              "#0d0887"
             ],
             [
              0.1111111111111111,
              "#46039f"
             ],
             [
              0.2222222222222222,
              "#7201a8"
             ],
             [
              0.3333333333333333,
              "#9c179e"
             ],
             [
              0.4444444444444444,
              "#bd3786"
             ],
             [
              0.5555555555555556,
              "#d8576b"
             ],
             [
              0.6666666666666666,
              "#ed7953"
             ],
             [
              0.7777777777777778,
              "#fb9f3a"
             ],
             [
              0.8888888888888888,
              "#fdca26"
             ],
             [
              1,
              "#f0f921"
             ]
            ],
            "type": "surface"
           }
          ],
          "table": [
           {
            "cells": {
             "fill": {
              "color": "#EBF0F8"
             },
             "line": {
              "color": "white"
             }
            },
            "header": {
             "fill": {
              "color": "#C8D4E3"
             },
             "line": {
              "color": "white"
             }
            },
            "type": "table"
           }
          ]
         },
         "layout": {
          "annotationdefaults": {
           "arrowcolor": "#2a3f5f",
           "arrowhead": 0,
           "arrowwidth": 1
          },
          "autotypenumbers": "strict",
          "coloraxis": {
           "colorbar": {
            "outlinewidth": 0,
            "ticks": ""
           }
          },
          "colorscale": {
           "diverging": [
            [
             0,
             "#8e0152"
            ],
            [
             0.1,
             "#c51b7d"
            ],
            [
             0.2,
             "#de77ae"
            ],
            [
             0.3,
             "#f1b6da"
            ],
            [
             0.4,
             "#fde0ef"
            ],
            [
             0.5,
             "#f7f7f7"
            ],
            [
             0.6,
             "#e6f5d0"
            ],
            [
             0.7,
             "#b8e186"
            ],
            [
             0.8,
             "#7fbc41"
            ],
            [
             0.9,
             "#4d9221"
            ],
            [
             1,
             "#276419"
            ]
           ],
           "sequential": [
            [
             0,
             "#0d0887"
            ],
            [
             0.1111111111111111,
             "#46039f"
            ],
            [
             0.2222222222222222,
             "#7201a8"
            ],
            [
             0.3333333333333333,
             "#9c179e"
            ],
            [
             0.4444444444444444,
             "#bd3786"
            ],
            [
             0.5555555555555556,
             "#d8576b"
            ],
            [
             0.6666666666666666,
             "#ed7953"
            ],
            [
             0.7777777777777778,
             "#fb9f3a"
            ],
            [
             0.8888888888888888,
             "#fdca26"
            ],
            [
             1,
             "#f0f921"
            ]
           ],
           "sequentialminus": [
            [
             0,
             "#0d0887"
            ],
            [
             0.1111111111111111,
             "#46039f"
            ],
            [
             0.2222222222222222,
             "#7201a8"
            ],
            [
             0.3333333333333333,
             "#9c179e"
            ],
            [
             0.4444444444444444,
             "#bd3786"
            ],
            [
             0.5555555555555556,
             "#d8576b"
            ],
            [
             0.6666666666666666,
             "#ed7953"
            ],
            [
             0.7777777777777778,
             "#fb9f3a"
            ],
            [
             0.8888888888888888,
             "#fdca26"
            ],
            [
             1,
             "#f0f921"
            ]
           ]
          },
          "colorway": [
           "#636efa",
           "#EF553B",
           "#00cc96",
           "#ab63fa",
           "#FFA15A",
           "#19d3f3",
           "#FF6692",
           "#B6E880",
           "#FF97FF",
           "#FECB52"
          ],
          "font": {
           "color": "#2a3f5f"
          },
          "geo": {
           "bgcolor": "white",
           "lakecolor": "white",
           "landcolor": "#E5ECF6",
           "showlakes": true,
           "showland": true,
           "subunitcolor": "white"
          },
          "hoverlabel": {
           "align": "left"
          },
          "hovermode": "closest",
          "mapbox": {
           "style": "light"
          },
          "paper_bgcolor": "white",
          "plot_bgcolor": "#E5ECF6",
          "polar": {
           "angularaxis": {
            "gridcolor": "white",
            "linecolor": "white",
            "ticks": ""
           },
           "bgcolor": "#E5ECF6",
           "radialaxis": {
            "gridcolor": "white",
            "linecolor": "white",
            "ticks": ""
           }
          },
          "scene": {
           "xaxis": {
            "backgroundcolor": "#E5ECF6",
            "gridcolor": "white",
            "gridwidth": 2,
            "linecolor": "white",
            "showbackground": true,
            "ticks": "",
            "zerolinecolor": "white"
           },
           "yaxis": {
            "backgroundcolor": "#E5ECF6",
            "gridcolor": "white",
            "gridwidth": 2,
            "linecolor": "white",
            "showbackground": true,
            "ticks": "",
            "zerolinecolor": "white"
           },
           "zaxis": {
            "backgroundcolor": "#E5ECF6",
            "gridcolor": "white",
            "gridwidth": 2,
            "linecolor": "white",
            "showbackground": true,
            "ticks": "",
            "zerolinecolor": "white"
           }
          },
          "shapedefaults": {
           "line": {
            "color": "#2a3f5f"
           }
          },
          "ternary": {
           "aaxis": {
            "gridcolor": "white",
            "linecolor": "white",
            "ticks": ""
           },
           "baxis": {
            "gridcolor": "white",
            "linecolor": "white",
            "ticks": ""
           },
           "bgcolor": "#E5ECF6",
           "caxis": {
            "gridcolor": "white",
            "linecolor": "white",
            "ticks": ""
           }
          },
          "title": {
           "x": 0.05
          },
          "xaxis": {
           "automargin": true,
           "gridcolor": "white",
           "linecolor": "white",
           "ticks": "",
           "title": {
            "standoff": 15
           },
           "zerolinecolor": "white",
           "zerolinewidth": 2
          },
          "yaxis": {
           "automargin": true,
           "gridcolor": "white",
           "linecolor": "white",
           "ticks": "",
           "title": {
            "standoff": 15
           },
           "zerolinecolor": "white",
           "zerolinewidth": 2
          }
         }
        },
        "updatemenus": [
         {
          "buttons": [
           {
            "args": [
             null,
             {
              "frame": {
               "duration": 500,
               "redraw": false
              },
              "fromcurrent": true,
              "mode": "immediate",
              "transition": {
               "duration": 500,
               "easing": "linear"
              }
             }
            ],
            "label": "&#9654;",
            "method": "animate"
           },
           {
            "args": [
             [
              null
             ],
             {
              "frame": {
               "duration": 0,
               "redraw": false
              },
              "fromcurrent": true,
              "mode": "immediate",
              "transition": {
               "duration": 0,
               "easing": "linear"
              }
             }
            ],
            "label": "&#9724;",
            "method": "animate"
           }
          ],
          "direction": "left",
          "pad": {
           "r": 10,
           "t": 70
          },
          "showactive": false,
          "type": "buttons",
          "x": 0.1,
          "xanchor": "right",
          "y": 0,
          "yanchor": "top"
         }
        ],
        "xaxis": {
         "anchor": "y",
         "domain": [
          0,
          1
         ],
         "range": [
          2,
          5
         ],
         "title": {
          "text": "gdpPercap"
         },
         "type": "log"
        },
        "yaxis": {
         "anchor": "x",
         "domain": [
          0,
          1
         ],
         "range": [
          25,
          90
         ],
         "title": {
          "text": "lifeExp"
         }
        }
       }
      }
     },
     "metadata": {},
     "output_type": "display_data"
    }
   ],
   "source": [
    "\n",
    "df = px.data.gapminder()\n",
    "px.scatter(df, x=\"gdpPercap\", y=\"lifeExp\", animation_frame=\"year\", animation_group=\"country\",\n",
    "           size=\"pop\", color=\"continent\", hover_name=\"country\",\n",
    "           log_x=True, size_max=55, range_x=[100,100000], range_y=[25,90])"
   ]
  },
  {
   "cell_type": "markdown",
   "metadata": {},
   "source": [
    "## Interactivity\n",
    "\n",
    "What if you wanted to play around with data as you were working?"
   ]
  },
  {
   "cell_type": "code",
   "execution_count": 43,
   "metadata": {},
   "outputs": [
    {
     "data": {
      "application/vnd.jupyter.widget-view+json": {
       "model_id": "a589afc8ced34e9f91be055ddce7f402",
       "version_major": 2,
       "version_minor": 0
      },
      "text/plain": [
       "interactive(children=(Dropdown(description='region', options=('north', 'south', 'east', 'west'), value='north'…"
      ]
     },
     "metadata": {},
     "output_type": "display_data"
    }
   ],
   "source": [
    "@interact(region = ['north', 'south', 'east', 'west'])\n",
    "def region_lookup(region):\n",
    "    \n",
    "    return df.query(f\"{region} == 1\").plot.scatter('salary', 'GPA', title=region)"
   ]
  }
 ],
 "metadata": {
  "interpreter": {
   "hash": "be7bca72e5d7c68a61000be4e9ebe4f0bf62aac7de5a8a335abafaba9f2d2d80"
  },
  "kernelspec": {
   "display_name": "Python 3.9.7 ('base')",
   "language": "python",
   "name": "python3"
  },
  "language_info": {
   "codemirror_mode": {
    "name": "ipython",
    "version": 3
   },
   "file_extension": ".py",
   "mimetype": "text/x-python",
   "name": "python",
   "nbconvert_exporter": "python",
   "pygments_lexer": "ipython3",
   "version": "3.9.7"
  },
  "orig_nbformat": 4
 },
 "nbformat": 4,
 "nbformat_minor": 2
}
